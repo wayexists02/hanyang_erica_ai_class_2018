{
 "cells": [
  {
   "cell_type": "code",
   "execution_count": 1,
   "metadata": {},
   "outputs": [],
   "source": [
    "import numpy as np\n",
    "import matplotlib.pyplot as plt\n",
    "import pandas as pd"
   ]
  },
  {
   "cell_type": "code",
   "execution_count": 2,
   "metadata": {},
   "outputs": [],
   "source": [
    "import os\n",
    "import struct\n",
    "import numpy as np\n",
    "import pathlib\n",
    "from skimage.feature import hog\n",
    "from sklearn.model_selection import GridSearchCV\n",
    "from sklearn.base import BaseEstimator, ClassifierMixin\n",
    "from sklearn.externals import joblib"
   ]
  },
  {
   "cell_type": "markdown",
   "metadata": {},
   "source": [
    "# Data Import"
   ]
  },
  {
   "cell_type": "code",
   "execution_count": 3,
   "metadata": {},
   "outputs": [],
   "source": [
    "\"\"\"\n",
    "Loosely inspired by http://abel.ee.ucla.edu/cvxopt/_downloads/mnist.py\n",
    "which is GPL licensed.\n",
    "\"\"\"\n",
    "\n",
    "def read(dataset = \"training\", path = \".\"):\n",
    "    \"\"\"\n",
    "    Python function for importing the MNIST data set.  It returns an iterator\n",
    "    of 2-tuples with the first element being the label and the second element\n",
    "    being a numpy.uint8 2D array of pixel data for the given image.\n",
    "    \"\"\"\n",
    "\n",
    "    if dataset is \"training\":\n",
    "        fname_img = os.path.join(path, 'newtrain-images-idx3-ubyte')\n",
    "        fname_lbl = os.path.join(path, 'newtrain-labels-idx1-ubyte')\n",
    "    elif dataset is \"testing\":\n",
    "        fname_img = os.path.join(path, 'mnist-new1k-images-idx3-ubyte')\n",
    "        fname_lbl = os.path.join(path, 'mnist-new1k-labels-idx1-ubyte')\n",
    "    else:\n",
    "        raise Exception(\"dataset must be 'testing' or 'training'\")\n",
    "\n",
    "    # Load everything in some numpy arrays\n",
    "    with open(fname_lbl, 'rb') as flbl:\n",
    "        magic, num = struct.unpack(\">II\", flbl.read(8))\n",
    "        lbl = np.fromfile(flbl, dtype=np.int8)\n",
    "\n",
    "    with open(fname_img, 'rb') as fimg:\n",
    "        magic, num, rows, cols = struct.unpack(\">IIII\", fimg.read(16))\n",
    "        img = np.fromfile(fimg, dtype=np.uint8).reshape(len(lbl), rows, cols)\n",
    "\n",
    "    get_img = lambda idx: (lbl[idx], img[idx])\n",
    "\n",
    "    # Create an iterator which returns each image in turn\n",
    "    for i in range(len(lbl)):\n",
    "        yield get_img(i)"
   ]
  },
  {
   "cell_type": "code",
   "execution_count": 4,
   "metadata": {},
   "outputs": [
    {
     "name": "stdout",
     "output_type": "stream",
     "text": [
      "(80000, 28, 28)\n",
      "(80000,)\n",
      "(10000, 28, 28)\n",
      "(10000,)\n"
     ]
    }
   ],
   "source": [
    "tr = list(read(\"training\", \"newdata/\"))\n",
    "ts = list(read(\"testing\", 'newdata/'))\n",
    "\n",
    "images_train = np.array(list(zip(*tr))[1])\n",
    "labels_train = np.array(list(zip(*tr))[0])\n",
    "\n",
    "images_test = np.array(list(zip(*ts))[1])\n",
    "labels_test = np.array(list(zip(*ts))[0])\n",
    "\n",
    "print(images_train.shape)\n",
    "print(labels_train.shape)\n",
    "print(images_test.shape)\n",
    "print(labels_test.shape)\n",
    "\n",
    "y_train = labels_train\n",
    "y_test = labels_test"
   ]
  },
  {
   "cell_type": "code",
   "execution_count": 5,
   "metadata": {},
   "outputs": [],
   "source": [
    "def train_model(X, Y, model, default_param, param_grid, cv, save, filename):\n",
    "    \"\"\"\n",
    "    Train model using given parameters.\n",
    "    \n",
    "    Arguments:\n",
    "    ------------------------\n",
    "    - X: training data images\n",
    "    - Y: training data labels\n",
    "    - model: estimator class (NOT object)\n",
    "    - default_param: default parameters you want to apply to model\n",
    "    - param_grid: used by GridSearchCV\n",
    "    - cv: k in K-Fold. cross-validation parameter\n",
    "    - save: whether you save trained model or not\n",
    "    - filename: path of file to save your model\n",
    "    \n",
    "    Returns:\n",
    "    ------------------------\n",
    "    - estimator: trained model.\n",
    "    \"\"\"\n",
    "    \n",
    "    clf = model(**default_param)\n",
    "    estimator = GridSearchCV(clf, param_grid, cv=cv, n_jobs=4)\n",
    "    \n",
    "    estimator.fit(X, Y)\n",
    "    \n",
    "    if save:\n",
    "        joblib.dump(estimator, filename)\n",
    "        \n",
    "    return estimator\n",
    "\n",
    "def get_model(model, filename, param_grid=dict(), cv=6, X=None, Y=None, default_param=dict(), force_training=False, save=True):\n",
    "    \"\"\"\n",
    "    get model from existing file which has pre-trained model\n",
    "    or create new model.\n",
    "    \n",
    "    Arguments:\n",
    "    --------------------------\n",
    "    - model: class of estimator\n",
    "    - filename: name of file which contains pre-trained model.\n",
    "    - default_param: default parameters you want to apply to model\n",
    "    - param_grid: parameters you want to pass to GridSearchCV as parameters of 'param_grid'\n",
    "    - cv: cross-validation parameter\n",
    "    - X: training data images\n",
    "    - Y: training data labels\n",
    "    - forece_training: if you want this function to ONLY train not load from file, set True.\n",
    "    - save: if you want to save model after training, set this True.\n",
    "    \n",
    "    Returns:\n",
    "    --------------------------\n",
    "    - estimator: model trained.\n",
    "    \"\"\"\n",
    "    \n",
    "    path = pathlib.Path(filename)\n",
    "    estimator = None\n",
    "    \n",
    "    if force_training == True:\n",
    "        estimator = train_model(X, Y, model, default_param, param_grid, cv, save, filename)\n",
    "    else:\n",
    "        if path.exists(): # if file exists, just load that.\n",
    "            estimator = joblib.load(filename)\n",
    "        else:\n",
    "            estimator = train_model(X, Y, model, default_param, param_grid, cv, save, filename)\n",
    "            \n",
    "    return estimator\n",
    "\n",
    "def get_model_without_gridsearch(model, filename, default_param=dict(), X=None, Y=None, save=True):\n",
    "    \"\"\"\n",
    "    Another version of get model without GridSearchCV\n",
    "    \n",
    "    Arguments:\n",
    "    -----------------------------\n",
    "    model: class name of estimator\n",
    "    filename: name of file to store our model into.\n",
    "    default_param: default parameter you want to pass into model.\n",
    "    X: features of training dataset\n",
    "    Y: labels of training dataset\n",
    "    save: if you want to save model after training, set it to True. default: True\n",
    "    \n",
    "    Returns:\n",
    "    -----------------------------\n",
    "    estimator: model which is trained already.\n",
    "    \"\"\"\n",
    "    \n",
    "    if pathlib.Path(filename).exists():\n",
    "        estimator = joblib.load(filename)\n",
    "    else:\n",
    "        estimator = model(**default_param)\n",
    "        estimator.fit(X, Y)\n",
    "        if save:\n",
    "            joblib.dump(estimator, filename)\n",
    "        \n",
    "    return estimator"
   ]
  },
  {
   "cell_type": "markdown",
   "metadata": {},
   "source": [
    "# SVM implementation using SGD"
   ]
  },
  {
   "cell_type": "code",
   "execution_count": 6,
   "metadata": {},
   "outputs": [],
   "source": [
    "class MySVM(BaseEstimator, ClassifierMixin):\n",
    "    \"\"\"\n",
    "    1 vs 1 SVM (binary classification)\n",
    "    \"\"\"\n",
    "    def __init__(self, C=0.1, eta=0.001, batch_size=1, max_iter=25, epsilon=1e-8):\n",
    "        \"\"\"\n",
    "        constructor of MyBinarySVM class.\n",
    "        \"\"\"\n",
    "        \n",
    "        self.max_iter = max_iter\n",
    "        self.batch_size = batch_size\n",
    "        self.eta = eta\n",
    "        self.C = C\n",
    "        self.epsilon = epsilon\n",
    "        self.num_classes = 0\n",
    "#         self.beta1 = 0.9\n",
    "#         self.beta2 = 0.99\n",
    "    \n",
    "    def fit(self, X, y=None, params=None):\n",
    "        \"\"\"\n",
    "        fit method for training svm\n",
    "        \n",
    "        Arguments:\n",
    "        --------------------------\n",
    "        X: image data. (60000, 784)\n",
    "        y: label data. (60000, 1)\n",
    "        \n",
    "        Returns:\n",
    "        --------------------------\n",
    "        Z: class score\n",
    "        \"\"\"\n",
    "\n",
    "        m = np.shape(X)[0]\n",
    "        n = np.shape(X)[1]\n",
    "        self.num_classes = len(np.unique(y))\n",
    "        \n",
    "        y_encoded = self.encode_y(y)\n",
    "        \n",
    "        # create weights.\n",
    "        if params is None:\n",
    "            self.params = {\n",
    "                'W': np.random.randn(n, self.num_classes),\n",
    "                'b': np.random.randn(1, self.num_classes)\n",
    "            }\n",
    "#             self.M = {\n",
    "#                 'W': np.zeros((n, self.num_classes)),\n",
    "#                 'b': np.zeros((1, self.num_classes))\n",
    "#             }\n",
    "#             self.V = {\n",
    "#                 'W': np.zeros((n, self.num_classes)),\n",
    "#                 'b': np.zeros((1, self.num_classes))\n",
    "#             }\n",
    "\n",
    "        cnt = 1\n",
    "        \n",
    "        # main loop: how much iterate on entire dataset.\n",
    "        for epoch in range(self.max_iter):\n",
    "            # before dive into SGD, shuffle dataset\n",
    "            X_shuffled, y_shuffled = self.shuffle(X, y_encoded)\n",
    "            \n",
    "            # cost variable for printing/logging\n",
    "            avg_loss = 0\n",
    "            \n",
    "            # batch_count = dataset_size / batch_size\n",
    "            batch_count = int(np.ceil(np.shape(X)[0] / self.batch_size))\n",
    "            \n",
    "            # mini-batch loop\n",
    "            for t in range(batch_count):\n",
    "                # draw the {batch_size} number of samples from X and y\n",
    "                X_batch, y_batch, bs = self.next_batch(X_shuffled, y_shuffled, t)\n",
    "                \n",
    "                # just in case, reshape batch of X and y into proper shape.\n",
    "                X_batch = np.reshape(X_batch, (bs, n))\n",
    "                y_batch = np.reshape(y_batch, (bs, self.num_classes))\n",
    "                \n",
    "                # prediction phase\n",
    "                Z = self.forward_prop(X_batch)\n",
    "                Z = np.reshape(Z, (bs, self.num_classes))\n",
    "                \n",
    "                # compute cost phase\n",
    "                loss = self.compute_cost(y_batch, Z)\n",
    "                \n",
    "                # update weights phase\n",
    "                self.backward_prop(X_batch, y_batch, Z, bs, cnt)\n",
    "                \n",
    "                # accumulate loss\n",
    "                avg_loss += loss\n",
    "                cnt += 1\n",
    "        \n",
    "            # logging\n",
    "            avg_loss /= batch_count\n",
    "            if epoch % (self.max_iter / 10) == 0:\n",
    "                print('Cost at epoch {0}: {1}'.format(epoch, avg_loss))\n",
    "\n",
    "        return self\n",
    "    \n",
    "    def encode_y(self, y):\n",
    "        y_encoded = np.ones((np.shape(y)[0], self.num_classes))\n",
    "        \n",
    "        for i in range(self.num_classes):\n",
    "            y_encoded[:, i][y != i] = -1\n",
    "            \n",
    "        return y_encoded\n",
    "    \n",
    "    def shuffle(self, X, y):\n",
    "        \"\"\"\n",
    "        Random selection is required for SGD.\n",
    "        But, my approach is to shuffle entire data before every iteration.\n",
    "        This has same effect as random selection.\n",
    "        \n",
    "        Arguments:\n",
    "        ---------------------------\n",
    "        X: images (BATCH_SIZE, 784)\n",
    "        y: labels (BATCH_SIZE, 1)\n",
    "        \n",
    "        Returns:\n",
    "        ---------------------------\n",
    "        shuffled data\n",
    "        \"\"\"\n",
    "        \n",
    "        # the number of dataset samples\n",
    "        m = np.shape(X)[0]\n",
    "        \n",
    "        # variable for shuffle\n",
    "        r = np.arange(0, m)\n",
    "        \n",
    "        np.random.shuffle(r)\n",
    "        \n",
    "        return X[r], y[r]\n",
    "    \n",
    "    def next_batch(self, X, y, t):\n",
    "        \"\"\"\n",
    "        Get next batch.\n",
    "        If it is SGD, next_batch function just pick one sample from dataset.\n",
    "        \n",
    "        Arguments:\n",
    "        ---------------------------------\n",
    "        X: images (60000, 784)\n",
    "        y: labels (60000, 1)\n",
    "        \n",
    "        Returns:\n",
    "        ---------------------------------\n",
    "        X_batch: small subset of X (BATCH_SIZE, 784)\n",
    "        y_batch: small subset of y (BATCH_SIZE, 1)\n",
    "        \"\"\"\n",
    "        \n",
    "        # the number of dataset samples\n",
    "        m = np.shape(X)[0]\n",
    "        \n",
    "        # draw the {batch_size} number of samples from X and y\n",
    "        X_batch = X[t * self.batch_size : min(m, (t + 1) * self.batch_size)]\n",
    "        y_batch = y[t * self.batch_size : min(m, (t + 1) * self.batch_size)]\n",
    "        bs = min(m, (t + 1) * self.batch_size) - t * self.batch_size\n",
    "        \n",
    "        return X_batch, y_batch, bs\n",
    "    \n",
    "    def forward_prop(self, X):\n",
    "        \"\"\"\n",
    "        Process of inference (prediction).\n",
    "        \n",
    "        Arguments:\n",
    "        -----------------------\n",
    "        X: images e.g (BATCH_SIZE, 784)\n",
    "        params: weights dictionary(map in other programming language)\n",
    "        \n",
    "        Returns:\n",
    "        -----------------------\n",
    "        A: \n",
    "        \"\"\"\n",
    "        \n",
    "        # prediction\n",
    "        Z = np.matmul(X, self.params['W']) + self.params['b']\n",
    "        \n",
    "        return Z\n",
    "    \n",
    "#     def sigmoid(self, Z):\n",
    "#         \"\"\"\n",
    "#         sigmoid activation for binary classification\n",
    "        \n",
    "#         Arguments:\n",
    "#         ----------------------\n",
    "#         Z: class score (W.T * X)\n",
    "        \n",
    "#         Returns:\n",
    "#         ----------------------\n",
    "#         sigmoid activation\n",
    "#         \"\"\"\n",
    "        \n",
    "#         return 1 / (1 + np.exp(-Z))\n",
    "    \n",
    "    def compute_cost(self, y, Z):\n",
    "        \"\"\"\n",
    "        compute cost function (loss function)\n",
    "        \n",
    "        Arguments:\n",
    "        ------------------------------\n",
    "        y: true label\n",
    "        Z: class score (W.T * X)\n",
    "        \n",
    "        Returns:\n",
    "        ------------------------------\n",
    "        loss: total cost (loss)\n",
    "        \"\"\"\n",
    "        \n",
    "        # compute loss function\n",
    "        temp = 1 - np.multiply(y, Z)\n",
    "        temp[temp < 0] = 0\n",
    "        loss = np.mean(temp)\n",
    "        return loss\n",
    "    \n",
    "    def backward_prop(self, X, y, Z, bs, cnt):\n",
    "        \"\"\"\n",
    "        update weights\n",
    "        \n",
    "        Arguments:\n",
    "        ----------------------------\n",
    "        X: images e.g (BATCH_SIZE, 784)\n",
    "        y: labels e.g (BATCH_SIZE, 1)\n",
    "        Z: class score after forward propagation\n",
    "        params: weights dictionary(map in other programming language)\n",
    "        eta: learning rate\n",
    "        \n",
    "        Returns:\n",
    "        ----------------------------\n",
    "        params: weights dictionary\n",
    "        \"\"\"\n",
    "        \n",
    "        # number of features\n",
    "        n = np.shape(X)[1]\n",
    "        \n",
    "        # differential vector of loss function to update weights\n",
    "        dw = np.zeros(self.params['W'].shape)\n",
    "        db = np.zeros(self.params['b'].shape)\n",
    "        \n",
    "        Z = np.reshape(Z, (bs, self.num_classes))\n",
    "        temp = np.multiply(y, Z)\n",
    "        temp = 1 - temp\n",
    "        \n",
    "        temp[temp <= 0] = 0\n",
    "        temp[temp > 0] = 1\n",
    "        \n",
    "        y_temp = np.multiply(y, temp.reshape(bs, self.num_classes))\n",
    "        \n",
    "        dw = -(1 / bs) * np.matmul(X.T, y_temp) + (1 / self.C) * self.params['W']\n",
    "        db = -(1 / bs) * np.sum(y_temp, axis=0)\n",
    "\n",
    "#         if cnt == 1:\n",
    "#             self.M['W'] = dw\n",
    "#             self.M['b'] = db\n",
    "#         else:\n",
    "#             self.M['W'] = (self.beta1 * self.M['W'] + (1 - self.beta1) * dw)\n",
    "#             self.M['b'] = (self.beta1 * self.M['b'] + (1 - self.beta1) * db)\n",
    "        \n",
    "#         if cnt == 1:\n",
    "#             self.V['W'] = dw ** 2\n",
    "#             self.V['b'] = db ** 2\n",
    "#         else:\n",
    "#             self.V['W'] = (self.beta2 * self.V['W'] + (1 - self.beta2) * (dw ** 2))\n",
    "#             self.V['b'] = (self.beta2 * self.V['b'] + (1 - self.beta2) * (db ** 2))\n",
    "    \n",
    "#         self.M['W'] = (self.beta1 * self.M['W'] + (1 - self.beta1) * dw) / (1 - self.beta1 ** cnt)\n",
    "#         self.M['b'] = (self.beta1 * self.M['b'] + (1 - self.beta1) * db) / (1 - self.beta1 ** cnt)\n",
    "        \n",
    "#         self.V['W'] = (self.beta2 * self.V['W'] + (1 - self.beta2) * np.square(dw)) / (1 - self.beta2 ** cnt)\n",
    "#         self.V['b'] = (self.beta2 * self.V['b'] + (1 - self.beta2) * np.square(db)) / (1 - self.beta2 ** cnt)\n",
    "\n",
    "        # update weights\n",
    "#         self.params['W'] = self.params['W'] - np.divide(self.eta * self.M['W'], np.sqrt(self.V['W']) + self.epsilon)\n",
    "#         self.params['b'] = self.params['b'] - np.divide(self.eta * self.M['b'], np.sqrt(self.V['b']) + self.epsilon)\n",
    "        \n",
    "        self.params['W'] = self.params['W'] - (self.eta / (1 + self.epsilon * cnt)) * dw\n",
    "        self.params['b'] = self.params['b'] - (self.eta / (1 + self.epsilon * cnt)) * db\n",
    "\n",
    "#         self.params['W'] = self.params['W'] - (self.eta / (1 + self.epsilon * cnt)) * dw\n",
    "#         self.params['b'] = self.params['b'] - (self.eta / (1 + self.epsilon * cnt)) * db\n",
    "        \n",
    "        return self.params\n",
    "    \n",
    "    def predict(self, X, y=None):\n",
    "        m = np.shape(X)[0]\n",
    "        \n",
    "        class_score = self.forward_prop(X)\n",
    "        pred = np.argmax(class_score, axis=1)\n",
    "        \n",
    "        return pred\n",
    "    \n",
    "    def score(self, X, y=None):\n",
    "        pred = self.predict(X)\n",
    "        score = np.mean(pred == y)\n",
    "        \n",
    "        return score\n",
    "    \n",
    "    def get_parameters(self):\n",
    "        return self.params"
   ]
  },
  {
   "cell_type": "markdown",
   "metadata": {},
   "source": [
    "# Gradient Features"
   ]
  },
  {
   "cell_type": "code",
   "execution_count": 7,
   "metadata": {},
   "outputs": [],
   "source": [
    "def zero_padding(images, n=1):\n",
    "    \"\"\"\n",
    "    zero-padding to image.\n",
    "    add additional edge which has value of 0\n",
    "    \n",
    "    Arguments:\n",
    "    ---------------------\n",
    "    - images: training dataset images. maybe (60000, 28, 28)\n",
    "    - n: how many padding do you want? in other word, how many edge do you want to insert?\n",
    "    \n",
    "    Returns:\n",
    "    ---------------------\n",
    "    - images_padded: padded images. (60000, 30, 30) or other shape.\n",
    "    \"\"\"\n",
    "    \n",
    "    # number of training examples. 60000. if you use test data, 10000.\n",
    "    m = images.shape[0]\n",
    "    \n",
    "    # define larger size of window than size of images. maybe (60000, 30, 30), (60000, 32, 32)\n",
    "    images_padded = np.zeros((m, images.shape[1] + 2 * n, images.shape[2] + 2 * n))\n",
    "    \n",
    "    # insert image in the middle of this window.\n",
    "    images_padded[:, n : images_padded.shape[1] - n, n : images_padded.shape[2] - n] = images\n",
    "    \n",
    "    return images_padded"
   ]
  },
  {
   "cell_type": "code",
   "execution_count": 8,
   "metadata": {},
   "outputs": [],
   "source": [
    "def x_gradient_slice(images_slice):\n",
    "    \"\"\"\n",
    "    find gradient(in korean, 기울기 또는 미분값) for part of images.\n",
    "    \n",
    "    Arguments:\n",
    "    ----------------------\n",
    "    - images_slice: small window extracted from images. (60000, 7, 7)\n",
    "    \n",
    "    Returns:\n",
    "    ----------------------\n",
    "    - grad: x-axis-oriented gradient (in korean, x 축 방향 기울기)\n",
    "    \"\"\"\n",
    "    \n",
    "    x_gradient_filter = np.array([\n",
    "        [-1,  0,  1],\n",
    "        [-1,  0,  1],\n",
    "        [-1,  0,  1],\n",
    "    ])\n",
    "    \n",
    "    # reshape for broadcasting.\n",
    "    x_gradient_filter = x_gradient_filter.reshape(1, 3, 3)\n",
    "    \n",
    "    # element-wise compute. compute gradient\n",
    "    temp = np.multiply(images_slice, x_gradient_filter)\n",
    "    grad = np.sum(temp, axis=(1, 2))\n",
    "    \n",
    "    return grad"
   ]
  },
  {
   "cell_type": "code",
   "execution_count": 9,
   "metadata": {},
   "outputs": [],
   "source": [
    "def x_gradient(images):\n",
    "    \"\"\"\n",
    "    find gradient(in korean, 기울기 또는 미분값) for whole images.\n",
    "    \n",
    "    Arguments:\n",
    "    ----------------------\n",
    "    - images: images. (60000, 28, 28)\n",
    "    \n",
    "    Returns:\n",
    "    ----------------------\n",
    "    - grad: x-axis-oriented gradient (in korean, x 축 방향 기울기)\n",
    "    \"\"\"\n",
    "    \n",
    "    # some useful variables.\n",
    "    m = images.shape[0]\n",
    "    width = images.shape[1]\n",
    "    height = images.shape[2]\n",
    "    \n",
    "    # define placeholder to store gradients.\n",
    "    x_grads = np.zeros((m, width - 2, height - 2))\n",
    "    \n",
    "    # slice image into small size window, then compute gradient.\n",
    "    for w in range(1, width - 1):\n",
    "        for h in range(1, height - 1):\n",
    "            images_slice = images[:, w - 1 : w + 2, h - 1 : h + 2]\n",
    "            x_grads[:, w - 1, h - 1] = x_gradient_slice(images_slice)\n",
    "            \n",
    "    return x_grads"
   ]
  },
  {
   "cell_type": "code",
   "execution_count": 10,
   "metadata": {},
   "outputs": [],
   "source": [
    "def y_gradient_slice(images_slice):\n",
    "    \"\"\"\n",
    "    find gradient(in korean, 기울기 또는 미분값) for part of images.\n",
    "    \n",
    "    Arguments:\n",
    "    ----------------------\n",
    "    - images_slice: small window extracted from images. (60000, 7, 7)\n",
    "    \n",
    "    Returns:\n",
    "    ----------------------\n",
    "    - grad: y-axis-oriented gradient (in korean, y 축 방향 기울기)\n",
    "    \"\"\"\n",
    "    \n",
    "    y_gradient_filter = np.array([\n",
    "        [-1, -1, -1],\n",
    "        [ 0,  0,  0],\n",
    "        [ 1,  1,  1],\n",
    "    ])\n",
    "    \n",
    "    # reshape for broadcasting.\n",
    "    y_gradient_filter = y_gradient_filter.reshape(1, 3, 3)\n",
    "    \n",
    "    # element-wise compute. compute gradient\n",
    "    temp = np.multiply(images_slice, y_gradient_filter)\n",
    "    grad = np.sum(temp, axis=(1, 2))\n",
    "    \n",
    "    return grad"
   ]
  },
  {
   "cell_type": "code",
   "execution_count": 11,
   "metadata": {},
   "outputs": [],
   "source": [
    "def y_gradient(images):\n",
    "    \"\"\"\n",
    "    find gradient(in korean, 기울기 또는 미분값) for whole images.\n",
    "    \n",
    "    Arguments:\n",
    "    ----------------------\n",
    "    - images: images. (60000, 28, 28)\n",
    "    \n",
    "    Returns:\n",
    "    ----------------------\n",
    "    - grad: y-axis-oriented gradient (in korean, y 축 방향 기울기)\n",
    "    \"\"\"\n",
    "    \n",
    "    # some useful variables.\n",
    "    m = images.shape[0]\n",
    "    width = images.shape[1]\n",
    "    height = images.shape[2]\n",
    "    \n",
    "    # define placeholder to store gradients.\n",
    "    y_grads = np.zeros((m, width - 2, height - 2))\n",
    "    \n",
    "    # slice image into small size window, then compute gradient.\n",
    "    for w in range(1, width - 1):\n",
    "        for h in range(1, height - 1):\n",
    "            images_slice = images[:, w - 1 : w + 2, h - 1 : h + 2]\n",
    "            y_grads[:, w - 1, h - 1] = y_gradient_slice(images_slice)\n",
    "            \n",
    "    return y_grads"
   ]
  },
  {
   "cell_type": "code",
   "execution_count": 12,
   "metadata": {},
   "outputs": [],
   "source": [
    "def get_average_grads(x_grads, y_grads, grid=7):\n",
    "    \"\"\"\n",
    "    After we get gradients, let's compute average of these gradient. I'will post pictures.\n",
    "    compute partial gradients.\n",
    "    \n",
    "    Arguments:\n",
    "    ---------------------\n",
    "    - x_grads: pre-computed gradients for x-axis (60000, 28, 28)\n",
    "    - y_grads: pre-computed gradients for y-axis (60000, 28, 28)\n",
    "    - grid: grid for dividing images. we will compute average of gradients for each grid. the averages become features.\n",
    "    \n",
    "    Returns:\n",
    "    ---------------------\n",
    "    - x_avg_grads: average of gradients x-axis (60000, 7, 7)\n",
    "    - y_avg_grads: average of gradients y-axis (60000, 7, 7)\n",
    "    \"\"\"\n",
    "    \n",
    "    assert(x_grads.shape == y_grads.shape)\n",
    "    \n",
    "    # some useful variables.\n",
    "    m = x_grads.shape[0]\n",
    "    width = x_grads.shape[1]\n",
    "    height = x_grads.shape[2]\n",
    "    \n",
    "    # I define these variables to slicing images conveniently.\n",
    "    w_step = width // grid  # w_step = 4\n",
    "    h_step = height // grid # h_step = 4\n",
    "    \n",
    "    # placeholder for storing average of gradients\n",
    "    x_avg_grads = np.zeros((m, width // w_step, height // h_step))\n",
    "    y_avg_grads = np.zeros((m, width // w_step, height // h_step))\n",
    "    \n",
    "    for w in range(0, width, w_step):\n",
    "        for h in range(0, height, h_step):\n",
    "            # slicing gradients into small part.\n",
    "            x_grads_slice = x_grads[:, w : w + w_step, h : h + h_step]\n",
    "            y_grads_slice = y_grads[:, w : w + w_step, h : h + h_step]\n",
    "            \n",
    "            assert(x_grads_slice.shape == y_grads_slice.shape == (m, width // grid, height // grid))\n",
    "            \n",
    "            # compute mean of gradients of part of image\n",
    "            x_avg_grads[:, w // w_step, h // h_step] = np.mean(x_grads_slice, axis=(1, 2))\n",
    "            y_avg_grads[:, w // w_step, h // h_step] = np.mean(y_grads_slice, axis=(1, 2))\n",
    "            \n",
    "    return x_avg_grads, y_avg_grads"
   ]
  },
  {
   "cell_type": "code",
   "execution_count": 13,
   "metadata": {},
   "outputs": [],
   "source": [
    "def average_gradients_grid(images, grid=7, padding=1, normalize=True):\n",
    "    \"\"\"\n",
    "    Preprocessing method 1 which I tried.\n",
    "    \n",
    "    Arguments:\n",
    "    -------------------------\n",
    "    - images: training or test images (60000, 28, 28)\n",
    "    - grid: grid for dividing images. we will compute average of gradients for each grid. the averages become features.\n",
    "    - padding: how much padding image.\n",
    "    \n",
    "    Returns:\n",
    "    -------------------------\n",
    "    - features: pre-processed features (pixel of images). (60000, 98)\n",
    "    \"\"\"\n",
    "    \n",
    "    images = np.copy(images)\n",
    "    \n",
    "    m = images.shape[0]\n",
    "    \n",
    "    # normalize\n",
    "    if normalize:\n",
    "        images_norm = images / 255\n",
    "    else:\n",
    "        images_norm = images\n",
    "    \n",
    "    # thresholding\n",
    "    images_norm[images_norm >= 0.1] = 1\n",
    "    images_norm[images_norm < 0.1] = 0\n",
    "    \n",
    "    # zero padding\n",
    "    images_padded = zero_padding(images_norm, padding)\n",
    "    \n",
    "    # number of features = grid^2 * 2\n",
    "    features = np.zeros((m, (grid ** 2) * 2))\n",
    "\n",
    "    # compute x-axis gradient, y-axis gradient\n",
    "    x_grads = x_gradient(images_padded)\n",
    "    y_grads = y_gradient(images_padded)\n",
    "    \n",
    "    # compute average of gradient (grid 7x7)\n",
    "    x_avg_grads, y_avg_grads = get_average_grads(x_grads, y_grads, grid)\n",
    "    \n",
    "    assert(x_avg_grads.shape == y_avg_grads.shape == (m, grid, grid))\n",
    "    \n",
    "    # flatten\n",
    "    x_features = x_avg_grads.reshape(m, -1)\n",
    "    y_features = y_avg_grads.reshape(m, -1)\n",
    "    \n",
    "    features[:, 0 :: 2] = x_features\n",
    "    features[:, 1 :: 2] = y_features\n",
    "    \n",
    "    return features"
   ]
  },
  {
   "cell_type": "code",
   "execution_count": 14,
   "metadata": {},
   "outputs": [],
   "source": [
    "def apply_hog(images_train, images_test):\n",
    "    m_tr = images_train.shape[0]\n",
    "    m_ts = images_test.shape[0]\n",
    "    \n",
    "    # compute HoG (Historgram of Gradients)\n",
    "    hog_train = np.zeros((m_tr, 81))\n",
    "    hog_test = np.zeros((m_ts, 81))\n",
    "    \n",
    "    for i in range(m_tr):\n",
    "        hog_train[i] = hog(images_train[i], block_norm='L2-Hys')\n",
    "    for i in range(m_ts):\n",
    "        hog_test[i] = hog(images_test[i], block_norm='L2-Hys')\n",
    "        \n",
    "    return hog_train, hog_test"
   ]
  },
  {
   "cell_type": "code",
   "execution_count": 15,
   "metadata": {},
   "outputs": [],
   "source": [
    "def poly_model(grads, hogs, poly_degree):\n",
    "    \"\"\"\n",
    "    This function reads inputs (grads, hogs) and then append into one vector.\n",
    "    And, most importantly, make the features (grads + hogs vector) polynomial or exponential\n",
    "    This has an effect that makes algorithm be applied to non-linear-separatable dataset.\n",
    "    \n",
    "    Arguments\n",
    "    ---------------------------------\n",
    "    grads: features containing gradients of images\n",
    "    hogs: features containing histogram of gradients\n",
    "    \n",
    "    Returns\n",
    "    ---------------------------------\n",
    "    f_train: preprocessed features of training dataset this function generate\n",
    "    f_test: preprocessed features of test dataset this function generate\n",
    "    \"\"\"\n",
    "    \n",
    "    # get number of training set (60000), number of test set (10000)\n",
    "    m_train = grads[0].shape[0] # 60000\n",
    "    m_test = grads[1].shape[0]  # 10000\n",
    "    \n",
    "#     # placeholder for new features.\n",
    "#     f_train = np.zeros((m_train, (98 + 81) * poly_degree))\n",
    "#     f_test = np.zeros((m_test, (98 + 81) * poly_degree)) \n",
    "    \n",
    "    grads_train, grads_test = grads[0], grads[1]\n",
    "    hogs_train, hogs_test = hogs[0], hogs[1]\n",
    "    \n",
    "#     for i in range(poly_degree):\n",
    "#         f_train[:, (98 + 81) * i : (98 + 81) * i + 98] = grads_train ** (i + 1)\n",
    "#         f_train[:, (98 + 81) * i + 98 : (98 + 81) * (i + 1)] = hogs_train ** (i + 1)\n",
    "#         f_test[:, (98 + 81) * i : (98 + 81) * i + 98] = grads_test ** (i + 1)\n",
    "#         f_test[:, (98 + 81) * i + 98 : (98 + 81) * (i + 1)] = hogs_test ** (i + 1)\n",
    "        \n",
    "    # 97.0\n",
    "    f_train = np.zeros((m_train, (98 + 81) * poly_degree + 49 + 168 * 2))\n",
    "    f_test = np.zeros((m_test, (98 + 81) * poly_degree + 49 + 168 * 2))\n",
    "    \n",
    "    \n",
    "#     f_train = np.zeros((m_train, 98 * poly_degree + 168 * 2))\n",
    "#     f_test = np.zeros((m_test, 98 * poly_degree + 168 * 2))\n",
    "    \n",
    "    for i in range(poly_degree):\n",
    "        f_train[:, 98 * i : 98 * (i + 1)] = grads_train ** (i + 1)\n",
    "        f_test[:, 98 * i : 98 * (i + 1)] = grads_test ** (i + 1)\n",
    "    \n",
    "    cur_w = 0\n",
    "    cur_h = 0\n",
    "    cur_idx = 98 * poly_degree\n",
    "    \n",
    "    while True:\n",
    "        if cur_w == 7:\n",
    "            cur_w = 0\n",
    "            cur_h += 1\n",
    "        if cur_h == 7:\n",
    "            break\n",
    "            \n",
    "        # print(cur_h, cur_w)        \n",
    "        \n",
    "        if cur_w < 6:\n",
    "            f_train[:, cur_idx] = np.multiply(grads_train[:, cur_h * 14 + cur_w * 2], grads_train[:, cur_h * 14 + cur_w * 2 + 2])\n",
    "            f_test[:, cur_idx] = np.multiply(grads_test[:, cur_h * 14 + cur_w * 2], grads_test[:, cur_h * 14 + cur_w * 2 + 2])\n",
    "            cur_idx += 1\n",
    "            \n",
    "            f_train[:, cur_idx] = np.multiply(grads_train[:, cur_h * 14 + cur_w * 2 + 1], grads_train[:, cur_h * 14 + cur_w * 2 + 3])\n",
    "            f_test[:, cur_idx] = np.multiply(grads_test[:, cur_h * 14 + cur_w * 2 + 1], grads_test[:, cur_h * 14 + cur_w * 2 + 3])\n",
    "            cur_idx += 1\n",
    "            \n",
    "        if cur_h < 6:\n",
    "            f_train[:, cur_idx] = np.multiply(grads_train[:, cur_h * 14 + cur_w * 2], grads_train[:, cur_h * 14 + cur_w * 2 + 14])\n",
    "            f_test[:, cur_idx] = np.multiply(grads_test[:, cur_h * 14 + cur_w * 2], grads_test[:, cur_h * 14 + cur_w * 2 + 14])\n",
    "            cur_idx += 1\n",
    "            \n",
    "            f_train[:, cur_idx] = np.multiply(grads_train[:, cur_h * 14 + cur_w * 2 + 1], grads_train[:, cur_h * 14 + cur_w * 2 + 15])\n",
    "            f_test[:, cur_idx] = np.multiply(grads_test[:, cur_h * 14 + cur_w * 2 + 1], grads_test[:, cur_h * 14 + cur_w * 2 + 15])\n",
    "            cur_idx += 1\n",
    "            \n",
    "        cur_w += 1\n",
    "            \n",
    "    assert(cur_idx == 98 * poly_degree + 168)\n",
    "    \n",
    "    \n",
    "    cur_w = 0\n",
    "    cur_h = 0\n",
    "    cur_idx = 98 * poly_degree + 168\n",
    "    \n",
    "    while True:\n",
    "        if cur_w == 7:\n",
    "            cur_w = 0\n",
    "            cur_h += 1\n",
    "        if cur_h == 7:\n",
    "            break\n",
    "            \n",
    "        # print(cur_h, cur_w)        \n",
    "        \n",
    "        if cur_w < 6:\n",
    "            f_train[:, cur_idx] = np.multiply(grads_train[:, cur_h * 14 + cur_w * 2]**2, grads_train[:, cur_h * 14 + cur_w * 2 + 2]**2)\n",
    "            f_test[:, cur_idx] = np.multiply(grads_test[:, cur_h * 14 + cur_w * 2]**2, grads_test[:, cur_h * 14 + cur_w * 2 + 2]**2)\n",
    "            cur_idx += 1\n",
    "            \n",
    "            f_train[:, cur_idx] = np.multiply(grads_train[:, cur_h * 14 + cur_w * 2 + 1]**2, grads_train[:, cur_h * 14 + cur_w * 2 + 3]**2)\n",
    "            f_test[:, cur_idx] = np.multiply(grads_test[:, cur_h * 14 + cur_w * 2 + 1]**2, grads_test[:, cur_h * 14 + cur_w * 2 + 3]**2)\n",
    "            cur_idx += 1\n",
    "            \n",
    "        if cur_h < 6:\n",
    "            f_train[:, cur_idx] = np.multiply(grads_train[:, cur_h * 14 + cur_w * 2]**2, grads_train[:, cur_h * 14 + cur_w * 2 + 14]**2)\n",
    "            f_test[:, cur_idx] = np.multiply(grads_test[:, cur_h * 14 + cur_w * 2]**2, grads_test[:, cur_h * 14 + cur_w * 2 + 14]**2)\n",
    "            cur_idx += 1\n",
    "            \n",
    "            f_train[:, cur_idx] = np.multiply(grads_train[:, cur_h * 14 + cur_w * 2 + 1]**2, grads_train[:, cur_h * 14 + cur_w * 2 + 15]**2)\n",
    "            f_test[:, cur_idx] = np.multiply(grads_test[:, cur_h * 14 + cur_w * 2 + 1]**2, grads_test[:, cur_h * 14 + cur_w * 2 + 15]**2)\n",
    "            cur_idx += 1\n",
    "            \n",
    "        cur_w += 1\n",
    "        \n",
    "    assert(cur_idx == 98 * poly_degree + 168*2)\n",
    "    \n",
    "    f_train[:, cur_idx : cur_idx + 49] = np.multiply(grads_train[:, 0 :: 2], grads_train[:, 1 :: 2])\n",
    "    f_test[:, cur_idx : cur_idx + 49] = np.multiply(grads_test[:, 0 :: 2], grads_test[:, 1 :: 2])\n",
    "    \n",
    "    cur_idx += 49\n",
    "    \n",
    "    for i in range(poly_degree):\n",
    "        f_train[:, cur_idx + 81 * i : cur_idx + 81 * (i + 1)] = hogs_train  ** (i + 1)\n",
    "        f_test[:, cur_idx + 81 * i : cur_idx + 81 * (i + 1)] = hogs_test ** (i + 1)\n",
    "        \n",
    "    cur_idx += 81 * poly_degree\n",
    "    \n",
    "    ### 97.0\n",
    "        \n",
    "    return f_train, f_test"
   ]
  },
  {
   "cell_type": "code",
   "execution_count": 16,
   "metadata": {},
   "outputs": [],
   "source": [
    "def make_poly_features(images_train, images_test, poly_degree=3):\n",
    "    \"\"\"\n",
    "    Arguments\n",
    "    -------------------------\n",
    "    images_train: images in training datase shaped of (60000, 28, 28)\n",
    "    images_test: images in test dataset shaped of (10000, 28, 28)\n",
    "    poly_degree: how many do you product exponentialy?\n",
    "    \n",
    "    Returns\n",
    "    -------------------------\n",
    "    f_train: new features preprocessed\n",
    "    f_test: new features of test images.\n",
    "    \"\"\"\n",
    "    \n",
    "    m_train = images_train.shape[0]\n",
    "    m_test = images_test.shape[0]\n",
    "    \n",
    "    # compute average of gradients\n",
    "    avg_grads_train = average_gradients_grid(images_train)\n",
    "    avg_grads_test = average_gradients_grid(images_test)\n",
    "    \n",
    "    hog_train, hog_test = apply_hog(images_train, images_test)\n",
    "        \n",
    "    f_train, f_test = poly_model((avg_grads_train, avg_grads_test), (hog_train, hog_test), poly_degree)\n",
    "    \n",
    "    return f_train, f_test"
   ]
  },
  {
   "cell_type": "code",
   "execution_count": 17,
   "metadata": {},
   "outputs": [
    {
     "name": "stdout",
     "output_type": "stream",
     "text": [
      "(80000, 922)\n",
      "(10000, 922)\n"
     ]
    }
   ],
   "source": [
    "X_train1, X_test1 = make_poly_features(images_train, images_test)\n",
    "\n",
    "print(X_train1.shape)\n",
    "print(X_test1.shape)"
   ]
  },
  {
   "cell_type": "code",
   "execution_count": 21,
   "metadata": {},
   "outputs": [
    {
     "name": "stdout",
     "output_type": "stream",
     "text": [
      "(80000, 200)\n",
      "(10000, 200)\n"
     ]
    }
   ],
   "source": [
    "X_train1_1, X_test1_1 = principal_component_analysis(X_train1, X_test1, n_components=200)\n",
    "\n",
    "print(X_train1_1.shape)\n",
    "print(X_test1_1.shape)"
   ]
  },
  {
   "cell_type": "code",
   "execution_count": 20,
   "metadata": {},
   "outputs": [
    {
     "name": "stdout",
     "output_type": "stream",
     "text": [
      "(80000, 1280)\n",
      "(10000, 1280)\n"
     ]
    }
   ],
   "source": [
    "X_train1_1, X_test1_1 = principal_component_analysis\n",
    "\n",
    "print(X_train1.shape)\n",
    "print(X_test1.shape)"
   ]
  },
  {
   "cell_type": "markdown",
   "metadata": {},
   "source": [
    "# Practice"
   ]
  },
  {
   "cell_type": "markdown",
   "metadata": {},
   "source": [
    "## First Presentation (SGD)"
   ]
  },
  {
   "cell_type": "code",
   "execution_count": 184,
   "metadata": {},
   "outputs": [
    {
     "name": "stdout",
     "output_type": "stream",
     "text": [
      "===== class 0 =====\n",
      "Cost at epoch 0: 10.686779661599083\n",
      "Cost at epoch 20: 3.9106110524101063\n",
      "Cost at epoch 40: 3.8943336857758077\n",
      "Cost at epoch 60: 3.9469301067847753\n",
      "Cost at epoch 80: 3.8709681574980714\n",
      "===== class 1 =====\n",
      "Cost at epoch 0: 7.776986236755182\n",
      "Cost at epoch 20: 2.4891427342652643\n",
      "Cost at epoch 40: 2.3798333476428706\n",
      "Cost at epoch 60: 2.4464050664817494\n",
      "Cost at epoch 80: 2.4073779035658793\n",
      "===== class 2 =====\n",
      "Cost at epoch 0: 15.264107177343247\n",
      "Cost at epoch 20: 8.449161511196248\n",
      "Cost at epoch 40: 8.63409637115864\n",
      "Cost at epoch 60: 8.622411739425603\n",
      "Cost at epoch 80: 8.464533323611493\n",
      "===== class 3 =====\n",
      "Cost at epoch 0: 18.280004966446374\n",
      "Cost at epoch 20: 11.052509601646479\n",
      "Cost at epoch 40: 10.850239516875225\n",
      "Cost at epoch 60: 10.860347798842836\n",
      "Cost at epoch 80: 10.90418745211039\n",
      "===== class 4 =====\n",
      "Cost at epoch 0: 12.627727763634088\n",
      "Cost at epoch 20: 5.869691972435452\n",
      "Cost at epoch 40: 5.920136742306459\n",
      "Cost at epoch 60: 5.779820081917636\n",
      "Cost at epoch 80: 5.796789300967916\n",
      "===== class 5 =====\n",
      "Cost at epoch 0: 19.149310850858246\n",
      "Cost at epoch 20: 11.13590820160952\n",
      "Cost at epoch 40: 11.320484050686836\n",
      "Cost at epoch 60: 11.422617568307922\n",
      "Cost at epoch 80: 11.347355817397734\n",
      "===== class 6 =====\n",
      "Cost at epoch 0: 12.259911271575481\n",
      "Cost at epoch 20: 5.275648091586775\n",
      "Cost at epoch 40: 5.432739489666828\n",
      "Cost at epoch 60: 5.370637220237479\n",
      "Cost at epoch 80: 5.377073634527475\n",
      "===== class 7 =====\n",
      "Cost at epoch 0: 11.215394514965984\n",
      "Cost at epoch 20: 5.3961048831078005\n",
      "Cost at epoch 40: 5.328104863184484\n",
      "Cost at epoch 60: 5.297998422253531\n",
      "Cost at epoch 80: 5.334388557177119\n",
      "===== class 8 =====\n",
      "Cost at epoch 0: 28.344835711385674\n",
      "Cost at epoch 20: 20.579964836982775\n",
      "Cost at epoch 40: 20.4232439162097\n",
      "Cost at epoch 60: 20.4450001503242\n",
      "Cost at epoch 80: 20.446095564464933\n",
      "===== class 9 =====\n",
      "Cost at epoch 0: 20.010391524626893\n",
      "Cost at epoch 20: 13.89520065736062\n",
      "Cost at epoch 40: 14.1079801762105\n",
      "Cost at epoch 60: 13.813032913766529\n",
      "Cost at epoch 80: 13.943312493163662\n"
     ]
    },
    {
     "data": {
      "text/plain": [
       "MyMultiClassSVM(C=0.1, batch_size=1, max_iter=100)"
      ]
     },
     "execution_count": 184,
     "metadata": {},
     "output_type": "execute_result"
    }
   ],
   "source": [
    "svm1 = MyMultiClassSVM(C=0.1, batch_size=1, max_iter=100)\n",
    "svm1.fit(images_train.reshape(-1, 784), labels_train)"
   ]
  },
  {
   "cell_type": "code",
   "execution_count": 185,
   "metadata": {},
   "outputs": [
    {
     "data": {
      "text/plain": [
       "0.82805"
      ]
     },
     "execution_count": 185,
     "metadata": {},
     "output_type": "execute_result"
    }
   ],
   "source": [
    "svm1.score(images_train.reshape(-1, 784), labels_train)"
   ]
  },
  {
   "cell_type": "code",
   "execution_count": 186,
   "metadata": {},
   "outputs": [
    {
     "data": {
      "text/plain": [
       "0.827"
      ]
     },
     "execution_count": 186,
     "metadata": {},
     "output_type": "execute_result"
    }
   ],
   "source": [
    "svm1.score(images_test.reshape(-1, 784), labels_test)"
   ]
  },
  {
   "cell_type": "markdown",
   "metadata": {},
   "source": [
    "### After Second Presentation"
   ]
  },
  {
   "cell_type": "markdown",
   "metadata": {},
   "source": [
    "### Without Poly"
   ]
  },
  {
   "cell_type": "code",
   "execution_count": 152,
   "metadata": {},
   "outputs": [
    {
     "name": "stdout",
     "output_type": "stream",
     "text": [
      "Cost at epoch 0: 498.5804958412841\n",
      "Cost at epoch 1: 359.10277278900776\n",
      "Cost at epoch 2: 355.71068985186423\n",
      "Cost at epoch 3: 359.609476224103\n",
      "Cost at epoch 4: 356.2373117152157\n",
      "Cost at epoch 5: 345.3893770677822\n",
      "Cost at epoch 6: 355.2519745700933\n",
      "Cost at epoch 7: 353.24436355337383\n",
      "Cost at epoch 8: 356.68547173822924\n",
      "Cost at epoch 9: 355.21175859380486\n"
     ]
    },
    {
     "data": {
      "text/plain": [
       "MySVM(C=100, batch_size=128, epsilon=1e-06, eta=0.1, max_iter=10)"
      ]
     },
     "execution_count": 152,
     "metadata": {},
     "output_type": "execute_result"
    }
   ],
   "source": [
    "svm9 = MySVM(C=100, max_iter=10, batch_size=128, eta=0.1, epsilon=1e-6)\n",
    "svm9.fit(images_train.reshape(-1, 784), labels_train)"
   ]
  },
  {
   "cell_type": "code",
   "execution_count": 153,
   "metadata": {},
   "outputs": [
    {
     "name": "stdout",
     "output_type": "stream",
     "text": [
      "0.82295\n",
      "0.8261\n"
     ]
    }
   ],
   "source": [
    "print(svm9.score(images_train.reshape(-1, 784), labels_train))\n",
    "print(svm9.score(images_test.reshape(-1, 784), labels_test))"
   ]
  },
  {
   "cell_type": "markdown",
   "metadata": {},
   "source": [
    "### With Poly"
   ]
  },
  {
   "cell_type": "code",
   "execution_count": 154,
   "metadata": {},
   "outputs": [
    {
     "name": "stdout",
     "output_type": "stream",
     "text": [
      "Cost at epoch 0: 0.5035333226658423\n",
      "Cost at epoch 1: 0.10438156594947337\n",
      "Cost at epoch 2: 0.06016534104111028\n",
      "Cost at epoch 3: 0.04570331757865704\n",
      "Cost at epoch 4: 0.04146340068239925\n",
      "Cost at epoch 5: 0.03995063634935078\n",
      "Cost at epoch 6: 0.03954779149909941\n",
      "Cost at epoch 7: 0.03932526051044747\n",
      "Cost at epoch 8: 0.039288615859364814\n",
      "Cost at epoch 9: 0.03920007023660946\n"
     ]
    },
    {
     "data": {
      "text/plain": [
       "MySVM(C=100, batch_size=128, epsilon=1e-06, eta=0.1, max_iter=10)"
      ]
     },
     "execution_count": 154,
     "metadata": {},
     "output_type": "execute_result"
    }
   ],
   "source": [
    "svm10 = MySVM(C=100, max_iter=10, batch_size=128, eta=0.1, epsilon=1e-6)\n",
    "svm10.fit(X_train1, y_train)"
   ]
  },
  {
   "cell_type": "code",
   "execution_count": 155,
   "metadata": {},
   "outputs": [
    {
     "name": "stdout",
     "output_type": "stream",
     "text": [
      "0.94905\n",
      "0.9541\n"
     ]
    }
   ],
   "source": [
    "print(svm10.score(X_train1, y_train))\n",
    "print(svm10.score(X_test1, y_test))"
   ]
  },
  {
   "cell_type": "code",
   "execution_count": 22,
   "metadata": {},
   "outputs": [
    {
     "name": "stdout",
     "output_type": "stream",
     "text": [
      "Cost at epoch 0: 0.4868896166333449\n",
      "Cost at epoch 14: 0.034642926555208654\n",
      "Cost at epoch 28: 0.024553674948518237\n",
      "Cost at epoch 42: 0.023249654502907918\n",
      "Cost at epoch 56: 0.023045071307159416\n",
      "Cost at epoch 70: 0.02292480221704541\n",
      "Cost at epoch 84: 0.022888446619541123\n",
      "Cost at epoch 98: 0.022854011039341877\n",
      "Cost at epoch 112: 0.022835906738977757\n",
      "Cost at epoch 126: 0.022808043309768867\n"
     ]
    },
    {
     "data": {
      "text/plain": [
       "MySVM(C=1000, batch_size=128, epsilon=1e-08, eta=0.1, max_iter=140)"
      ]
     },
     "execution_count": 22,
     "metadata": {},
     "output_type": "execute_result"
    }
   ],
   "source": [
    "svm11 = MySVM(C=1000, max_iter=140, batch_size=128, eta=0.1)\n",
    "svm11.fit(X_train1, y_train)"
   ]
  },
  {
   "cell_type": "code",
   "execution_count": 23,
   "metadata": {},
   "outputs": [
    {
     "name": "stdout",
     "output_type": "stream",
     "text": [
      "0.9707833333333333\n",
      "0.9692\n"
     ]
    }
   ],
   "source": [
    "print(svm11.score(X_train1, y_train))\n",
    "print(svm11.score(X_test1, y_test))"
   ]
  },
  {
   "cell_type": "code",
   "execution_count": 209,
   "metadata": {},
   "outputs": [
    {
     "name": "stdout",
     "output_type": "stream",
     "text": [
      "Cost at epoch 0: 0.7334484125818558\n",
      "Cost at epoch 15: 0.05274669657420555\n",
      "Cost at epoch 30: 0.03216483529590398\n",
      "Cost at epoch 45: 0.025873836753252496\n",
      "Cost at epoch 60: 0.02370003559416378\n",
      "Cost at epoch 75: 0.022996210569053436\n",
      "Cost at epoch 90: 0.02262936586380937\n",
      "Cost at epoch 105: 0.0225053841804381\n",
      "Cost at epoch 120: 0.022413567913048153\n",
      "Cost at epoch 135: 0.02226538391143299\n"
     ]
    },
    {
     "data": {
      "text/plain": [
       "MySVM(C=1000, batch_size=256, epsilon=1e-06, eta=0.1, max_iter=150)"
      ]
     },
     "execution_count": 209,
     "metadata": {},
     "output_type": "execute_result"
    }
   ],
   "source": [
    "svm12 = MySVM(C=1000, max_iter=150, batch_size=256, eta=0.1, epsilon=1e-6)\n",
    "svm12.fit(X_train1, y_train)"
   ]
  },
  {
   "cell_type": "code",
   "execution_count": 210,
   "metadata": {},
   "outputs": [
    {
     "name": "stdout",
     "output_type": "stream",
     "text": [
      "0.9715\n",
      "0.9704\n"
     ]
    }
   ],
   "source": [
    "print(svm12.score(X_train1, y_train))\n",
    "print(svm12.score(X_test1, y_test))"
   ]
  },
  {
   "cell_type": "code",
   "execution_count": 204,
   "metadata": {},
   "outputs": [
    {
     "name": "stdout",
     "output_type": "stream",
     "text": [
      "Cost at epoch 0: 0.23133134841341058\n",
      "Cost at epoch 6: 0.03466896102249104\n",
      "Cost at epoch 12: 0.025818586243018006\n",
      "Cost at epoch 18: 0.022909658473664194\n",
      "Cost at epoch 24: 0.02202936745164572\n",
      "Cost at epoch 30: 0.021419137597926453\n",
      "Cost at epoch 36: 0.021065128861031145\n",
      "Cost at epoch 42: 0.021047066704588894\n",
      "Cost at epoch 48: 0.020946851930114262\n",
      "Cost at epoch 54: 0.020999108051241756\n"
     ]
    },
    {
     "data": {
      "text/plain": [
       "MySVM(C=5000, batch_size=128, eta=0.5, max_iter=60)"
      ]
     },
     "execution_count": 204,
     "metadata": {},
     "output_type": "execute_result"
    }
   ],
   "source": [
    "svm12 = MySVM(C=5000, max_iter=60, batch_size=128, eta=0.5)\n",
    "svm12.fit(X_train1, y_train)"
   ]
  },
  {
   "cell_type": "code",
   "execution_count": 205,
   "metadata": {},
   "outputs": [
    {
     "name": "stdout",
     "output_type": "stream",
     "text": [
      "0.97465\n",
      "0.9721\n"
     ]
    }
   ],
   "source": [
    "print(svm12.score(X_train1, y_train))\n",
    "print(svm12.score(X_test1, y_test))"
   ]
  },
  {
   "cell_type": "code",
   "execution_count": 206,
   "metadata": {},
   "outputs": [
    {
     "name": "stdout",
     "output_type": "stream",
     "text": [
      "Cost at epoch 0: 0.2183647436927403\n",
      "Cost at epoch 6: 0.03171837887838108\n",
      "Cost at epoch 12: 0.02544136402485873\n",
      "Cost at epoch 18: 0.02415090152977139\n",
      "Cost at epoch 24: 0.0236846273495908\n",
      "Cost at epoch 30: 0.02317945789227962\n",
      "Cost at epoch 36: 0.02319328806980065\n",
      "Cost at epoch 42: 0.023551674518366005\n",
      "Cost at epoch 48: 0.023035735109379247\n",
      "Cost at epoch 54: 0.023318888672678104\n"
     ]
    },
    {
     "data": {
      "text/plain": [
       "MySVM(C=3000, batch_size=128, eta=0.5, max_iter=60)"
      ]
     },
     "execution_count": 206,
     "metadata": {},
     "output_type": "execute_result"
    }
   ],
   "source": [
    "svm13 = MySVM(C=3000, max_iter=60, batch_size=128, eta=0.5)\n",
    "svm13.fit(X_train1, y_train)"
   ]
  },
  {
   "cell_type": "code",
   "execution_count": 207,
   "metadata": {},
   "outputs": [
    {
     "name": "stdout",
     "output_type": "stream",
     "text": [
      "0.9673166666666667\n",
      "0.9645\n"
     ]
    }
   ],
   "source": [
    "print(svm13.score(X_train1, y_train))\n",
    "print(svm13.score(X_test1, y_test))"
   ]
  },
  {
   "cell_type": "code",
   "execution_count": 159,
   "metadata": {},
   "outputs": [
    {
     "name": "stdout",
     "output_type": "stream",
     "text": [
      "Cost at epoch 0: 0.5178958171835167\n",
      "Cost at epoch 16: 0.03581916261548705\n",
      "Cost at epoch 32: 0.024306085129678332\n",
      "Cost at epoch 48: 0.021984525199011534\n",
      "Cost at epoch 64: 0.021376543774205965\n",
      "Cost at epoch 80: 0.0211023774133448\n",
      "Cost at epoch 96: 0.020948865127737144\n",
      "Cost at epoch 112: 0.020879688687241153\n",
      "Cost at epoch 128: 0.0208613647427255\n",
      "Cost at epoch 144: 0.020786574306057504\n"
     ]
    },
    {
     "data": {
      "text/plain": [
       "MySVM(C=1500, batch_size=128, epsilon=1e-06, eta=0.1, max_iter=160)"
      ]
     },
     "execution_count": 159,
     "metadata": {},
     "output_type": "execute_result"
    }
   ],
   "source": [
    "svm14 = MySVM(C=1500, max_iter=160, batch_size=128, eta=0.1, epsilon=1e-6)\n",
    "svm14.fit(X_train1, y_train)"
   ]
  },
  {
   "cell_type": "code",
   "execution_count": 161,
   "metadata": {},
   "outputs": [
    {
     "name": "stdout",
     "output_type": "stream",
     "text": [
      "0.9737833333333333\n",
      "0.9706\n"
     ]
    }
   ],
   "source": [
    "print(svm14.score(X_train1, y_train))\n",
    "print(svm14.score(X_test1, y_test))"
   ]
  },
  {
   "cell_type": "markdown",
   "metadata": {},
   "source": [
    "## With Grid Search "
   ]
  },
  {
   "cell_type": "code",
   "execution_count": 26,
   "metadata": {},
   "outputs": [
    {
     "name": "stdout",
     "output_type": "stream",
     "text": [
      "Cost at epoch 0: 0.5062394022425962\n",
      "Cost at epoch 10: 0.055337102693834635\n",
      "Cost at epoch 20: 0.03557037364159835\n",
      "Cost at epoch 30: 0.028561444389302318\n",
      "Cost at epoch 40: 0.02545134005411057\n",
      "Cost at epoch 50: 0.024058577126849626\n",
      "Cost at epoch 60: 0.023363414666039913\n",
      "Cost at epoch 70: 0.02307407703963969\n",
      "Cost at epoch 80: 0.022848414855454954\n",
      "Cost at epoch 90: 0.02281231330480708\n"
     ]
    }
   ],
   "source": [
    "param_grid = {\n",
    "    'C': [100, 300, 1000, 3000],\n",
    "    'batch_size': [128, 256, 512],\n",
    "    'max_iter': [60, 100, 140],\n",
    "    'epsilon': [1e-8, 1e-6],\n",
    "    'eta': [0.1]\n",
    "}\n",
    "\n",
    "svm15 = get_model(MySVM, 'data/MySVM3.data', param_grid=param_grid, X=X_train1_1, Y=y_train)"
   ]
  },
  {
   "cell_type": "code",
   "execution_count": 30,
   "metadata": {},
   "outputs": [
    {
     "data": {
      "text/plain": [
       "{'C': 3000, 'batch_size': 128, 'epsilon': 1e-06, 'eta': 0.1, 'max_iter': 100}"
      ]
     },
     "execution_count": 30,
     "metadata": {},
     "output_type": "execute_result"
    }
   ],
   "source": [
    "svm15.best_params_"
   ]
  },
  {
   "cell_type": "code",
   "execution_count": 28,
   "metadata": {},
   "outputs": [
    {
     "name": "stdout",
     "output_type": "stream",
     "text": [
      "0.96955\n",
      "0.9678\n"
     ]
    }
   ],
   "source": [
    "print(svm15.score(X_train1_1, y_train))\n",
    "print(svm15.score(X_test1_1, y_test))"
   ]
  },
  {
   "cell_type": "code",
   "execution_count": 31,
   "metadata": {},
   "outputs": [
    {
     "name": "stdout",
     "output_type": "stream",
     "text": [
      "Cost at epoch 0: 0.4124635042119067\n",
      "Cost at epoch 14: 0.05287199149041953\n",
      "Cost at epoch 28: 0.043367706013074596\n",
      "Cost at epoch 42: 0.04060016037574976\n",
      "Cost at epoch 56: 0.03951733258821541\n",
      "Cost at epoch 70: 0.03897316008802417\n",
      "Cost at epoch 84: 0.038694802772646156\n",
      "Cost at epoch 98: 0.038487977965632435\n",
      "Cost at epoch 112: 0.03840115744979289\n",
      "Cost at epoch 126: 0.038281154735352485\n"
     ]
    }
   ],
   "source": [
    "param_grid = {\n",
    "    'C': [2500, 3000, 3500, 4000],\n",
    "    'batch_size': [128, 256],\n",
    "    'max_iter': [60, 100, 140],\n",
    "    'epsilon': [1e-8, 1e-6],\n",
    "    'eta': [0.1]\n",
    "}\n",
    "\n",
    "svm16 = get_model(MySVM, 'data/MySVM4.data', param_grid=param_grid, X=X_train1_2, Y=y_train)"
   ]
  },
  {
   "cell_type": "code",
   "execution_count": 33,
   "metadata": {},
   "outputs": [
    {
     "data": {
      "text/plain": [
       "0.9412333333333334"
      ]
     },
     "execution_count": 33,
     "metadata": {},
     "output_type": "execute_result"
    }
   ],
   "source": [
    "svm16.best_score_"
   ]
  },
  {
   "cell_type": "code",
   "execution_count": 128,
   "metadata": {},
   "outputs": [],
   "source": [
    "param_grid = {\n",
    "    'C': [100, 300, 1000, 3000],\n",
    "    'batch_size': [128, 256, 512],\n",
    "    'max_iter': [60, 100, 140],\n",
    "    'epsilon': [1e-8, 1e-6],\n",
    "    'eta': [0.1]\n",
    "}\n",
    "\n",
    "svm29 = get_model(MySVM, 'data/MySVM1.data', param_grid=param_grid, X=X_train1, Y=y_train)"
   ]
  },
  {
   "cell_type": "code",
   "execution_count": 129,
   "metadata": {},
   "outputs": [
    {
     "name": "stdout",
     "output_type": "stream",
     "text": [
      "0.9704833333333334\n",
      "{'C': 3000, 'batch_size': 128, 'epsilon': 1e-06, 'eta': 0.1, 'max_iter': 140}\n",
      "{'W': array([[ 0.13710753,  0.11072044,  0.30610425, ..., -0.01590253,\n",
      "        -0.19389575,  0.06185292],\n",
      "       [ 0.19278389, -0.04250993,  0.13152295, ...,  0.10308245,\n",
      "        -0.08123604,  0.05646114],\n",
      "       [ 0.14558454, -0.13749245, -0.05957599, ..., -0.07933711,\n",
      "         0.12258241, -0.08383579],\n",
      "       ...,\n",
      "       [ 0.09188823,  0.13741366,  0.27188086, ...,  0.08381936,\n",
      "        -0.15180401, -0.00396859],\n",
      "       [-0.19813818, -0.13988205,  0.0035366 , ..., -0.19149217,\n",
      "        -0.00095808, -0.1070209 ],\n",
      "       [ 0.08765961,  0.11305135,  0.21979072, ..., -0.02604575,\n",
      "        -0.06398772, -0.10612421]]), 'b': array([[-1.66203954,  0.10457154, -0.98303182, -1.73397415, -2.6234894 ,\n",
      "        -0.1175283 , -1.73561003, -1.41792256, -3.94602472, -1.82123815]])}\n",
      "0.9766\n",
      "0.9721\n"
     ]
    }
   ],
   "source": [
    "print(svm29.best_score_)\n",
    "print(svm29.best_params_)\n",
    "print(svm29.best_estimator_.get_parameters())\n",
    "\n",
    "print(svm29.best_estimator_.score(X_train1, y_train))\n",
    "print(svm29.best_estimator_.score(X_test1, y_test))"
   ]
  },
  {
   "cell_type": "code",
   "execution_count": 130,
   "metadata": {},
   "outputs": [
    {
     "name": "stderr",
     "output_type": "stream",
     "text": [
      "D:\\Users\\jylee\\Anaconda3\\lib\\site-packages\\sklearn\\utils\\deprecation.py:125: FutureWarning: You are accessing a training score ('split0_train_score'), which will not be available by default any more in 0.21. If you need training scores, please set return_train_score=True\n",
      "  warnings.warn(*warn_args, **warn_kwargs)\n",
      "D:\\Users\\jylee\\Anaconda3\\lib\\site-packages\\sklearn\\utils\\deprecation.py:125: FutureWarning: You are accessing a training score ('split1_train_score'), which will not be available by default any more in 0.21. If you need training scores, please set return_train_score=True\n",
      "  warnings.warn(*warn_args, **warn_kwargs)\n",
      "D:\\Users\\jylee\\Anaconda3\\lib\\site-packages\\sklearn\\utils\\deprecation.py:125: FutureWarning: You are accessing a training score ('split2_train_score'), which will not be available by default any more in 0.21. If you need training scores, please set return_train_score=True\n",
      "  warnings.warn(*warn_args, **warn_kwargs)\n",
      "D:\\Users\\jylee\\Anaconda3\\lib\\site-packages\\sklearn\\utils\\deprecation.py:125: FutureWarning: You are accessing a training score ('split3_train_score'), which will not be available by default any more in 0.21. If you need training scores, please set return_train_score=True\n",
      "  warnings.warn(*warn_args, **warn_kwargs)\n",
      "D:\\Users\\jylee\\Anaconda3\\lib\\site-packages\\sklearn\\utils\\deprecation.py:125: FutureWarning: You are accessing a training score ('split4_train_score'), which will not be available by default any more in 0.21. If you need training scores, please set return_train_score=True\n",
      "  warnings.warn(*warn_args, **warn_kwargs)\n",
      "D:\\Users\\jylee\\Anaconda3\\lib\\site-packages\\sklearn\\utils\\deprecation.py:125: FutureWarning: You are accessing a training score ('split5_train_score'), which will not be available by default any more in 0.21. If you need training scores, please set return_train_score=True\n",
      "  warnings.warn(*warn_args, **warn_kwargs)\n",
      "D:\\Users\\jylee\\Anaconda3\\lib\\site-packages\\sklearn\\utils\\deprecation.py:125: FutureWarning: You are accessing a training score ('mean_train_score'), which will not be available by default any more in 0.21. If you need training scores, please set return_train_score=True\n",
      "  warnings.warn(*warn_args, **warn_kwargs)\n",
      "D:\\Users\\jylee\\Anaconda3\\lib\\site-packages\\sklearn\\utils\\deprecation.py:125: FutureWarning: You are accessing a training score ('std_train_score'), which will not be available by default any more in 0.21. If you need training scores, please set return_train_score=True\n",
      "  warnings.warn(*warn_args, **warn_kwargs)\n"
     ]
    }
   ],
   "source": [
    "pd.DataFrame(svm29.cv_results_).to_csv('MySVM_svm29_train1.csv')"
   ]
  },
  {
   "cell_type": "code",
   "execution_count": 131,
   "metadata": {},
   "outputs": [
    {
     "name": "stdout",
     "output_type": "stream",
     "text": [
      "{'W': array([[ 0.13710753,  0.11072044,  0.30610425, ..., -0.01590253,\n",
      "        -0.19389575,  0.06185292],\n",
      "       [ 0.19278389, -0.04250993,  0.13152295, ...,  0.10308245,\n",
      "        -0.08123604,  0.05646114],\n",
      "       [ 0.14558454, -0.13749245, -0.05957599, ..., -0.07933711,\n",
      "         0.12258241, -0.08383579],\n",
      "       ...,\n",
      "       [ 0.09188823,  0.13741366,  0.27188086, ...,  0.08381936,\n",
      "        -0.15180401, -0.00396859],\n",
      "       [-0.19813818, -0.13988205,  0.0035366 , ..., -0.19149217,\n",
      "        -0.00095808, -0.1070209 ],\n",
      "       [ 0.08765961,  0.11305135,  0.21979072, ..., -0.02604575,\n",
      "        -0.06398772, -0.10612421]]), 'b': array([[-1.66203954,  0.10457154, -0.98303182, -1.73397415, -2.6234894 ,\n",
      "        -0.1175283 , -1.73561003, -1.41792256, -3.94602472, -1.82123815]])}\n"
     ]
    }
   ],
   "source": [
    "print(svm29.best_estimator_.get_parameters())"
   ]
  },
  {
   "cell_type": "code",
   "execution_count": 133,
   "metadata": {},
   "outputs": [],
   "source": [
    "param_grid = {\n",
    "    'C': [3000, 3500, 4000],\n",
    "    'batch_size': [128],\n",
    "    'max_iter': [100, 140],\n",
    "    'epsilon': [1e-6, 1e-5],\n",
    "    'eta': [0.1]\n",
    "}\n",
    "\n",
    "svm18 = get_model(MySVM, 'data/MySVM2.data', param_grid=param_grid, X=X_train1, Y=y_train)"
   ]
  },
  {
   "cell_type": "code",
   "execution_count": 134,
   "metadata": {},
   "outputs": [
    {
     "name": "stdout",
     "output_type": "stream",
     "text": [
      "0.9708833333333333\n",
      "{'C': 3500, 'batch_size': 128, 'epsilon': 1e-05, 'eta': 0.1, 'max_iter': 140}\n",
      "{'W': array([[-0.11721773,  0.14751221,  0.13017908, ..., -0.3987127 ,\n",
      "         0.08624766,  0.20424375],\n",
      "       [ 0.17146778,  0.1471984 , -0.3955672 , ..., -0.22600087,\n",
      "         0.01635417, -0.22803647],\n",
      "       [ 0.12696431,  0.00186481,  0.0494665 , ...,  0.15406404,\n",
      "         0.07941765, -0.40508291],\n",
      "       ...,\n",
      "       [ 0.28410379, -0.1196908 , -0.21759334, ..., -0.14378999,\n",
      "        -0.01747923, -0.16902245],\n",
      "       [ 0.16176322,  0.10714409,  0.04208303, ..., -0.06643455,\n",
      "        -0.07328502, -0.27009435],\n",
      "       [ 0.03130327,  0.42317872, -0.23258921, ..., -0.11655082,\n",
      "         0.28603592,  0.07569481]]), 'b': array([[-1.44205315,  0.71676242, -0.48244117, -1.53739799, -2.80475429,\n",
      "         0.56763092, -1.59692785, -0.76808621, -3.22254488, -2.0419439 ]])}\n",
      "0.97745\n",
      "0.9738\n"
     ]
    }
   ],
   "source": [
    "print(svm18.best_score_)\n",
    "print(svm18.best_params_)\n",
    "print(svm18.best_estimator_.get_parameters())\n",
    "\n",
    "print(svm18.best_estimator_.score(X_train1, y_train))\n",
    "print(svm18.best_estimator_.score(X_test1, y_test))"
   ]
  },
  {
   "cell_type": "code",
   "execution_count": 135,
   "metadata": {},
   "outputs": [
    {
     "name": "stderr",
     "output_type": "stream",
     "text": [
      "D:\\Users\\jylee\\Anaconda3\\lib\\site-packages\\sklearn\\utils\\deprecation.py:125: FutureWarning: You are accessing a training score ('split0_train_score'), which will not be available by default any more in 0.21. If you need training scores, please set return_train_score=True\n",
      "  warnings.warn(*warn_args, **warn_kwargs)\n",
      "D:\\Users\\jylee\\Anaconda3\\lib\\site-packages\\sklearn\\utils\\deprecation.py:125: FutureWarning: You are accessing a training score ('split1_train_score'), which will not be available by default any more in 0.21. If you need training scores, please set return_train_score=True\n",
      "  warnings.warn(*warn_args, **warn_kwargs)\n",
      "D:\\Users\\jylee\\Anaconda3\\lib\\site-packages\\sklearn\\utils\\deprecation.py:125: FutureWarning: You are accessing a training score ('split2_train_score'), which will not be available by default any more in 0.21. If you need training scores, please set return_train_score=True\n",
      "  warnings.warn(*warn_args, **warn_kwargs)\n",
      "D:\\Users\\jylee\\Anaconda3\\lib\\site-packages\\sklearn\\utils\\deprecation.py:125: FutureWarning: You are accessing a training score ('split3_train_score'), which will not be available by default any more in 0.21. If you need training scores, please set return_train_score=True\n",
      "  warnings.warn(*warn_args, **warn_kwargs)\n",
      "D:\\Users\\jylee\\Anaconda3\\lib\\site-packages\\sklearn\\utils\\deprecation.py:125: FutureWarning: You are accessing a training score ('split4_train_score'), which will not be available by default any more in 0.21. If you need training scores, please set return_train_score=True\n",
      "  warnings.warn(*warn_args, **warn_kwargs)\n",
      "D:\\Users\\jylee\\Anaconda3\\lib\\site-packages\\sklearn\\utils\\deprecation.py:125: FutureWarning: You are accessing a training score ('split5_train_score'), which will not be available by default any more in 0.21. If you need training scores, please set return_train_score=True\n",
      "  warnings.warn(*warn_args, **warn_kwargs)\n",
      "D:\\Users\\jylee\\Anaconda3\\lib\\site-packages\\sklearn\\utils\\deprecation.py:125: FutureWarning: You are accessing a training score ('mean_train_score'), which will not be available by default any more in 0.21. If you need training scores, please set return_train_score=True\n",
      "  warnings.warn(*warn_args, **warn_kwargs)\n",
      "D:\\Users\\jylee\\Anaconda3\\lib\\site-packages\\sklearn\\utils\\deprecation.py:125: FutureWarning: You are accessing a training score ('std_train_score'), which will not be available by default any more in 0.21. If you need training scores, please set return_train_score=True\n",
      "  warnings.warn(*warn_args, **warn_kwargs)\n"
     ]
    }
   ],
   "source": [
    "pd.DataFrame(svm18.cv_results_).to_csv('MySVM_svm18_train1.csv')"
   ]
  },
  {
   "cell_type": "code",
   "execution_count": 136,
   "metadata": {},
   "outputs": [
    {
     "name": "stdout",
     "output_type": "stream",
     "text": [
      "{'W': array([[-0.11721773,  0.14751221,  0.13017908, ..., -0.3987127 ,\n",
      "         0.08624766,  0.20424375],\n",
      "       [ 0.17146778,  0.1471984 , -0.3955672 , ..., -0.22600087,\n",
      "         0.01635417, -0.22803647],\n",
      "       [ 0.12696431,  0.00186481,  0.0494665 , ...,  0.15406404,\n",
      "         0.07941765, -0.40508291],\n",
      "       ...,\n",
      "       [ 0.28410379, -0.1196908 , -0.21759334, ..., -0.14378999,\n",
      "        -0.01747923, -0.16902245],\n",
      "       [ 0.16176322,  0.10714409,  0.04208303, ..., -0.06643455,\n",
      "        -0.07328502, -0.27009435],\n",
      "       [ 0.03130327,  0.42317872, -0.23258921, ..., -0.11655082,\n",
      "         0.28603592,  0.07569481]]), 'b': array([[-1.44205315,  0.71676242, -0.48244117, -1.53739799, -2.80475429,\n",
      "         0.56763092, -1.59692785, -0.76808621, -3.22254488, -2.0419439 ]])}\n"
     ]
    }
   ],
   "source": [
    "print(svm18.best_estimator_.get_parameters())"
   ]
  },
  {
   "cell_type": "code",
   "execution_count": 125,
   "metadata": {},
   "outputs": [],
   "source": [
    "param_grid = {\n",
    "    'C': [3400, 3500, 3600],\n",
    "    'batch_size': [128],\n",
    "    'max_iter': [120, 140, 160],\n",
    "    'epsilon': [1e-6, 1e-5, 1e-4],\n",
    "    'eta': [0.1]\n",
    "}\n",
    "\n",
    "svm17 = get_model(MySVM, 'data/MySVM5.data', param_grid=param_grid, X=X_train1, Y=y_train)"
   ]
  },
  {
   "cell_type": "code",
   "execution_count": 127,
   "metadata": {},
   "outputs": [
    {
     "name": "stdout",
     "output_type": "stream",
     "text": [
      "0.9712666666666666\n",
      "{'C': 3600, 'batch_size': 128, 'epsilon': 1e-06, 'eta': 0.1, 'max_iter': 140}\n",
      "{'W': array([[-0.11151751,  0.2135294 ,  0.20382278, ...,  0.19694961,\n",
      "        -0.15845842, -0.20904872],\n",
      "       [ 0.15784837, -0.15899147, -0.03681736, ..., -0.02858646,\n",
      "        -0.26898294,  0.04704171],\n",
      "       [-0.12895156, -0.06816802, -0.14374408, ..., -0.27802178,\n",
      "        -0.20643542,  0.05486333],\n",
      "       ...,\n",
      "       [-0.11276817, -0.0532217 ,  0.35935393, ..., -0.18056679,\n",
      "         0.08705596,  0.01626816],\n",
      "       [-0.16559266,  0.21541088, -0.24065934, ..., -0.09622628,\n",
      "        -0.28852436, -0.31122237],\n",
      "       [-0.42192208,  0.46062478,  0.17556587, ..., -0.16914525,\n",
      "         0.11211911, -0.22515615]]), 'b': array([[-1.37395103, -0.1101466 , -0.44808261, -1.97124803, -1.90238104,\n",
      "        -0.22335933, -2.50026859, -1.4679542 , -4.21234812, -1.89847586]])}\n",
      "0.9775166666666667\n",
      "0.9728\n"
     ]
    }
   ],
   "source": [
    "print(svm17.best_score_)\n",
    "print(svm17.best_params_)\n",
    "print(svm17.best_estimator_.get_parameters())\n",
    "print(svm17.best_estimator_.score(X_train1, y_train))\n",
    "print(svm17.best_estimator_.score(X_test1, y_test))"
   ]
  },
  {
   "cell_type": "code",
   "execution_count": 137,
   "metadata": {},
   "outputs": [],
   "source": [
    "pd.DataFrame(svm17.cv_results_).to_csv('MySVM_svm17_train1.csv')"
   ]
  },
  {
   "cell_type": "code",
   "execution_count": 167,
   "metadata": {},
   "outputs": [
    {
     "name": "stdout",
     "output_type": "stream",
     "text": [
      "Cost at epoch 0: 0.7435422788784037\n",
      "Cost at epoch 48: 0.025371965849831566\n",
      "Cost at epoch 96: 0.022632816324009774\n",
      "Cost at epoch 144: 0.02227781977520921\n",
      "Cost at epoch 192: 0.022211862480572175\n",
      "Cost at epoch 240: 0.022144778804264124\n",
      "Cost at epoch 288: 0.02211765380968727\n",
      "Cost at epoch 336: 0.022079472011284768\n",
      "Cost at epoch 384: 0.022108294652347656\n",
      "Cost at epoch 432: 0.02211495649570549\n"
     ]
    },
    {
     "data": {
      "text/plain": [
       "MySVM(C=1000, batch_size=256, epsilon=1e-06, eta=0.1, max_iter=480)"
      ]
     },
     "execution_count": 167,
     "metadata": {},
     "output_type": "execute_result"
    }
   ],
   "source": [
    "svm30 = MySVM(C=1000, batch_size=256, epsilon=1e-6, eta=0.1, max_iter=480)\n",
    "svm30.fit(X_train1, y_train)"
   ]
  },
  {
   "cell_type": "code",
   "execution_count": 168,
   "metadata": {},
   "outputs": [
    {
     "name": "stdout",
     "output_type": "stream",
     "text": [
      "0.9719\n",
      "0.9701\n"
     ]
    }
   ],
   "source": [
    "print(svm30.score(X_train1, y_train))\n",
    "print(svm30.score(X_test1, y_test))"
   ]
  },
  {
   "cell_type": "code",
   "execution_count": 19,
   "metadata": {},
   "outputs": [],
   "source": [
    "def centerize(X):\n",
    "    X_center = np.zeros(np.shape(X))\n",
    "    mu = np.zeros((1, np.shape(X)[1]))\n",
    "    \n",
    "    mu[0, :] = np.mean(X, axis=0)\n",
    "        \n",
    "    X_center = X - mu\n",
    "    \n",
    "    return X_center"
   ]
  },
  {
   "cell_type": "code",
   "execution_count": 8,
   "metadata": {},
   "outputs": [],
   "source": [
    "def SVD_like(mat):\n",
    "    \n",
    "    eig_val, eig_vec = np.linalg.eig(mat)\n",
    "    \n",
    "    eig_pair = [(eig_val[i], eig_vec[i]) for i in range(len(eig_val))]\n",
    "    \n",
    "    sorted(eig_pair, key=lambda p: p[0], reverse=True)\n",
    "    sorted_eig_vec = [eig_pair[i][1] for i in range(len(eig_pair))]\n",
    "    \n",
    "    return np.array(sorted_eig_vec)"
   ]
  },
  {
   "cell_type": "code",
   "execution_count": 20,
   "metadata": {},
   "outputs": [],
   "source": [
    "def principal_component_analysis(X_train, X_test=None, n_components=150):\n",
    "    \n",
    "    X_train_centered = centerize(X_train)\n",
    "    \n",
    "#     eig_vec = SVD_like(np.cov(X_train_centered.T))\n",
    "    \n",
    "#     reduced_eig_vec = eig_vec[:, : n_components]\n",
    "    \n",
    "#     reduced_train = np.matmul(X_train, reduced_eig_vec)\n",
    "#     reduced_test = np.matmul(X_test, reduced_eig_vec)\n",
    "    \n",
    "#     assert(reduced_train.shape == (X_train.shape[0], n_components))\n",
    "    \n",
    "#     return reduced_train, reduced_test\n",
    "\n",
    "    u, s, v = np.linalg.svd(np.cov(X_train_centered.T))\n",
    "    u_reduced = u[:, : n_components]\n",
    "    \n",
    "    reduced_train = np.matmul(X_train, u_reduced)\n",
    "    if X_test is not None:\n",
    "        reduced_test = np.matmul(X_test, u_reduced)\n",
    "        return reduced_train, reduced_test\n",
    "    \n",
    "    return reduced_train"
   ]
  },
  {
   "cell_type": "code",
   "execution_count": 32,
   "metadata": {},
   "outputs": [],
   "source": [
    "def linear_discriminant_analysis(X_train, y_train, X_test, n_components=150):\n",
    "    num_classes = len(np.unique(y_train))\n",
    "    mu = np.zeros((num_classes, np.shape(X_train)[1]))\n",
    "    total_mu = np.zeros((1, np.shape(X_train)[1]))\n",
    "    \n",
    "    Sw = np.zeros((np.shape(X_train)[1], np.shape(X_train)[1]))\n",
    "    Sb = np.zeros((np.shape(X_train)[1], np.shape(X_train)[1]))\n",
    "    \n",
    "    for i in range(num_classes):\n",
    "        mu[i, :] = np.mean(X_train[y_train == i], axis=0)\n",
    "    total_mu[0, :] = np.mean(mu, axis=0)\n",
    "    \n",
    "    for i in range(num_classes):\n",
    "        temp_w = mu[i, :].reshape(-1, 1) - total_mu.reshape(-1, 1)\n",
    "        Sw += np.matmul(temp_w, temp_w.T)\n",
    "        \n",
    "        temp = X_train[y_train == i].T - mu[i, :].reshape(-1, 1)\n",
    "        temp_b = np.sum(temp, axis=1) / (np.sum(y_train == i) - 1)\n",
    "        Sb += np.matmul(temp_b, temp_b.T)\n",
    "        \n",
    "#     eig_vec = SVD_like(np.matmul(np.linalg.inv(Sw), Sb))\n",
    "    eig_vec, s, v = np.linalg.svd(np.matmul(np.linalg.inv(Sw), Sb))\n",
    "    reduced_eig_vec = eig_vec[:, : n_components]\n",
    "    \n",
    "    reduced_train = np.matmul(X_train, reduced_eig_vec)\n",
    "    reduced_test = np.matmul(X_test, reduced_eig_vec)\n",
    "    \n",
    "    return reduced_train, reduced_test"
   ]
  },
  {
   "cell_type": "code",
   "execution_count": 33,
   "metadata": {},
   "outputs": [],
   "source": [
    "def make_poly_features2(images_train, labels_train, images_test):\n",
    "    \n",
    "    m_train = images_train.shape[0]\n",
    "    m_test = images_test.shape[0]\n",
    "    \n",
    "    f_train = np.zeros((m_train, 550))\n",
    "    f_test = np.zeros((m_test, 550))\n",
    "    \n",
    "    X_train = np.reshape(images_train, (-1, 784))\n",
    "    X_test = np.reshape(images_test, (-1, 784))\n",
    "    \n",
    "    X_train, X_test = make_poly_features(images_train, images_test)\n",
    "    \n",
    "    f_train[:, : 100], f_test[:, : 100] = principal_component_analysis(images_train.reshape(-1, 784) / 255, images_test.reshape(-1, 784) / 255, n_components=100)\n",
    "#     f_train[:, 100 : 200] = f_train[:, : 100] ** 2\n",
    "#     f_test[:, 100 : 200] = f_test[:, : 100] ** 2\n",
    "#     f_train[:, 200 : 300] = f_train[:, : 100] ** 3\n",
    "#     f_test[:, 200 : 300] = f_test[:, : 100] ** 3\n",
    "    f_train[:, 100 :], f_test[:, 100 :] = linear_discriminant_analysis(X_train, labels_train, X_test, n_components=450)\n",
    "    \n",
    "    return f_train, f_test"
   ]
  },
  {
   "cell_type": "code",
   "execution_count": 34,
   "metadata": {},
   "outputs": [
    {
     "name": "stdout",
     "output_type": "stream",
     "text": [
      "(60000, 300) (10000, 300)\n"
     ]
    }
   ],
   "source": [
    "X_train1_1, X_test1_1 = principal_component_analysis(X_train1, X_test1, n_components=300)\n",
    "print(X_train1_1.shape, X_test1_1.shape)"
   ]
  },
  {
   "cell_type": "code",
   "execution_count": 35,
   "metadata": {},
   "outputs": [
    {
     "name": "stdout",
     "output_type": "stream",
     "text": [
      "(60000, 300) (10000, 300)\n"
     ]
    }
   ],
   "source": [
    "X_train1_2, X_test1_2 = linear_discriminant_analysis(X_train1, y_train, X_test1, n_components=300)\n",
    "print(X_train1_2.shape, X_test1_2.shape)"
   ]
  },
  {
   "cell_type": "code",
   "execution_count": 37,
   "metadata": {},
   "outputs": [
    {
     "name": "stdout",
     "output_type": "stream",
     "text": [
      "(60000, 300) (10000, 300)\n"
     ]
    }
   ],
   "source": [
    "X_train2_1, X_test2_1 = principal_component_analysis(X_train2, X_test2, n_components=300)\n",
    "print(X_train2_1.shape, X_test2_1.shape)"
   ]
  },
  {
   "cell_type": "code",
   "execution_count": 38,
   "metadata": {},
   "outputs": [
    {
     "name": "stdout",
     "output_type": "stream",
     "text": [
      "(60000, 300) (10000, 300)\n"
     ]
    }
   ],
   "source": [
    "X_train2_2, X_test2_2 = linear_discriminant_analysis(X_train2, y_train, X_test2, n_components=300)\n",
    "print(X_train2_2.shape, X_test2_2.shape)"
   ]
  },
  {
   "cell_type": "code",
   "execution_count": 241,
   "metadata": {},
   "outputs": [
    {
     "name": "stdout",
     "output_type": "stream",
     "text": [
      "(60000, 550) (10000, 550)\n"
     ]
    }
   ],
   "source": [
    "X_train3, X_test3 = make_poly_features2(images_train, labels_train, images_test)\n",
    "print(X_train3.shape, X_test3.shape)"
   ]
  },
  {
   "cell_type": "code",
   "execution_count": 42,
   "metadata": {},
   "outputs": [
    {
     "name": "stdout",
     "output_type": "stream",
     "text": [
      "Cost at epoch 0: 0.6411737075465398\n",
      "Cost at epoch 14: 0.05123676151659059\n",
      "Cost at epoch 28: 0.03468459339797425\n",
      "Cost at epoch 42: 0.02896198244484556\n",
      "Cost at epoch 56: 0.026464435237825296\n",
      "Cost at epoch 70: 0.0251863590123125\n",
      "Cost at epoch 84: 0.024494619136511978\n",
      "Cost at epoch 98: 0.02404701991799214\n",
      "Cost at epoch 112: 0.023648399115464198\n",
      "Cost at epoch 126: 0.023475562961978017\n"
     ]
    }
   ],
   "source": [
    "# svm16 = MySVM(C=800, max_iter=100, batch_size=256, eta=0.1)\n",
    "# svm16.fit(X_train3, y_train)\n",
    "\n",
    "param_grid = {\n",
    "    'C': [1000, 3000, 5000],\n",
    "    'batch_size': [128],\n",
    "    'max_iter': [100, 140],\n",
    "    'epsilon': [1e-6, 1e-5],\n",
    "    'eta': [0.1]\n",
    "}\n",
    "\n",
    "svm19 = get_model(MySVM, 'data/MySVM_pca_2.data', param_grid=param_grid, X=X_train2_1, Y=y_train)"
   ]
  },
  {
   "cell_type": "code",
   "execution_count": 44,
   "metadata": {},
   "outputs": [
    {
     "name": "stdout",
     "output_type": "stream",
     "text": [
      "0.9612\n",
      "{'C': 5000, 'batch_size': 128, 'epsilon': 1e-05, 'eta': 0.1, 'max_iter': 140}\n",
      "{'W': array([[-0.21390191,  0.46890821, -0.07465975, ...,  0.39427718,\n",
      "         0.22347838,  0.22881381],\n",
      "       [-0.0680663 , -0.50260387, -0.24228425, ...,  0.17769017,\n",
      "        -0.01774631,  0.31676386],\n",
      "       [-0.25198895, -0.07480761, -0.01799079, ...,  0.08800352,\n",
      "        -0.07044982,  0.12783986],\n",
      "       ...,\n",
      "       [-0.00290697,  0.38822286,  0.04721271, ..., -0.20181268,\n",
      "        -0.668893  , -0.16160831],\n",
      "       [-0.45113114,  0.16841665,  0.27420922, ...,  0.74060221,\n",
      "        -0.45420076,  0.14166384],\n",
      "       [ 0.04835054,  0.42510864, -0.51964888, ...,  0.41421658,\n",
      "        -0.12295242, -0.22585462]]), 'b': array([[-1.52612183,  0.39331909, -1.8532421 , -2.71426455, -2.9569455 ,\n",
      "        -0.49953788, -2.06171755, -1.57328481, -3.49586168, -2.54507266]])}\n",
      "0.9692\n",
      "0.9654\n"
     ]
    }
   ],
   "source": [
    "print(svm19.best_score_)\n",
    "print(svm19.best_params_)\n",
    "print(svm19.best_estimator_.get_parameters())\n",
    "\n",
    "print(svm19.best_estimator_.score(X_train2_1, y_train))\n",
    "print(svm19.best_estimator_.score(X_test2_1, y_test))"
   ]
  },
  {
   "cell_type": "code",
   "execution_count": 46,
   "metadata": {},
   "outputs": [
    {
     "name": "stderr",
     "output_type": "stream",
     "text": [
      "D:\\Users\\jylee\\Anaconda3\\lib\\site-packages\\sklearn\\utils\\deprecation.py:125: FutureWarning: You are accessing a training score ('split0_train_score'), which will not be available by default any more in 0.21. If you need training scores, please set return_train_score=True\n",
      "  warnings.warn(*warn_args, **warn_kwargs)\n",
      "D:\\Users\\jylee\\Anaconda3\\lib\\site-packages\\sklearn\\utils\\deprecation.py:125: FutureWarning: You are accessing a training score ('split1_train_score'), which will not be available by default any more in 0.21. If you need training scores, please set return_train_score=True\n",
      "  warnings.warn(*warn_args, **warn_kwargs)\n",
      "D:\\Users\\jylee\\Anaconda3\\lib\\site-packages\\sklearn\\utils\\deprecation.py:125: FutureWarning: You are accessing a training score ('split2_train_score'), which will not be available by default any more in 0.21. If you need training scores, please set return_train_score=True\n",
      "  warnings.warn(*warn_args, **warn_kwargs)\n",
      "D:\\Users\\jylee\\Anaconda3\\lib\\site-packages\\sklearn\\utils\\deprecation.py:125: FutureWarning: You are accessing a training score ('split3_train_score'), which will not be available by default any more in 0.21. If you need training scores, please set return_train_score=True\n",
      "  warnings.warn(*warn_args, **warn_kwargs)\n",
      "D:\\Users\\jylee\\Anaconda3\\lib\\site-packages\\sklearn\\utils\\deprecation.py:125: FutureWarning: You are accessing a training score ('split4_train_score'), which will not be available by default any more in 0.21. If you need training scores, please set return_train_score=True\n",
      "  warnings.warn(*warn_args, **warn_kwargs)\n",
      "D:\\Users\\jylee\\Anaconda3\\lib\\site-packages\\sklearn\\utils\\deprecation.py:125: FutureWarning: You are accessing a training score ('split5_train_score'), which will not be available by default any more in 0.21. If you need training scores, please set return_train_score=True\n",
      "  warnings.warn(*warn_args, **warn_kwargs)\n",
      "D:\\Users\\jylee\\Anaconda3\\lib\\site-packages\\sklearn\\utils\\deprecation.py:125: FutureWarning: You are accessing a training score ('mean_train_score'), which will not be available by default any more in 0.21. If you need training scores, please set return_train_score=True\n",
      "  warnings.warn(*warn_args, **warn_kwargs)\n",
      "D:\\Users\\jylee\\Anaconda3\\lib\\site-packages\\sklearn\\utils\\deprecation.py:125: FutureWarning: You are accessing a training score ('std_train_score'), which will not be available by default any more in 0.21. If you need training scores, please set return_train_score=True\n",
      "  warnings.warn(*warn_args, **warn_kwargs)\n"
     ]
    }
   ],
   "source": [
    "df = pd.DataFrame(svm19.cv_results_)"
   ]
  },
  {
   "cell_type": "code",
   "execution_count": 47,
   "metadata": {},
   "outputs": [],
   "source": [
    "df.to_csv('svm19_pca_2.csv')"
   ]
  },
  {
   "cell_type": "code",
   "execution_count": 364,
   "metadata": {},
   "outputs": [
    {
     "name": "stdout",
     "output_type": "stream",
     "text": [
      "Cost at epoch 0: 0.48932683295464136\n",
      "Cost at epoch 14: 0.04419559353360848\n",
      "Cost at epoch 28: 0.02880823164261982\n",
      "Cost at epoch 42: 0.023278789820220348\n",
      "Cost at epoch 56: 0.020860258709197253\n",
      "Cost at epoch 70: 0.01963223788157185\n",
      "Cost at epoch 84: 0.01898376376060766\n",
      "Cost at epoch 98: 0.018647284956326685\n",
      "Cost at epoch 112: 0.01849057621098567\n",
      "Cost at epoch 126: 0.018309819412845294\n"
     ]
    },
    {
     "data": {
      "text/plain": [
       "MySVM(C=3000, batch_size=128, epsilon=1e-06, eta=0.1, max_iter=140)"
      ]
     },
     "execution_count": 364,
     "metadata": {},
     "output_type": "execute_result"
    }
   ],
   "source": [
    "# svm16 = MySVM(C=800, max_iter=100, batch_size=256, eta=0.1)\n",
    "# svm16.fit(X_train3, y_train)\n",
    "\n",
    "param_grid = {\n",
    "    'C': [1000, 3000, 5000],\n",
    "    'batch_size': [128],\n",
    "    'max_iter': [100, 140],\n",
    "    'epsilon': [1e-6, 1e-5],\n",
    "    'eta': [0.1]\n",
    "}\n",
    "\n",
    "svm18 = get_model(MySVM, 'data/MySVM_pca_1.data', param_grid=param_grid, X=X_train1_1, Y=y_train)"
   ]
  },
  {
   "cell_type": "code",
   "execution_count": 48,
   "metadata": {},
   "outputs": [
    {
     "name": "stdout",
     "output_type": "stream",
     "text": [
      "0.9643166666666667\n",
      "{'C': 5000, 'batch_size': 128, 'epsilon': 1e-06, 'eta': 0.1, 'max_iter': 140}\n",
      "{'W': array([[ 0.32812412, -0.67099888,  0.00908884, ..., -0.45744519,\n",
      "        -0.31934168, -0.10684607],\n",
      "       [-0.16833774, -0.385851  , -0.32817532, ...,  0.467464  ,\n",
      "         0.05119359,  0.51386786],\n",
      "       [-0.3559464 , -0.06851864, -0.07286901, ...,  0.14226421,\n",
      "        -0.15123767,  0.1769827 ],\n",
      "       ...,\n",
      "       [-0.53217675, -0.01356341,  0.37574779, ..., -0.15770324,\n",
      "        -0.30678296,  0.70073816],\n",
      "       [ 0.32655044, -0.42132501, -0.04976439, ...,  0.30219391,\n",
      "         0.41638435, -0.15553092],\n",
      "       [ 0.09011209,  0.26667697,  0.18750308, ...,  0.26438093,\n",
      "        -0.62708056, -0.41335652]]), 'b': array([[-1.7067485 ,  0.16843686, -1.14272568, -2.81020837, -3.06580705,\n",
      "        -0.44149976, -1.89194673, -1.55026339, -3.08337275, -2.29915054]])}\n",
      "0.9707666666666667\n",
      "0.9675\n"
     ]
    }
   ],
   "source": [
    "print(svm18.best_score_)\n",
    "print(svm18.best_params_)\n",
    "print(svm18.best_estimator_.get_parameters())\n",
    "\n",
    "print(svm18.best_estimator_.score(X_train1_1, y_train))\n",
    "print(svm18.best_estimator_.score(X_test1_1, y_test))"
   ]
  },
  {
   "cell_type": "code",
   "execution_count": 49,
   "metadata": {},
   "outputs": [
    {
     "name": "stderr",
     "output_type": "stream",
     "text": [
      "D:\\Users\\jylee\\Anaconda3\\lib\\site-packages\\sklearn\\utils\\deprecation.py:125: FutureWarning: You are accessing a training score ('split0_train_score'), which will not be available by default any more in 0.21. If you need training scores, please set return_train_score=True\n",
      "  warnings.warn(*warn_args, **warn_kwargs)\n",
      "D:\\Users\\jylee\\Anaconda3\\lib\\site-packages\\sklearn\\utils\\deprecation.py:125: FutureWarning: You are accessing a training score ('split1_train_score'), which will not be available by default any more in 0.21. If you need training scores, please set return_train_score=True\n",
      "  warnings.warn(*warn_args, **warn_kwargs)\n",
      "D:\\Users\\jylee\\Anaconda3\\lib\\site-packages\\sklearn\\utils\\deprecation.py:125: FutureWarning: You are accessing a training score ('split2_train_score'), which will not be available by default any more in 0.21. If you need training scores, please set return_train_score=True\n",
      "  warnings.warn(*warn_args, **warn_kwargs)\n",
      "D:\\Users\\jylee\\Anaconda3\\lib\\site-packages\\sklearn\\utils\\deprecation.py:125: FutureWarning: You are accessing a training score ('split3_train_score'), which will not be available by default any more in 0.21. If you need training scores, please set return_train_score=True\n",
      "  warnings.warn(*warn_args, **warn_kwargs)\n",
      "D:\\Users\\jylee\\Anaconda3\\lib\\site-packages\\sklearn\\utils\\deprecation.py:125: FutureWarning: You are accessing a training score ('split4_train_score'), which will not be available by default any more in 0.21. If you need training scores, please set return_train_score=True\n",
      "  warnings.warn(*warn_args, **warn_kwargs)\n",
      "D:\\Users\\jylee\\Anaconda3\\lib\\site-packages\\sklearn\\utils\\deprecation.py:125: FutureWarning: You are accessing a training score ('split5_train_score'), which will not be available by default any more in 0.21. If you need training scores, please set return_train_score=True\n",
      "  warnings.warn(*warn_args, **warn_kwargs)\n",
      "D:\\Users\\jylee\\Anaconda3\\lib\\site-packages\\sklearn\\utils\\deprecation.py:125: FutureWarning: You are accessing a training score ('mean_train_score'), which will not be available by default any more in 0.21. If you need training scores, please set return_train_score=True\n",
      "  warnings.warn(*warn_args, **warn_kwargs)\n",
      "D:\\Users\\jylee\\Anaconda3\\lib\\site-packages\\sklearn\\utils\\deprecation.py:125: FutureWarning: You are accessing a training score ('std_train_score'), which will not be available by default any more in 0.21. If you need training scores, please set return_train_score=True\n",
      "  warnings.warn(*warn_args, **warn_kwargs)\n"
     ]
    }
   ],
   "source": [
    "df = pd.DataFrame(svm18.cv_results_)\n",
    "df.to_csv('svm18_pca_1.csv')"
   ]
  },
  {
   "cell_type": "code",
   "execution_count": null,
   "metadata": {},
   "outputs": [],
   "source": []
  },
  {
   "cell_type": "markdown",
   "metadata": {},
   "source": [
    "# Plot"
   ]
  },
  {
   "cell_type": "code",
   "execution_count": 50,
   "metadata": {},
   "outputs": [],
   "source": [
    "import matplotlib.pyplot as plt\n",
    "import seaborn as sns"
   ]
  },
  {
   "cell_type": "markdown",
   "metadata": {},
   "source": [
    "## Without learning rate decay"
   ]
  },
  {
   "cell_type": "code",
   "execution_count": 23,
   "metadata": {},
   "outputs": [
    {
     "name": "stdout",
     "output_type": "stream",
     "text": [
      "Cost at epoch 0: 0.5004672507202607\n",
      "Cost at epoch 10: 0.05134592662546951\n",
      "Cost at epoch 20: 0.03343726607192031\n",
      "Cost at epoch 30: 0.0266278815669175\n",
      "Cost at epoch 40: 0.0233338041017626\n",
      "Cost at epoch 50: 0.021649595190985683\n",
      "Cost at epoch 60: 0.02067620977447049\n",
      "Cost at epoch 70: 0.02017142012884437\n",
      "Cost at epoch 80: 0.019821455581828188\n",
      "Cost at epoch 90: 0.019595970609721635\n"
     ]
    },
    {
     "data": {
      "text/plain": [
       "MySVM(C=3500, batch_size=128, epsilon=1e-08, eta=0.1, max_iter=100)"
      ]
     },
     "execution_count": 23,
     "metadata": {},
     "output_type": "execute_result"
    }
   ],
   "source": [
    "svm21 = MySVM(C=3500, max_iter=100, batch_size=128, eta=0.1)\n",
    "svm21.fit(X_train1, y_train)"
   ]
  },
  {
   "cell_type": "code",
   "execution_count": 24,
   "metadata": {},
   "outputs": [
    {
     "name": "stdout",
     "output_type": "stream",
     "text": [
      "0.975675\n",
      "0.964\n"
     ]
    }
   ],
   "source": [
    "print(svm21.score(X_train1, y_train))\n",
    "print(svm21.score(X_test1, y_test))"
   ]
  },
  {
   "cell_type": "code",
   "execution_count": 59,
   "metadata": {},
   "outputs": [
    {
     "name": "stdout",
     "output_type": "stream",
     "text": [
      "Cost at epoch 0: 0.6286434202204312\n",
      "Cost at epoch 14: 0.05016631249522425\n",
      "Cost at epoch 28: 0.031766432269513846\n",
      "Cost at epoch 42: 0.02507985418714191\n",
      "Cost at epoch 56: 0.02199970980531646\n",
      "Cost at epoch 70: 0.020416188305290454\n",
      "Cost at epoch 84: 0.019631569975251766\n",
      "Cost at epoch 98: 0.019167804076441225\n",
      "Cost at epoch 112: 0.018831380530505575\n",
      "Cost at epoch 126: 0.018724202787300467\n"
     ]
    },
    {
     "data": {
      "text/plain": [
       "MySVM(C=3500, batch_size=128, epsilon=1e-08, eta=0.1, max_iter=140)"
      ]
     },
     "execution_count": 59,
     "metadata": {},
     "output_type": "execute_result"
    }
   ],
   "source": [
    "svm22 = MySVM(C=3500, max_iter=140, batch_size=128, eta=0.1)\n",
    "svm22.fit(X_train2, y_train)"
   ]
  },
  {
   "cell_type": "code",
   "execution_count": 60,
   "metadata": {},
   "outputs": [
    {
     "name": "stdout",
     "output_type": "stream",
     "text": [
      "0.9753833333333334\n",
      "0.9718\n"
     ]
    }
   ],
   "source": [
    "print(svm22.score(X_train2, y_train))\n",
    "print(svm22.score(X_test2, y_test))"
   ]
  },
  {
   "cell_type": "markdown",
   "metadata": {},
   "source": [
    "### PCA version"
   ]
  },
  {
   "cell_type": "code",
   "execution_count": 61,
   "metadata": {},
   "outputs": [
    {
     "name": "stdout",
     "output_type": "stream",
     "text": [
      "Cost at epoch 0: 0.5279850300148776\n",
      "Cost at epoch 14: 0.04469477023314208\n",
      "Cost at epoch 28: 0.029430569284351886\n",
      "Cost at epoch 42: 0.02494266396091238\n",
      "Cost at epoch 56: 0.023346218007564676\n",
      "Cost at epoch 70: 0.022784549209448657\n",
      "Cost at epoch 84: 0.022495127485833245\n",
      "Cost at epoch 98: 0.022404386725391696\n",
      "Cost at epoch 112: 0.022323744190876297\n",
      "Cost at epoch 126: 0.0223217885468603\n"
     ]
    },
    {
     "data": {
      "text/plain": [
       "MySVM(C=3500, batch_size=128, epsilon=1e-08, eta=0.1, max_iter=140)"
      ]
     },
     "execution_count": 61,
     "metadata": {},
     "output_type": "execute_result"
    }
   ],
   "source": [
    "svm23 = MySVM(C=3500, max_iter=140, batch_size=128, eta=0.1)\n",
    "svm23.fit(X_train1_1, y_train)"
   ]
  },
  {
   "cell_type": "code",
   "execution_count": 62,
   "metadata": {},
   "outputs": [
    {
     "name": "stdout",
     "output_type": "stream",
     "text": [
      "0.9698833333333333\n",
      "0.9683\n"
     ]
    }
   ],
   "source": [
    "print(svm23.score(X_train1_1, y_train))\n",
    "print(svm23.score(X_test1_1, y_test))"
   ]
  },
  {
   "cell_type": "code",
   "execution_count": 63,
   "metadata": {},
   "outputs": [
    {
     "name": "stdout",
     "output_type": "stream",
     "text": [
      "Cost at epoch 0: 0.6210781295022839\n",
      "Cost at epoch 14: 0.048014652193324035\n",
      "Cost at epoch 28: 0.03186326403404652\n",
      "Cost at epoch 42: 0.027480261131487504\n",
      "Cost at epoch 56: 0.025842778429804005\n",
      "Cost at epoch 70: 0.02538987910184618\n",
      "Cost at epoch 84: 0.025089065914957902\n",
      "Cost at epoch 98: 0.02496420578231034\n",
      "Cost at epoch 112: 0.024940744751733687\n",
      "Cost at epoch 126: 0.02479058452007617\n"
     ]
    },
    {
     "data": {
      "text/plain": [
       "MySVM(C=3500, batch_size=128, epsilon=1e-08, eta=0.1, max_iter=140)"
      ]
     },
     "execution_count": 63,
     "metadata": {},
     "output_type": "execute_result"
    }
   ],
   "source": [
    "svm24 = MySVM(C=3500, max_iter=140, batch_size=128, eta=0.1)\n",
    "svm24.fit(X_train2_1, y_train)"
   ]
  },
  {
   "cell_type": "code",
   "execution_count": 64,
   "metadata": {},
   "outputs": [
    {
     "name": "stdout",
     "output_type": "stream",
     "text": [
      "0.9678833333333333\n",
      "0.9638\n"
     ]
    }
   ],
   "source": [
    "print(svm24.score(X_train2_1, y_train))\n",
    "print(svm24.score(X_test2_1, y_test))"
   ]
  },
  {
   "cell_type": "markdown",
   "metadata": {},
   "source": [
    "## With learning rate decay"
   ]
  },
  {
   "cell_type": "code",
   "execution_count": 66,
   "metadata": {},
   "outputs": [
    {
     "name": "stdout",
     "output_type": "stream",
     "text": [
      "Cost at epoch 0: 0.5567875355996388\n",
      "Cost at epoch 14: 0.046294531345514534\n",
      "Cost at epoch 28: 0.029704094545581976\n",
      "Cost at epoch 42: 0.023618518156009058\n",
      "Cost at epoch 56: 0.020926683615308788\n",
      "Cost at epoch 70: 0.019542757227408468\n",
      "Cost at epoch 84: 0.018758194536583866\n",
      "Cost at epoch 98: 0.018291841266288522\n",
      "Cost at epoch 112: 0.017999659656631282\n",
      "Cost at epoch 126: 0.017883131581233443\n"
     ]
    },
    {
     "data": {
      "text/plain": [
       "MySVM(C=3500, batch_size=128, epsilon=1e-08, eta=0.1, max_iter=140)"
      ]
     },
     "execution_count": 66,
     "metadata": {},
     "output_type": "execute_result"
    }
   ],
   "source": [
    "svm25 = MySVM(C=3500, max_iter=140, batch_size=128, eta=0.1)\n",
    "svm25.fit(X_train1, y_train)"
   ]
  },
  {
   "cell_type": "code",
   "execution_count": 67,
   "metadata": {},
   "outputs": [
    {
     "name": "stdout",
     "output_type": "stream",
     "text": [
      "0.9774166666666667\n",
      "0.9727\n"
     ]
    }
   ],
   "source": [
    "print(svm25.score(X_train1, y_train))\n",
    "print(svm25.score(X_test1, y_test))"
   ]
  },
  {
   "cell_type": "code",
   "execution_count": 68,
   "metadata": {},
   "outputs": [
    {
     "name": "stdout",
     "output_type": "stream",
     "text": [
      "Cost at epoch 0: 0.6338581500761664\n",
      "Cost at epoch 14: 0.050874106168308196\n",
      "Cost at epoch 28: 0.03214584988938263\n",
      "Cost at epoch 42: 0.025356649337598403\n",
      "Cost at epoch 56: 0.022284647293940276\n",
      "Cost at epoch 70: 0.02066506016669776\n",
      "Cost at epoch 84: 0.01968927535622095\n",
      "Cost at epoch 98: 0.01916811546637401\n",
      "Cost at epoch 112: 0.018837767567501034\n",
      "Cost at epoch 126: 0.018697693767661946\n"
     ]
    },
    {
     "data": {
      "text/plain": [
       "MySVM(C=3500, batch_size=128, epsilon=1e-08, eta=0.1, max_iter=140)"
      ]
     },
     "execution_count": 68,
     "metadata": {},
     "output_type": "execute_result"
    }
   ],
   "source": [
    "svm26 = MySVM(C=3500, max_iter=140, batch_size=128, eta=0.1)\n",
    "svm26.fit(X_train2, y_train)"
   ]
  },
  {
   "cell_type": "code",
   "execution_count": 69,
   "metadata": {},
   "outputs": [
    {
     "name": "stdout",
     "output_type": "stream",
     "text": [
      "0.9748666666666667\n",
      "0.9693\n"
     ]
    }
   ],
   "source": [
    "print(svm26.score(X_train2, y_train))\n",
    "print(svm26.score(X_test2, y_test))"
   ]
  },
  {
   "cell_type": "markdown",
   "metadata": {},
   "source": [
    "### PCA version"
   ]
  },
  {
   "cell_type": "code",
   "execution_count": 70,
   "metadata": {},
   "outputs": [
    {
     "name": "stdout",
     "output_type": "stream",
     "text": [
      "Cost at epoch 0: 0.5000327333377631\n",
      "Cost at epoch 14: 0.04484374174463349\n",
      "Cost at epoch 28: 0.030086810667382783\n",
      "Cost at epoch 42: 0.02534807354088641\n",
      "Cost at epoch 56: 0.02364159493797155\n",
      "Cost at epoch 70: 0.02288923122558651\n",
      "Cost at epoch 84: 0.02262021094151225\n",
      "Cost at epoch 98: 0.022475709608005018\n",
      "Cost at epoch 112: 0.022399396095785444\n",
      "Cost at epoch 126: 0.022377660304338146\n"
     ]
    },
    {
     "data": {
      "text/plain": [
       "MySVM(C=3500, batch_size=128, epsilon=1e-08, eta=0.1, max_iter=140)"
      ]
     },
     "execution_count": 70,
     "metadata": {},
     "output_type": "execute_result"
    }
   ],
   "source": [
    "svm27 = MySVM(C=3500, max_iter=140, batch_size=128, eta=0.1)\n",
    "svm27.fit(X_train1_1, y_train)"
   ]
  },
  {
   "cell_type": "code",
   "execution_count": 71,
   "metadata": {},
   "outputs": [
    {
     "name": "stdout",
     "output_type": "stream",
     "text": [
      "0.9697666666666667\n",
      "0.9675\n"
     ]
    }
   ],
   "source": [
    "print(svm27.score(X_train1_1, y_train))\n",
    "print(svm27.score(X_test1_1, y_test))"
   ]
  },
  {
   "cell_type": "code",
   "execution_count": 72,
   "metadata": {},
   "outputs": [
    {
     "name": "stdout",
     "output_type": "stream",
     "text": [
      "Cost at epoch 0: 0.6313096979437539\n",
      "Cost at epoch 14: 0.047376759586617356\n",
      "Cost at epoch 28: 0.0319893447928701\n",
      "Cost at epoch 42: 0.027594463977368554\n",
      "Cost at epoch 56: 0.025936456109261655\n",
      "Cost at epoch 70: 0.02521580983213248\n",
      "Cost at epoch 84: 0.025078552246877238\n",
      "Cost at epoch 98: 0.024943205383054005\n",
      "Cost at epoch 112: 0.02502725979881426\n",
      "Cost at epoch 126: 0.024808768563934724\n"
     ]
    },
    {
     "data": {
      "text/plain": [
       "MySVM(C=3500, batch_size=128, epsilon=1e-08, eta=0.1, max_iter=140)"
      ]
     },
     "execution_count": 72,
     "metadata": {},
     "output_type": "execute_result"
    }
   ],
   "source": [
    "svm28 = MySVM(C=3500, max_iter=140, batch_size=128, eta=0.1)\n",
    "svm28.fit(X_train2_1, y_train)"
   ]
  },
  {
   "cell_type": "code",
   "execution_count": 73,
   "metadata": {},
   "outputs": [
    {
     "name": "stdout",
     "output_type": "stream",
     "text": [
      "0.9673666666666667\n",
      "0.9654\n"
     ]
    }
   ],
   "source": [
    "print(svm28.score(X_train2_1, y_train))\n",
    "print(svm28.score(X_test2_1, y_test))"
   ]
  },
  {
   "cell_type": "code",
   "execution_count": 121,
   "metadata": {},
   "outputs": [
    {
     "data": {
      "image/png": "[encoded data removed]",
      "text/plain": [
       "<Figure size 864x576 with 1 Axes>"
      ]
     },
     "metadata": {
      "needs_background": "light"
     },
     "output_type": "display_data"
    }
   ],
   "source": [
    "fig, ax = plt.subplots(figsize=(12, 8))\n",
    "\n",
    "style = dict(size=15, color='black', zorder=20)\n",
    "\n",
    "sns.barplot(x=['Normal', 'PCA', 'LRD', 'LRD+PCA'], y=[97.35, 96.83, 97.27, 96.75], ax=ax, zorder=10)\n",
    "ax.text(0, 55, '97.35', ha='center', **style)\n",
    "ax.text(1, 55, '96.83', ha='center', **style)\n",
    "ax.text(2, 55, '97.27', ha='center', **style)\n",
    "ax.text(3, 55, '96.75', ha='center', **style)\n",
    "ax.grid(True, axis='y', zorder=0)\n",
    "\n",
    "plt.title('Polynomial Features with Gradient of Images and HoG')\n",
    "plt.ylabel('Accuracy')\n",
    "\n",
    "plt.show()"
   ]
  },
  {
   "cell_type": "code",
   "execution_count": 122,
   "metadata": {},
   "outputs": [
    {
     "data": {
      "image/png": "[encoded data removed]",
      "text/plain": [
       "<Figure size 864x576 with 1 Axes>"
      ]
     },
     "metadata": {
      "needs_background": "light"
     },
     "output_type": "display_data"
    }
   ],
   "source": [
    "fig, ax = plt.subplots(figsize=(12, 8))\n",
    "\n",
    "style = dict(size=15, color='black', zorder=20)\n",
    "\n",
    "sns.barplot(x=['Normal', 'PCA', 'LRD', 'LRD+PCA'], y=[97.18, 96.38, 96.93, 96.54], ax=ax, zorder=10)\n",
    "ax.text(0, 55, '97.18', ha='center', **style)\n",
    "ax.text(1, 55, '96.38', ha='center', **style)\n",
    "ax.text(2, 55, '96.93', ha='center', **style)\n",
    "ax.text(3, 55, '96.75', ha='center', **style)\n",
    "ax.grid(True, axis='y', zorder=0)\n",
    "\n",
    "plt.title('More Complex Polynomial Features with Gradient of Images and HoG')\n",
    "plt.ylabel('Accuracy')\n",
    "\n",
    "plt.show()"
   ]
  },
  {
   "cell_type": "markdown",
   "metadata": {},
   "source": [
    "# Using NEW data"
   ]
  },
  {
   "cell_type": "code",
   "execution_count": 29,
   "metadata": {},
   "outputs": [
    {
     "name": "stdout",
     "output_type": "stream",
     "text": [
      "Cost at epoch 0: 0.32940399194849806\n",
      "Cost at epoch 20: 0.07332278851076657\n",
      "Cost at epoch 40: 0.07322536171102914\n",
      "Cost at epoch 60: 0.07340241195812529\n",
      "Cost at epoch 80: 0.07316462392616682\n",
      "Cost at epoch 100: 0.0732092184078106\n",
      "Cost at epoch 120: 0.07307172336236248\n",
      "Cost at epoch 140: 0.07305519105185415\n",
      "Cost at epoch 160: 0.07325391808665663\n",
      "Cost at epoch 180: 0.07322504224066118\n"
     ]
    },
    {
     "data": {
      "text/plain": [
       "MySVM(C=10, batch_size=256, epsilon=1e-06, eta=0.1, max_iter=200)"
      ]
     },
     "execution_count": 29,
     "metadata": {},
     "output_type": "execute_result"
    }
   ],
   "source": [
    "svm31 = MySVM(C=10, max_iter=200, batch_size=256, eta=0.1, epsilon=1e-6)\n",
    "svm31.fit(X_train1, y_train)"
   ]
  },
  {
   "cell_type": "code",
   "execution_count": 30,
   "metadata": {},
   "outputs": [
    {
     "name": "stdout",
     "output_type": "stream",
     "text": [
      "0.8931\n",
      "0.8504\n"
     ]
    }
   ],
   "source": [
    "print(svm31.score(X_train1, y_train))\n",
    "print(svm31.score(X_test1, y_test))"
   ]
  },
  {
   "cell_type": "code",
   "execution_count": 32,
   "metadata": {},
   "outputs": [
    {
     "name": "stdout",
     "output_type": "stream",
     "text": [
      "Cost at epoch 0: 0.49875536922754554\n",
      "Cost at epoch 14: 0.03682432274994522\n",
      "Cost at epoch 28: 0.02509577029149028\n",
      "Cost at epoch 42: 0.02259840237150455\n",
      "Cost at epoch 56: 0.021824809720563502\n",
      "Cost at epoch 70: 0.021565624179254627\n",
      "Cost at epoch 84: 0.021462587448148152\n",
      "Cost at epoch 98: 0.02138001465017672\n",
      "Cost at epoch 112: 0.021287241444508904\n",
      "Cost at epoch 126: 0.0212716677614172\n"
     ]
    },
    {
     "data": {
      "text/plain": [
       "MySVM(C=2000, batch_size=128, epsilon=1e-06, eta=0.1, max_iter=140)"
      ]
     },
     "execution_count": 32,
     "metadata": {},
     "output_type": "execute_result"
    }
   ],
   "source": [
    "svm32 = MySVM(C=2000, batch_size=128, epsilon=1e-6, eta=0.1, max_iter=140)\n",
    "svm32.fit(X_train1, y_train)"
   ]
  },
  {
   "cell_type": "code",
   "execution_count": 33,
   "metadata": {},
   "outputs": [
    {
     "name": "stdout",
     "output_type": "stream",
     "text": [
      "0.974075\n",
      "0.9611\n"
     ]
    }
   ],
   "source": [
    "print(svm32.score(X_train1, y_train))\n",
    "print(svm32.score(X_test1, y_test))"
   ]
  },
  {
   "cell_type": "code",
   "execution_count": 51,
   "metadata": {},
   "outputs": [
    {
     "name": "stdout",
     "output_type": "stream",
     "text": [
      "Cost at epoch 0: 0.46169277901930755\n",
      "Cost at epoch 12: 0.044314241645463257\n",
      "Cost at epoch 24: 0.029027493930966052\n",
      "Cost at epoch 36: 0.02382230281136949\n",
      "Cost at epoch 48: 0.021682122975913348\n",
      "Cost at epoch 60: 0.020769815721963004\n",
      "Cost at epoch 72: 0.020343427162660407\n",
      "Cost at epoch 84: 0.02007903576596676\n",
      "Cost at epoch 96: 0.019859341339561236\n",
      "Cost at epoch 108: 0.019781534153832873\n"
     ]
    },
    {
     "data": {
      "text/plain": [
       "MySVM(C=3000, batch_size=128, epsilon=1e-06, eta=0.1, max_iter=120)"
      ]
     },
     "execution_count": 51,
     "metadata": {},
     "output_type": "execute_result"
    }
   ],
   "source": [
    "svm33 = MySVM(C=3000, batch_size=128, epsilon=1e-6, eta=0.1, max_iter=120)\n",
    "svm33.fit(X_train1, y_train)"
   ]
  },
  {
   "cell_type": "code",
   "execution_count": 52,
   "metadata": {},
   "outputs": [
    {
     "name": "stdout",
     "output_type": "stream",
     "text": [
      "0.9751375\n",
      "0.9634\n"
     ]
    }
   ],
   "source": [
    "print(svm33.score(X_train1, y_train))\n",
    "print(svm33.score(X_test1, y_test))"
   ]
  },
  {
   "cell_type": "code",
   "execution_count": 58,
   "metadata": {},
   "outputs": [
    {
     "data": {
      "text/plain": [
       "(28, 28)"
      ]
     },
     "execution_count": 58,
     "metadata": {},
     "output_type": "execute_result"
    }
   ],
   "source": [
    "images_train[0].shape"
   ]
  },
  {
   "cell_type": "code",
   "execution_count": 93,
   "metadata": {},
   "outputs": [
    {
     "name": "stdout",
     "output_type": "stream",
     "text": [
      "Cost at epoch 0: 0.46661067859120386\n",
      "Cost at epoch 12: 0.04575007107003653\n",
      "Cost at epoch 24: 0.030189782790959498\n",
      "Cost at epoch 36: 0.024789191963618642\n",
      "Cost at epoch 48: 0.02237083389387941\n",
      "Cost at epoch 60: 0.021199653905492884\n",
      "Cost at epoch 72: 0.020547962872874165\n",
      "Cost at epoch 84: 0.02017684544487005\n",
      "Cost at epoch 96: 0.01985304061151586\n",
      "Cost at epoch 108: 0.01969957457583046\n"
     ]
    }
   ],
   "source": [
    "param_grid = {\n",
    "    'C': [2500, 3000, 3500],\n",
    "    'batch_size': [128, 256],\n",
    "    'max_iter': [80, 100, 120],\n",
    "    'epsilon': [1e-6, 1e-5, 1e-4],\n",
    "    'eta': [0.1]\n",
    "}\n",
    "\n",
    "svm34 = get_model(MySVM, 'data/MySVM6.data', param_grid=param_grid, X=X_train1, Y=y_train)"
   ]
  },
  {
   "cell_type": "code",
   "execution_count": 94,
   "metadata": {},
   "outputs": [
    {
     "name": "stdout",
     "output_type": "stream",
     "text": [
      "0.969125\n",
      "{'C': 3000, 'batch_size': 128, 'epsilon': 1e-05, 'eta': 0.1, 'max_iter': 120}\n",
      "{'W': array([[-0.16582055,  0.12977394, -0.02721224, ..., -0.06322164,\n",
      "         0.07951149,  0.14110873],\n",
      "       [ 0.12207459, -0.20273143, -0.0151158 , ...,  0.21847416,\n",
      "        -0.0488652 , -0.25587117],\n",
      "       [-0.08006568,  0.01578766,  0.1302908 , ...,  0.05152386,\n",
      "        -0.17710384, -0.20635521],\n",
      "       ...,\n",
      "       [-0.07328833, -0.01133344,  0.01258361, ..., -0.01713797,\n",
      "        -0.20738709, -0.16110956],\n",
      "       [-0.27871563, -0.07699144,  0.38529885, ..., -0.11907301,\n",
      "        -0.06123669, -0.06525174],\n",
      "       [ 0.06123447,  0.2709687 ,  0.07144766, ..., -0.23807059,\n",
      "        -0.05570399, -0.00112006]]), 'b': array([[-1.4007554 ,  0.27122374, -1.04808382, -2.48286222, -2.58446761,\n",
      "        -0.21125334, -1.73920687, -1.0860246 , -3.84951094, -1.52165789]])}\n",
      "0.9757875\n",
      "0.9643\n"
     ]
    }
   ],
   "source": [
    "print(svm34.best_score_)\n",
    "print(svm34.best_params_)\n",
    "print(svm34.best_estimator_.get_parameters())\n",
    "\n",
    "print(svm34.best_estimator_.score(X_train1, y_train))\n",
    "print(svm34.best_estimator_.score(X_test1, y_test))"
   ]
  },
  {
   "cell_type": "code",
   "execution_count": null,
   "metadata": {},
   "outputs": [],
   "source": [
    "param_grid = {\n",
    "    'C': [2800, 3000, 3200],\n",
    "    'batch_size': [128],\n",
    "    'max_iter': [110, 120, 130],\n",
    "    'epsilon': [1e-5],\n",
    "    'eta': [0.1]\n",
    "}\n",
    "\n",
    "svm34 = get_model(MySVM, 'data/MySVM7.data', param_grid=param_grid, X=X_train1, Y=y_train)"
   ]
  },
  {
   "cell_type": "code",
   "execution_count": null,
   "metadata": {},
   "outputs": [],
   "source": [
    "print(svm34.best_score_)\n",
    "print(svm34.best_params_)\n",
    "print(svm34.best_estimator_.get_parameters())\n",
    "\n",
    "print(svm34.best_estimator_.score(X_train1, y_train))\n",
    "print(svm34.best_estimator_.score(X_test1, y_test))"
   ]
  },
  {
   "cell_type": "markdown",
   "metadata": {},
   "source": [
    "# Additional Trial"
   ]
  },
  {
   "cell_type": "code",
   "execution_count": 18,
   "metadata": {},
   "outputs": [
    {
     "name": "stdout",
     "output_type": "stream",
     "text": [
      "Cost at epoch 0: 0.488409216743553\n",
      "Cost at epoch 14: 0.040187730037779465\n",
      "Cost at epoch 28: 0.02640411788586003\n",
      "Cost at epoch 42: 0.02267565884221039\n",
      "Cost at epoch 56: 0.021380735829661292\n",
      "Cost at epoch 70: 0.020900626498853506\n",
      "Cost at epoch 84: 0.020721446815663017\n",
      "Cost at epoch 98: 0.020513668595483706\n",
      "Cost at epoch 112: 0.02044506708983655\n",
      "Cost at epoch 126: 0.0203983816494079\n"
     ]
    },
    {
     "data": {
      "text/plain": [
       "MySVM(C=2500, batch_size=128, epsilon=1e-06, eta=0.1, max_iter=140)"
      ]
     },
     "execution_count": 18,
     "metadata": {},
     "output_type": "execute_result"
    }
   ],
   "source": [
    "svm35 = MySVM(C=2500, eta=0.1, batch_size=128, epsilon=1e-6, max_iter=140)\n",
    "svm35.fit(X_train1, y_train)"
   ]
  },
  {
   "cell_type": "code",
   "execution_count": 21,
   "metadata": {},
   "outputs": [
    {
     "name": "stdout",
     "output_type": "stream",
     "text": [
      "0.9748125\n",
      "0.9632\n"
     ]
    }
   ],
   "source": [
    "# print(svm35.best_score_)\n",
    "# print(svm35.best_params_)\n",
    "# print(svm35.best_estimator_.get_parameters())\n",
    "\n",
    "print(svm35.score(X_train1, y_train))\n",
    "print(svm35.score(X_test1, y_test))"
   ]
  },
  {
   "cell_type": "code",
   "execution_count": null,
   "metadata": {},
   "outputs": [],
   "source": []
  }
 ],
 "metadata": {
  "kernelspec": {
   "display_name": "Python 3",
   "language": "python",
   "name": "python3"
  },
  "language_info": {
   "codemirror_mode": {
    "name": "ipython",
    "version": 3
   },
   "file_extension": ".py",
   "mimetype": "text/x-python",
   "name": "python",
   "nbconvert_exporter": "python",
   "pygments_lexer": "ipython3",
   "version": "3.6.6"
  }
 },
 "nbformat": 4,
 "nbformat_minor": 2
}
