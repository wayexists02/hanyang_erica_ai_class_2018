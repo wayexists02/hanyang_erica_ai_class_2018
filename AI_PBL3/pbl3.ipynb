{
 "cells": [
  {
   "cell_type": "markdown",
   "metadata": {},
   "source": [
    "# PBL3\n",
    "\n",
    "### NAME: JaeYoung Lee (이재영)\n",
    "### Student ID: 2013043326"
   ]
  },
  {
   "cell_type": "markdown",
   "metadata": {},
   "source": [
    "# Import useful library"
   ]
  },
  {
   "cell_type": "code",
   "execution_count": 1,
   "metadata": {},
   "outputs": [],
   "source": [
    "import pandas as pd\n",
    "import numpy as np\n",
    "import seaborn as sns\n",
    "import matplotlib.pyplot as plt\n",
    "\n",
    "from sklearn.linear_model import LogisticRegression, LinearRegression\n",
    "from sklearn.ensemble import BaggingClassifier\n",
    "from sklearn.decomposition import KernelPCA, PCA\n",
    "from sklearn.svm import SVC\n",
    "from sklearn.model_selection import cross_val_score\n",
    "from sklearn.model_selection import ParameterGrid, GridSearchCV\n",
    "from sklearn.metrics import f1_score, accuracy_score, make_scorer\n",
    "from sklearn.base import BaseEstimator, ClassifierMixin \n",
    "from sklearn.tree import DecisionTreeClassifier"
   ]
  },
  {
   "cell_type": "markdown",
   "metadata": {},
   "source": [
    "# Read dataset"
   ]
  },
  {
   "cell_type": "markdown",
   "metadata": {},
   "source": [
    "I will use pandas to read dataset as following"
   ]
  },
  {
   "cell_type": "code",
   "execution_count": 2,
   "metadata": {},
   "outputs": [],
   "source": [
    "gene_data = pd.read_excel('data/breatcancer_expr.xls', index_col=0)\n",
    "clinic_data = pd.read_excel('data/breatcancer_clinical.xls', index_col=0)"
   ]
  },
  {
   "cell_type": "markdown",
   "metadata": {},
   "source": [
    "First, I should see that the datasets are loaded correctly."
   ]
  },
  {
   "cell_type": "code",
   "execution_count": 3,
   "metadata": {},
   "outputs": [
    {
     "data": {
      "text/html": [
       "<div>\n",
       "<style scoped>\n",
       "    .dataframe tbody tr th:only-of-type {\n",
       "        vertical-align: middle;\n",
       "    }\n",
       "\n",
       "    .dataframe tbody tr th {\n",
       "        vertical-align: top;\n",
       "    }\n",
       "\n",
       "    .dataframe thead th {\n",
       "        text-align: right;\n",
       "    }\n",
       "</style>\n",
       "<table border=\"1\" class=\"dataframe\">\n",
       "  <thead>\n",
       "    <tr style=\"text-align: right;\">\n",
       "      <th></th>\n",
       "      <th>gsm282373</th>\n",
       "      <th>gsm282374</th>\n",
       "      <th>gsm282376</th>\n",
       "      <th>gsm282378</th>\n",
       "      <th>gsm282379</th>\n",
       "      <th>gsm282380</th>\n",
       "      <th>gsm282382</th>\n",
       "      <th>gsm282383</th>\n",
       "      <th>gsm282386</th>\n",
       "      <th>gsm282391</th>\n",
       "      <th>...</th>\n",
       "      <th>gsm107180</th>\n",
       "      <th>gsm107181</th>\n",
       "      <th>gsm107182</th>\n",
       "      <th>gsm107183</th>\n",
       "      <th>gsm107184</th>\n",
       "      <th>gsm107185</th>\n",
       "      <th>gsm107186</th>\n",
       "      <th>gsm107187</th>\n",
       "      <th>gsm107188</th>\n",
       "      <th>gsm107190</th>\n",
       "    </tr>\n",
       "    <tr>\n",
       "      <th>genename</th>\n",
       "      <th></th>\n",
       "      <th></th>\n",
       "      <th></th>\n",
       "      <th></th>\n",
       "      <th></th>\n",
       "      <th></th>\n",
       "      <th></th>\n",
       "      <th></th>\n",
       "      <th></th>\n",
       "      <th></th>\n",
       "      <th></th>\n",
       "      <th></th>\n",
       "      <th></th>\n",
       "      <th></th>\n",
       "      <th></th>\n",
       "      <th></th>\n",
       "      <th></th>\n",
       "      <th></th>\n",
       "      <th></th>\n",
       "      <th></th>\n",
       "      <th></th>\n",
       "    </tr>\n",
       "  </thead>\n",
       "  <tbody>\n",
       "    <tr>\n",
       "      <th>DDR1</th>\n",
       "      <td>10.830880</td>\n",
       "      <td>11.415693</td>\n",
       "      <td>11.102564</td>\n",
       "      <td>9.887807</td>\n",
       "      <td>11.070358</td>\n",
       "      <td>10.472188</td>\n",
       "      <td>10.470059</td>\n",
       "      <td>10.435266</td>\n",
       "      <td>10.521953</td>\n",
       "      <td>10.870826</td>\n",
       "      <td>...</td>\n",
       "      <td>11.284514</td>\n",
       "      <td>10.447881</td>\n",
       "      <td>10.530046</td>\n",
       "      <td>10.884212</td>\n",
       "      <td>10.254828</td>\n",
       "      <td>10.670846</td>\n",
       "      <td>8.786126</td>\n",
       "      <td>10.661680</td>\n",
       "      <td>10.703359</td>\n",
       "      <td>10.518693</td>\n",
       "    </tr>\n",
       "    <tr>\n",
       "      <th>RFC2</th>\n",
       "      <td>6.537210</td>\n",
       "      <td>6.520366</td>\n",
       "      <td>6.582786</td>\n",
       "      <td>7.093003</td>\n",
       "      <td>6.581049</td>\n",
       "      <td>6.968399</td>\n",
       "      <td>6.539901</td>\n",
       "      <td>7.011500</td>\n",
       "      <td>6.997391</td>\n",
       "      <td>6.790450</td>\n",
       "      <td>...</td>\n",
       "      <td>6.370906</td>\n",
       "      <td>6.571489</td>\n",
       "      <td>6.422459</td>\n",
       "      <td>6.878336</td>\n",
       "      <td>6.380203</td>\n",
       "      <td>6.331382</td>\n",
       "      <td>6.419317</td>\n",
       "      <td>6.192183</td>\n",
       "      <td>6.401563</td>\n",
       "      <td>5.951992</td>\n",
       "    </tr>\n",
       "    <tr>\n",
       "      <th>HSPA6</th>\n",
       "      <td>7.277863</td>\n",
       "      <td>7.316761</td>\n",
       "      <td>7.279104</td>\n",
       "      <td>7.286577</td>\n",
       "      <td>7.519710</td>\n",
       "      <td>7.450327</td>\n",
       "      <td>6.911198</td>\n",
       "      <td>7.405124</td>\n",
       "      <td>7.516294</td>\n",
       "      <td>7.464333</td>\n",
       "      <td>...</td>\n",
       "      <td>7.795050</td>\n",
       "      <td>7.390194</td>\n",
       "      <td>7.325931</td>\n",
       "      <td>7.585992</td>\n",
       "      <td>7.586850</td>\n",
       "      <td>7.549852</td>\n",
       "      <td>7.488433</td>\n",
       "      <td>8.141492</td>\n",
       "      <td>7.345247</td>\n",
       "      <td>7.492094</td>\n",
       "    </tr>\n",
       "    <tr>\n",
       "      <th>PAX8</th>\n",
       "      <td>9.740926</td>\n",
       "      <td>9.645825</td>\n",
       "      <td>9.859698</td>\n",
       "      <td>9.319635</td>\n",
       "      <td>9.287543</td>\n",
       "      <td>9.320164</td>\n",
       "      <td>9.241064</td>\n",
       "      <td>9.204484</td>\n",
       "      <td>9.509921</td>\n",
       "      <td>9.438572</td>\n",
       "      <td>...</td>\n",
       "      <td>9.996307</td>\n",
       "      <td>10.113618</td>\n",
       "      <td>10.453775</td>\n",
       "      <td>10.462783</td>\n",
       "      <td>10.478436</td>\n",
       "      <td>10.305541</td>\n",
       "      <td>10.224340</td>\n",
       "      <td>10.393858</td>\n",
       "      <td>10.358396</td>\n",
       "      <td>10.062984</td>\n",
       "    </tr>\n",
       "    <tr>\n",
       "      <th>GUCA1A</th>\n",
       "      <td>5.267913</td>\n",
       "      <td>5.116714</td>\n",
       "      <td>5.090731</td>\n",
       "      <td>5.085679</td>\n",
       "      <td>5.177971</td>\n",
       "      <td>5.162901</td>\n",
       "      <td>5.115369</td>\n",
       "      <td>5.092952</td>\n",
       "      <td>5.125900</td>\n",
       "      <td>4.967165</td>\n",
       "      <td>...</td>\n",
       "      <td>5.353165</td>\n",
       "      <td>5.217218</td>\n",
       "      <td>5.079343</td>\n",
       "      <td>5.189899</td>\n",
       "      <td>5.185406</td>\n",
       "      <td>5.210108</td>\n",
       "      <td>5.133257</td>\n",
       "      <td>5.156300</td>\n",
       "      <td>5.106015</td>\n",
       "      <td>5.164850</td>\n",
       "    </tr>\n",
       "  </tbody>\n",
       "</table>\n",
       "<p>5 rows × 255 columns</p>\n",
       "</div>"
      ],
      "text/plain": [
       "          gsm282373  gsm282374  gsm282376  gsm282378  gsm282379  gsm282380  \\\n",
       "genename                                                                     \n",
       "DDR1      10.830880  11.415693  11.102564   9.887807  11.070358  10.472188   \n",
       "RFC2       6.537210   6.520366   6.582786   7.093003   6.581049   6.968399   \n",
       "HSPA6      7.277863   7.316761   7.279104   7.286577   7.519710   7.450327   \n",
       "PAX8       9.740926   9.645825   9.859698   9.319635   9.287543   9.320164   \n",
       "GUCA1A     5.267913   5.116714   5.090731   5.085679   5.177971   5.162901   \n",
       "\n",
       "          gsm282382  gsm282383  gsm282386  gsm282391    ...      gsm107180  \\\n",
       "genename                                                ...                  \n",
       "DDR1      10.470059  10.435266  10.521953  10.870826    ...      11.284514   \n",
       "RFC2       6.539901   7.011500   6.997391   6.790450    ...       6.370906   \n",
       "HSPA6      6.911198   7.405124   7.516294   7.464333    ...       7.795050   \n",
       "PAX8       9.241064   9.204484   9.509921   9.438572    ...       9.996307   \n",
       "GUCA1A     5.115369   5.092952   5.125900   4.967165    ...       5.353165   \n",
       "\n",
       "          gsm107181  gsm107182  gsm107183  gsm107184  gsm107185  gsm107186  \\\n",
       "genename                                                                     \n",
       "DDR1      10.447881  10.530046  10.884212  10.254828  10.670846   8.786126   \n",
       "RFC2       6.571489   6.422459   6.878336   6.380203   6.331382   6.419317   \n",
       "HSPA6      7.390194   7.325931   7.585992   7.586850   7.549852   7.488433   \n",
       "PAX8      10.113618  10.453775  10.462783  10.478436  10.305541  10.224340   \n",
       "GUCA1A     5.217218   5.079343   5.189899   5.185406   5.210108   5.133257   \n",
       "\n",
       "          gsm107187  gsm107188  gsm107190  \n",
       "genename                                   \n",
       "DDR1      10.661680  10.703359  10.518693  \n",
       "RFC2       6.192183   6.401563   5.951992  \n",
       "HSPA6      8.141492   7.345247   7.492094  \n",
       "PAX8      10.393858  10.358396  10.062984  \n",
       "GUCA1A     5.156300   5.106015   5.164850  \n",
       "\n",
       "[5 rows x 255 columns]"
      ]
     },
     "execution_count": 3,
     "metadata": {},
     "output_type": "execute_result"
    }
   ],
   "source": [
    "gene_data.head()"
   ]
  },
  {
   "cell_type": "code",
   "execution_count": 4,
   "metadata": {},
   "outputs": [
    {
     "data": {
      "text/html": [
       "<div>\n",
       "<style scoped>\n",
       "    .dataframe tbody tr th:only-of-type {\n",
       "        vertical-align: middle;\n",
       "    }\n",
       "\n",
       "    .dataframe tbody tr th {\n",
       "        vertical-align: top;\n",
       "    }\n",
       "\n",
       "    .dataframe thead th {\n",
       "        text-align: right;\n",
       "    }\n",
       "</style>\n",
       "<table border=\"1\" class=\"dataframe\">\n",
       "  <thead>\n",
       "    <tr style=\"text-align: right;\">\n",
       "      <th></th>\n",
       "      <th>dataset</th>\n",
       "      <th>sample.id</th>\n",
       "      <th>cohort</th>\n",
       "      <th>treatment</th>\n",
       "      <th>node.status</th>\n",
       "      <th>er.status</th>\n",
       "      <th>age</th>\n",
       "      <th>stage</th>\n",
       "      <th>size</th>\n",
       "      <th>grade</th>\n",
       "      <th>...</th>\n",
       "      <th>time.mfi</th>\n",
       "      <th>time.dmfs</th>\n",
       "      <th>time.dss</th>\n",
       "      <th>event.rfs</th>\n",
       "      <th>event.drfs</th>\n",
       "      <th>event.os</th>\n",
       "      <th>event.dfs</th>\n",
       "      <th>event.mfi</th>\n",
       "      <th>event.dmfs</th>\n",
       "      <th>event.dss</th>\n",
       "    </tr>\n",
       "    <tr>\n",
       "      <th>gsm</th>\n",
       "      <th></th>\n",
       "      <th></th>\n",
       "      <th></th>\n",
       "      <th></th>\n",
       "      <th></th>\n",
       "      <th></th>\n",
       "      <th></th>\n",
       "      <th></th>\n",
       "      <th></th>\n",
       "      <th></th>\n",
       "      <th></th>\n",
       "      <th></th>\n",
       "      <th></th>\n",
       "      <th></th>\n",
       "      <th></th>\n",
       "      <th></th>\n",
       "      <th></th>\n",
       "      <th></th>\n",
       "      <th></th>\n",
       "      <th></th>\n",
       "      <th></th>\n",
       "    </tr>\n",
       "  </thead>\n",
       "  <tbody>\n",
       "    <tr>\n",
       "      <th>gsm282373</th>\n",
       "      <td>gse11121</td>\n",
       "      <td>BC6001_r</td>\n",
       "      <td>Mainz</td>\n",
       "      <td>none</td>\n",
       "      <td>0.0</td>\n",
       "      <td>0.0</td>\n",
       "      <td>53.926027</td>\n",
       "      <td>1.0</td>\n",
       "      <td>1.8</td>\n",
       "      <td>2.0</td>\n",
       "      <td>...</td>\n",
       "      <td>7.660000</td>\n",
       "      <td>NaN</td>\n",
       "      <td>NaN</td>\n",
       "      <td>1.0</td>\n",
       "      <td>NaN</td>\n",
       "      <td>True</td>\n",
       "      <td>NaN</td>\n",
       "      <td>1.0</td>\n",
       "      <td>NaN</td>\n",
       "      <td>NaN</td>\n",
       "    </tr>\n",
       "    <tr>\n",
       "      <th>gsm282374</th>\n",
       "      <td>gse11121</td>\n",
       "      <td>BC6002_r</td>\n",
       "      <td>Mainz</td>\n",
       "      <td>none</td>\n",
       "      <td>0.0</td>\n",
       "      <td>1.0</td>\n",
       "      <td>54.375343</td>\n",
       "      <td>2.0</td>\n",
       "      <td>2.5</td>\n",
       "      <td>3.0</td>\n",
       "      <td>...</td>\n",
       "      <td>7.851667</td>\n",
       "      <td>NaN</td>\n",
       "      <td>NaN</td>\n",
       "      <td>0.0</td>\n",
       "      <td>NaN</td>\n",
       "      <td>False</td>\n",
       "      <td>NaN</td>\n",
       "      <td>0.0</td>\n",
       "      <td>NaN</td>\n",
       "      <td>NaN</td>\n",
       "    </tr>\n",
       "    <tr>\n",
       "      <th>gsm282376</th>\n",
       "      <td>gse11121</td>\n",
       "      <td>BC6004_r</td>\n",
       "      <td>Mainz</td>\n",
       "      <td>none</td>\n",
       "      <td>0.0</td>\n",
       "      <td>1.0</td>\n",
       "      <td>71.260274</td>\n",
       "      <td>1.0</td>\n",
       "      <td>1.2</td>\n",
       "      <td>2.0</td>\n",
       "      <td>...</td>\n",
       "      <td>5.706667</td>\n",
       "      <td>NaN</td>\n",
       "      <td>NaN</td>\n",
       "      <td>1.0</td>\n",
       "      <td>NaN</td>\n",
       "      <td>True</td>\n",
       "      <td>NaN</td>\n",
       "      <td>0.0</td>\n",
       "      <td>NaN</td>\n",
       "      <td>NaN</td>\n",
       "    </tr>\n",
       "    <tr>\n",
       "      <th>gsm282378</th>\n",
       "      <td>gse11121</td>\n",
       "      <td>BC6006</td>\n",
       "      <td>Mainz</td>\n",
       "      <td>none</td>\n",
       "      <td>0.0</td>\n",
       "      <td>1.0</td>\n",
       "      <td>60.684931</td>\n",
       "      <td>1.0</td>\n",
       "      <td>1.8</td>\n",
       "      <td>2.0</td>\n",
       "      <td>...</td>\n",
       "      <td>7.783333</td>\n",
       "      <td>NaN</td>\n",
       "      <td>NaN</td>\n",
       "      <td>0.0</td>\n",
       "      <td>NaN</td>\n",
       "      <td>False</td>\n",
       "      <td>NaN</td>\n",
       "      <td>0.0</td>\n",
       "      <td>NaN</td>\n",
       "      <td>NaN</td>\n",
       "    </tr>\n",
       "    <tr>\n",
       "      <th>gsm282379</th>\n",
       "      <td>gse11121</td>\n",
       "      <td>BC6007</td>\n",
       "      <td>Mainz</td>\n",
       "      <td>none</td>\n",
       "      <td>0.0</td>\n",
       "      <td>1.0</td>\n",
       "      <td>60.120548</td>\n",
       "      <td>1.0</td>\n",
       "      <td>1.4</td>\n",
       "      <td>2.0</td>\n",
       "      <td>...</td>\n",
       "      <td>9.265833</td>\n",
       "      <td>NaN</td>\n",
       "      <td>NaN</td>\n",
       "      <td>0.0</td>\n",
       "      <td>NaN</td>\n",
       "      <td>False</td>\n",
       "      <td>NaN</td>\n",
       "      <td>0.0</td>\n",
       "      <td>NaN</td>\n",
       "      <td>NaN</td>\n",
       "    </tr>\n",
       "  </tbody>\n",
       "</table>\n",
       "<p>5 rows × 25 columns</p>\n",
       "</div>"
      ],
      "text/plain": [
       "            dataset sample.id cohort treatment  node.status  er.status  \\\n",
       "gsm                                                                      \n",
       "gsm282373  gse11121  BC6001_r  Mainz      none          0.0        0.0   \n",
       "gsm282374  gse11121  BC6002_r  Mainz      none          0.0        1.0   \n",
       "gsm282376  gse11121  BC6004_r  Mainz      none          0.0        1.0   \n",
       "gsm282378  gse11121    BC6006  Mainz      none          0.0        1.0   \n",
       "gsm282379  gse11121    BC6007  Mainz      none          0.0        1.0   \n",
       "\n",
       "                 age  stage  size  grade    ...      time.mfi  time.dmfs  \\\n",
       "gsm                                         ...                            \n",
       "gsm282373  53.926027    1.0   1.8    2.0    ...      7.660000        NaN   \n",
       "gsm282374  54.375343    2.0   2.5    3.0    ...      7.851667        NaN   \n",
       "gsm282376  71.260274    1.0   1.2    2.0    ...      5.706667        NaN   \n",
       "gsm282378  60.684931    1.0   1.8    2.0    ...      7.783333        NaN   \n",
       "gsm282379  60.120548    1.0   1.4    2.0    ...      9.265833        NaN   \n",
       "\n",
       "           time.dss  event.rfs  event.drfs  event.os  event.dfs  event.mfi  \\\n",
       "gsm                                                                          \n",
       "gsm282373       NaN        1.0         NaN      True        NaN        1.0   \n",
       "gsm282374       NaN        0.0         NaN     False        NaN        0.0   \n",
       "gsm282376       NaN        1.0         NaN      True        NaN        0.0   \n",
       "gsm282378       NaN        0.0         NaN     False        NaN        0.0   \n",
       "gsm282379       NaN        0.0         NaN     False        NaN        0.0   \n",
       "\n",
       "           event.dmfs  event.dss  \n",
       "gsm                               \n",
       "gsm282373         NaN        NaN  \n",
       "gsm282374         NaN        NaN  \n",
       "gsm282376         NaN        NaN  \n",
       "gsm282378         NaN        NaN  \n",
       "gsm282379         NaN        NaN  \n",
       "\n",
       "[5 rows x 25 columns]"
      ]
     },
     "execution_count": 4,
     "metadata": {},
     "output_type": "execute_result"
    }
   ],
   "source": [
    "clinic_data.head()"
   ]
  },
  {
   "cell_type": "markdown",
   "metadata": {},
   "source": [
    "Okay, it looks fine."
   ]
  },
  {
   "cell_type": "markdown",
   "metadata": {},
   "source": [
    "# Clinic data preprocessing"
   ]
  },
  {
   "cell_type": "markdown",
   "metadata": {},
   "source": [
    "First, let me check for what columns is in dataset."
   ]
  },
  {
   "cell_type": "code",
   "execution_count": 5,
   "metadata": {},
   "outputs": [
    {
     "data": {
      "text/plain": [
       "Index(['dataset', 'sample.id', 'cohort', 'treatment', 'node.status',\n",
       "       'er.status', 'age', 'stage', 'size', 'grade', 'microarray', 'time.rfs',\n",
       "       'time.drfs', 'time.os', 'time.dfs', 'time.mfi', 'time.dmfs', 'time.dss',\n",
       "       'event.rfs', 'event.drfs', 'event.os', 'event.dfs', 'event.mfi',\n",
       "       'event.dmfs', 'event.dss'],\n",
       "      dtype='object')"
      ]
     },
     "execution_count": 5,
     "metadata": {},
     "output_type": "execute_result"
    }
   ],
   "source": [
    "clinic_data.columns"
   ]
  },
  {
   "cell_type": "markdown",
   "metadata": {},
   "source": [
    "And then, let me check for the number of nan value in each columns."
   ]
  },
  {
   "cell_type": "code",
   "execution_count": 6,
   "metadata": {},
   "outputs": [
    {
     "name": "stdout",
     "output_type": "stream",
     "text": [
      "Number of rows: 362\n",
      "Label dataset: 0\n",
      "Label sample.id: 0\n",
      "Label cohort: 67\n",
      "Label treatment: 150\n",
      "Label node.status: 150\n",
      "Label er.status: 154\n",
      "Label age: 150\n",
      "Label stage: 150\n",
      "Label size: 150\n",
      "Label grade: 10\n",
      "Label microarray: 217\n",
      "Label time.rfs: 7\n",
      "Label time.drfs: 362\n",
      "Label time.os: 0\n",
      "Label time.dfs: 362\n",
      "Label time.mfi: 150\n",
      "Label time.dmfs: 295\n",
      "Label time.dss: 362\n",
      "Label event.rfs: 7\n",
      "Label event.drfs: 362\n",
      "Label event.os: 0\n",
      "Label event.dfs: 362\n",
      "Label event.mfi: 150\n",
      "Label event.dmfs: 295\n",
      "Label event.dss: 362\n"
     ]
    }
   ],
   "source": [
    "print('Number of rows: {0}'.format(clinic_data.shape[0]))\n",
    "\n",
    "for label in clinic_data.columns:\n",
    "    print('Label {0}: {1}'.format(label, sum(clinic_data[label].isnull())))"
   ]
  },
  {
   "cell_type": "markdown",
   "metadata": {},
   "source": [
    "Okey. I will process the nan values later.\n",
    "\n",
    "Before removing nan values, I need to find irrelevant features. That is, I should remove some columns.\n",
    "Before removing columns, I will construct list whose elements is not useful."
   ]
  },
  {
   "cell_type": "code",
   "execution_count": 7,
   "metadata": {},
   "outputs": [],
   "source": [
    "labels_for_removal = ['dataset', 'sample.id', 'time.rfs',\n",
    "       'time.drfs', 'time.os', 'time.dfs', 'time.mfi', 'time.dmfs', 'time.dss',\n",
    "       'event.rfs', 'event.drfs', 'event.os', 'event.dfs', 'event.mfi',\n",
    "       'event.dmfs', 'event.dss']"
   ]
  },
  {
   "cell_type": "markdown",
   "metadata": {},
   "source": [
    "Let me print how many unique value in each columns."
   ]
  },
  {
   "cell_type": "code",
   "execution_count": 8,
   "metadata": {},
   "outputs": [
    {
     "name": "stdout",
     "output_type": "stream",
     "text": [
      "Label dataset nunique: 3\n",
      "Label sample.id nunique: 362\n",
      "Label cohort nunique: 2\n",
      "Label treatment nunique: 1\n",
      "Label node.status nunique: 1\n",
      "Label er.status nunique: 2\n",
      "Label age nunique: 171\n",
      "Label stage nunique: 3\n",
      "Label size nunique: 38\n",
      "Label grade nunique: 3\n",
      "Label microarray nunique: 1\n",
      "Label time.rfs nunique: 319\n",
      "Label time.drfs nunique: 0\n",
      "Label time.os nunique: 321\n",
      "Label time.dfs nunique: 0\n",
      "Label time.mfi nunique: 206\n",
      "Label time.dmfs nunique: 65\n",
      "Label time.dss nunique: 0\n",
      "Label event.rfs nunique: 2\n",
      "Label event.drfs nunique: 0\n",
      "Label event.os nunique: 2\n",
      "Label event.dfs nunique: 0\n",
      "Label event.mfi nunique: 2\n",
      "Label event.dmfs nunique: 2\n",
      "Label event.dss nunique: 0\n"
     ]
    }
   ],
   "source": [
    "for label in clinic_data.columns:\n",
    "    print('Label {0} nunique: {1}'.format(label, clinic_data[label].nunique()))"
   ]
  },
  {
   "cell_type": "markdown",
   "metadata": {},
   "source": [
    "The columns which has 1 as nunique is not useful. so, let me add it to list."
   ]
  },
  {
   "cell_type": "code",
   "execution_count": 9,
   "metadata": {},
   "outputs": [],
   "source": [
    "labels_for_removal.append('treatment')\n",
    "labels_for_removal.append('node.status')\n",
    "labels_for_removal.append('microarray')"
   ]
  },
  {
   "cell_type": "markdown",
   "metadata": {},
   "source": [
    "For the rest things, we need some researches.\n",
    "\n",
    "First, let's dive into the values."
   ]
  },
  {
   "cell_type": "markdown",
   "metadata": {},
   "source": [
    "### cohort"
   ]
  },
  {
   "cell_type": "code",
   "execution_count": 10,
   "metadata": {},
   "outputs": [
    {
     "data": {
      "text/plain": [
       "array(['Mainz', 'Stockholm', nan], dtype=object)"
      ]
     },
     "execution_count": 10,
     "metadata": {},
     "output_type": "execute_result"
    }
   ],
   "source": [
    "clinic_data['cohort'].unique()"
   ]
  },
  {
   "cell_type": "markdown",
   "metadata": {},
   "source": [
    "'cohort' columns contains the city information. It may not be useful. So, let's delete that."
   ]
  },
  {
   "cell_type": "code",
   "execution_count": 11,
   "metadata": {},
   "outputs": [],
   "source": [
    "labels_for_removal.append('cohort')"
   ]
  },
  {
   "cell_type": "markdown",
   "metadata": {},
   "source": [
    "### er.status"
   ]
  },
  {
   "cell_type": "code",
   "execution_count": 12,
   "metadata": {},
   "outputs": [
    {
     "data": {
      "text/plain": [
       "array([ 0.,  1., nan])"
      ]
     },
     "execution_count": 12,
     "metadata": {},
     "output_type": "execute_result"
    }
   ],
   "source": [
    "clinic_data['er.status'].unique()"
   ]
  },
  {
   "cell_type": "markdown",
   "metadata": {},
   "source": [
    "Maybe, this deserve to be seen later."
   ]
  },
  {
   "cell_type": "markdown",
   "metadata": {},
   "source": [
    "### age"
   ]
  },
  {
   "cell_type": "code",
   "execution_count": 13,
   "metadata": {},
   "outputs": [
    {
     "data": {
      "text/plain": [
       "count    212.000000\n",
       "mean      56.155790\n",
       "std       12.914372\n",
       "min       24.000000\n",
       "25%       46.813014\n",
       "50%       55.449315\n",
       "75%       64.998630\n",
       "max       83.169863\n",
       "Name: age, dtype: float64"
      ]
     },
     "execution_count": 13,
     "metadata": {},
     "output_type": "execute_result"
    }
   ],
   "source": [
    "clinic_data['age'].describe()"
   ]
  },
  {
   "cell_type": "markdown",
   "metadata": {},
   "source": [
    "Age is very important feature in cancer. So, this deserver to be seen later."
   ]
  },
  {
   "cell_type": "markdown",
   "metadata": {},
   "source": [
    "### stage"
   ]
  },
  {
   "cell_type": "code",
   "execution_count": 14,
   "metadata": {},
   "outputs": [
    {
     "data": {
      "text/plain": [
       "array([ 1.,  2.,  3., nan])"
      ]
     },
     "execution_count": 14,
     "metadata": {},
     "output_type": "execute_result"
    }
   ],
   "source": [
    "clinic_data['stage'].unique()"
   ]
  },
  {
   "cell_type": "markdown",
   "metadata": {},
   "source": [
    "I don't know what it is. So, let's keep it."
   ]
  },
  {
   "cell_type": "markdown",
   "metadata": {},
   "source": [
    "### size"
   ]
  },
  {
   "cell_type": "code",
   "execution_count": 15,
   "metadata": {},
   "outputs": [
    {
     "data": {
      "text/plain": [
       "count    212.000000\n",
       "mean       2.181132\n",
       "std        0.916372\n",
       "min        0.100000\n",
       "25%        1.600000\n",
       "50%        2.000000\n",
       "75%        2.500000\n",
       "max        5.500000\n",
       "Name: size, dtype: float64"
      ]
     },
     "execution_count": 15,
     "metadata": {},
     "output_type": "execute_result"
    }
   ],
   "source": [
    "clinic_data['size'].describe()"
   ]
  },
  {
   "cell_type": "markdown",
   "metadata": {},
   "source": [
    "Tumor size is one of the most important features. So, let's keep it."
   ]
  },
  {
   "cell_type": "markdown",
   "metadata": {},
   "source": [
    "Let's remove the irrelevant columns"
   ]
  },
  {
   "cell_type": "code",
   "execution_count": 16,
   "metadata": {},
   "outputs": [
    {
     "data": {
      "text/html": [
       "<div>\n",
       "<style scoped>\n",
       "    .dataframe tbody tr th:only-of-type {\n",
       "        vertical-align: middle;\n",
       "    }\n",
       "\n",
       "    .dataframe tbody tr th {\n",
       "        vertical-align: top;\n",
       "    }\n",
       "\n",
       "    .dataframe thead th {\n",
       "        text-align: right;\n",
       "    }\n",
       "</style>\n",
       "<table border=\"1\" class=\"dataframe\">\n",
       "  <thead>\n",
       "    <tr style=\"text-align: right;\">\n",
       "      <th></th>\n",
       "      <th>er.status</th>\n",
       "      <th>age</th>\n",
       "      <th>stage</th>\n",
       "      <th>size</th>\n",
       "      <th>grade</th>\n",
       "    </tr>\n",
       "    <tr>\n",
       "      <th>gsm</th>\n",
       "      <th></th>\n",
       "      <th></th>\n",
       "      <th></th>\n",
       "      <th></th>\n",
       "      <th></th>\n",
       "    </tr>\n",
       "  </thead>\n",
       "  <tbody>\n",
       "    <tr>\n",
       "      <th>gsm282373</th>\n",
       "      <td>0.0</td>\n",
       "      <td>53.926027</td>\n",
       "      <td>1.0</td>\n",
       "      <td>1.8</td>\n",
       "      <td>2.0</td>\n",
       "    </tr>\n",
       "    <tr>\n",
       "      <th>gsm282374</th>\n",
       "      <td>1.0</td>\n",
       "      <td>54.375343</td>\n",
       "      <td>2.0</td>\n",
       "      <td>2.5</td>\n",
       "      <td>3.0</td>\n",
       "    </tr>\n",
       "    <tr>\n",
       "      <th>gsm282376</th>\n",
       "      <td>1.0</td>\n",
       "      <td>71.260274</td>\n",
       "      <td>1.0</td>\n",
       "      <td>1.2</td>\n",
       "      <td>2.0</td>\n",
       "    </tr>\n",
       "    <tr>\n",
       "      <th>gsm282378</th>\n",
       "      <td>1.0</td>\n",
       "      <td>60.684931</td>\n",
       "      <td>1.0</td>\n",
       "      <td>1.8</td>\n",
       "      <td>2.0</td>\n",
       "    </tr>\n",
       "    <tr>\n",
       "      <th>gsm282379</th>\n",
       "      <td>1.0</td>\n",
       "      <td>60.120548</td>\n",
       "      <td>1.0</td>\n",
       "      <td>1.4</td>\n",
       "      <td>2.0</td>\n",
       "    </tr>\n",
       "  </tbody>\n",
       "</table>\n",
       "</div>"
      ],
      "text/plain": [
       "           er.status        age  stage  size  grade\n",
       "gsm                                                \n",
       "gsm282373        0.0  53.926027    1.0   1.8    2.0\n",
       "gsm282374        1.0  54.375343    2.0   2.5    3.0\n",
       "gsm282376        1.0  71.260274    1.0   1.2    2.0\n",
       "gsm282378        1.0  60.684931    1.0   1.8    2.0\n",
       "gsm282379        1.0  60.120548    1.0   1.4    2.0"
      ]
     },
     "execution_count": 16,
     "metadata": {},
     "output_type": "execute_result"
    }
   ],
   "source": [
    "clinic_data.drop(labels=labels_for_removal, axis=1, inplace=True)\n",
    "clinic_data.head()"
   ]
  },
  {
   "cell_type": "markdown",
   "metadata": {},
   "source": [
    "## Plotting data"
   ]
  },
  {
   "cell_type": "markdown",
   "metadata": {},
   "source": [
    "Our interest is grade columns. So, I can plot how much each features has relationship with grade."
   ]
  },
  {
   "cell_type": "code",
   "execution_count": 17,
   "metadata": {},
   "outputs": [
    {
     "name": "stderr",
     "output_type": "stream",
     "text": [
      "D:\\Users\\jylee\\Anaconda3\\lib\\site-packages\\statsmodels\\nonparametric\\kde.py:448: RuntimeWarning: invalid value encountered in greater\n",
      "  X = X[np.logical_and(X > clip[0], X < clip[1])] # won't work for two columns.\n",
      "D:\\Users\\jylee\\Anaconda3\\lib\\site-packages\\statsmodels\\nonparametric\\kde.py:448: RuntimeWarning: invalid value encountered in less\n",
      "  X = X[np.logical_and(X > clip[0], X < clip[1])] # won't work for two columns.\n",
      "D:\\Users\\jylee\\Anaconda3\\lib\\site-packages\\scipy\\stats\\stats.py:1713: FutureWarning: Using a non-tuple sequence for multidimensional indexing is deprecated; use `arr[tuple(seq)]` instead of `arr[seq]`. In the future this will be interpreted as an array index, `arr[np.array(seq)]`, which will result either in an error or a different result.\n",
      "  return np.add.reduce(sorted[indexer] * weights, axis=axis) / sumval\n",
      "D:\\Users\\jylee\\Anaconda3\\lib\\site-packages\\statsmodels\\nonparametric\\kde.py:488: RuntimeWarning: invalid value encountered in true_divide\n",
      "  binned = fast_linbin(X, a, b, gridsize) / (delta * nobs)\n",
      "D:\\Users\\jylee\\Anaconda3\\lib\\site-packages\\statsmodels\\nonparametric\\kdetools.py:34: RuntimeWarning: invalid value encountered in double_scalars\n",
      "  FAC1 = 2*(np.pi*bw/RANGE)**2\n",
      "D:\\Users\\jylee\\Anaconda3\\lib\\site-packages\\numpy\\core\\fromnumeric.py:83: RuntimeWarning: invalid value encountered in reduce\n",
      "  return ufunc.reduce(obj, axis, dtype, out, **passkwargs)\n"
     ]
    },
    {
     "data": {
      "image/png": "[encoded data removed]",
      "text/plain": [
       "<Figure size 951.875x900 with 30 Axes>"
      ]
     },
     "metadata": {
      "needs_background": "light"
     },
     "output_type": "display_data"
    }
   ],
   "source": [
    "sns.pairplot(clinic_data, hue='grade', diag_kind='kde')\n",
    "plt.show()"
   ]
  },
  {
   "cell_type": "markdown",
   "metadata": {},
   "source": [
    "At glance, the dataset looks hard to split data into each grade using explicit boundary.\n",
    "\n",
    "The age information is slightly less important because it has no explicit boundary to split grade. But, as you can see the plot, age is a little bit fine because all features is not clear to classify.\n",
    "\n",
    "The stage information is little bit less important. But it seems to have some relation with size information. let's keep it with size information.\n",
    "\n",
    "I think, the size information is important part in decision of grade. But, I don't know in this plot. It looks not to have some relations with grade.\n",
    "But, it has relationship with stage, so I will keep it.\n",
    "\n",
    "People who has grade 1, 2, 3 tumer went emergency room regardless of grade of tumer. So, er.status is not useful.\n",
    "\n",
    "The other features may be useful I think."
   ]
  },
  {
   "cell_type": "code",
   "execution_count": 18,
   "metadata": {},
   "outputs": [
    {
     "data": {
      "text/html": [
       "<div>\n",
       "<style scoped>\n",
       "    .dataframe tbody tr th:only-of-type {\n",
       "        vertical-align: middle;\n",
       "    }\n",
       "\n",
       "    .dataframe tbody tr th {\n",
       "        vertical-align: top;\n",
       "    }\n",
       "\n",
       "    .dataframe thead th {\n",
       "        text-align: right;\n",
       "    }\n",
       "</style>\n",
       "<table border=\"1\" class=\"dataframe\">\n",
       "  <thead>\n",
       "    <tr style=\"text-align: right;\">\n",
       "      <th></th>\n",
       "      <th>age</th>\n",
       "      <th>stage</th>\n",
       "      <th>size</th>\n",
       "      <th>grade</th>\n",
       "    </tr>\n",
       "    <tr>\n",
       "      <th>gsm</th>\n",
       "      <th></th>\n",
       "      <th></th>\n",
       "      <th></th>\n",
       "      <th></th>\n",
       "    </tr>\n",
       "  </thead>\n",
       "  <tbody>\n",
       "    <tr>\n",
       "      <th>gsm282373</th>\n",
       "      <td>53.926027</td>\n",
       "      <td>1.0</td>\n",
       "      <td>1.8</td>\n",
       "      <td>2.0</td>\n",
       "    </tr>\n",
       "    <tr>\n",
       "      <th>gsm282374</th>\n",
       "      <td>54.375343</td>\n",
       "      <td>2.0</td>\n",
       "      <td>2.5</td>\n",
       "      <td>3.0</td>\n",
       "    </tr>\n",
       "    <tr>\n",
       "      <th>gsm282376</th>\n",
       "      <td>71.260274</td>\n",
       "      <td>1.0</td>\n",
       "      <td>1.2</td>\n",
       "      <td>2.0</td>\n",
       "    </tr>\n",
       "    <tr>\n",
       "      <th>gsm282378</th>\n",
       "      <td>60.684931</td>\n",
       "      <td>1.0</td>\n",
       "      <td>1.8</td>\n",
       "      <td>2.0</td>\n",
       "    </tr>\n",
       "    <tr>\n",
       "      <th>gsm282379</th>\n",
       "      <td>60.120548</td>\n",
       "      <td>1.0</td>\n",
       "      <td>1.4</td>\n",
       "      <td>2.0</td>\n",
       "    </tr>\n",
       "  </tbody>\n",
       "</table>\n",
       "</div>"
      ],
      "text/plain": [
       "                 age  stage  size  grade\n",
       "gsm                                     \n",
       "gsm282373  53.926027    1.0   1.8    2.0\n",
       "gsm282374  54.375343    2.0   2.5    3.0\n",
       "gsm282376  71.260274    1.0   1.2    2.0\n",
       "gsm282378  60.684931    1.0   1.8    2.0\n",
       "gsm282379  60.120548    1.0   1.4    2.0"
      ]
     },
     "execution_count": 18,
     "metadata": {},
     "output_type": "execute_result"
    }
   ],
   "source": [
    "clinic_data.drop(labels=['er.status'], axis=1, inplace=True)\n",
    "clinic_data.head()"
   ]
  },
  {
   "cell_type": "markdown",
   "metadata": {},
   "source": [
    "Let's look again about nan values."
   ]
  },
  {
   "cell_type": "code",
   "execution_count": 19,
   "metadata": {},
   "outputs": [
    {
     "name": "stdout",
     "output_type": "stream",
     "text": [
      "<class 'pandas.core.frame.DataFrame'>\n",
      "Index: 362 entries, gsm282373 to gsm178082\n",
      "Data columns (total 4 columns):\n",
      "age      212 non-null float64\n",
      "stage    212 non-null float64\n",
      "size     212 non-null float64\n",
      "grade    352 non-null float64\n",
      "dtypes: float64(4)\n",
      "memory usage: 24.1+ KB\n"
     ]
    }
   ],
   "source": [
    "clinic_data.info()"
   ]
  },
  {
   "cell_type": "markdown",
   "metadata": {},
   "source": [
    "I think, there are so many nan values. So, I will fill the nan values with prediction values instead of drop out them."
   ]
  },
  {
   "cell_type": "markdown",
   "metadata": {},
   "source": [
    "## Let's fill out the nan"
   ]
  },
  {
   "cell_type": "markdown",
   "metadata": {},
   "source": [
    "I think, I can fill the cell of nan values by using statistics."
   ]
  },
  {
   "cell_type": "markdown",
   "metadata": {},
   "source": [
    "### age"
   ]
  },
  {
   "cell_type": "markdown",
   "metadata": {},
   "source": [
    "I will draw random number from normal distribution because it's shape of distribution is similar as normal distribution as you did see above pairplot. Let me plot again."
   ]
  },
  {
   "cell_type": "code",
   "execution_count": 20,
   "metadata": {},
   "outputs": [
    {
     "name": "stderr",
     "output_type": "stream",
     "text": [
      "D:\\Users\\jylee\\Anaconda3\\lib\\site-packages\\numpy\\lib\\histograms.py:746: RuntimeWarning: invalid value encountered in greater_equal\n",
      "  keep = (tmp_a >= first_edge)\n",
      "D:\\Users\\jylee\\Anaconda3\\lib\\site-packages\\numpy\\lib\\histograms.py:747: RuntimeWarning: invalid value encountered in less_equal\n",
      "  keep &= (tmp_a <= last_edge)\n"
     ]
    },
    {
     "data": {
      "image/png": "[encoded data removed]",
      "text/plain": [
       "<Figure size 864x288 with 3 Axes>"
      ]
     },
     "metadata": {
      "needs_background": "light"
     },
     "output_type": "display_data"
    }
   ],
   "source": [
    "plt.figure(figsize=(12, 4))\n",
    "\n",
    "plt.subplot(1, 3, 1)\n",
    "plt.hist(clinic_data[clinic_data['grade'] == 1]['age'], color='green', bins=25)\n",
    "plt.title('Grade 1')\n",
    "plt.xlabel('Age')\n",
    "plt.ylabel('Count')\n",
    "plt.subplot(1, 3, 2)\n",
    "plt.hist(clinic_data[clinic_data['grade'] == 2]['age'], color='blue', bins=25)\n",
    "plt.title('Grade 2')\n",
    "plt.xlabel('Age')\n",
    "plt.ylabel('Count')\n",
    "plt.subplot(1, 3, 3)\n",
    "plt.hist(clinic_data[clinic_data['grade'] == 3]['age'], color='red', bins=25)\n",
    "plt.title('Grade 3')\n",
    "plt.xlabel('Age')\n",
    "plt.ylabel('Count')\n",
    "plt.show()"
   ]
  },
  {
   "cell_type": "markdown",
   "metadata": {},
   "source": [
    "Let me print stat information of age."
   ]
  },
  {
   "cell_type": "code",
   "execution_count": 21,
   "metadata": {},
   "outputs": [
    {
     "name": "stdout",
     "output_type": "stream",
     "text": [
      "grade 1\n",
      "mean:  58.276214215151526\n",
      "std:  13.792385851982543\n",
      "grade 2\n",
      "mean:  58.981128768\n",
      "std:  12.716903828282238\n",
      "grade 3\n",
      "mean:  48.319837648148145\n",
      "std:  9.3043831133741\n"
     ]
    }
   ],
   "source": [
    "## before change\n",
    "\n",
    "mean_age_1 = clinic_data[clinic_data['grade'] == 1]['age'].mean()\n",
    "std_age_1 = clinic_data[clinic_data['grade'] == 1]['age'].std()\n",
    "mean_age_2 = clinic_data[clinic_data['grade'] == 2]['age'].mean()\n",
    "std_age_2 = clinic_data[clinic_data['grade'] == 2]['age'].std()\n",
    "mean_age_3 = clinic_data[clinic_data['grade'] == 3]['age'].mean()\n",
    "std_age_3 = clinic_data[clinic_data['grade'] == 3]['age'].std()\n",
    "\n",
    "### Before stat ###\n",
    "print('grade 1')\n",
    "print('mean: ', mean_age_1)\n",
    "print('std: ', std_age_1)\n",
    "print('grade 2')\n",
    "print('mean: ', mean_age_2)\n",
    "print('std: ', std_age_2)\n",
    "print('grade 3')\n",
    "print('mean: ', mean_age_3)\n",
    "print('std: ', std_age_3)"
   ]
  },
  {
   "cell_type": "markdown",
   "metadata": {},
   "source": [
    "I will draw random number from normal distribution whose mean is 58 and std is 14 in grade 1.\n",
    "I will draw random number from normal distribution whose mean is 59 and std is 13 in grade 2.\n",
    "I will draw random number from normal distribution whose mean is 48 and std is 9 in grade 3."
   ]
  },
  {
   "cell_type": "code",
   "execution_count": 22,
   "metadata": {},
   "outputs": [],
   "source": [
    "mean_age = [mean_age_1, mean_age_2, mean_age_3]\n",
    "std_age = [std_age_1, std_age_2, std_age_3]\n",
    "\n",
    "def fill_nan_continuous(row, label, mean, std, grade):\n",
    "    if row['grade'] == grade:\n",
    "        if pd.isna(row[label]):\n",
    "            row[label] = np.round(np.random.randn() * std + mean)\n",
    "        row[label] = np.round(row[label])\n",
    "    return row"
   ]
  },
  {
   "cell_type": "code",
   "execution_count": 23,
   "metadata": {},
   "outputs": [],
   "source": [
    "np.random.seed(11)\n",
    "\n",
    "clinic_data = clinic_data.apply(lambda row: fill_nan_continuous(row, 'age', mean_age[0], std_age[0], 1), axis=1)\n",
    "clinic_data = clinic_data.apply(lambda row: fill_nan_continuous(row, 'age', mean_age[1], std_age[1], 2), axis=1)\n",
    "clinic_data = clinic_data.apply(lambda row: fill_nan_continuous(row, 'age', mean_age[2], std_age[2], 3), axis=1)"
   ]
  },
  {
   "cell_type": "code",
   "execution_count": 24,
   "metadata": {},
   "outputs": [
    {
     "name": "stdout",
     "output_type": "stream",
     "text": [
      "grade 1\n",
      "mean:  58.276214215151526\n",
      "std:  13.792385851982543\n",
      "grade 2\n",
      "mean:  58.981128768\n",
      "std:  12.716903828282238\n",
      "grade 3\n",
      "mean:  48.319837648148145\n",
      "std:  9.3043831133741\n"
     ]
    }
   ],
   "source": [
    "## After change\n",
    "\n",
    "print('grade 1')\n",
    "print('mean: ', mean_age_1)\n",
    "print('std: ', std_age_1)\n",
    "print('grade 2')\n",
    "print('mean: ', mean_age_2)\n",
    "print('std: ', std_age_2)\n",
    "print('grade 3')\n",
    "print('mean: ', mean_age_3)\n",
    "print('std: ', std_age_3)"
   ]
  },
  {
   "cell_type": "markdown",
   "metadata": {},
   "source": [
    "Let me see the dataset was changed correctly."
   ]
  },
  {
   "cell_type": "code",
   "execution_count": 25,
   "metadata": {},
   "outputs": [
    {
     "name": "stdout",
     "output_type": "stream",
     "text": [
      "<class 'pandas.core.frame.DataFrame'>\n",
      "Index: 362 entries, gsm282373 to gsm178082\n",
      "Data columns (total 4 columns):\n",
      "age      352 non-null float64\n",
      "stage    212 non-null float64\n",
      "size     212 non-null float64\n",
      "grade    352 non-null float64\n",
      "dtypes: float64(4)\n",
      "memory usage: 24.1+ KB\n"
     ]
    }
   ],
   "source": [
    "clinic_data.info()"
   ]
  },
  {
   "cell_type": "code",
   "execution_count": 26,
   "metadata": {},
   "outputs": [
    {
     "data": {
      "text/plain": [
       "gsm\n",
       "gsm107141    42.0\n",
       "gsm107162    39.0\n",
       "gsm107168    48.0\n",
       "gsm107194    54.0\n",
       "gsm178017    56.0\n",
       "Name: age, dtype: float64"
      ]
     },
     "execution_count": 26,
     "metadata": {},
     "output_type": "execute_result"
    }
   ],
   "source": [
    "# randomly sample from age.\n",
    "clinic_data['age'][np.random.randint(0, 352, size=5)]"
   ]
  },
  {
   "cell_type": "markdown",
   "metadata": {},
   "source": [
    "### size"
   ]
  },
  {
   "cell_type": "markdown",
   "metadata": {},
   "source": [
    "First, Let me plot whether the size is distributed as normal."
   ]
  },
  {
   "cell_type": "code",
   "execution_count": 27,
   "metadata": {},
   "outputs": [
    {
     "name": "stderr",
     "output_type": "stream",
     "text": [
      "D:\\Users\\jylee\\Anaconda3\\lib\\site-packages\\numpy\\lib\\histograms.py:746: RuntimeWarning: invalid value encountered in greater_equal\n",
      "  keep = (tmp_a >= first_edge)\n",
      "D:\\Users\\jylee\\Anaconda3\\lib\\site-packages\\numpy\\lib\\histograms.py:747: RuntimeWarning: invalid value encountered in less_equal\n",
      "  keep &= (tmp_a <= last_edge)\n"
     ]
    },
    {
     "data": {
      "image/png": "[encoded data removed]",
      "text/plain": [
       "<Figure size 864x288 with 3 Axes>"
      ]
     },
     "metadata": {
      "needs_background": "light"
     },
     "output_type": "display_data"
    }
   ],
   "source": [
    "plt.figure(figsize=(12, 4))\n",
    "\n",
    "plt.subplot(1, 3, 1)\n",
    "plt.hist(clinic_data[clinic_data['grade'] == 1]['size'], color='green', bins=25)\n",
    "plt.title('Grade 1')\n",
    "plt.xlabel('Size')\n",
    "plt.ylabel('Count')\n",
    "plt.subplot(1, 3, 2)\n",
    "plt.hist(clinic_data[clinic_data['grade'] == 2]['size'], color='blue', bins=25)\n",
    "plt.title('Grade 2')\n",
    "plt.xlabel('Size')\n",
    "plt.ylabel('Count')\n",
    "plt.subplot(1, 3, 3)\n",
    "plt.hist(clinic_data[clinic_data['grade'] == 3]['size'], color='red', bins=25)\n",
    "plt.title('Grade 3')\n",
    "plt.xlabel('Size')\n",
    "plt.ylabel('Count')\n",
    "plt.show()"
   ]
  },
  {
   "cell_type": "markdown",
   "metadata": {},
   "source": [
    "Nice! I will apply normal distribution to random sampling."
   ]
  },
  {
   "cell_type": "code",
   "execution_count": 28,
   "metadata": {},
   "outputs": [],
   "source": [
    "mean_size = [\n",
    "    clinic_data[clinic_data['grade'] == 1]['size'].mean(),\n",
    "    clinic_data[clinic_data['grade'] == 2]['size'].mean(),\n",
    "    clinic_data[clinic_data['grade'] == 3]['size'].mean()\n",
    "]\n",
    "\n",
    "std_size = [\n",
    "    clinic_data[clinic_data['grade'] == 1]['size'].std(),\n",
    "    clinic_data[clinic_data['grade'] == 2]['size'].std(),\n",
    "    clinic_data[clinic_data['grade'] == 3]['size'].std()\n",
    "]"
   ]
  },
  {
   "cell_type": "code",
   "execution_count": 29,
   "metadata": {},
   "outputs": [
    {
     "name": "stdout",
     "output_type": "stream",
     "text": [
      "grade 1\n",
      "mean: 2.1848484848484846\n",
      "mean: 0.8976083542256932\n",
      "grade 2\n",
      "mean: 2.0575999999999994\n",
      "mean: 0.8437879262682827\n",
      "grade 3\n",
      "mean: 2.4648148148148143\n",
      "mean: 1.0358038364965194\n"
     ]
    }
   ],
   "source": [
    "## before change\n",
    "\n",
    "for i in range(3):\n",
    "    print('grade', (i + 1))\n",
    "    print('mean:', clinic_data[clinic_data['grade'] == (i + 1)]['size'].mean())\n",
    "    print('mean:', clinic_data[clinic_data['grade'] == (i + 1)]['size'].std())"
   ]
  },
  {
   "cell_type": "code",
   "execution_count": 30,
   "metadata": {},
   "outputs": [],
   "source": [
    "clinic_data = clinic_data.apply(lambda row: fill_nan_continuous(row, 'size', mean_size[0], std_size[0], 1), axis=1)\n",
    "clinic_data = clinic_data.apply(lambda row: fill_nan_continuous(row, 'size', mean_size[1], std_size[1], 2), axis=1)\n",
    "clinic_data = clinic_data.apply(lambda row: fill_nan_continuous(row, 'size', mean_size[2], std_size[2], 3), axis=1)"
   ]
  },
  {
   "cell_type": "code",
   "execution_count": 31,
   "metadata": {},
   "outputs": [
    {
     "name": "stdout",
     "output_type": "stream",
     "text": [
      "grade 1\n",
      "mean: 2.1666666666666665\n",
      "mean: 1.027860484278505\n",
      "grade 2\n",
      "mean: 2.0444444444444443\n",
      "mean: 0.8958141156831764\n",
      "grade 3\n",
      "mean: 2.4285714285714284\n",
      "mean: 1.0963846049900565\n"
     ]
    }
   ],
   "source": [
    "## after change\n",
    "\n",
    "for i in range(3):\n",
    "    print('grade', (i + 1))\n",
    "    print('mean:', clinic_data[clinic_data['grade'] == (i + 1)]['size'].mean())\n",
    "    print('mean:', clinic_data[clinic_data['grade'] == (i + 1)]['size'].std())"
   ]
  },
  {
   "cell_type": "markdown",
   "metadata": {},
   "source": [
    "### stage"
   ]
  },
  {
   "cell_type": "markdown",
   "metadata": {},
   "source": [
    "Let me plot how stage is distributed."
   ]
  },
  {
   "cell_type": "code",
   "execution_count": 32,
   "metadata": {},
   "outputs": [
    {
     "data": {
      "image/png": "[encoded data removed]",
      "text/plain": [
       "<Figure size 864x288 with 3 Axes>"
      ]
     },
     "metadata": {
      "needs_background": "light"
     },
     "output_type": "display_data"
    }
   ],
   "source": [
    "#sns.countplot(data=clinic_data, x='size', hue='stage')\n",
    "\n",
    "plt.figure(figsize=(12, 4))\n",
    "\n",
    "plt.subplot(1, 3, 1)\n",
    "plt.hist(clinic_data[clinic_data['stage'] == 1]['size'], color='green', bins=25)\n",
    "plt.title('stage 1')\n",
    "plt.xlabel('size')\n",
    "plt.ylabel('Count')\n",
    "plt.subplot(1, 3, 2)\n",
    "plt.hist(clinic_data[clinic_data['stage'] == 2]['size'], color='blue', bins=25)\n",
    "plt.title('stage 2')\n",
    "plt.xlabel('size')\n",
    "plt.ylabel('Count')\n",
    "plt.subplot(1, 3, 3)\n",
    "plt.hist(clinic_data[clinic_data['stage'] == 3]['size'], color='red', bins=25)\n",
    "plt.title('stage 3')\n",
    "plt.xlabel('size')\n",
    "plt.ylabel('Count')\n",
    "plt.show()"
   ]
  },
  {
   "cell_type": "markdown",
   "metadata": {},
   "source": [
    "Um.. as I can see pair plot before, stage information have relation ship with size. Let me use size information to fill stage.\n",
    "\n",
    "1. if size is less than 2, then stage becomes to 1.\n",
    "2. if size is equalls to 2, then stage becomes to 1 or 2.\n",
    "3. if size is less than 6, then stage becomes to 2.\n",
    "4. rest stage becomes to 3."
   ]
  },
  {
   "cell_type": "code",
   "execution_count": 33,
   "metadata": {},
   "outputs": [],
   "source": [
    "def fill_stage(row):\n",
    "    if pd.isna(row['stage']) == False:\n",
    "        return row\n",
    "    \n",
    "    if row['size'] < 2:\n",
    "        row['stage'] = 1\n",
    "    elif row['size'] == 2:\n",
    "        row['stage'] = np.random.choice([1, 2])\n",
    "    elif row['size'] < 6:\n",
    "        row['stage'] = 2\n",
    "    else:\n",
    "        row['stage'] = 3\n",
    "        \n",
    "    return row"
   ]
  },
  {
   "cell_type": "code",
   "execution_count": 34,
   "metadata": {},
   "outputs": [],
   "source": [
    "clinic_data = clinic_data.apply(fill_stage, axis=1)"
   ]
  },
  {
   "cell_type": "code",
   "execution_count": 35,
   "metadata": {},
   "outputs": [
    {
     "name": "stderr",
     "output_type": "stream",
     "text": [
      "D:\\Users\\jylee\\Anaconda3\\lib\\site-packages\\numpy\\lib\\histograms.py:746: RuntimeWarning: invalid value encountered in greater_equal\n",
      "  keep = (tmp_a >= first_edge)\n",
      "D:\\Users\\jylee\\Anaconda3\\lib\\site-packages\\numpy\\lib\\histograms.py:747: RuntimeWarning: invalid value encountered in less_equal\n",
      "  keep &= (tmp_a <= last_edge)\n"
     ]
    },
    {
     "data": {
      "image/png": "[encoded data removed]",
      "text/plain": [
       "<Figure size 864x288 with 3 Axes>"
      ]
     },
     "metadata": {
      "needs_background": "light"
     },
     "output_type": "display_data"
    }
   ],
   "source": [
    "#sns.countplot(data=clinic_data, x='size', hue='stage')\n",
    "\n",
    "plt.figure(figsize=(12, 4))\n",
    "\n",
    "plt.subplot(1, 3, 1)\n",
    "plt.hist(clinic_data[clinic_data['stage'] == 1]['size'], color='green', bins=25)\n",
    "plt.title('stage 1')\n",
    "plt.xlabel('size')\n",
    "plt.ylabel('Count')\n",
    "plt.subplot(1, 3, 2)\n",
    "plt.hist(clinic_data[clinic_data['stage'] == 2]['size'], color='blue', bins=25)\n",
    "plt.title('stage 2')\n",
    "plt.xlabel('size')\n",
    "plt.ylabel('Count')\n",
    "plt.subplot(1, 3, 3)\n",
    "plt.hist(clinic_data[clinic_data['stage'] == 3]['size'], color='red', bins=25)\n",
    "plt.title('stage 3')\n",
    "plt.xlabel('size')\n",
    "plt.ylabel('Count')\n",
    "plt.show()"
   ]
  },
  {
   "cell_type": "code",
   "execution_count": 36,
   "metadata": {},
   "outputs": [
    {
     "name": "stdout",
     "output_type": "stream",
     "text": [
      "<class 'pandas.core.frame.DataFrame'>\n",
      "Index: 362 entries, gsm282373 to gsm178082\n",
      "Data columns (total 4 columns):\n",
      "age      352 non-null float64\n",
      "stage    362 non-null float64\n",
      "size     352 non-null float64\n",
      "grade    352 non-null float64\n",
      "dtypes: float64(4)\n",
      "memory usage: 24.1+ KB\n"
     ]
    }
   ],
   "source": [
    "clinic_data.info()"
   ]
  },
  {
   "cell_type": "markdown",
   "metadata": {},
   "source": [
    "Okay. the stage columns was filled!"
   ]
  },
  {
   "cell_type": "markdown",
   "metadata": {},
   "source": [
    "### Put all together"
   ]
  },
  {
   "cell_type": "markdown",
   "metadata": {},
   "source": [
    "Let's see our dataset."
   ]
  },
  {
   "cell_type": "code",
   "execution_count": 37,
   "metadata": {},
   "outputs": [
    {
     "data": {
      "text/html": [
       "<div>\n",
       "<style scoped>\n",
       "    .dataframe tbody tr th:only-of-type {\n",
       "        vertical-align: middle;\n",
       "    }\n",
       "\n",
       "    .dataframe tbody tr th {\n",
       "        vertical-align: top;\n",
       "    }\n",
       "\n",
       "    .dataframe thead th {\n",
       "        text-align: right;\n",
       "    }\n",
       "</style>\n",
       "<table border=\"1\" class=\"dataframe\">\n",
       "  <thead>\n",
       "    <tr style=\"text-align: right;\">\n",
       "      <th></th>\n",
       "      <th>age</th>\n",
       "      <th>stage</th>\n",
       "      <th>size</th>\n",
       "      <th>grade</th>\n",
       "    </tr>\n",
       "    <tr>\n",
       "      <th>gsm</th>\n",
       "      <th></th>\n",
       "      <th></th>\n",
       "      <th></th>\n",
       "      <th></th>\n",
       "    </tr>\n",
       "  </thead>\n",
       "  <tbody>\n",
       "    <tr>\n",
       "      <th>gsm177953</th>\n",
       "      <td>49.0</td>\n",
       "      <td>1.0</td>\n",
       "      <td>2.0</td>\n",
       "      <td>1.0</td>\n",
       "    </tr>\n",
       "    <tr>\n",
       "      <th>gsm177924</th>\n",
       "      <td>35.0</td>\n",
       "      <td>2.0</td>\n",
       "      <td>3.0</td>\n",
       "      <td>2.0</td>\n",
       "    </tr>\n",
       "    <tr>\n",
       "      <th>gsm107098</th>\n",
       "      <td>22.0</td>\n",
       "      <td>1.0</td>\n",
       "      <td>0.0</td>\n",
       "      <td>1.0</td>\n",
       "    </tr>\n",
       "    <tr>\n",
       "      <th>gsm282521</th>\n",
       "      <td>55.0</td>\n",
       "      <td>2.0</td>\n",
       "      <td>3.0</td>\n",
       "      <td>1.0</td>\n",
       "    </tr>\n",
       "    <tr>\n",
       "      <th>gsm107204</th>\n",
       "      <td>65.0</td>\n",
       "      <td>1.0</td>\n",
       "      <td>1.0</td>\n",
       "      <td>3.0</td>\n",
       "    </tr>\n",
       "    <tr>\n",
       "      <th>gsm107187</th>\n",
       "      <td>54.0</td>\n",
       "      <td>1.0</td>\n",
       "      <td>0.0</td>\n",
       "      <td>1.0</td>\n",
       "    </tr>\n",
       "    <tr>\n",
       "      <th>gsm282439</th>\n",
       "      <td>58.0</td>\n",
       "      <td>2.0</td>\n",
       "      <td>3.0</td>\n",
       "      <td>2.0</td>\n",
       "    </tr>\n",
       "    <tr>\n",
       "      <th>gsm107093</th>\n",
       "      <td>43.0</td>\n",
       "      <td>2.0</td>\n",
       "      <td>3.0</td>\n",
       "      <td>3.0</td>\n",
       "    </tr>\n",
       "    <tr>\n",
       "      <th>gsm282393</th>\n",
       "      <td>50.0</td>\n",
       "      <td>1.0</td>\n",
       "      <td>1.0</td>\n",
       "      <td>1.0</td>\n",
       "    </tr>\n",
       "    <tr>\n",
       "      <th>gsm107222</th>\n",
       "      <td>68.0</td>\n",
       "      <td>1.0</td>\n",
       "      <td>2.0</td>\n",
       "      <td>2.0</td>\n",
       "    </tr>\n",
       "  </tbody>\n",
       "</table>\n",
       "</div>"
      ],
      "text/plain": [
       "            age  stage  size  grade\n",
       "gsm                                \n",
       "gsm177953  49.0    1.0   2.0    1.0\n",
       "gsm177924  35.0    2.0   3.0    2.0\n",
       "gsm107098  22.0    1.0   0.0    1.0\n",
       "gsm282521  55.0    2.0   3.0    1.0\n",
       "gsm107204  65.0    1.0   1.0    3.0\n",
       "gsm107187  54.0    1.0   0.0    1.0\n",
       "gsm282439  58.0    2.0   3.0    2.0\n",
       "gsm107093  43.0    2.0   3.0    3.0\n",
       "gsm282393  50.0    1.0   1.0    1.0\n",
       "gsm107222  68.0    1.0   2.0    2.0"
      ]
     },
     "execution_count": 37,
     "metadata": {},
     "output_type": "execute_result"
    }
   ],
   "source": [
    "clinic_data.iloc[np.random.randint(0, 352, 10)]"
   ]
  },
  {
   "cell_type": "code",
   "execution_count": 38,
   "metadata": {},
   "outputs": [
    {
     "name": "stdout",
     "output_type": "stream",
     "text": [
      "<class 'pandas.core.frame.DataFrame'>\n",
      "Index: 362 entries, gsm282373 to gsm178082\n",
      "Data columns (total 4 columns):\n",
      "age      352 non-null float64\n",
      "stage    362 non-null float64\n",
      "size     352 non-null float64\n",
      "grade    352 non-null float64\n",
      "dtypes: float64(4)\n",
      "memory usage: 24.1+ KB\n"
     ]
    }
   ],
   "source": [
    "clinic_data.info()"
   ]
  },
  {
   "cell_type": "markdown",
   "metadata": {},
   "source": [
    "I can find the number of entries is 362 but, the number of valid rows is just 352. \n",
    "Because the grade is very important information. So, I decided that filling grade is dengerous.\n",
    "Let me drop 10 rows!\n",
    "\n",
    "I think it is ok to drop out them because the number of them is quite small."
   ]
  },
  {
   "cell_type": "code",
   "execution_count": 39,
   "metadata": {},
   "outputs": [],
   "source": [
    "clinic_data.dropna(inplace=True)"
   ]
  },
  {
   "cell_type": "code",
   "execution_count": 40,
   "metadata": {},
   "outputs": [
    {
     "name": "stdout",
     "output_type": "stream",
     "text": [
      "<class 'pandas.core.frame.DataFrame'>\n",
      "Index: 352 entries, gsm282373 to gsm178082\n",
      "Data columns (total 4 columns):\n",
      "age      352 non-null float64\n",
      "stage    352 non-null float64\n",
      "size     352 non-null float64\n",
      "grade    352 non-null float64\n",
      "dtypes: float64(4)\n",
      "memory usage: 13.8+ KB\n"
     ]
    }
   ],
   "source": [
    "clinic_data.info()"
   ]
  },
  {
   "cell_type": "markdown",
   "metadata": {},
   "source": [
    "Let's see the relation of each features!"
   ]
  },
  {
   "cell_type": "code",
   "execution_count": 41,
   "metadata": {},
   "outputs": [
    {
     "name": "stderr",
     "output_type": "stream",
     "text": [
      "D:\\Users\\jylee\\Anaconda3\\lib\\site-packages\\scipy\\stats\\stats.py:1713: FutureWarning: Using a non-tuple sequence for multidimensional indexing is deprecated; use `arr[tuple(seq)]` instead of `arr[seq]`. In the future this will be interpreted as an array index, `arr[np.array(seq)]`, which will result either in an error or a different result.\n",
      "  return np.add.reduce(sorted[indexer] * weights, axis=axis) / sumval\n",
      "D:\\Users\\jylee\\Anaconda3\\lib\\site-packages\\statsmodels\\nonparametric\\kde.py:488: RuntimeWarning: invalid value encountered in true_divide\n",
      "  binned = fast_linbin(X, a, b, gridsize) / (delta * nobs)\n",
      "D:\\Users\\jylee\\Anaconda3\\lib\\site-packages\\statsmodels\\nonparametric\\kdetools.py:34: RuntimeWarning: invalid value encountered in double_scalars\n",
      "  FAC1 = 2*(np.pi*bw/RANGE)**2\n",
      "D:\\Users\\jylee\\Anaconda3\\lib\\site-packages\\numpy\\core\\fromnumeric.py:83: RuntimeWarning: invalid value encountered in reduce\n",
      "  return ufunc.reduce(obj, axis, dtype, out, **passkwargs)\n"
     ]
    },
    {
     "data": {
      "image/png": "[encoded data removed]",
      "text/plain": [
       "<Figure size 771.875x720 with 20 Axes>"
      ]
     },
     "metadata": {
      "needs_background": "light"
     },
     "output_type": "display_data"
    }
   ],
   "source": [
    "sns.pairplot(clinic_data, hue='grade', diag_kind='kde')\n",
    "plt.show()"
   ]
  },
  {
   "cell_type": "markdown",
   "metadata": {},
   "source": [
    "Let's print correlation."
   ]
  },
  {
   "cell_type": "code",
   "execution_count": 42,
   "metadata": {},
   "outputs": [
    {
     "data": {
      "text/html": [
       "<div>\n",
       "<style scoped>\n",
       "    .dataframe tbody tr th:only-of-type {\n",
       "        vertical-align: middle;\n",
       "    }\n",
       "\n",
       "    .dataframe tbody tr th {\n",
       "        vertical-align: top;\n",
       "    }\n",
       "\n",
       "    .dataframe thead th {\n",
       "        text-align: right;\n",
       "    }\n",
       "</style>\n",
       "<table border=\"1\" class=\"dataframe\">\n",
       "  <thead>\n",
       "    <tr style=\"text-align: right;\">\n",
       "      <th></th>\n",
       "      <th>age</th>\n",
       "      <th>stage</th>\n",
       "      <th>size</th>\n",
       "      <th>grade</th>\n",
       "    </tr>\n",
       "  </thead>\n",
       "  <tbody>\n",
       "    <tr>\n",
       "      <th>age</th>\n",
       "      <td>1.000000</td>\n",
       "      <td>-0.064957</td>\n",
       "      <td>-0.053932</td>\n",
       "      <td>-0.306495</td>\n",
       "    </tr>\n",
       "    <tr>\n",
       "      <th>stage</th>\n",
       "      <td>-0.064957</td>\n",
       "      <td>1.000000</td>\n",
       "      <td>0.682745</td>\n",
       "      <td>0.076187</td>\n",
       "    </tr>\n",
       "    <tr>\n",
       "      <th>size</th>\n",
       "      <td>-0.053932</td>\n",
       "      <td>0.682745</td>\n",
       "      <td>1.000000</td>\n",
       "      <td>0.117862</td>\n",
       "    </tr>\n",
       "    <tr>\n",
       "      <th>grade</th>\n",
       "      <td>-0.306495</td>\n",
       "      <td>0.076187</td>\n",
       "      <td>0.117862</td>\n",
       "      <td>1.000000</td>\n",
       "    </tr>\n",
       "  </tbody>\n",
       "</table>\n",
       "</div>"
      ],
      "text/plain": [
       "            age     stage      size     grade\n",
       "age    1.000000 -0.064957 -0.053932 -0.306495\n",
       "stage -0.064957  1.000000  0.682745  0.076187\n",
       "size  -0.053932  0.682745  1.000000  0.117862\n",
       "grade -0.306495  0.076187  0.117862  1.000000"
      ]
     },
     "execution_count": 42,
     "metadata": {},
     "output_type": "execute_result"
    }
   ],
   "source": [
    "clinic_data.corr()"
   ]
  },
  {
   "cell_type": "markdown",
   "metadata": {},
   "source": [
    "At seeing overall, the correlation between grade and age is quite large, and between stage and size is quite large.\n",
    "Rest correlation is quite small."
   ]
  },
  {
   "cell_type": "markdown",
   "metadata": {},
   "source": [
    "# Gene data preprocessing"
   ]
  },
  {
   "cell_type": "markdown",
   "metadata": {},
   "source": [
    "Next, I will preprocess gene dataset."
   ]
  },
  {
   "cell_type": "code",
   "execution_count": 43,
   "metadata": {},
   "outputs": [
    {
     "data": {
      "text/html": [
       "<div>\n",
       "<style scoped>\n",
       "    .dataframe tbody tr th:only-of-type {\n",
       "        vertical-align: middle;\n",
       "    }\n",
       "\n",
       "    .dataframe tbody tr th {\n",
       "        vertical-align: top;\n",
       "    }\n",
       "\n",
       "    .dataframe thead th {\n",
       "        text-align: right;\n",
       "    }\n",
       "</style>\n",
       "<table border=\"1\" class=\"dataframe\">\n",
       "  <thead>\n",
       "    <tr style=\"text-align: right;\">\n",
       "      <th></th>\n",
       "      <th>gsm282373</th>\n",
       "      <th>gsm282374</th>\n",
       "      <th>gsm282376</th>\n",
       "      <th>gsm282378</th>\n",
       "      <th>gsm282379</th>\n",
       "      <th>gsm282380</th>\n",
       "      <th>gsm282382</th>\n",
       "      <th>gsm282383</th>\n",
       "      <th>gsm282386</th>\n",
       "      <th>gsm282391</th>\n",
       "      <th>...</th>\n",
       "      <th>gsm107180</th>\n",
       "      <th>gsm107181</th>\n",
       "      <th>gsm107182</th>\n",
       "      <th>gsm107183</th>\n",
       "      <th>gsm107184</th>\n",
       "      <th>gsm107185</th>\n",
       "      <th>gsm107186</th>\n",
       "      <th>gsm107187</th>\n",
       "      <th>gsm107188</th>\n",
       "      <th>gsm107190</th>\n",
       "    </tr>\n",
       "    <tr>\n",
       "      <th>genename</th>\n",
       "      <th></th>\n",
       "      <th></th>\n",
       "      <th></th>\n",
       "      <th></th>\n",
       "      <th></th>\n",
       "      <th></th>\n",
       "      <th></th>\n",
       "      <th></th>\n",
       "      <th></th>\n",
       "      <th></th>\n",
       "      <th></th>\n",
       "      <th></th>\n",
       "      <th></th>\n",
       "      <th></th>\n",
       "      <th></th>\n",
       "      <th></th>\n",
       "      <th></th>\n",
       "      <th></th>\n",
       "      <th></th>\n",
       "      <th></th>\n",
       "      <th></th>\n",
       "    </tr>\n",
       "  </thead>\n",
       "  <tbody>\n",
       "    <tr>\n",
       "      <th>DDR1</th>\n",
       "      <td>10.830880</td>\n",
       "      <td>11.415693</td>\n",
       "      <td>11.102564</td>\n",
       "      <td>9.887807</td>\n",
       "      <td>11.070358</td>\n",
       "      <td>10.472188</td>\n",
       "      <td>10.470059</td>\n",
       "      <td>10.435266</td>\n",
       "      <td>10.521953</td>\n",
       "      <td>10.870826</td>\n",
       "      <td>...</td>\n",
       "      <td>11.284514</td>\n",
       "      <td>10.447881</td>\n",
       "      <td>10.530046</td>\n",
       "      <td>10.884212</td>\n",
       "      <td>10.254828</td>\n",
       "      <td>10.670846</td>\n",
       "      <td>8.786126</td>\n",
       "      <td>10.661680</td>\n",
       "      <td>10.703359</td>\n",
       "      <td>10.518693</td>\n",
       "    </tr>\n",
       "    <tr>\n",
       "      <th>RFC2</th>\n",
       "      <td>6.537210</td>\n",
       "      <td>6.520366</td>\n",
       "      <td>6.582786</td>\n",
       "      <td>7.093003</td>\n",
       "      <td>6.581049</td>\n",
       "      <td>6.968399</td>\n",
       "      <td>6.539901</td>\n",
       "      <td>7.011500</td>\n",
       "      <td>6.997391</td>\n",
       "      <td>6.790450</td>\n",
       "      <td>...</td>\n",
       "      <td>6.370906</td>\n",
       "      <td>6.571489</td>\n",
       "      <td>6.422459</td>\n",
       "      <td>6.878336</td>\n",
       "      <td>6.380203</td>\n",
       "      <td>6.331382</td>\n",
       "      <td>6.419317</td>\n",
       "      <td>6.192183</td>\n",
       "      <td>6.401563</td>\n",
       "      <td>5.951992</td>\n",
       "    </tr>\n",
       "    <tr>\n",
       "      <th>HSPA6</th>\n",
       "      <td>7.277863</td>\n",
       "      <td>7.316761</td>\n",
       "      <td>7.279104</td>\n",
       "      <td>7.286577</td>\n",
       "      <td>7.519710</td>\n",
       "      <td>7.450327</td>\n",
       "      <td>6.911198</td>\n",
       "      <td>7.405124</td>\n",
       "      <td>7.516294</td>\n",
       "      <td>7.464333</td>\n",
       "      <td>...</td>\n",
       "      <td>7.795050</td>\n",
       "      <td>7.390194</td>\n",
       "      <td>7.325931</td>\n",
       "      <td>7.585992</td>\n",
       "      <td>7.586850</td>\n",
       "      <td>7.549852</td>\n",
       "      <td>7.488433</td>\n",
       "      <td>8.141492</td>\n",
       "      <td>7.345247</td>\n",
       "      <td>7.492094</td>\n",
       "    </tr>\n",
       "    <tr>\n",
       "      <th>PAX8</th>\n",
       "      <td>9.740926</td>\n",
       "      <td>9.645825</td>\n",
       "      <td>9.859698</td>\n",
       "      <td>9.319635</td>\n",
       "      <td>9.287543</td>\n",
       "      <td>9.320164</td>\n",
       "      <td>9.241064</td>\n",
       "      <td>9.204484</td>\n",
       "      <td>9.509921</td>\n",
       "      <td>9.438572</td>\n",
       "      <td>...</td>\n",
       "      <td>9.996307</td>\n",
       "      <td>10.113618</td>\n",
       "      <td>10.453775</td>\n",
       "      <td>10.462783</td>\n",
       "      <td>10.478436</td>\n",
       "      <td>10.305541</td>\n",
       "      <td>10.224340</td>\n",
       "      <td>10.393858</td>\n",
       "      <td>10.358396</td>\n",
       "      <td>10.062984</td>\n",
       "    </tr>\n",
       "    <tr>\n",
       "      <th>GUCA1A</th>\n",
       "      <td>5.267913</td>\n",
       "      <td>5.116714</td>\n",
       "      <td>5.090731</td>\n",
       "      <td>5.085679</td>\n",
       "      <td>5.177971</td>\n",
       "      <td>5.162901</td>\n",
       "      <td>5.115369</td>\n",
       "      <td>5.092952</td>\n",
       "      <td>5.125900</td>\n",
       "      <td>4.967165</td>\n",
       "      <td>...</td>\n",
       "      <td>5.353165</td>\n",
       "      <td>5.217218</td>\n",
       "      <td>5.079343</td>\n",
       "      <td>5.189899</td>\n",
       "      <td>5.185406</td>\n",
       "      <td>5.210108</td>\n",
       "      <td>5.133257</td>\n",
       "      <td>5.156300</td>\n",
       "      <td>5.106015</td>\n",
       "      <td>5.164850</td>\n",
       "    </tr>\n",
       "  </tbody>\n",
       "</table>\n",
       "<p>5 rows × 255 columns</p>\n",
       "</div>"
      ],
      "text/plain": [
       "          gsm282373  gsm282374  gsm282376  gsm282378  gsm282379  gsm282380  \\\n",
       "genename                                                                     \n",
       "DDR1      10.830880  11.415693  11.102564   9.887807  11.070358  10.472188   \n",
       "RFC2       6.537210   6.520366   6.582786   7.093003   6.581049   6.968399   \n",
       "HSPA6      7.277863   7.316761   7.279104   7.286577   7.519710   7.450327   \n",
       "PAX8       9.740926   9.645825   9.859698   9.319635   9.287543   9.320164   \n",
       "GUCA1A     5.267913   5.116714   5.090731   5.085679   5.177971   5.162901   \n",
       "\n",
       "          gsm282382  gsm282383  gsm282386  gsm282391    ...      gsm107180  \\\n",
       "genename                                                ...                  \n",
       "DDR1      10.470059  10.435266  10.521953  10.870826    ...      11.284514   \n",
       "RFC2       6.539901   7.011500   6.997391   6.790450    ...       6.370906   \n",
       "HSPA6      6.911198   7.405124   7.516294   7.464333    ...       7.795050   \n",
       "PAX8       9.241064   9.204484   9.509921   9.438572    ...       9.996307   \n",
       "GUCA1A     5.115369   5.092952   5.125900   4.967165    ...       5.353165   \n",
       "\n",
       "          gsm107181  gsm107182  gsm107183  gsm107184  gsm107185  gsm107186  \\\n",
       "genename                                                                     \n",
       "DDR1      10.447881  10.530046  10.884212  10.254828  10.670846   8.786126   \n",
       "RFC2       6.571489   6.422459   6.878336   6.380203   6.331382   6.419317   \n",
       "HSPA6      7.390194   7.325931   7.585992   7.586850   7.549852   7.488433   \n",
       "PAX8      10.113618  10.453775  10.462783  10.478436  10.305541  10.224340   \n",
       "GUCA1A     5.217218   5.079343   5.189899   5.185406   5.210108   5.133257   \n",
       "\n",
       "          gsm107187  gsm107188  gsm107190  \n",
       "genename                                   \n",
       "DDR1      10.661680  10.703359  10.518693  \n",
       "RFC2       6.192183   6.401563   5.951992  \n",
       "HSPA6      8.141492   7.345247   7.492094  \n",
       "PAX8      10.393858  10.358396  10.062984  \n",
       "GUCA1A     5.156300   5.106015   5.164850  \n",
       "\n",
       "[5 rows x 255 columns]"
      ]
     },
     "execution_count": 43,
     "metadata": {},
     "output_type": "execute_result"
    }
   ],
   "source": [
    "gene_data.head()"
   ]
  },
  {
   "cell_type": "markdown",
   "metadata": {},
   "source": [
    "First, I will transpose it to make genes as features."
   ]
  },
  {
   "cell_type": "code",
   "execution_count": 44,
   "metadata": {},
   "outputs": [],
   "source": [
    "gene_data = gene_data.T"
   ]
  },
  {
   "cell_type": "code",
   "execution_count": 45,
   "metadata": {},
   "outputs": [
    {
     "name": "stdout",
     "output_type": "stream",
     "text": [
      "Shape: (255, 19560)\n"
     ]
    },
    {
     "data": {
      "text/html": [
       "<div>\n",
       "<style scoped>\n",
       "    .dataframe tbody tr th:only-of-type {\n",
       "        vertical-align: middle;\n",
       "    }\n",
       "\n",
       "    .dataframe tbody tr th {\n",
       "        vertical-align: top;\n",
       "    }\n",
       "\n",
       "    .dataframe thead th {\n",
       "        text-align: right;\n",
       "    }\n",
       "</style>\n",
       "<table border=\"1\" class=\"dataframe\">\n",
       "  <thead>\n",
       "    <tr style=\"text-align: right;\">\n",
       "      <th>genename</th>\n",
       "      <th>DDR1</th>\n",
       "      <th>RFC2</th>\n",
       "      <th>HSPA6</th>\n",
       "      <th>PAX8</th>\n",
       "      <th>GUCA1A</th>\n",
       "      <th>UBA7</th>\n",
       "      <th>THRA</th>\n",
       "      <th>PTPN21</th>\n",
       "      <th>CCL5</th>\n",
       "      <th>CYP2E1</th>\n",
       "      <th>...</th>\n",
       "      <th>ADAP1</th>\n",
       "      <th>LRCH4</th>\n",
       "      <th>LRTM1</th>\n",
       "      <th>DGCR8</th>\n",
       "      <th>EXOSC4</th>\n",
       "      <th>EHBP1L1</th>\n",
       "      <th>MEX3D</th>\n",
       "      <th>EPS8L1</th>\n",
       "      <th>BCAN</th>\n",
       "      <th>DCAF15</th>\n",
       "    </tr>\n",
       "  </thead>\n",
       "  <tbody>\n",
       "    <tr>\n",
       "      <th>gsm282373</th>\n",
       "      <td>10.830880</td>\n",
       "      <td>6.537210</td>\n",
       "      <td>7.277863</td>\n",
       "      <td>9.740926</td>\n",
       "      <td>5.267913</td>\n",
       "      <td>7.382774</td>\n",
       "      <td>8.588972</td>\n",
       "      <td>5.464588</td>\n",
       "      <td>6.818210</td>\n",
       "      <td>5.530614</td>\n",
       "      <td>...</td>\n",
       "      <td>9.308550</td>\n",
       "      <td>7.728298</td>\n",
       "      <td>5.338729</td>\n",
       "      <td>6.759724</td>\n",
       "      <td>9.314672</td>\n",
       "      <td>6.779964</td>\n",
       "      <td>7.442115</td>\n",
       "      <td>7.758906</td>\n",
       "      <td>8.044996</td>\n",
       "      <td>7.761478</td>\n",
       "    </tr>\n",
       "    <tr>\n",
       "      <th>gsm282374</th>\n",
       "      <td>11.415693</td>\n",
       "      <td>6.520366</td>\n",
       "      <td>7.316761</td>\n",
       "      <td>9.645825</td>\n",
       "      <td>5.116714</td>\n",
       "      <td>8.207070</td>\n",
       "      <td>7.527786</td>\n",
       "      <td>5.451635</td>\n",
       "      <td>6.455215</td>\n",
       "      <td>5.403731</td>\n",
       "      <td>...</td>\n",
       "      <td>10.049733</td>\n",
       "      <td>7.931912</td>\n",
       "      <td>5.356809</td>\n",
       "      <td>6.727976</td>\n",
       "      <td>8.628219</td>\n",
       "      <td>6.619555</td>\n",
       "      <td>5.829318</td>\n",
       "      <td>8.687569</td>\n",
       "      <td>8.059875</td>\n",
       "      <td>7.424818</td>\n",
       "    </tr>\n",
       "    <tr>\n",
       "      <th>gsm282376</th>\n",
       "      <td>11.102564</td>\n",
       "      <td>6.582786</td>\n",
       "      <td>7.279104</td>\n",
       "      <td>9.859698</td>\n",
       "      <td>5.090731</td>\n",
       "      <td>7.999345</td>\n",
       "      <td>7.167136</td>\n",
       "      <td>5.364455</td>\n",
       "      <td>7.515767</td>\n",
       "      <td>5.422672</td>\n",
       "      <td>...</td>\n",
       "      <td>9.519055</td>\n",
       "      <td>8.016544</td>\n",
       "      <td>5.346218</td>\n",
       "      <td>6.607924</td>\n",
       "      <td>8.029696</td>\n",
       "      <td>7.187482</td>\n",
       "      <td>6.490046</td>\n",
       "      <td>8.857435</td>\n",
       "      <td>7.932893</td>\n",
       "      <td>7.571570</td>\n",
       "    </tr>\n",
       "    <tr>\n",
       "      <th>gsm282378</th>\n",
       "      <td>9.887807</td>\n",
       "      <td>7.093003</td>\n",
       "      <td>7.286577</td>\n",
       "      <td>9.319635</td>\n",
       "      <td>5.085679</td>\n",
       "      <td>8.332940</td>\n",
       "      <td>6.756487</td>\n",
       "      <td>5.629505</td>\n",
       "      <td>7.939541</td>\n",
       "      <td>5.503958</td>\n",
       "      <td>...</td>\n",
       "      <td>9.161944</td>\n",
       "      <td>7.733086</td>\n",
       "      <td>5.246947</td>\n",
       "      <td>6.772989</td>\n",
       "      <td>8.418591</td>\n",
       "      <td>7.013464</td>\n",
       "      <td>8.079909</td>\n",
       "      <td>7.705978</td>\n",
       "      <td>7.496283</td>\n",
       "      <td>7.743633</td>\n",
       "    </tr>\n",
       "    <tr>\n",
       "      <th>gsm282379</th>\n",
       "      <td>11.070358</td>\n",
       "      <td>6.581049</td>\n",
       "      <td>7.519710</td>\n",
       "      <td>9.287543</td>\n",
       "      <td>5.177971</td>\n",
       "      <td>7.973080</td>\n",
       "      <td>6.754006</td>\n",
       "      <td>5.398641</td>\n",
       "      <td>9.130576</td>\n",
       "      <td>5.434248</td>\n",
       "      <td>...</td>\n",
       "      <td>9.486164</td>\n",
       "      <td>7.460552</td>\n",
       "      <td>5.186822</td>\n",
       "      <td>6.786288</td>\n",
       "      <td>8.512647</td>\n",
       "      <td>7.175655</td>\n",
       "      <td>6.982805</td>\n",
       "      <td>8.728241</td>\n",
       "      <td>7.495365</td>\n",
       "      <td>8.007842</td>\n",
       "    </tr>\n",
       "  </tbody>\n",
       "</table>\n",
       "<p>5 rows × 19560 columns</p>\n",
       "</div>"
      ],
      "text/plain": [
       "genename        DDR1      RFC2     HSPA6      PAX8    GUCA1A      UBA7  \\\n",
       "gsm282373  10.830880  6.537210  7.277863  9.740926  5.267913  7.382774   \n",
       "gsm282374  11.415693  6.520366  7.316761  9.645825  5.116714  8.207070   \n",
       "gsm282376  11.102564  6.582786  7.279104  9.859698  5.090731  7.999345   \n",
       "gsm282378   9.887807  7.093003  7.286577  9.319635  5.085679  8.332940   \n",
       "gsm282379  11.070358  6.581049  7.519710  9.287543  5.177971  7.973080   \n",
       "\n",
       "genename       THRA    PTPN21      CCL5    CYP2E1    ...         ADAP1  \\\n",
       "gsm282373  8.588972  5.464588  6.818210  5.530614    ...      9.308550   \n",
       "gsm282374  7.527786  5.451635  6.455215  5.403731    ...     10.049733   \n",
       "gsm282376  7.167136  5.364455  7.515767  5.422672    ...      9.519055   \n",
       "gsm282378  6.756487  5.629505  7.939541  5.503958    ...      9.161944   \n",
       "gsm282379  6.754006  5.398641  9.130576  5.434248    ...      9.486164   \n",
       "\n",
       "genename      LRCH4     LRTM1     DGCR8    EXOSC4   EHBP1L1     MEX3D  \\\n",
       "gsm282373  7.728298  5.338729  6.759724  9.314672  6.779964  7.442115   \n",
       "gsm282374  7.931912  5.356809  6.727976  8.628219  6.619555  5.829318   \n",
       "gsm282376  8.016544  5.346218  6.607924  8.029696  7.187482  6.490046   \n",
       "gsm282378  7.733086  5.246947  6.772989  8.418591  7.013464  8.079909   \n",
       "gsm282379  7.460552  5.186822  6.786288  8.512647  7.175655  6.982805   \n",
       "\n",
       "genename     EPS8L1      BCAN    DCAF15  \n",
       "gsm282373  7.758906  8.044996  7.761478  \n",
       "gsm282374  8.687569  8.059875  7.424818  \n",
       "gsm282376  8.857435  7.932893  7.571570  \n",
       "gsm282378  7.705978  7.496283  7.743633  \n",
       "gsm282379  8.728241  7.495365  8.007842  \n",
       "\n",
       "[5 rows x 19560 columns]"
      ]
     },
     "execution_count": 45,
     "metadata": {},
     "output_type": "execute_result"
    }
   ],
   "source": [
    "print('Shape:', gene_data.shape)\n",
    "gene_data.head()"
   ]
  },
  {
   "cell_type": "markdown",
   "metadata": {},
   "source": [
    "Let me print the information of columns."
   ]
  },
  {
   "cell_type": "code",
   "execution_count": 46,
   "metadata": {},
   "outputs": [
    {
     "data": {
      "text/plain": [
       "Index(['DDR1', 'RFC2', 'HSPA6', 'PAX8', 'GUCA1A', 'UBA7', 'THRA', 'PTPN21',\n",
       "       'CCL5', 'CYP2E1',\n",
       "       ...\n",
       "       'ADAP1', 'LRCH4', 'LRTM1', 'DGCR8', 'EXOSC4', 'EHBP1L1', 'MEX3D',\n",
       "       'EPS8L1', 'BCAN', 'DCAF15'],\n",
       "      dtype='object', name='genename', length=19560)"
      ]
     },
     "execution_count": 46,
     "metadata": {},
     "output_type": "execute_result"
    }
   ],
   "source": [
    "gene_data.columns"
   ]
  },
  {
   "cell_type": "code",
   "execution_count": 47,
   "metadata": {},
   "outputs": [
    {
     "data": {
      "text/plain": [
       "13013"
      ]
     },
     "execution_count": 47,
     "metadata": {},
     "output_type": "execute_result"
    }
   ],
   "source": [
    "gene_data.columns.nunique()"
   ]
  },
  {
   "cell_type": "markdown",
   "metadata": {},
   "source": [
    "Oh, there must be duplicated columns."
   ]
  },
  {
   "cell_type": "markdown",
   "metadata": {},
   "source": [
    "I will keep all duplicated gene."
   ]
  },
  {
   "cell_type": "code",
   "execution_count": 48,
   "metadata": {},
   "outputs": [
    {
     "data": {
      "text/html": [
       "<div>\n",
       "<style scoped>\n",
       "    .dataframe tbody tr th:only-of-type {\n",
       "        vertical-align: middle;\n",
       "    }\n",
       "\n",
       "    .dataframe tbody tr th {\n",
       "        vertical-align: top;\n",
       "    }\n",
       "\n",
       "    .dataframe thead th {\n",
       "        text-align: right;\n",
       "    }\n",
       "</style>\n",
       "<table border=\"1\" class=\"dataframe\">\n",
       "  <thead>\n",
       "    <tr style=\"text-align: right;\">\n",
       "      <th>genename</th>\n",
       "      <th>GDI2</th>\n",
       "      <th>HNRNPU</th>\n",
       "      <th>EIF3A</th>\n",
       "      <th>HSP90B1</th>\n",
       "      <th>PRKAR1A</th>\n",
       "      <th>PRKAR1A</th>\n",
       "      <th>RAD21</th>\n",
       "      <th>WDR1</th>\n",
       "      <th>AP2B1</th>\n",
       "      <th>MLEC</th>\n",
       "      <th>...</th>\n",
       "      <th>ACSM5</th>\n",
       "      <th>ADAP1</th>\n",
       "      <th>LRCH4</th>\n",
       "      <th>LRTM1</th>\n",
       "      <th>DGCR8</th>\n",
       "      <th>EXOSC4</th>\n",
       "      <th>EHBP1L1</th>\n",
       "      <th>EPS8L1</th>\n",
       "      <th>BCAN</th>\n",
       "      <th>DCAF15</th>\n",
       "    </tr>\n",
       "  </thead>\n",
       "  <tbody>\n",
       "    <tr>\n",
       "      <th>gsm282373</th>\n",
       "      <td>12.023171</td>\n",
       "      <td>11.610638</td>\n",
       "      <td>10.622652</td>\n",
       "      <td>11.591260</td>\n",
       "      <td>8.769198</td>\n",
       "      <td>10.351178</td>\n",
       "      <td>10.236587</td>\n",
       "      <td>10.245625</td>\n",
       "      <td>9.088987</td>\n",
       "      <td>9.423920</td>\n",
       "      <td>...</td>\n",
       "      <td>7.146255</td>\n",
       "      <td>9.308550</td>\n",
       "      <td>7.728298</td>\n",
       "      <td>5.338729</td>\n",
       "      <td>6.759724</td>\n",
       "      <td>9.314672</td>\n",
       "      <td>6.779964</td>\n",
       "      <td>7.758906</td>\n",
       "      <td>8.044996</td>\n",
       "      <td>7.761478</td>\n",
       "    </tr>\n",
       "    <tr>\n",
       "      <th>gsm282374</th>\n",
       "      <td>11.860564</td>\n",
       "      <td>11.478980</td>\n",
       "      <td>10.456297</td>\n",
       "      <td>12.252396</td>\n",
       "      <td>9.437780</td>\n",
       "      <td>11.275321</td>\n",
       "      <td>10.338221</td>\n",
       "      <td>10.000757</td>\n",
       "      <td>8.620855</td>\n",
       "      <td>10.323952</td>\n",
       "      <td>...</td>\n",
       "      <td>7.128942</td>\n",
       "      <td>10.049733</td>\n",
       "      <td>7.931912</td>\n",
       "      <td>5.356809</td>\n",
       "      <td>6.727976</td>\n",
       "      <td>8.628219</td>\n",
       "      <td>6.619555</td>\n",
       "      <td>8.687569</td>\n",
       "      <td>8.059875</td>\n",
       "      <td>7.424818</td>\n",
       "    </tr>\n",
       "    <tr>\n",
       "      <th>gsm282376</th>\n",
       "      <td>11.830319</td>\n",
       "      <td>11.812078</td>\n",
       "      <td>9.941387</td>\n",
       "      <td>11.778595</td>\n",
       "      <td>8.505857</td>\n",
       "      <td>10.541397</td>\n",
       "      <td>9.817232</td>\n",
       "      <td>10.484564</td>\n",
       "      <td>8.406214</td>\n",
       "      <td>9.576418</td>\n",
       "      <td>...</td>\n",
       "      <td>7.100343</td>\n",
       "      <td>9.519055</td>\n",
       "      <td>8.016544</td>\n",
       "      <td>5.346218</td>\n",
       "      <td>6.607924</td>\n",
       "      <td>8.029696</td>\n",
       "      <td>7.187482</td>\n",
       "      <td>8.857435</td>\n",
       "      <td>7.932893</td>\n",
       "      <td>7.571570</td>\n",
       "    </tr>\n",
       "    <tr>\n",
       "      <th>gsm282378</th>\n",
       "      <td>11.961541</td>\n",
       "      <td>11.643649</td>\n",
       "      <td>10.044256</td>\n",
       "      <td>11.650524</td>\n",
       "      <td>8.964665</td>\n",
       "      <td>10.258182</td>\n",
       "      <td>9.973082</td>\n",
       "      <td>10.881063</td>\n",
       "      <td>9.029704</td>\n",
       "      <td>10.054164</td>\n",
       "      <td>...</td>\n",
       "      <td>6.491838</td>\n",
       "      <td>9.161944</td>\n",
       "      <td>7.733086</td>\n",
       "      <td>5.246947</td>\n",
       "      <td>6.772989</td>\n",
       "      <td>8.418591</td>\n",
       "      <td>7.013464</td>\n",
       "      <td>7.705978</td>\n",
       "      <td>7.496283</td>\n",
       "      <td>7.743633</td>\n",
       "    </tr>\n",
       "    <tr>\n",
       "      <th>gsm282379</th>\n",
       "      <td>12.044651</td>\n",
       "      <td>11.744490</td>\n",
       "      <td>10.059707</td>\n",
       "      <td>12.128441</td>\n",
       "      <td>9.712342</td>\n",
       "      <td>11.088329</td>\n",
       "      <td>11.542303</td>\n",
       "      <td>11.015005</td>\n",
       "      <td>9.977628</td>\n",
       "      <td>9.774750</td>\n",
       "      <td>...</td>\n",
       "      <td>6.567668</td>\n",
       "      <td>9.486164</td>\n",
       "      <td>7.460552</td>\n",
       "      <td>5.186822</td>\n",
       "      <td>6.786288</td>\n",
       "      <td>8.512647</td>\n",
       "      <td>7.175655</td>\n",
       "      <td>8.728241</td>\n",
       "      <td>7.495365</td>\n",
       "      <td>8.007842</td>\n",
       "    </tr>\n",
       "  </tbody>\n",
       "</table>\n",
       "<p>5 rows × 6547 columns</p>\n",
       "</div>"
      ],
      "text/plain": [
       "genename        GDI2     HNRNPU      EIF3A    HSP90B1   PRKAR1A    PRKAR1A  \\\n",
       "gsm282373  12.023171  11.610638  10.622652  11.591260  8.769198  10.351178   \n",
       "gsm282374  11.860564  11.478980  10.456297  12.252396  9.437780  11.275321   \n",
       "gsm282376  11.830319  11.812078   9.941387  11.778595  8.505857  10.541397   \n",
       "gsm282378  11.961541  11.643649  10.044256  11.650524  8.964665  10.258182   \n",
       "gsm282379  12.044651  11.744490  10.059707  12.128441  9.712342  11.088329   \n",
       "\n",
       "genename       RAD21       WDR1     AP2B1       MLEC    ...        ACSM5  \\\n",
       "gsm282373  10.236587  10.245625  9.088987   9.423920    ...     7.146255   \n",
       "gsm282374  10.338221  10.000757  8.620855  10.323952    ...     7.128942   \n",
       "gsm282376   9.817232  10.484564  8.406214   9.576418    ...     7.100343   \n",
       "gsm282378   9.973082  10.881063  9.029704  10.054164    ...     6.491838   \n",
       "gsm282379  11.542303  11.015005  9.977628   9.774750    ...     6.567668   \n",
       "\n",
       "genename       ADAP1     LRCH4     LRTM1     DGCR8    EXOSC4   EHBP1L1  \\\n",
       "gsm282373   9.308550  7.728298  5.338729  6.759724  9.314672  6.779964   \n",
       "gsm282374  10.049733  7.931912  5.356809  6.727976  8.628219  6.619555   \n",
       "gsm282376   9.519055  8.016544  5.346218  6.607924  8.029696  7.187482   \n",
       "gsm282378   9.161944  7.733086  5.246947  6.772989  8.418591  7.013464   \n",
       "gsm282379   9.486164  7.460552  5.186822  6.786288  8.512647  7.175655   \n",
       "\n",
       "genename     EPS8L1      BCAN    DCAF15  \n",
       "gsm282373  7.758906  8.044996  7.761478  \n",
       "gsm282374  8.687569  8.059875  7.424818  \n",
       "gsm282376  8.857435  7.932893  7.571570  \n",
       "gsm282378  7.705978  7.496283  7.743633  \n",
       "gsm282379  8.728241  7.495365  8.007842  \n",
       "\n",
       "[5 rows x 6547 columns]"
      ]
     },
     "execution_count": 48,
     "metadata": {},
     "output_type": "execute_result"
    }
   ],
   "source": [
    "gene_data.iloc[:, gene_data.columns.duplicated()].head()"
   ]
  },
  {
   "cell_type": "markdown",
   "metadata": {},
   "source": [
    "I will rename them!"
   ]
  },
  {
   "cell_type": "code",
   "execution_count": 49,
   "metadata": {},
   "outputs": [
    {
     "data": {
      "text/plain": [
       "(255, 19560)"
      ]
     },
     "execution_count": 49,
     "metadata": {},
     "output_type": "execute_result"
    }
   ],
   "source": [
    "columns = []\n",
    "duplicated_columns = {}\n",
    "\n",
    "for c in gene_data.columns:\n",
    "    if c not in duplicated_columns and len(gene_data[c].shape) == 1:\n",
    "        columns.append(c)\n",
    "    else:\n",
    "        if c not in duplicated_columns:\n",
    "            duplicated_columns[c] = 0\n",
    "        duplicated_columns[c] += 1\n",
    "        columns.append(\"{0}_{1}\".format(c, duplicated_columns[c]))\n",
    "        \n",
    "gene_data.columns = columns\n",
    "    \n",
    "gene_data.shape"
   ]
  },
  {
   "cell_type": "markdown",
   "metadata": {},
   "source": [
    "We need grade information. So let me concat two data frame."
   ]
  },
  {
   "cell_type": "code",
   "execution_count": 50,
   "metadata": {},
   "outputs": [
    {
     "name": "stdout",
     "output_type": "stream",
     "text": [
      "Shape: (255, 19564)\n"
     ]
    },
    {
     "data": {
      "text/html": [
       "<div>\n",
       "<style scoped>\n",
       "    .dataframe tbody tr th:only-of-type {\n",
       "        vertical-align: middle;\n",
       "    }\n",
       "\n",
       "    .dataframe tbody tr th {\n",
       "        vertical-align: top;\n",
       "    }\n",
       "\n",
       "    .dataframe thead th {\n",
       "        text-align: right;\n",
       "    }\n",
       "</style>\n",
       "<table border=\"1\" class=\"dataframe\">\n",
       "  <thead>\n",
       "    <tr style=\"text-align: right;\">\n",
       "      <th></th>\n",
       "      <th>age</th>\n",
       "      <th>stage</th>\n",
       "      <th>size</th>\n",
       "      <th>grade</th>\n",
       "      <th>DDR1_1</th>\n",
       "      <th>RFC2_1</th>\n",
       "      <th>HSPA6_1</th>\n",
       "      <th>PAX8_1</th>\n",
       "      <th>GUCA1A_1</th>\n",
       "      <th>UBA7_1</th>\n",
       "      <th>...</th>\n",
       "      <th>ADAP1_2</th>\n",
       "      <th>LRCH4_3</th>\n",
       "      <th>LRTM1_2</th>\n",
       "      <th>DGCR8_3</th>\n",
       "      <th>EXOSC4_3</th>\n",
       "      <th>EHBP1L1_2</th>\n",
       "      <th>MEX3D</th>\n",
       "      <th>EPS8L1_5</th>\n",
       "      <th>BCAN_3</th>\n",
       "      <th>DCAF15_3</th>\n",
       "    </tr>\n",
       "  </thead>\n",
       "  <tbody>\n",
       "    <tr>\n",
       "      <th>gsm282373</th>\n",
       "      <td>54.0</td>\n",
       "      <td>1.0</td>\n",
       "      <td>2.0</td>\n",
       "      <td>2.0</td>\n",
       "      <td>10.830880</td>\n",
       "      <td>6.537210</td>\n",
       "      <td>7.277863</td>\n",
       "      <td>9.740926</td>\n",
       "      <td>5.267913</td>\n",
       "      <td>7.382774</td>\n",
       "      <td>...</td>\n",
       "      <td>9.308550</td>\n",
       "      <td>7.728298</td>\n",
       "      <td>5.338729</td>\n",
       "      <td>6.759724</td>\n",
       "      <td>9.314672</td>\n",
       "      <td>6.779964</td>\n",
       "      <td>7.442115</td>\n",
       "      <td>7.758906</td>\n",
       "      <td>8.044996</td>\n",
       "      <td>7.761478</td>\n",
       "    </tr>\n",
       "    <tr>\n",
       "      <th>gsm282374</th>\n",
       "      <td>54.0</td>\n",
       "      <td>2.0</td>\n",
       "      <td>2.0</td>\n",
       "      <td>3.0</td>\n",
       "      <td>11.415693</td>\n",
       "      <td>6.520366</td>\n",
       "      <td>7.316761</td>\n",
       "      <td>9.645825</td>\n",
       "      <td>5.116714</td>\n",
       "      <td>8.207070</td>\n",
       "      <td>...</td>\n",
       "      <td>10.049733</td>\n",
       "      <td>7.931912</td>\n",
       "      <td>5.356809</td>\n",
       "      <td>6.727976</td>\n",
       "      <td>8.628219</td>\n",
       "      <td>6.619555</td>\n",
       "      <td>5.829318</td>\n",
       "      <td>8.687569</td>\n",
       "      <td>8.059875</td>\n",
       "      <td>7.424818</td>\n",
       "    </tr>\n",
       "    <tr>\n",
       "      <th>gsm282376</th>\n",
       "      <td>71.0</td>\n",
       "      <td>1.0</td>\n",
       "      <td>1.0</td>\n",
       "      <td>2.0</td>\n",
       "      <td>11.102564</td>\n",
       "      <td>6.582786</td>\n",
       "      <td>7.279104</td>\n",
       "      <td>9.859698</td>\n",
       "      <td>5.090731</td>\n",
       "      <td>7.999345</td>\n",
       "      <td>...</td>\n",
       "      <td>9.519055</td>\n",
       "      <td>8.016544</td>\n",
       "      <td>5.346218</td>\n",
       "      <td>6.607924</td>\n",
       "      <td>8.029696</td>\n",
       "      <td>7.187482</td>\n",
       "      <td>6.490046</td>\n",
       "      <td>8.857435</td>\n",
       "      <td>7.932893</td>\n",
       "      <td>7.571570</td>\n",
       "    </tr>\n",
       "    <tr>\n",
       "      <th>gsm282378</th>\n",
       "      <td>61.0</td>\n",
       "      <td>1.0</td>\n",
       "      <td>2.0</td>\n",
       "      <td>2.0</td>\n",
       "      <td>9.887807</td>\n",
       "      <td>7.093003</td>\n",
       "      <td>7.286577</td>\n",
       "      <td>9.319635</td>\n",
       "      <td>5.085679</td>\n",
       "      <td>8.332940</td>\n",
       "      <td>...</td>\n",
       "      <td>9.161944</td>\n",
       "      <td>7.733086</td>\n",
       "      <td>5.246947</td>\n",
       "      <td>6.772989</td>\n",
       "      <td>8.418591</td>\n",
       "      <td>7.013464</td>\n",
       "      <td>8.079909</td>\n",
       "      <td>7.705978</td>\n",
       "      <td>7.496283</td>\n",
       "      <td>7.743633</td>\n",
       "    </tr>\n",
       "    <tr>\n",
       "      <th>gsm282379</th>\n",
       "      <td>60.0</td>\n",
       "      <td>1.0</td>\n",
       "      <td>1.0</td>\n",
       "      <td>2.0</td>\n",
       "      <td>11.070358</td>\n",
       "      <td>6.581049</td>\n",
       "      <td>7.519710</td>\n",
       "      <td>9.287543</td>\n",
       "      <td>5.177971</td>\n",
       "      <td>7.973080</td>\n",
       "      <td>...</td>\n",
       "      <td>9.486164</td>\n",
       "      <td>7.460552</td>\n",
       "      <td>5.186822</td>\n",
       "      <td>6.786288</td>\n",
       "      <td>8.512647</td>\n",
       "      <td>7.175655</td>\n",
       "      <td>6.982805</td>\n",
       "      <td>8.728241</td>\n",
       "      <td>7.495365</td>\n",
       "      <td>8.007842</td>\n",
       "    </tr>\n",
       "  </tbody>\n",
       "</table>\n",
       "<p>5 rows × 19564 columns</p>\n",
       "</div>"
      ],
      "text/plain": [
       "            age  stage  size  grade     DDR1_1    RFC2_1   HSPA6_1    PAX8_1  \\\n",
       "gsm282373  54.0    1.0   2.0    2.0  10.830880  6.537210  7.277863  9.740926   \n",
       "gsm282374  54.0    2.0   2.0    3.0  11.415693  6.520366  7.316761  9.645825   \n",
       "gsm282376  71.0    1.0   1.0    2.0  11.102564  6.582786  7.279104  9.859698   \n",
       "gsm282378  61.0    1.0   2.0    2.0   9.887807  7.093003  7.286577  9.319635   \n",
       "gsm282379  60.0    1.0   1.0    2.0  11.070358  6.581049  7.519710  9.287543   \n",
       "\n",
       "           GUCA1A_1    UBA7_1    ...       ADAP1_2   LRCH4_3   LRTM1_2  \\\n",
       "gsm282373  5.267913  7.382774    ...      9.308550  7.728298  5.338729   \n",
       "gsm282374  5.116714  8.207070    ...     10.049733  7.931912  5.356809   \n",
       "gsm282376  5.090731  7.999345    ...      9.519055  8.016544  5.346218   \n",
       "gsm282378  5.085679  8.332940    ...      9.161944  7.733086  5.246947   \n",
       "gsm282379  5.177971  7.973080    ...      9.486164  7.460552  5.186822   \n",
       "\n",
       "            DGCR8_3  EXOSC4_3  EHBP1L1_2     MEX3D  EPS8L1_5    BCAN_3  \\\n",
       "gsm282373  6.759724  9.314672   6.779964  7.442115  7.758906  8.044996   \n",
       "gsm282374  6.727976  8.628219   6.619555  5.829318  8.687569  8.059875   \n",
       "gsm282376  6.607924  8.029696   7.187482  6.490046  8.857435  7.932893   \n",
       "gsm282378  6.772989  8.418591   7.013464  8.079909  7.705978  7.496283   \n",
       "gsm282379  6.786288  8.512647   7.175655  6.982805  8.728241  7.495365   \n",
       "\n",
       "           DCAF15_3  \n",
       "gsm282373  7.761478  \n",
       "gsm282374  7.424818  \n",
       "gsm282376  7.571570  \n",
       "gsm282378  7.743633  \n",
       "gsm282379  8.007842  \n",
       "\n",
       "[5 rows x 19564 columns]"
      ]
     },
     "execution_count": 50,
     "metadata": {},
     "output_type": "execute_result"
    }
   ],
   "source": [
    "total_data = pd.merge(clinic_data, gene_data, how='right', left_index=True, right_index=True)\n",
    "\n",
    "print('Shape:', total_data.shape)\n",
    "total_data.head()"
   ]
  },
  {
   "cell_type": "markdown",
   "metadata": {},
   "source": [
    "Let me see whether there are some nan values."
   ]
  },
  {
   "cell_type": "code",
   "execution_count": 51,
   "metadata": {},
   "outputs": [
    {
     "name": "stdout",
     "output_type": "stream",
     "text": [
      "age: 246\n",
      "stage: 246\n",
      "size: 246\n",
      "grade: 246\n"
     ]
    }
   ],
   "source": [
    "for label in total_data.columns:\n",
    "    n = total_data[label].dropna().shape[0]\n",
    "    if n != 255:\n",
    "        print('{0}: {1}'.format(label, n))"
   ]
  },
  {
   "cell_type": "markdown",
   "metadata": {},
   "source": [
    "Ok, some patients has no information what grade they have.\n",
    "We didn't do same approach as I did in preprocessing of clinic data.\n",
    "Because grade information is so important, and should be precise.\n",
    "\n",
    "So, I will drop na."
   ]
  },
  {
   "cell_type": "code",
   "execution_count": 52,
   "metadata": {},
   "outputs": [
    {
     "data": {
      "text/plain": [
       "(246, 19564)"
      ]
     },
     "execution_count": 52,
     "metadata": {},
     "output_type": "execute_result"
    }
   ],
   "source": [
    "total_data.dropna(inplace=True)\n",
    "total_data.shape"
   ]
  },
  {
   "cell_type": "markdown",
   "metadata": {},
   "source": [
    "Okay. I want to plot my dataset to see how datapoints are distributed."
   ]
  },
  {
   "cell_type": "code",
   "execution_count": 53,
   "metadata": {},
   "outputs": [
    {
     "data": {
      "image/png": "[encoded data removed]",
      "text/plain": [
       "<Figure size 432x288 with 1 Axes>"
      ]
     },
     "metadata": {
      "needs_background": "light"
     },
     "output_type": "display_data"
    }
   ],
   "source": [
    "from sklearn.decomposition import PCA\n",
    "\n",
    "pca = PCA(n_components=2)\n",
    "pca.fit(total_data.drop(columns='grade'))\n",
    "\n",
    "pca_f = pca.transform(total_data.drop(columns='grade'))\n",
    "\n",
    "plt.scatter(pca_f[total_data['grade'] == 1][:, 0], pca_f[total_data['grade'] == 1][:, 1], c='green')\n",
    "plt.scatter(pca_f[total_data['grade'] == 2][:, 0], pca_f[total_data['grade'] == 2][:, 1], c='blue')\n",
    "plt.scatter(pca_f[total_data['grade'] == 3][:, 0], pca_f[total_data['grade'] == 3][:, 1], c='red')\n",
    "plt.legend(['Grade 1', 'Grade 2', 'Grade 3'])\n",
    "plt.xlabel('PC1')\n",
    "plt.ylabel('PC2')\n",
    "plt.show()"
   ]
  },
  {
   "cell_type": "markdown",
   "metadata": {},
   "source": [
    "Um.. datapoints seem to be hard to classify. Okay, it seems to need more preprocessing."
   ]
  },
  {
   "cell_type": "markdown",
   "metadata": {},
   "source": [
    "### Remove irrelevant genes."
   ]
  },
  {
   "cell_type": "markdown",
   "metadata": {},
   "source": [
    "##### My method is same as TA's method accidentlly. I implemented this solution before seeing TA's solution."
   ]
  },
  {
   "cell_type": "markdown",
   "metadata": {},
   "source": [
    "In my opinion, in each stages each genes has different effect on tumor.\n",
    "\n",
    "So, to find irrelevant genes, I will do following.\n",
    "1. For each genes, compute mean and standard deviation with respect to each grade. (means, stds)\n",
    "2. For each genes, compute mean regardless of grade. (total_mean)\n",
    "3. Compute (means - total_mean)^2 for each grade.\n",
    "4. Compute score by dividing temp by stds. then, I now get scores of each genes for each grade.\n",
    "5. Pick the n highest scores in each grade.\n",
    "\n",
    "Now, I have 3 array of genes.\n",
    "\n",
    "First one, the most outstanding genes in grade 1.\n",
    "Second one, the most outstanding genes in grade 2.\n",
    "Third one, the most outstanding genes in grade 3."
   ]
  },
  {
   "cell_type": "code",
   "execution_count": 54,
   "metadata": {},
   "outputs": [
    {
     "data": {
      "text/plain": [
       "Index(['DDR1_1', 'RFC2_1', 'HSPA6_1', 'PAX8_1', 'GUCA1A_1', 'UBA7_1', 'THRA_1',\n",
       "       'PTPN21_1', 'CCL5_1', 'CYP2E1_1',\n",
       "       ...\n",
       "       'ADAP1_2', 'LRCH4_3', 'LRTM1_2', 'DGCR8_3', 'EXOSC4_3', 'EHBP1L1_2',\n",
       "       'MEX3D', 'EPS8L1_5', 'BCAN_3', 'DCAF15_3'],\n",
       "      dtype='object', length=19560)"
      ]
     },
     "execution_count": 54,
     "metadata": {},
     "output_type": "execute_result"
    }
   ],
   "source": [
    "# get list of name of gene.\n",
    "\n",
    "names_gene = gene_data.columns\n",
    "names_gene"
   ]
  },
  {
   "cell_type": "code",
   "execution_count": 55,
   "metadata": {},
   "outputs": [],
   "source": [
    "means = np.zeros((3, total_data.shape[1] - 4))\n",
    "stds = np.zeros((3, total_data.shape[1] - 4))\n",
    "\n",
    "for g in range(3):\n",
    "    means[g, :] = total_data[total_data['grade'] == (g + 1)].iloc[:, 4:].mean(axis=0)\n",
    "    stds[g, :] = total_data[total_data['grade'] == (g + 1)].iloc[:, 4:].std(axis=0)"
   ]
  },
  {
   "cell_type": "code",
   "execution_count": 56,
   "metadata": {},
   "outputs": [],
   "source": [
    "def gene_scores(means, stds, labels):\n",
    "    \n",
    "    total_mean = np.mean(means, axis=0)\n",
    "    \n",
    "    mean_diff = means - total_mean.reshape(1, means.shape[1])\n",
    "    scores = np.divide(mean_diff, stds)\n",
    "    scores = scores ** 2\n",
    "    \n",
    "    return scores"
   ]
  },
  {
   "cell_type": "code",
   "execution_count": 57,
   "metadata": {},
   "outputs": [],
   "source": [
    "scores = gene_scores(means, stds, names_gene)"
   ]
  },
  {
   "cell_type": "markdown",
   "metadata": {},
   "source": [
    "Let me print max and min scores in each grades."
   ]
  },
  {
   "cell_type": "code",
   "execution_count": 58,
   "metadata": {},
   "outputs": [
    {
     "name": "stdout",
     "output_type": "stream",
     "text": [
      "grade 1\n",
      "max score: 4.245688788471497\n",
      "min score: 1.1533134083457587e-13\n",
      "grade 2\n",
      "max score: 0.5375497412357481\n",
      "min score: 3.537744823550878e-11\n",
      "grade 3\n",
      "max score: 2.680058342737712\n",
      "min score: 1.6483277216112877e-11\n"
     ]
    }
   ],
   "source": [
    "for g in range(3):\n",
    "    print('grade {}'.format(g + 1))\n",
    "    print('max score: {}'.format(scores[g].max()))\n",
    "    print('min score: {}'.format(scores[g].min()))"
   ]
  },
  {
   "cell_type": "markdown",
   "metadata": {},
   "source": [
    "Let me set 0.54 as threshold in grade 1, 0.128 in grade 2, 0.485 in grade 3 to make the number in each grade is about 300."
   ]
  },
  {
   "cell_type": "code",
   "execution_count": 59,
   "metadata": {},
   "outputs": [],
   "source": [
    "th_score_one = 0.54\n",
    "th_score_two = 0.128\n",
    "th_score_three = 0.485\n",
    "\n",
    "useful_labels_grade_one = names_gene[scores[0] > th_score_one]\n",
    "useful_labels_grade_two = names_gene[scores[1] > th_score_two]\n",
    "useful_labels_grade_three = names_gene[scores[2] > th_score_three]"
   ]
  },
  {
   "cell_type": "code",
   "execution_count": 60,
   "metadata": {},
   "outputs": [
    {
     "name": "stdout",
     "output_type": "stream",
     "text": [
      "useful in grade 1: (304,)\n",
      "useful in grade 2: (303,)\n",
      "useful in grade 3: (309,)\n"
     ]
    }
   ],
   "source": [
    "print('useful in grade 1:', useful_labels_grade_one.shape)\n",
    "print('useful in grade 2:', useful_labels_grade_two.shape)\n",
    "print('useful in grade 3:', useful_labels_grade_three.shape)"
   ]
  },
  {
   "cell_type": "code",
   "execution_count": 61,
   "metadata": {},
   "outputs": [
    {
     "name": "stdout",
     "output_type": "stream",
     "text": [
      "(916,)\n"
     ]
    }
   ],
   "source": [
    "useful_labels = np.concatenate([useful_labels_grade_one, useful_labels_grade_two, useful_labels_grade_three], axis=0)\n",
    "print(useful_labels.shape)"
   ]
  },
  {
   "cell_type": "code",
   "execution_count": 62,
   "metadata": {},
   "outputs": [
    {
     "name": "stdout",
     "output_type": "stream",
     "text": [
      "(820,)\n"
     ]
    }
   ],
   "source": [
    "useful_labels = np.unique(useful_labels)\n",
    "print(useful_labels.shape)"
   ]
  },
  {
   "cell_type": "markdown",
   "metadata": {},
   "source": [
    "Now, I picked several genes!\n",
    "\n",
    "Let me search for them in google."
   ]
  },
  {
   "cell_type": "code",
   "execution_count": 63,
   "metadata": {},
   "outputs": [
    {
     "data": {
      "text/plain": [
       "array(['ABAT_2', 'ABAT_3', 'AC010531.1_2', 'AC012476.1_2', 'AC023490.3',\n",
       "       'AC027644.4', 'AC068831.7', 'AC240274.1', 'AC243922.3', 'ACACB_2',\n",
       "       'ACACB_3', 'ACACB_4', 'ACE2_1', 'ACE2_2', 'ACHE_2', 'ACRV1_2',\n",
       "       'ACRV1_4', 'ACSF2', 'ADGRG6', 'ADRA2A', 'AEBP1', 'AFF1_1', 'AFP',\n",
       "       'AGGF1_2', 'AGO2', 'AGTPBP1', 'AHNAK_1', 'AHSA2P', 'AK6',\n",
       "       'AL049869.1', 'AL158066.1', 'ALG13_1', 'ALG3', 'ALOX12', 'ANG_2',\n",
       "       'ANKHD1-EIF4EBP3', 'ANKHD1_1', 'ANKMY2', 'ANKRA2', 'ANKRD12_1',\n",
       "       'ANKRD12_2', 'ANP32E_1', 'AP2A2_1', 'AP2A2_2', 'APOBEC3B',\n",
       "       'ARHGAP22', 'ARHGEF12_2', 'ARL1_2', 'ARNT_2', 'ARPC5L', 'ART3',\n",
       "       'ASAH1_1', 'ASF1B', 'ASPM', 'ATG14', 'ATP11A_2', 'ATP2B4_1',\n",
       "       'ATP5F1C_2', 'ATP5F1C_3', 'AUNIP', 'AURKA_1', 'AURKA_2', 'AURKB',\n",
       "       'AZGP1_1', 'BAZ2B', 'BBIP1_2', 'BBOF1', 'BCL11A_1', 'BCL11A_2',\n",
       "       'BCL11A_3', 'BCL11B', 'BCL2L14', 'BCL2_2', 'BID_2', 'BIN2',\n",
       "       'BIRC5_1', 'BIRC5_2', 'BIRC5_3', 'BLM', 'BPI', 'BRCA2_2', 'BRD8_1',\n",
       "       'BTG2_2', 'BUB1B', 'BUB1_1', 'BUB1_2', 'BX571818.1', 'BYSL',\n",
       "       'C14orf132', 'C15orf39_1', 'C18orf25', 'C1orf21', 'C21orf91',\n",
       "       'C5orf15', 'CA12_5', 'CA12_6', 'CACNA1D_1', 'CACNA1D_2',\n",
       "       'CACNA2D2', 'CALB1_1', 'CAMP', 'CASC1', 'CAST_3', 'CAVIN2',\n",
       "       'CBFB_2', 'CCDC170', 'CCL20', 'CCL8', 'CCNA2_1', 'CCNA2_2',\n",
       "       'CCNB1', 'CCNB2', 'CCNE1', 'CCNE2_1', 'CCNE2_2', 'CCNH', 'CCNL2',\n",
       "       'CCPG1_1', 'CCPG1_2', 'CCPG1_4', 'CCR2_2', 'CCT5', 'CD160',\n",
       "       'CD207', 'CD2AP', 'CD302', 'CD7_1', 'CD8B2', 'CDC123', 'CDC14B_2',\n",
       "       'CDC20', 'CDC25A_1', 'CDC25B', 'CDC45', 'CDC6_1', 'CDC6_2', 'CDC7',\n",
       "       'CDCA3', 'CDCA8', 'CDH19', 'CDK1_1', 'CDK1_2', 'CDK1_3', 'CDK6',\n",
       "       'CDK7', 'CDKN2A_2', 'CDKN3', 'CDT1', 'CEACAM1_3', 'CEBPG',\n",
       "       'CENPA_1', 'CENPA_2', 'CENPF_2', 'CENPI_1', 'CENPI_2', 'CENPM',\n",
       "       'CENPN_1', 'CENPN_2', 'CENPU', 'CEP55', 'CFAP44', 'CFLAR_3',\n",
       "       'CHAF1A_3', 'CHAF1B', 'CHCHD2P6', 'CHEK1_1', 'CHEK1_2', 'CHODL',\n",
       "       'CHRM3', 'CHST15', 'CHST2', 'CIAO2B', 'CIRBP_1', 'CIRBP_2', 'CKS2',\n",
       "       'CLBA1', 'CLDN5', 'CLK1', 'CLK4', 'CLMN_1', 'CLUL1', 'CMKLR1_1',\n",
       "       'CNOT1_2', 'CNR1_3', 'COL14A1_3', 'COL16A1', 'COPS8_1', 'COX5A',\n",
       "       'COX6CP1', 'COX7A1', 'COX7CP1', 'COX7C_1', 'COX7C_2', 'CRY2',\n",
       "       'CSAD', 'CSAG3', 'CSK', 'CSNK1A1_5', 'CST5', 'CTDSP1', 'CTDSPL_3',\n",
       "       'CTNNA1_2', 'CTPS1', 'CTSV', 'CTSW', 'CX3CL1_1', 'CX3CR1',\n",
       "       'CXCL5_1', 'CXCR6_1', 'CXCR6_2', 'CYBA', 'CYBRD1', 'CYP2C8',\n",
       "       'CYP4F8', 'DBF4', 'DCAF7_1', 'DDAH2_2', 'DDAH2_3', 'DDX12P_1',\n",
       "       'DDX12P_2', 'DDX17_2', 'DEFA6', 'DEPTOR', 'DERL1_2', 'DESI1_1',\n",
       "       'DFFA', 'DHX29', 'DICER1_2', 'DIRAS3', 'DIXDC1', 'DKK2', 'DLGAP5',\n",
       "       'DLX2_1', 'DMD_2', 'DNAJC12', 'DNAJC16_2', 'DNPEP_2', 'DOK1_1',\n",
       "       'DONSON', 'DPP6', 'DRC3', 'DSC3_2', 'DSCC1', 'DSG1', 'DSG3',\n",
       "       'DUSP21', 'DYNC1I2P1', 'DYNC2H1', 'E2F1_1', 'E2F8', 'ECI2',\n",
       "       'EDEM3_2', 'EFHC1', 'EGFL8_1', 'EGFL8_2', 'EIF4EBP1', 'ELF5_1',\n",
       "       'EN1', 'EPHX2', 'EPHX3', 'ERBB4_1', 'ERBB4_2', 'ERCC6L', 'ESPL1_1',\n",
       "       'ESPL1_2', 'ESR1_1', 'ESR2_2', 'EXO1', 'EZH1_1', 'EZH1_3', 'EZH2',\n",
       "       'FA2H', 'FAAH', 'FAM114A1', 'FAM13B', 'FAM172A', 'FAM174B_1',\n",
       "       'FAM30A_1', 'FAM49B_2', 'FANCA_1', 'FANCA_2', 'FANCI_1', 'FANCI_2',\n",
       "       'FASLG_2', 'FBXL5_1', 'FEM1C', 'FEN1_1', 'FEN1_2', 'FERMT1_1',\n",
       "       'FERMT1_2', 'FGA_1', 'FGFBP1', 'FMO5_1', 'FMOD', 'FOLR1', 'FOXM1',\n",
       "       'FOXRED2', 'FRY_1', 'FYCO1', 'GABBR2_1', 'GABBR2_4', 'GAGE12F_3',\n",
       "       'GALC_1', 'GALNT10_2', 'GARS', 'GATA3_1', 'GATA3_2', 'GATA3_3',\n",
       "       'GGH', 'GINS1', 'GINS2', 'GJB3_2', 'GLB1L', 'GLRB_1', 'GLT8D1_1',\n",
       "       'GLT8D1_2', 'GMPS', 'GNG11', 'GNG12', 'GOLGA8N', 'GOLM1', 'GPC4_2',\n",
       "       'GPM6B_2', 'GPRASP1', 'GPSM2_1', 'GRHPR_1', 'GRHPR_3', 'GRK6_1',\n",
       "       'GTF2H5', 'GTPBP4_2', 'GTSE1_1', 'GTSE1_2', 'GVINP1', 'GZMH',\n",
       "       'H2AFVP1', 'H2AFX_1', 'H2AFX_2', 'HBP1_2', 'HCCS_2', 'HDGF_2',\n",
       "       'HEMK1_1', 'HEXB', 'HEXIM1_2', 'HHAT', 'HINT1_3', 'HJURP',\n",
       "       'HLA-DOB', 'HMGA1_1', 'HMGB3', 'HNMT_3', 'HRASLS_1', 'HRASLS_2',\n",
       "       'HSD17B4', 'HTATIP2_1', 'HTR3A_1', 'HTR4_3', 'HTRA2_1', 'HTRA2_2',\n",
       "       'IDH2_2', 'IDO1', 'IFNG', 'IGF2BP3_1', 'IGFBP4', 'IGHV3-73',\n",
       "       'IL13RA1_1', 'IL1R2_1', 'IL1R2_2', 'IL21R_1', 'IL21R_2', 'IL23A',\n",
       "       'IL27RA_1', 'IL2RA_2', 'IL6ST_2', 'IL6ST_4', 'IL6ST_5', 'IMPA2',\n",
       "       'INAVA', 'INPP5A', 'IQCE_1', 'ITCH_2', 'ITFG2_1', 'ITGB5_1',\n",
       "       'ITGB5_2', 'ITGB8_2', 'ITGBL1_2', 'ITM2B_1', 'ITPR1_2', 'ITPR1_3',\n",
       "       'ITSN1_2', 'JADE2_2', 'JAM3', 'JPT1', 'KCMF1', 'KCNB2_2',\n",
       "       'KCND3_3', 'KCND3_4', 'KCNG1_2', 'KCTD14_1', 'KDM4B_2', 'KDM4B_3',\n",
       "       'KEL', 'KIAA0040_1', 'KIAA0232', 'KIF11', 'KIF13B', 'KIF14',\n",
       "       'KIF15', 'KIF18A', 'KIF18B', 'KIF20A', 'KIF23', 'KIF2C_1',\n",
       "       'KIF2C_2', 'KIF4A', 'KIF5C_2', 'KIFC1', 'KIR2DL4_1', 'KIR3DL3',\n",
       "       'KLHDC2', 'KLHL41', 'KLHL7_2', 'KLRC1', 'KRR1_1', 'KRT16', 'KRT6A',\n",
       "       'LAG3', 'LAGE3', 'LALBA', 'LAMB2', 'LAMP3', 'LAMP5', 'LCAT', 'LCT',\n",
       "       'LEPR_2', 'LGALS8_1', 'LGALS8_4', 'LGR5_1', 'LHX2_1', 'LIAS',\n",
       "       'LIMA1', 'LINC00472', 'LIPG', 'LMNB1', 'LMNB2', 'LRP1B', 'LRP8_1',\n",
       "       'LRP8_2', 'LRRC14_2', 'LRRC41_2', 'LRRC59', 'LSM8', 'LTBP4_1',\n",
       "       'LY6D', 'LYPD1', 'LZTFL1', 'LZTS3', 'MAB21L4', 'MAD2L1', 'MAGEA4',\n",
       "       'MAGED2', 'MAGI2_2', 'MAP3K1', 'MAP4K3', 'MAPT_2', 'MAPT_3',\n",
       "       'MARCH8', 'MARCO', 'MATR3_2', 'MCM10', 'MCM2', 'MCM4_4', 'MCM5_1',\n",
       "       'MCM6', 'MELK', 'MET_3', 'MFAP4', 'MIR601', 'MIR7112', 'MKI67_1',\n",
       "       'MKI67_2', 'MKI67_3', 'MKI67_4', 'MLPH', 'MMP1', 'MMP16_1',\n",
       "       'MMP28', 'MOAP1', 'MRNIP', 'MRPL15', 'MRPS14_2', 'MRPS30_2',\n",
       "       'MRTFB', 'MSL3_2', 'MSLN', 'MTFR1_2', 'MTUS1_2', 'MTX2', 'MYBL2',\n",
       "       'MYO6_3', 'MYRF_1', 'N4BP2L2_4', 'NAIP', 'NAP1L3', 'NAT1',\n",
       "       'NCAPD2', 'NCAPG2', 'NCAPG_1', 'NCAPH', 'NCOR1_1', 'NCR3_2',\n",
       "       'NDC80', 'NEDD4L_2', 'NEIL3', 'NEK11', 'NEK2_1', 'NEK2_2',\n",
       "       'NEK9_1', 'NFIC_2', 'NIP7', 'NISCH', 'NKX2-2', 'NME8', 'NMU',\n",
       "       'NPBWR2', 'NPY2R_1', 'NSA2', 'NTRK3_3', 'NUP93', 'NUSAP1_1',\n",
       "       'NUSAP1_2', 'OGN', 'OIP5', 'OMD_2', 'OR7A5', 'OR7E38P', 'ORC1',\n",
       "       'PADI3', 'PAK3', 'PATJ_2', 'PAX6', 'PBK', 'PCLAF_1', 'PDE1C_1',\n",
       "       'PDGFD', 'PDIA6_1', 'PDK1', 'PDK3_3', 'PDK4', 'PDSS1', 'PDZRN3',\n",
       "       'PEX11A_1', 'PGBD5_2', 'PGK1_2', 'PGR', 'PHF1_2', 'PHF20_1',\n",
       "       'PHF20_2', 'PHLDA1_3', 'PI3_2', 'PIGF_1', 'PIM2', 'PIMREG', 'PIR',\n",
       "       'PLA2G2D', 'PLCG2', 'PLEKHF1', 'PLEK_2', 'PLK1', 'PLK4_2',\n",
       "       'PLXNB1_2', 'PNISR_2', 'PNISR_3', 'PNRC2', 'POLA2', 'POLE2',\n",
       "       'POLI', 'POLQ', 'POU4F1_1', 'PPFIA1_4', 'PPIC_1', 'PPM1E',\n",
       "       'PPP1R12B_2', 'PPP1R14BP3', 'PRAME', 'PRDX4', 'PRF1', 'PRKCQ_1',\n",
       "       'PRND', 'PSAT1', 'PSD3_2', 'PSD3_3', 'PSMB2_1', 'PSMD11', 'PSMG1',\n",
       "       'PTP4A2_3', 'PTPN22_1', 'PTTG1', 'PVR_1', 'PVR_5', 'RABEP1_1',\n",
       "       'RABEP1_2', 'RACGAP1', 'RAD51AP1', 'RAD54L', 'RAI2', 'RANBP1_2',\n",
       "       'RAN_2', 'RAPGEF3_1', 'RARB_1', 'RBM38', 'RBM5_1', 'RBM5_2',\n",
       "       'RCC1_1', 'RCOR3', 'RECQL4', 'RERE_3', 'RFC4', 'RGPD6', 'RGS5_3',\n",
       "       'RHOBTB1', 'RIPK2_2', 'RNASE4', 'RNASEH2A', 'RNU4-46P', 'ROPN1B',\n",
       "       'RRM2_1', 'RRM2_2', 'RRNAD1', 'RUNX3_1', 'RYBP_2', 'S100A8',\n",
       "       'S100A9', 'SAA4', 'SACM1L', 'SAR1A_1', 'SATB1', 'SCAMP1_3',\n",
       "       'SCUBE2', 'SEC62_1', 'SENP5_3', 'SERINC1', 'SERPINB3_1',\n",
       "       'SERPINB3_2', 'SERPINB4_1', 'SERPINB4_2', 'SERPINB7', 'SESN1',\n",
       "       'SF3B3_1', 'SFPQ_4', 'SHQ1_1', 'SIGMAR1_1', 'SIK3_2', 'SIK3_4',\n",
       "       'SIRPG', 'SKP2_1', 'SKP2_3', 'SLC15A1_1', 'SLC18A2', 'SLC19A2',\n",
       "       'SLC1A1_1', 'SLC1A1_2', 'SLC22A5', 'SLC24A1_1', 'SLC25A5',\n",
       "       'SLC30A1', 'SLC35E2A_2', 'SLC39A2', 'SLC39A4', 'SLC44A4',\n",
       "       'SLC52A2_1', 'SLC6A12', 'SLC7A1_1', 'SLC7A5', 'SLCO1A2_1',\n",
       "       'SLCO3A1_1', 'SNORA11', 'SNORA21B', 'SNRPC', 'SNRPN', 'SNX1_2',\n",
       "       'SOCS2_1', 'SORBS1_3', 'SOS1_1', 'SOX11_1', 'SOX11_2', 'SOX11_3',\n",
       "       'SP140', 'SPAG5', 'SPANXA1_2', 'SPATA6_1', 'SPC25', 'SPCS1',\n",
       "       'SPIB', 'SPRR1A_1', 'SQLE_1', 'SQLE_2', 'SREK1', 'SRSF5_1',\n",
       "       'SRSF5_3', 'ST8SIA1', 'STAR', 'STARD13', 'STAT2_1', 'STC2_1',\n",
       "       'STC2_2', 'STIL', 'STK32B', 'STMN1', 'SUN2', 'SYNC', 'SYT1_1',\n",
       "       'TAAR5', 'TACC3', 'TBC1D31', 'TBC1D9_1', 'TDO2', 'TEK_2', 'TEX30',\n",
       "       'TGIF2-RAB5IF', 'THBD_1', 'TIMELESS_1', 'TJP1_1', 'TK1',\n",
       "       'TMEM132A', 'TMEM30B', 'TMEM35A', 'TMEM39B', 'TMEM87A_1',\n",
       "       'TMOD1_2', 'TMPO_3', 'TMSB15A', 'TNFAIP2_2', 'TNFRSF9_1',\n",
       "       'TOGARAM1', 'TOP2A_2', 'TOR1AIP1_1', 'TOX_1', 'TP53BP1_2',\n",
       "       'TP53TG1_2', 'TP73-AS1_2', 'TPI1P1', 'TPI1_2', 'TPX2', 'TRAK1_3',\n",
       "       'TRIM23_1', 'TRIM45', 'TRIM52', 'TRIM8', 'TRIP13', 'TRMT1L',\n",
       "       'TRMU_1', 'TROAP', 'TRPM6', 'TSC22D3_1', 'TSC22D3_2', 'TTC22_1',\n",
       "       'TTC28_1', 'TTC37_1', 'TTC39A_1', 'TTC3_3', 'TTC3_5', 'TTK',\n",
       "       'TTLL3_2', 'TTLL4_1', 'TTLL4_2', 'TTLL7', 'TTYH1', 'TUBA1B_2',\n",
       "       'TUB_2', 'TULP2', 'TYMS', 'UBE2C', 'UBE2K_1', 'UBE2K_2', 'UBE2O',\n",
       "       'UBE2S', 'UCK2', 'UGT1A10_1', 'UGT1A10_2', 'UGT1A10_3',\n",
       "       'UGT1A10_5', 'UGT8', 'UQCRQ', 'USB1', 'VEZF1_2', 'VGLL1_1',\n",
       "       'VGLL1_2', 'VPS13D_3', 'WBP1L', 'WDFY3_3', 'WDR19', 'WDR25',\n",
       "       'WDR59_3', 'WISP3', 'YBX1P1_2', 'YIPF1', 'YTHDC2_3', 'ZBED2',\n",
       "       'ZBTB18_1', 'ZBTB20_2', 'ZC3H14_2', 'ZCCHC24_1', 'ZFYVE16',\n",
       "       'ZKSCAN7', 'ZMYND10_1', 'ZMYND10_2', 'ZNF177', 'ZNF224_2',\n",
       "       'ZNF263', 'ZNF280D', 'ZNF281', 'ZNF287', 'ZNF384', 'ZNF423',\n",
       "       'ZNF432', 'ZNF500_1', 'ZNF573', 'ZNF638_2', 'ZNF83', 'ZWINT'],\n",
       "      dtype=object)"
      ]
     },
     "execution_count": 63,
     "metadata": {},
     "output_type": "execute_result"
    }
   ],
   "source": [
    "useful_labels"
   ]
  },
  {
   "cell_type": "markdown",
   "metadata": {},
   "source": [
    "##### ACACB\n",
    "Ma, L., Mondal, A. K., Murea, M., Sharma, N. K., Tönjes, A., Langberg, K. A., Das, S. K., Franks, P. W., Kovacs, P., Antinozzi, P. A., Stumvoll, M., Parks, J. S., Elbein, S. C., … Freedman, B. I. (2011). The effect of ACACB cis-variants on gene expression and metabolic traits. PloS one, 6(8), e23860."
   ]
  },
  {
   "cell_type": "markdown",
   "metadata": {},
   "source": [
    "##### ACE2\n",
    "Yu, C., Tang, W., Wang, Y., Shen, Q., Wang, B., Cai, C., … Zou, F. (2016). Downregulation of ACE2/Ang-(1-7)/Mas axis promotes breast cancer metastasis by enhancing store-operated calcium entry. Cancer Letters, 376(2), 268–277. http://doi.org/10.1016/j.canlet.2016.04.006"
   ]
  },
  {
   "cell_type": "markdown",
   "metadata": {},
   "source": [
    "##### ALOX12\n",
    "Liu P, Lu Y, Recker RR, Deng HW, Dvornyk V. ALOX12 gene is associated with the onset of natural menopause in white women. Menopause. 2010;17(1):152-6."
   ]
  },
  {
   "cell_type": "markdown",
   "metadata": {},
   "source": [
    "##### ANKRA2\n",
    "Nie, J., Xu, C., Jin, J., Aka, J. A., Tempel, W., Nguyen, V., … Yang, X.-J. (2015). Ankyrin repeats of ANKRA2 recognize a PxLPxL motif on the 3M syndrome protein CCDC8. Structure (London, England : 1993), 23(4), 700–712. https://doi.org/10.1016/j.str.2015.02.001"
   ]
  },
  {
   "cell_type": "markdown",
   "metadata": {},
   "source": [
    "##### APOBEC3B\n",
    "Tokunaga, E., Yamashita, N., Tanaka, K., Inoue, Y., Akiyoshi, S., Saeki, H., Oki, E., Kitao, H., … Maehara, Y. (2016). Expression of APOBEC3B mRNA in Primary Breast Cancer of Japanese Women. PloS one, 11(12), e0168090. doi:10.1371/journal.pone.0168090\n"
   ]
  },
  {
   "cell_type": "markdown",
   "metadata": {},
   "source": [
    "##### ARHGAP22\n",
    "Feng, M., Bao, Y., Li, Z., Li, J., Gong, M., Lam, S., … Yu, Q. (2014). RASAL2 activates RAC1 to promote triple-negative breast cancer progression. The Journal of Clinical Investigation, 124(12), 5291–5304. http://doi.org/10.1172/JCI76711"
   ]
  },
  {
   "cell_type": "markdown",
   "metadata": {},
   "source": [
    "##### ART3\n",
    "Tan L, Song X, Sun X, Wang N, Qu Y, Sun Z. ART3 regulates triple-negative breast cancer cell function via activation of Akt and ERK pathways. Oncotarget. 2016;7(29):46589-46602."
   ]
  },
  {
   "cell_type": "markdown",
   "metadata": {},
   "source": [
    "##### ASF1B\n",
    "Corpet, A., De Koning, L., Toedling, J., Savignoni, A., Berger, F., Lemaître, C., O'Sullivan, R. J., Karlseder, J., Barillot, E., Asselain, B., Sastre-Garau, X., … Almouzni, G. (2010). Asf1b, the necessary Asf1 isoform for proliferation, is predictive of outcome in breast cancer. The EMBO journal, 30(3), 480-93."
   ]
  },
  {
   "cell_type": "markdown",
   "metadata": {},
   "source": [
    "##### ASPM\n",
    "Alsiary, R., Brüning-Richardson, A., Bond, J., Morrison, E. E., Wilkinson, N., & Bell, S. M. (2014). Deregulation of microcephalin and ASPM expression are correlated with epithelial ovarian cancer progression. PloS one, 9(5), e97059. doi:10.1371/journal.pone.0097059"
   ]
  },
  {
   "cell_type": "markdown",
   "metadata": {},
   "source": [
    "##### AURKA\n",
    "Staff, S., Isola, J., Jumppanen, M., & Tanner, M. (2010). Aurora-A gene is frequently amplified in basal-like breast cancer. Oncology Reports, 23(2), 307–312."
   ]
  },
  {
   "cell_type": "markdown",
   "metadata": {},
   "source": [
    "##### AURKB\n",
    "Ou, O., Huppi, K., Chakka, S., Gehlhaus, K., Dubois, W., Patel, J., Chen, J., Mackiewicz, M., Jones, T. L., Pitt, J. J., Martin, S. E., Goldsmith, P., Simmons, J. K., Mock, B. A., … Caplen, N. J. (2014). Loss-of-function RNAi screens in breast cancer cells identify AURKB, PLK1, PIK3R1, MAPK12, PRKD2, and PTK6 as sensitizing targets of rapamycin activity. Cancer letters, 354(2), 336-47."
   ]
  },
  {
   "cell_type": "markdown",
   "metadata": {},
   "source": [
    "##### BBIP1\n",
    "Jadaliha M, Gholamalamdari O, Tang W, Zhang Y, Petracovici A, et al. (2018) A natural antisense lncRNA controls breast cancer progression by promoting tumor suppressor gene mRNA stability. PLOS Genetics 14(11): e1007802. https://doi.org/10.1371/journal.pgen.1007802"
   ]
  },
  {
   "cell_type": "markdown",
   "metadata": {},
   "source": [
    "##### BBOF1\n",
    "Joe, S., & Nam, H. (2016). Prognostic factor analysis for breast cancer using gene expression profiles. BMC Medical Informatics and Decision Making, 16(1), 56. https://doi.org/10.1186/s12911-016-0292-5"
   ]
  },
  {
   "cell_type": "markdown",
   "metadata": {},
   "source": [
    "##### BCL11A\n",
    "Khaled, W. T., Choon Lee, S., Stingl, J., Chen, X., Raza Ali, H., Rueda, O. M., … Liu, P. (2015). BCL11A is a triple-negative breast cancer gene with critical functions in stem and progenitor cells. Nature Communications, 6, 5987. Retrieved from https://doi.org/10.1038/ncomms6987"
   ]
  },
  {
   "cell_type": "markdown",
   "metadata": {},
   "source": [
    "##### BCL2L14\n",
    "Giam, M., Okamoto, T., Mintern, J. D., Strasser, A., & Bouillet, P. (2012). Bcl-2 family member Bcl-G is not a proapoptotic protein. Cell Death &Amp; Disease, 3, e404. Retrieved from https://doi.org/10.1038/cddis.2012.130"
   ]
  },
  {
   "cell_type": "markdown",
   "metadata": {},
   "source": [
    "##### BCL2\n",
    "Eom, Y. H., Kim, H. S., Lee, A., Song, B. J., & Chae, B. J. (2016). BCL2 as a Subtype-Specific Prognostic Marker for Breast Cancer. Journal of breast cancer, 19(3), 252-260."
   ]
  },
  {
   "cell_type": "markdown",
   "metadata": {},
   "source": [
    "##### BID\n",
    "Kazhdan, I., Long, L., Montellano, R., Cavazos, D. A., & Marciniak, R. A. (2006). Targeted gene therapy for breast cancer with truncated Bid. Cancer Gene Therapy, 13(2), 141–149. https://doi.org/10.1038/sj.cgt.7700867"
   ]
  },
  {
   "cell_type": "markdown",
   "metadata": {},
   "source": [
    "##### BIRC5\n",
    "Hamy, A. S., Bieche, I., Lehmann-Che, J., Scott, V., Bertheau, P., Guinebretiere, J. M., … de Cremoux, P. (2016). BIRC5 (survivin): a pejorative prognostic marker in stage II/III breast cancer with no response to neoadjuvant chemotherapy. Breast Cancer Research and Treatment, 159(3), 499–511. http://doi.org/10.1007/s10549-016-3961-2"
   ]
  },
  {
   "cell_type": "markdown",
   "metadata": {},
   "source": [
    "##### BUB1\n",
    "Article Source: Biological and Clinical Significance of MAD2L1 and BUB1, Genes Frequently Appearing in Expression Signatures for Breast Cancer Prognosis \n",
    "Wang Z, Katsaros D, Shen Y, Fu Y, Canuto EM, et al. (2015) Biological and Clinical Significance of MAD2L1 and BUB1, Genes Frequently Appearing in Expression Signatures for Breast Cancer Prognosis. PLOS ONE 10(8): e0136246. https://doi.org/10.1371/journal.pone.0136246"
   ]
  },
  {
   "cell_type": "markdown",
   "metadata": {},
   "source": [
    "##### BUB1B\n",
    "Yuan, B., Xu, Y., Woo, J.-H., Wang, Y., Bae, Y. K., Yoon, D.-S., … Gabrielson, E. (2006). Increased expression of mitotic checkpoint genes in breast cancer cells with chromosomal instability. Clinical Cancer Research : An Official Journal of the American Association for Cancer Research, 12(2), 405–410. http://doi.org/10.1158/1078-0432.CCR-05-0903"
   ]
  },
  {
   "cell_type": "markdown",
   "metadata": {},
   "source": [
    "##### BYSL\n",
    "Azzato, E. M., Driver, K. E., Lesueur, F., Shah, M., Greenberg, D., Easton, D. F., … Pharoah, P. D. P. (2008). Effects of common germline genetic variation in cell cycle control genes on breast cancer survival: results from a population-based cohort. Breast Cancer Research : BCR, 10(3), R47. https://doi.org/10.1186/bcr2100"
   ]
  },
  {
   "cell_type": "markdown",
   "metadata": {},
   "source": [
    "##### CACNA1D\n",
    "Phan NN, Wang CY, Chen CF, Sun Z, Lai MD, Lin YC. Voltage-gated calcium channels: Novel targets for cancer therapy. Oncol Lett. 2017;14(2):2059-2074."
   ]
  },
  {
   "cell_type": "markdown",
   "metadata": {},
   "source": [
    "##### CALB1\n",
    "Obermayr E, Sanchez-Cabo F, Tea MK, et al. Assessment of a six gene panel for the molecular detection of circulating tumor cells in the blood of female cancer patients. BMC Cancer. 2010;10:666. Published 2010 Dec 3. doi:10.1186/1471-2407-10-666"
   ]
  },
  {
   "cell_type": "markdown",
   "metadata": {},
   "source": [
    "##### CASC1\n",
    "Berndt, A., Cario, C. L., Silva, K. A., Kennedy, V. E., Harrison, D. E., Paigen, B., & Sundberg, J. P. (2011). Identification of &lt;em&gt;Fat4&lt;/em&gt; and &lt;em&gt;Tsc22d1&lt;/em&gt; as Novel Candidate Genes for Spontaneous Pulmonary Adenomas. Cancer Research, 71(17), 5779 LP-5791. Retrieved from http://cancerres.aacrjournals.org/content/71/17/5779.abstract"
   ]
  },
  {
   "cell_type": "markdown",
   "metadata": {},
   "source": [
    "##### CCDC170\n",
    "Jiang, P., Li, Y., Poleshko, A., Medvedeva, V., Baulina, N., Zhang, Y., Zhou, Y., Slater, C. M., Pellegrin, T., Wasserman, J., Lindy, M., Efimov, A., Daly, M., Katz, R. A., … Chen, X. (2017). The Protein Encoded by the CCDC170 Breast Cancer Gene Functions to Organize the Golgi-Microtubule Network. EBioMedicine, 22, 28-43."
   ]
  },
  {
   "cell_type": "markdown",
   "metadata": {},
   "source": [
    "##### CCNA2\n",
    "Gao, T., Han, Y., Yu, L., Ao, S., Li, Z., & Ji, J. (2014). CCNA2 is a prognostic biomarker for ER+ breast cancer and tamoxifen resistance. PloS One, 9(3), e91771. http://doi.org/10.1371/journal.pone.0091771"
   ]
  },
  {
   "cell_type": "markdown",
   "metadata": {},
   "source": [
    "##### CCNB2\n",
    "Shubbar, E., Kovács, A., Hajizadeh, S., Parris, T. Z., Nemes, S., Gunnarsdóttir, K., … Helou, K. (2013). Elevated cyclin B2 expression in invasive breast carcinoma is associated with unfavorable clinical outcome. BMC Cancer, 13(1), 1. http://doi.org/10.1186/1471-2407-13-1"
   ]
  },
  {
   "cell_type": "markdown",
   "metadata": {},
   "source": [
    "##### CCNE1\n",
    "Zhao, H., Wang, J., Zhang, Y., Yuan, M., Yang, S., Li, L., & Yang, H. (2018). Prognostic Values of CCNE1 Amplification and Overexpression in Cancer Patients: A Systematic Review and Meta-analysis. Journal of Cancer, 9(13), 2397-2407. doi:10.7150/jca.24179"
   ]
  },
  {
   "cell_type": "markdown",
   "metadata": {},
   "source": [
    "##### CCNE2\n",
    "Tormo, E., Adam-Artigues, A., Ballester, S., Pineda, B., Zazo, S., González-Alonso, P., … Eroles, P. (2017). The role of miR-26a and miR-30b in HER2+ breast cancer trastuzumab resistance and regulation of the CCNE2 gene. Scientific Reports, 7, 41309. Retrieved from https://doi.org/10.1038/srep41309"
   ]
  },
  {
   "cell_type": "markdown",
   "metadata": {},
   "source": [
    "##### CCPG1\n",
    "Smith, M. D., Harley, M. E., Kemp, A. J., Wills, J., Lee, M., Arends, M., … Wilkinson, S. (2018). CCPG1 Is a Non-canonical Autophagy Cargo Receptor Essential for ER-Phagy and Pancreatic ER Proteostasis. Developmental Cell, 44(2), 217—232.e11. https://doi.org/10.1016/j.devcel.2017.11.024"
   ]
  },
  {
   "cell_type": "markdown",
   "metadata": {},
   "source": [
    "##### CD207\n",
    "Dyduch, G., Tyrak, K. E., Glajcar, A., Szpor, J., & Okoń, K. (2017). CD207+/langerin positive dendritic cells in invasive and in situ cutaneous malignant melanoma. Postepy dermatologii i alergologii, 34(3), 233-239."
   ]
  },
  {
   "cell_type": "markdown",
   "metadata": {},
   "source": [
    "##### CD7\n",
    "Sidaway, P. (2017). Genomic disruption of CD7 avoids fractricide. Nature Reviews Clinical Oncology, 14, 458. Retrieved from https://doi.org/10.1038/nrclinonc.2017.91"
   ]
  },
  {
   "cell_type": "markdown",
   "metadata": {},
   "source": [
    "##### CDC20\n",
    "Wang Z, Wan L, Zhong J, et al. Cdc20: a potential novel therapeutic target for cancer treatment. Curr Pharm Des. 2013;19(18):3210-4."
   ]
  },
  {
   "cell_type": "markdown",
   "metadata": {},
   "source": [
    "##### CDC25A\n",
    "Cangi, M. G., Cukor, B., Soung, P., Signoretti, S., Moreira, G., Ranashinge, M., Cady, B., Pagano, M., … Loda, M. (2000). Role of the Cdc25A phosphatase in human breast cancer. The Journal of clinical investigation, 106(6), 753-61."
   ]
  },
  {
   "cell_type": "markdown",
   "metadata": {},
   "source": [
    "##### CDC45\n",
    "Oyola, S. O., Bringaud, F., & Melville, S. E. (2009). A kinetoplastid BRCA2 interacts with DNA replication protein CDC45. International Journal for Parasitology, 39(1), 59–69. http://doi.org/10.1016/j.ijpara.2008.07.002"
   ]
  },
  {
   "cell_type": "markdown",
   "metadata": {},
   "source": [
    "##### CDCA3\n",
    "Phan, N. N., Wang, C.-Y., Li, K.-L., Chen, C.-F., Chiao, C.-C., Yu, H.-G., … Lin, Y.-C. (2018). Distinct expression of CDCA3, CDCA5, and CDCA8 leads to shorter relapse free survival in breast cancer patient. Oncotarget, 9(6), 6977–6992. http://doi.org/10.18632/oncotarget.24059"
   ]
  },
  {
   "cell_type": "markdown",
   "metadata": {},
   "source": [
    "##### CDCA8\n",
    "Phan, N. N., Wang, C.-Y., Li, K.-L., Chen, C.-F., Chiao, C.-C., Yu, H.-G., … Lin, Y.-C. (2018). Distinct expression of CDCA3, CDCA5, and CDCA8 leads to shorter relapse free survival in breast cancer patient. Oncotarget, 9(6), 6977–6992. http://doi.org/10.18632/oncotarget.24059"
   ]
  },
  {
   "cell_type": "markdown",
   "metadata": {},
   "source": [
    "##### CDH19\n",
    "Kools, P., Van Imschoot, G., & van Roy, F. (2000). Characterization of Three Novel Human Cadherin Genes (CDH7, CDH19, and CDH20) Clustered on Chromosome 18q22–q23 and with High Homology to Chicken Cadherin-7. Genomics, 68(3), 283–295. http://doi.org/https://doi.org/10.1006/geno.2000.6305"
   ]
  },
  {
   "cell_type": "markdown",
   "metadata": {},
   "source": [
    "##### CDK1\n",
    "Bednarek, K., Kiwerska, K., Szaumkessel, M., Bodnar, M., Kostrzewska-Poczekaj, M., Marszalek, A., Janiszewska, J., Bartochowska, A., Jackowska, J., Wierzbicka, M., Grenman, R., Szyfter, K., Giefing, M., … Jarmuz-Szymczak, M. (2016). Recurrent CDK1 overexpression in laryngeal squamous cell carcinoma. Tumour biology : the journal of the International Society for Oncodevelopmental Biology and Medicine, 37(8), 11115-26."
   ]
  },
  {
   "cell_type": "markdown",
   "metadata": {},
   "source": [
    "##### CDK7\n",
    "Patel, H., Abduljabbar, R., Lai, C. F., Periyasamy, M., Harrod, A., Gemma, C., Steel, J. H., Patel, N., Busonero, C., Jerjees, D., Remenyi, J., Smith, S., Gomm, J. J., Magnani, L., Győrffy, B., Jones, L. J., Fuller-Pace, F., Shousha, S., Buluwela, L., Rakha, E. A., Ellis, I. O., Coombes, R. C., … Ali, S. (2016). Expression of CDK7, Cyclin H, and MAT1 Is Elevated in Breast Cancer and Is Prognostic in Estrogen Receptor-Positive Breast Cancer. Clinical cancer research : an official journal of the American Association for Cancer Research, 22(23), 5929-5938."
   ]
  },
  {
   "cell_type": "markdown",
   "metadata": {},
   "source": [
    "##### CDKN2A\n",
    "Debniak, T., Górski, B., Huzarski, T., Byrski, T., Cybulski, C., Mackiewicz, A., Gozdecka-Grodecka, S., Gronwald, J., Kowalska, E., Haus, O., Grzybowska, E., Stawicka, M., Swiec, M., Urbański, K., Niepsuj, S., Waśko, B., Góźdź, S., Wandzel, P., Szczylik, C., Surdyka, D., Rozmiarek, A., Zambrano, O., Posmyk, M., Narod, S. A., … Lubinski, J. (2005). A common variant of CDKN2A (p16) predisposes to breast cancer. Journal of medical genetics, 42(10), 763-5."
   ]
  },
  {
   "cell_type": "markdown",
   "metadata": {},
   "source": [
    "##### CDKN3\n",
    "Deng, M., Wang, J., Chen, Y., Zhang, L., Xie, G., Liu, Q., … Liu, D. (2016). Silencing cyclin-dependent kinase inhibitor 3 inhibits the migration of breast cancer cell lines. Molecular Medicine Reports, 14(2), 1523–1530. http://doi.org/10.3892/mmr.2016.5401"
   ]
  },
  {
   "cell_type": "markdown",
   "metadata": {},
   "source": [
    "##### CDT1\n",
    "Mahadevappa, R., Neves, H., Yuen, S. M., Bai, Y., McCrudden, C. M., Yuen, H. F., Wen, Q., Zhang, S. D., … Kwok, H. F. (2017). The prognostic significance of Cdc6 and Cdt1 in breast cancer. Scientific reports, 7(1), 985. doi:10.1038/s41598-017-00998-9"
   ]
  },
  {
   "cell_type": "markdown",
   "metadata": {},
   "source": [
    "##### CENPA\n",
    "Sun, X., Clermont, P.-L., Jiao, W., Helgason, C. D., Gout, P. W., Wang, Y., & Qu, S. (2016). Elevated expression of the centromere protein-A(CENP-A)-encoding gene as a prognostic and predictive biomarker in human cancers. International Journal of Cancer, 139(4), 899–907. http://doi.org/10.1002/ijc.30133"
   ]
  },
  {
   "cell_type": "markdown",
   "metadata": {},
   "source": [
    "##### CENPM\n",
    "Komatsu, M., Yoshimaru, T., Matsuo, T., Kiyotani, K., Miyoshi, Y., Tanahashi, T., Rokutan, K., Yamaguchi, R., Saito, A., Imoto, S., Miyano, S., Nakamura, Y., Sasa, M., Shimada, M., Katagiri, T.\"Molecular features of triple negative breast cancer cells by genome-wide gene expression profiling analysis\". International Journal of Oncology 42, no. 2 (2013): 478-506. https://doi.org/10.3892/ijo.2012.1744"
   ]
  },
  {
   "cell_type": "markdown",
   "metadata": {},
   "source": [
    "##### CENPN\n",
    "Huang, C. G., Li, F. X., Pan, S., Xu, C. B., Dai, J. Q., & Zhao, X. H. (2017). Identification of genes associated with castration‑resistant prostate cancer by gene expression profile analysis. Molecular medicine reports, 16(5), 6803-6813."
   ]
  },
  {
   "cell_type": "markdown",
   "metadata": {},
   "source": [
    "##### CHAF1B\n",
    "Peng, X., Fu, H., Yin, J., Zhao, Q.\"CHAF1B knockdown blocks migration in a hepatocellular carcinoma model\". Oncology Reports 40, no. 1 (2018): 405-413. https://doi.org/10.3892/or.2018.6437"
   ]
  },
  {
   "cell_type": "markdown",
   "metadata": {},
   "source": [
    "##### CHEK1\n",
    "Lin, W.-Y., Brock, I. W., Connley, D., Cramp, H., Tucker, R., Slate, J., … Cox, A. (2013). Associations of ATR and CHEK1 single nucleotide polymorphisms with breast cancer. PloS One, 8(7), e68578. http://doi.org/10.1371/journal.pone.0068578"
   ]
  },
  {
   "cell_type": "markdown",
   "metadata": {},
   "source": [
    "##### CHST2\n",
    "Potapenko, I. O., Lüders, T., Russnes, H. G., Helland, Å., Sørlie, T., Kristensen, V. N., Nord, S., Lingjærde, O. C., Børresen-Dale, A. L., … Haakensen, V. D. (2015). Glycan-related gene expression signatures in breast cancer subtypes; relation to survival. Molecular oncology, 9(4), 861-76."
   ]
  },
  {
   "cell_type": "markdown",
   "metadata": {},
   "source": [
    "##### CIRBP\n",
    "Guo, X., Wu, Y., & Hartley, R. S. (2010). Cold-inducible RNA-binding protein contributes to human antigen R and cyclin E1 deregulation in breast cancer. Molecular Carcinogenesis, 49(2), 130–140. https://doi.org/10.1002/mc.20582"
   ]
  },
  {
   "cell_type": "markdown",
   "metadata": {},
   "source": [
    "##### CKS2\n",
    "You, H., Lin, H., & Zhang, Z. (2015). CKS2 in human cancers: Clinical roles and current perspectives (Review). Molecular and clinical oncology, 3(3), 459-463."
   ]
  },
  {
   "cell_type": "markdown",
   "metadata": {},
   "source": [
    "##### CLK1\n",
    "Araki, S., Dairiki, R., Nakayama, Y., Murai, A., Miyashita, R., Iwatani, M., Nomura, T., … Nakanishi, O. (2015). Inhibitors of CLK protein kinases suppress cell growth and induce apoptosis by modulating pre-mRNA splicing. PloS one, 10(1), e0116929. doi:10.1371/journal.pone.0116929"
   ]
  },
  {
   "cell_type": "markdown",
   "metadata": {},
   "source": [
    "##### CLK4\n",
    "da Silva, M. R., Moreira, G. A., Gonçalves da Silva, R. A., de Almeida Alves Barbosa, É., Pais Siqueira, R., Teixera, R. R., Almeida, M. R., Silva Júnior, A., Fietto, J. L., … Bressan, G. C. (2015). Splicing Regulators and Their Roles in Cancer Biology and Therapy. BioMed research international, 2015, 150514."
   ]
  },
  {
   "cell_type": "markdown",
   "metadata": {},
   "source": [
    "##### CNR1\n",
    "Laprairie, R. B., Kelly, M. E., & Denovan-Wright, E. M. (2012). The dynamic nature of type 1 cannabinoid receptor (CB(1) ) gene transcription. British journal of pharmacology, 167(8), 1583-95."
   ]
  },
  {
   "cell_type": "markdown",
   "metadata": {},
   "source": [
    "##### COL16A1\n",
    "Januchowski, R., Zawierucha, P., Ruciński, M., Nowicki, M., & Zabel, M. (2014). Extracellular matrix proteins expression profiling in chemoresistant variants of the A2780 ovarian cancer cell line. BioMed research international, 2014, 365867."
   ]
  },
  {
   "cell_type": "markdown",
   "metadata": {},
   "source": [
    "##### COX7C\n",
    "Roos, L., van Dongen, J., Bell, C. G., Burri, A., Deloukas, P., Boomsma, D. I., Spector, T. D., … Bell, J. T. (2016). Integrative DNA methylome analysis of pan-cancer biomarkers in cancer discordant monozygotic twin-pairs. Clinical epigenetics, 8, 7. doi:10.1186/s13148-016-0172-y"
   ]
  },
  {
   "cell_type": "markdown",
   "metadata": {},
   "source": [
    "##### CRY2\n",
    "Mao, Y., Fu, A., Hoffman, A. E., Jacobs, D. I., Jin, M., Chen, K., & Zhu, Y. (2015). The circadian gene CRY2 is associated with breast cancer aggressiveness possibly  via epigenomic modifications. Tumour Biology : The Journal of the International Society for Oncodevelopmental Biology and Medicine, 36(5), 3533–3539. http://doi.org/10.1007/s13277-014-2989-3"
   ]
  },
  {
   "cell_type": "markdown",
   "metadata": {},
   "source": [
    "##### CST5\n",
    "Hünten, S., & Hermeking, H. (2015). p53 directly activates cystatin D/CST5 to mediate mesenchymal-epithelial transition: a possible link to tumor suppression by vitamin D3. Oncotarget, 6(18), 15842-56."
   ]
  },
  {
   "cell_type": "markdown",
   "metadata": {},
   "source": [
    "##### CTSV\n",
    "Cosphiadi, I., Atmakusumah, T. D., Siregar, N. C., Muthalib, A., Harahap, A., & Mansyur, M. (2018). Bone Metastasis in Advanced Breast Cancer: Analysis of Gene Expression Microarray. Clinical Breast Cancer, 18(5), e1117–e1122. http://doi.org/https://doi.org/10.1016/j.clbc.2018.03.001"
   ]
  },
  {
   "cell_type": "markdown",
   "metadata": {},
   "source": [
    "##### CXCL5\n",
    "Hu, B., Fan, H., Lv, X., Chen, S., & Shao, Z. (2018). Prognostic significance of CXCL5 expression in cancer patients: a meta-analysis. Cancer cell international, 18, 68. doi:10.1186/s12935-018-0562-7"
   ]
  },
  {
   "cell_type": "markdown",
   "metadata": {},
   "source": [
    "##### CYBRD1\n",
    "Lemler, D. J., Lynch, M. L., Tesfay, L., Deng, Z., Paul, B. T., Wang, X., Hegde, P., Manz, D. H., Torti, S. V., … Torti, F. M. (2017). DCYTB is a predictor of outcome in breast cancer that functions via iron-independent mechanisms. Breast cancer research : BCR, 19(1), 25. doi:10.1186/s13058-017-0814-9"
   ]
  },
  {
   "cell_type": "markdown",
   "metadata": {},
   "source": [
    "##### CYP2C8\n",
    "Jernström, H., Bågeman, E., Rose, C., Jönsson, P. E., & Ingvar, C. (2009). CYP2C8 and CYP2C9 polymorphisms in relation to tumour characteristics and early breast cancer related events among 652 breast cancer patients. British journal of cancer, 101(11), 1817-23."
   ]
  },
  {
   "cell_type": "markdown",
   "metadata": {},
   "source": [
    "##### CYP4F8\n",
    "Vainio, P., Gupta, S., Ketola, K., Mirtti, T., Mpindi, J. P., Kohonen, P., Fey, V., Perälä, M., Smit, F., Verhaegh, G., Schalken, J., Alanen, K. A., Kallioniemi, O., … Iljin, K. (2011). Arachidonic acid pathway members PLA2G7, HPGD, EPHX2, and CYP4F8 identified as putative novel therapeutic targets in prostate cancer. The American journal of pathology, 178(2), 525-36."
   ]
  },
  {
   "cell_type": "markdown",
   "metadata": {},
   "source": [
    "##### DFFA\n",
    "Fawzy MS, Toraih EA, Ibrahiem A, Abdeldayem H, Mohamed AO, et al. (2017) Evaluation of miRNA-196a2 and apoptosis-related target genes: ANXA1, DFFA and PDCD4 expression in gastrointestinal cancer patients: A pilot study. PLOS ONE 12(11): e0187310. https://doi.org/10.1371/journal.pone.0187310"
   ]
  },
  {
   "cell_type": "markdown",
   "metadata": {},
   "source": [
    "##### DICER1\n",
    "Robertson, J. C., Jorcyk, C. L., & Oxford, J. T. (2018). DICER1 Syndrome: DICER1 Mutations in Rare Cancers. Cancers, 10(5), 143. doi:10.3390/cancers10050143"
   ]
  },
  {
   "cell_type": "markdown",
   "metadata": {},
   "source": [
    "##### DIRAS3 \n",
    "Yu, Y., Luo, R., Lu, Z., Wei Feng, W., Badgwell, D., Issa, J.-P., … Bast, R. C. J. (2006). Biochemistry and biology of ARHI (DIRAS3), an imprinted tumor suppressor gene whose expression is lost in ovarian and breast cancers. Methods in Enzymology, 407, 455–468. http://doi.org/10.1016/S0076-6879(05)07037-0"
   ]
  },
  {
   "cell_type": "markdown",
   "metadata": {},
   "source": [
    "##### DIXDC1\n",
    "Mao, X. Y., Lee, M. J., Zhu, J., Zhu, C., Law, S. M., & Snijders, A. M. (2017). Genome-wide screen identifies a novel prognostic signature for breast cancer survival. Oncotarget, 8(8), 14003-14016."
   ]
  },
  {
   "cell_type": "markdown",
   "metadata": {},
   "source": [
    "##### DKK2\n",
    "Shao, Y.-C., Nie, X.-C., Song, G.-Q., Wei, Y., Xia, P., & Xu, X.-Y. (2018). Prognostic value of DKK2 from the Dickkopf family in human breast cancer. International Journal of Oncology, 53(6), 2555–2565. http://doi.org/10.3892/ijo.2018.4588"
   ]
  },
  {
   "cell_type": "markdown",
   "metadata": {},
   "source": [
    "##### DLGAP5\n",
    "Yao F, Zhang C, Du W, Liu C, Xu Y (2015) Identification of Gene-Expression Signatures and Protein Markers for Breast Cancer Grading and Staging. PLOS ONE 10(9): e0138213. https://doi.org/10.1371/journal.pone.0138213"
   ]
  },
  {
   "cell_type": "markdown",
   "metadata": {},
   "source": [
    "##### DLX2\n",
    "Morini, M., Astigiano, S., Gitton, Y., Emionite, L., Mirisola, V., Levi, G., & Barbieri, O. (2010). Mutually exclusive expression of DLX2 and DLX5/6 is associated with the metastatic potential of the human breast cancer cell line MDA-MB-231. BMC Cancer, 10, 649. http://doi.org/10.1186/1471-2407-10-649"
   ]
  },
  {
   "cell_type": "markdown",
   "metadata": {},
   "source": [
    "##### DMD\n",
    "Luce, L. N., Abbate, M., Cotignola, J., & Giliberto, F. (2016). Non-myogenic tumors display altered expression of dystrophin (DMD) and a high frequency of genetic alterations. Oncotarget, 8(1), 145-155."
   ]
  },
  {
   "cell_type": "markdown",
   "metadata": {},
   "source": [
    "##### DSCC1\n",
    "Ueno, T., Utsumi, J., Toi, M., & Shimizu, K. (2015). Characteristic Gene Expression Profiles of Human Fibroblasts and Breast Cancer Cells in a Newly Developed Bilateral Coculture System. BioMed research international, 2015, 960840."
   ]
  },
  {
   "cell_type": "markdown",
   "metadata": {},
   "source": [
    "##### DSG1\n",
    "Jaeger, J., Koczan, D., Thiesen, H.-J., Ibrahim, S. M., Gross, G., Spang, R., & Kunz, M. (2007). Gene Expression Signatures for Tumor Progression, Tumor Subtype, and Tumor Thickness in Laser-Microdissected Melanoma Tissues. Clinical Cancer Research, 13(3), 806 LP-815. Retrieved from http://clincancerres.aacrjournals.org/content/13/3/806.abstract"
   ]
  },
  {
   "cell_type": "markdown",
   "metadata": {},
   "source": [
    "##### DSG3\n",
    "Chen, Y. J., Lee, L. Y., Chao, Y. K., Chang, J. T., Lu, Y. C., Li, H. F., Chiu, C. C., Li, Y. C., Li, Y. L., Chiou, J. F., … Cheng, A. J. (2013). DSG3 facilitates cancer cell growth and invasion through the DSG3-plakoglobin-TCF/LEF-Myc/cyclin D1/MMP signaling pathway. PloS one, 8(5), e64088. doi:10.1371/journal.pone.0064088"
   ]
  },
  {
   "cell_type": "code",
   "execution_count": 64,
   "metadata": {},
   "outputs": [],
   "source": [
    "# unique_one = useful_labels_grade_one.unique().difference(useful_labels_grade_two.unique().union(useful_labels_grade_three.unique()))\n",
    "# unique_one"
   ]
  },
  {
   "cell_type": "code",
   "execution_count": 65,
   "metadata": {},
   "outputs": [],
   "source": [
    "# unique_two = useful_labels_grade_two.unique().difference(useful_labels_grade_one.unique().union(useful_labels_grade_three.unique()))\n",
    "# unique_two"
   ]
  },
  {
   "cell_type": "code",
   "execution_count": 66,
   "metadata": {},
   "outputs": [],
   "source": [
    "# unique_three = useful_labels_grade_three.unique().difference(useful_labels_grade_one.unique().union(useful_labels_grade_two.unique()))\n",
    "# unique_three"
   ]
  },
  {
   "cell_type": "markdown",
   "metadata": {},
   "source": [
    "Let me add size, stage and age columns."
   ]
  },
  {
   "cell_type": "code",
   "execution_count": 67,
   "metadata": {},
   "outputs": [],
   "source": [
    "labels = np.concatenate([useful_labels, ['size', 'stage', 'age']], axis=0)\n",
    "labels_one = np.concatenate([useful_labels_grade_one, ['size', 'stage', 'age']], axis=0)\n",
    "labels_two = np.concatenate([useful_labels_grade_two, ['size', 'stage', 'age']], axis=0)\n",
    "labels_three = np.concatenate([useful_labels_grade_three, ['size', 'stage', 'age']], axis=0)\n",
    "labels_grade = np.append(labels, 'grade')"
   ]
  },
  {
   "cell_type": "markdown",
   "metadata": {},
   "source": [
    "Let me construct new dataframe using given labels!"
   ]
  },
  {
   "cell_type": "code",
   "execution_count": 68,
   "metadata": {},
   "outputs": [
    {
     "name": "stdout",
     "output_type": "stream",
     "text": [
      "(246, 824)\n",
      "(246,)\n"
     ]
    }
   ],
   "source": [
    "X = total_data[labels_grade]\n",
    "y = total_data['grade']\n",
    "\n",
    "print(X.shape)\n",
    "print(y.shape)"
   ]
  },
  {
   "cell_type": "markdown",
   "metadata": {},
   "source": [
    "Okay, I will plot new dataframe."
   ]
  },
  {
   "cell_type": "code",
   "execution_count": 69,
   "metadata": {},
   "outputs": [
    {
     "data": {
      "image/png": "[encoded data removed]",
      "text/plain": [
       "<Figure size 432x288 with 1 Axes>"
      ]
     },
     "metadata": {
      "needs_background": "light"
     },
     "output_type": "display_data"
    }
   ],
   "source": [
    "from sklearn.decomposition import PCA\n",
    "\n",
    "pca = PCA(n_components=2)\n",
    "pca.fit(X.drop(columns='grade'))\n",
    "\n",
    "pca_f = pca.transform(X.drop(columns='grade'))\n",
    "\n",
    "plt.scatter(pca_f[X['grade'] == 1][:, 0], pca_f[X['grade'] == 1][:, 1], c='green')\n",
    "plt.scatter(pca_f[X['grade'] == 2][:, 0], pca_f[X['grade'] == 2][:, 1], c='blue')\n",
    "plt.scatter(pca_f[X['grade'] == 3][:, 0], pca_f[X['grade'] == 3][:, 1], c='red')\n",
    "plt.legend(['grade 1', 'grade 2', 'grade 3'])\n",
    "plt.xlabel('PC1')\n",
    "plt.ylabel('PC2')\n",
    "plt.show()"
   ]
  },
  {
   "cell_type": "markdown",
   "metadata": {},
   "source": [
    "It seems to be not enough. I will do another feature reduction."
   ]
  },
  {
   "cell_type": "markdown",
   "metadata": {},
   "source": [
    "### Reduce more features using Classifier"
   ]
  },
  {
   "cell_type": "markdown",
   "metadata": {},
   "source": [
    "I want to extract genes which has more impact on each grade.\n",
    "\n",
    "So, let me train SVM and remove features whose weight is nearly zero."
   ]
  },
  {
   "cell_type": "markdown",
   "metadata": {},
   "source": [
    "First, I will make one-hot encoding function to do binary classification."
   ]
  },
  {
   "cell_type": "code",
   "execution_count": 70,
   "metadata": {},
   "outputs": [],
   "source": [
    "def one_hot(labels, i):\n",
    "    new_labels = np.zeros(labels.shape)\n",
    "    new_labels[labels == i] = 1\n",
    "    \n",
    "    return new_labels"
   ]
  },
  {
   "cell_type": "markdown",
   "metadata": {},
   "source": [
    "#### Grade 1 Linear SVM"
   ]
  },
  {
   "cell_type": "code",
   "execution_count": 71,
   "metadata": {},
   "outputs": [
    {
     "name": "stdout",
     "output_type": "stream",
     "text": [
      "0.983739837398374\n",
      "[0.84       0.83673469 0.83673469 0.81632653 0.7755102 ]\n"
     ]
    }
   ],
   "source": [
    "param_grid = {\n",
    "    'kernel': ['linear'],\n",
    "    'C': [0.01, 0.03, 0.07, 0.1, 0.3, 0.7, 1.0]\n",
    "}\n",
    "\n",
    "grid_svc1 = GridSearchCV(SVC(), param_grid, cv=5, iid=False)\n",
    "grid_svc1.fit(X[labels].values, one_hot(y, 1))\n",
    "svc1 = grid_svc1.best_estimator_\n",
    "\n",
    "print(svc1.score(X[labels], one_hot(y, 1)))\n",
    "print(cross_val_score(svc1, X[labels], one_hot(y, 1), cv=5))"
   ]
  },
  {
   "cell_type": "code",
   "execution_count": 72,
   "metadata": {},
   "outputs": [
    {
     "data": {
      "text/plain": [
       "array([[ 0.00593308,  0.00765214, -0.00619307, -0.00425752, -0.11244223,\n",
       "         0.0494723 , -0.02548089, -0.00973254, -0.03182342,  0.00939914,\n",
       "         0.02222937,  0.03478155, -0.01539105, -0.04194715,  0.01803726,\n",
       "         0.01062384,  0.01196089,  0.0647866 , -0.04960167, -0.10454248,\n",
       "        -0.05544823, -0.01085465,  0.02817826,  0.05862421, -0.01875726,\n",
       "         0.04366407, -0.0152733 , -0.04295156,  0.07177048,  0.00106997,\n",
       "        -0.03062432,  0.00789795, -0.01740882,  0.00522622, -0.02949589,\n",
       "        -0.04342872,  0.01988192, -0.05600915, -0.02426902, -0.01422213,\n",
       "        -0.00485276, -0.04956566, -0.00609225, -0.02972533,  0.06027505,\n",
       "         0.02664352,  0.1013843 , -0.0825076 , -0.01049992, -0.00448042,\n",
       "         0.03129622, -0.0166962 , -0.03786774, -0.06113259, -0.01043492,\n",
       "         0.00093824,  0.06499123, -0.00973562, -0.01209108,  0.00382885,\n",
       "        -0.01531432,  0.00868154,  0.03663363, -0.05926939,  0.01484677,\n",
       "         0.09620899, -0.0434439 ,  0.04070857,  0.00536247,  0.03904865,\n",
       "         0.05461056,  0.01047303,  0.09483759, -0.02259035, -0.00379902,\n",
       "        -0.00582265,  0.07770813, -0.00779675, -0.0011449 ,  0.00055415,\n",
       "        -0.01125804,  0.02642104, -0.11487868, -0.00423655,  0.01578859,\n",
       "         0.05370495,  0.01418109, -0.03311107,  0.09126549, -0.04409933,\n",
       "         0.00872197,  0.04666235,  0.03096751, -0.00130763,  0.06625068,\n",
       "         0.06845493, -0.03832381,  0.05273372, -0.02554485,  0.04396658]])"
      ]
     },
     "execution_count": 72,
     "metadata": {},
     "output_type": "execute_result"
    }
   ],
   "source": [
    "svc1.coef_[:, :100]"
   ]
  },
  {
   "cell_type": "code",
   "execution_count": 73,
   "metadata": {},
   "outputs": [
    {
     "name": "stdout",
     "output_type": "stream",
     "text": [
      "Grade 1:\n",
      "['AC023490.3' 'ACSF2' 'ADRA2A' 'AEBP1' 'AGGF1_2' 'AK6' 'ANKMY2' 'APOBEC3B'\n",
      " 'ARHGEF12_2' 'ARL1_2' 'ASPM' 'ATP2B4_1' 'AZGP1_1' 'BBIP1_2' 'BCL11B'\n",
      " 'BCL2_2' 'BIRC5_2' 'BTG2_2' 'BUB1_2' 'C14orf132' 'CA12_5' 'CA12_6'\n",
      " 'CACNA1D_2' 'CAST_3' 'CBFB_2' 'CCDC170' 'CCNB2' 'CCPG1_2' 'CD160' 'CD207'\n",
      " 'CD2AP' 'CD302' 'CDC20' 'CDC6_2' 'CDC7' 'CDKN3' 'CENPU' 'CHRM3' 'CLDN5'\n",
      " 'CLUL1' 'CMKLR1_1' 'CNR1_3' 'COX5A' 'COX6CP1' 'CSAD' 'CSAG3' 'CST5'\n",
      " 'CTNNA1_2' 'DEPTOR' 'DFFA' 'DHX29' 'DICER1_2' 'DIXDC1' 'DLGAP5' 'DLX2_1'\n",
      " 'DNAJC12' 'DOK1_1' 'DYNC1I2P1' 'EPHX2' 'ERBB4_2' 'ESR1_1' 'FA2H' 'FAAH'\n",
      " 'FAM13B' 'FAM174B_1' 'FAM30A_1' 'FEM1C' 'FGFBP1' 'FMO5_1' 'FRY_1'\n",
      " 'GABBR2_4' 'GAGE12F_3' 'GALC_1' 'GARS' 'GNG11' 'GOLM1' 'GPC4_2' 'GRHPR_1'\n",
      " 'H2AFX_1' 'HBP1_2' 'HEMK1_1' 'HHAT' 'HMGA1_1' 'HMGB3' 'HSD17B4' 'IDH2_2'\n",
      " 'IGFBP4' 'IL6ST_2' 'IL6ST_4' 'IL6ST_5' 'IMPA2' 'ITGBL1_2' 'JADE2_2'\n",
      " 'JPT1' 'KCTD14_1' 'KIAA0040_1' 'KIAA0232' 'KIF13B' 'KIF2C_1' 'KIF4A'\n",
      " 'LAMP5' 'LEPR_2' 'LGALS8_1' 'LMNB1' 'LSM8' 'MAGI2_2' 'MAP3K1' 'MAP4K3'\n",
      " 'MARCH8' 'MCM4_4' 'MELK' 'MET_3' 'MMP16_1' 'MRPL15' 'MRTFB' 'MSLN'\n",
      " 'MTUS1_2' 'MTX2' 'MYO6_3' 'N4BP2L2_4' 'NAT1' 'NCAPG_1' 'NCOR1_1' 'NDC80'\n",
      " 'NEK2_1' 'NKX2-2' 'NPY2R_1' 'PBK' 'PCLAF_1' 'PDZRN3' 'PEX11A_1' 'PGR'\n",
      " 'PLA2G2D' 'PNISR_2' 'PRAME' 'PRDX4' 'PTP4A2_3' 'RIPK2_2' 'S100A9' 'SAA4'\n",
      " 'SATB1' 'SIGMAR1_1' 'SLC15A1_1' 'SLC22A5' 'SLC25A5' 'SLC39A4' 'SLC7A5'\n",
      " 'SNORA11' 'SNRPN' 'SNX1_2' 'SPCS1' 'SPRR1A_1' 'STC2_1' 'STK32B' 'STMN1'\n",
      " 'SYNC' 'TK1' 'TOGARAM1' 'TOX_1' 'TP53TG1_2' 'TRIM23_1' 'TRIP13'\n",
      " 'TSC22D3_2' 'TTC37_1' 'TTC39A_1' 'TTK' 'TTLL7' 'UBE2S' 'UQCRQ' 'VEZF1_2'\n",
      " 'WISP3' 'ZFYVE16' 'ZNF281' 'ZNF287' 'stage']\n"
     ]
    }
   ],
   "source": [
    "new_labels_one = labels[np.abs(svc1.coef_).reshape(-1) >= 0.05]\n",
    "print('Grade 1:')\n",
    "print(new_labels_one)"
   ]
  },
  {
   "cell_type": "code",
   "execution_count": 74,
   "metadata": {},
   "outputs": [
    {
     "name": "stdout",
     "output_type": "stream",
     "text": [
      "Number of genes which has more impact on grade 1: 175\n"
     ]
    }
   ],
   "source": [
    "print('Number of genes which has more impact on grade 1:', len(new_labels_one))"
   ]
  },
  {
   "cell_type": "markdown",
   "metadata": {},
   "source": [
    "#### Grade 2 Linear SVM"
   ]
  },
  {
   "cell_type": "code",
   "execution_count": 75,
   "metadata": {},
   "outputs": [
    {
     "name": "stdout",
     "output_type": "stream",
     "text": [
      "0.9105691056910569\n",
      "[0.66       0.67346939 0.75510204 0.73469388 0.55102041]\n"
     ]
    }
   ],
   "source": [
    "param_grid = {\n",
    "    'kernel': ['linear'],\n",
    "    'C': [0.01, 0.03, 0.07, 0.1, 0.3, 0.7, 1.0]\n",
    "}\n",
    "\n",
    "grid_svc2 = GridSearchCV(SVC(), param_grid, cv=5, iid=False)\n",
    "grid_svc2.fit(X[labels].values, one_hot(y, 2))\n",
    "svc2 = grid_svc2.best_estimator_\n",
    "\n",
    "print(svc2.score(X[labels], one_hot(y, 2)))\n",
    "print(cross_val_score(svc2, X[labels], one_hot(y, 2), cv=5))"
   ]
  },
  {
   "cell_type": "code",
   "execution_count": 76,
   "metadata": {},
   "outputs": [
    {
     "data": {
      "text/plain": [
       "array([[-5.09790229e-02, -3.35298301e-02,  2.60098609e-02,\n",
       "        -1.38463247e-02,  2.53128701e-02,  1.08348367e-02,\n",
       "         4.06794062e-02, -9.70958290e-03,  4.22713396e-04,\n",
       "        -9.84450108e-03,  4.59528432e-03, -7.78309175e-03,\n",
       "         7.05587313e-03,  4.99973442e-03, -2.08102522e-02,\n",
       "        -1.41843838e-02, -1.02026801e-02, -2.50752504e-02,\n",
       "         8.42747721e-02,  1.18984777e-01,  5.24238343e-02,\n",
       "         2.13366189e-02,  3.35333257e-02, -2.85582464e-02,\n",
       "        -7.18906640e-03, -4.29844791e-02, -1.33758124e-02,\n",
       "         4.09828356e-04, -4.22443445e-02, -2.58688590e-02,\n",
       "         9.59805131e-03, -2.35199875e-02,  1.77784736e-02,\n",
       "        -2.56744164e-02, -4.88408523e-03,  2.74155208e-02,\n",
       "        -1.35708567e-02,  7.18026604e-03,  6.04102206e-03,\n",
       "         2.67845663e-02, -2.49692606e-03, -3.29303587e-03,\n",
       "         3.28908502e-02,  4.15686612e-02, -4.17691177e-02,\n",
       "        -1.67997962e-02, -9.29230412e-02,  3.34652446e-02,\n",
       "        -1.82445402e-02, -2.82535677e-02, -4.13442688e-02,\n",
       "         1.16490958e-02,  1.81958684e-02,  3.46182432e-02,\n",
       "         7.08367877e-03, -6.27920124e-03, -3.79984244e-02,\n",
       "        -7.01371757e-03, -4.31376597e-04,  1.66047892e-03,\n",
       "         1.21295632e-02, -9.02930083e-03, -1.10176654e-02,\n",
       "         3.38087072e-02,  5.22326427e-03, -1.84965645e-02,\n",
       "        -1.03640783e-03, -2.24685407e-02, -3.19748861e-02,\n",
       "        -1.91847459e-02, -9.36196062e-02, -1.53879457e-02,\n",
       "        -3.45887949e-02,  2.76097572e-02,  5.91497937e-03,\n",
       "         1.92671012e-02, -4.25655645e-02,  1.19496975e-04,\n",
       "        -2.25154359e-03,  1.40644563e-02, -1.73453311e-02,\n",
       "        -1.74369485e-02,  1.21981764e-01,  2.02404435e-02,\n",
       "        -1.16322802e-02, -1.39384810e-02,  5.60311209e-03,\n",
       "         3.14551298e-02, -5.29168050e-03,  1.91912120e-02,\n",
       "         2.29463573e-03, -4.06318205e-02, -8.87960467e-03,\n",
       "        -1.89597513e-02, -6.82705570e-02, -6.53413041e-02,\n",
       "         1.18183713e-02, -3.37021973e-02,  1.26412374e-02,\n",
       "        -4.43103885e-02]])"
      ]
     },
     "execution_count": 76,
     "metadata": {},
     "output_type": "execute_result"
    }
   ],
   "source": [
    "svc2.coef_[:, :100]"
   ]
  },
  {
   "cell_type": "code",
   "execution_count": 77,
   "metadata": {},
   "outputs": [
    {
     "name": "stdout",
     "output_type": "stream",
     "text": [
      "Grade 2:\n",
      "['ABAT_2' 'ADGRG6' 'ADRA2A' 'AEBP1' 'ARHGEF12_2' 'BCL11B' 'BTG2_2'\n",
      " 'CA12_5' 'CA12_6' 'CCL8' 'CCNE2_1' 'CD2AP' 'CDC20' 'CSAG3' 'CST5'\n",
      " 'CX3CR1' 'DEPTOR' 'DIRAS3' 'EFHC1' 'FAM174B_1' 'FEM1C' 'FMO5_1' 'FMOD'\n",
      " 'FRY_1' 'GOLM1' 'GRHPR_1' 'GRHPR_3' 'H2AFX_1' 'HTATIP2_1' 'HTRA2_1'\n",
      " 'IL6ST_4' 'IMPA2' 'ITGB5_2' 'ITGBL1_2' 'JPT1' 'KCTD14_1' 'KIAA0232'\n",
      " 'KIF2C_1' 'KIF4A' 'KLHL41' 'LEPR_2' 'LMNB2' 'LSM8' 'MAGED2' 'MAGI2_2'\n",
      " 'MARCH8' 'MIR7112' 'MMP1' 'MMP16_1' 'MRPS14_2' 'N4BP2L2_4' 'NCAPD2'\n",
      " 'NCOR1_1' 'NKX2-2' 'PDZRN3' 'PIR' 'PSD3_2' 'PTP4A2_3' 'RHOBTB1'\n",
      " 'RNU4-46P' 'ROPN1B' 'SAA4' 'SATB1' 'SCUBE2' 'SESN1' 'SIK3_4' 'SLC19A2'\n",
      " 'SLC7A5' 'SNX1_2' 'SQLE_1' 'STMN1' 'TDO2' 'TK1' 'TOGARAM1' 'TOX_1'\n",
      " 'TSC22D3_1' 'TSC22D3_2' 'TTC39A_1' 'TTC3_3' 'TTK' 'TYMS' 'UQCRQ'\n",
      " 'VGLL1_2' 'ZBED2' 'ZWINT' 'size']\n"
     ]
    }
   ],
   "source": [
    "new_labels_two = labels[np.abs(svc2.coef_).reshape(-1) >= 0.05]\n",
    "print('Grade 2:')\n",
    "print(new_labels_two)"
   ]
  },
  {
   "cell_type": "code",
   "execution_count": 78,
   "metadata": {},
   "outputs": [
    {
     "name": "stdout",
     "output_type": "stream",
     "text": [
      "Number of genes which has more impact on grade 1: 86\n"
     ]
    }
   ],
   "source": [
    "print('Number of genes which has more impact on grade 1:', len(new_labels_two))"
   ]
  },
  {
   "cell_type": "markdown",
   "metadata": {},
   "source": [
    "#### Grade 3 Linear SVM"
   ]
  },
  {
   "cell_type": "code",
   "execution_count": 79,
   "metadata": {},
   "outputs": [
    {
     "name": "stdout",
     "output_type": "stream",
     "text": [
      "0.975609756097561\n",
      "[0.82       0.86       0.87755102 0.87755102 0.83333333]\n"
     ]
    }
   ],
   "source": [
    "param_grid = {\n",
    "    'kernel': ['linear'],\n",
    "    'C': [0.01, 0.03, 0.07, 0.1, 0.3, 0.7, 1.0]\n",
    "}\n",
    "\n",
    "grid_svc3 = GridSearchCV(SVC(), param_grid, cv=5, iid=False)\n",
    "grid_svc3.fit(X[labels].values, one_hot(y, 3))\n",
    "svc3 = grid_svc3.best_estimator_\n",
    "\n",
    "print(svc3.score(X[labels], one_hot(y, 3)))\n",
    "print(cross_val_score(svc3, X[labels], one_hot(y, 3), cv=5))"
   ]
  },
  {
   "cell_type": "code",
   "execution_count": 80,
   "metadata": {},
   "outputs": [
    {
     "data": {
      "text/plain": [
       "array([[ 0.03624777,  0.02383599, -0.00544078,  0.01517843,  0.02607777,\n",
       "        -0.00473898, -0.00935133,  0.0222307 ,  0.01290172, -0.00536596,\n",
       "        -0.01663473, -0.00992828, -0.00525784,  0.00696318,  0.00814298,\n",
       "         0.00278035,  0.01291184, -0.06267604, -0.03289246,  0.00048653,\n",
       "        -0.03825736, -0.02637421, -0.01805792,  0.01459585,  0.01236938,\n",
       "         0.00363916,  0.01762524,  0.01111834,  0.016249  ,  0.00414265,\n",
       "         0.01378204,  0.00375106, -0.00804565,  0.01724306,  0.03175668,\n",
       "        -0.03082442, -0.00482002,  0.00551328,  0.01698914, -0.02663368,\n",
       "        -0.00088162, -0.03224635, -0.01244774, -0.01537328,  0.02701189,\n",
       "         0.00077224,  0.02838776, -0.00805602,  0.00591027,  0.03321357,\n",
       "         0.00868712, -0.01394496,  0.00865725, -0.01512705,  0.01684609,\n",
       "         0.01287276, -0.01723505,  0.01311596,  0.0060063 , -0.01087356,\n",
       "         0.00239449,  0.01717033, -0.02244953,  0.01246607, -0.01355852,\n",
       "        -0.01163606,  0.0104786 ,  0.00980661,  0.0374635 ,  0.00728237,\n",
       "         0.03835135,  0.00963354,  0.01199689, -0.01092357, -0.00157612,\n",
       "        -0.01718423,  0.027022  , -0.00636152, -0.0031686 , -0.01158342,\n",
       "         0.01312283, -0.00903618, -0.05216415, -0.01629432, -0.00761049,\n",
       "        -0.02215762, -0.00792978, -0.03379665, -0.01904975, -0.00114863,\n",
       "        -0.00799124, -0.00055768,  0.01013191,  0.01298157,  0.05820842,\n",
       "         0.05788711, -0.01048919, -0.03806642, -0.01174414,  0.02541263]])"
      ]
     },
     "execution_count": 80,
     "metadata": {},
     "output_type": "execute_result"
    }
   ],
   "source": [
    "svc3.coef_[:, :100]"
   ]
  },
  {
   "cell_type": "code",
   "execution_count": 81,
   "metadata": {},
   "outputs": [
    {
     "name": "stdout",
     "output_type": "stream",
     "text": [
      "Grade 3:\n",
      "['ACSF2' 'BTG2_2' 'CA12_5' 'CA12_6' 'CCNB1' 'CST5' 'CYBRD1' 'FA2H' 'FMOD'\n",
      " 'FRY_1' 'GPM6B_2' 'HTATIP2_1' 'KLHL41' 'LMNB2' 'MAGED2' 'MIR7112'\n",
      " 'RABEP1_2' 'RHOBTB1' 'ROPN1B' 'SCUBE2' 'TDO2' 'THBD_1' 'TTC39A_1'\n",
      " 'VGLL1_2' 'ZNF432' 'size']\n"
     ]
    }
   ],
   "source": [
    "new_labels_three = labels[np.abs(svc3.coef_).squeeze() >= 0.05]\n",
    "print('Grade 3:')\n",
    "print(new_labels_three)"
   ]
  },
  {
   "cell_type": "code",
   "execution_count": 82,
   "metadata": {},
   "outputs": [
    {
     "name": "stdout",
     "output_type": "stream",
     "text": [
      "Number of genes which has more impact on grade 1: 26\n"
     ]
    }
   ],
   "source": [
    "print('Number of genes which has more impact on grade 1:', len(new_labels_three))"
   ]
  },
  {
   "cell_type": "markdown",
   "metadata": {},
   "source": [
    "I will concat all genes."
   ]
  },
  {
   "cell_type": "code",
   "execution_count": 83,
   "metadata": {},
   "outputs": [
    {
     "name": "stdout",
     "output_type": "stream",
     "text": [
      "Number of genes: (218,)\n"
     ]
    }
   ],
   "source": [
    "new_labels = np.concatenate([new_labels_one, new_labels_two, new_labels_three])\n",
    "new_labels = np.unique(new_labels)\n",
    "print('Number of genes:', new_labels.shape)"
   ]
  },
  {
   "cell_type": "markdown",
   "metadata": {},
   "source": [
    "### Plot of Gene"
   ]
  },
  {
   "cell_type": "markdown",
   "metadata": {},
   "source": [
    "I will plot gene expression of first gene in each grade."
   ]
  },
  {
   "cell_type": "markdown",
   "metadata": {},
   "source": [
    "#### Grade 1"
   ]
  },
  {
   "cell_type": "code",
   "execution_count": 84,
   "metadata": {},
   "outputs": [
    {
     "name": "stderr",
     "output_type": "stream",
     "text": [
      "D:\\Users\\jylee\\Anaconda3\\lib\\site-packages\\scipy\\stats\\stats.py:1713: FutureWarning: Using a non-tuple sequence for multidimensional indexing is deprecated; use `arr[tuple(seq)]` instead of `arr[seq]`. In the future this will be interpreted as an array index, `arr[np.array(seq)]`, which will result either in an error or a different result.\n",
      "  return np.add.reduce(sorted[indexer] * weights, axis=axis) / sumval\n"
     ]
    },
    {
     "data": {
      "image/png": "[encoded data removed]",
      "text/plain": [
       "<Figure size 432x288 with 1 Axes>"
      ]
     },
     "metadata": {
      "needs_background": "light"
     },
     "output_type": "display_data"
    }
   ],
   "source": [
    "sns.kdeplot(total_data[total_data['grade'] == 1][new_labels_one[0]])\n",
    "sns.kdeplot(total_data[total_data['grade'] == 2][new_labels_one[0]])\n",
    "sns.kdeplot(total_data[total_data['grade'] == 3][new_labels_one[0]])\n",
    "plt.xlabel('Gene Expression')\n",
    "plt.ylabel('Count')\n",
    "plt.legend(['Grade 1', 'Grade 2', 'Grade 3'])\n",
    "plt.title(new_labels_one[0])\n",
    "plt.show()"
   ]
  },
  {
   "cell_type": "markdown",
   "metadata": {},
   "source": [
    "#### Grade 2"
   ]
  },
  {
   "cell_type": "code",
   "execution_count": 85,
   "metadata": {},
   "outputs": [
    {
     "name": "stderr",
     "output_type": "stream",
     "text": [
      "D:\\Users\\jylee\\Anaconda3\\lib\\site-packages\\scipy\\stats\\stats.py:1713: FutureWarning: Using a non-tuple sequence for multidimensional indexing is deprecated; use `arr[tuple(seq)]` instead of `arr[seq]`. In the future this will be interpreted as an array index, `arr[np.array(seq)]`, which will result either in an error or a different result.\n",
      "  return np.add.reduce(sorted[indexer] * weights, axis=axis) / sumval\n"
     ]
    },
    {
     "data": {
      "image/png": "[encoded data removed]",
      "text/plain": [
       "<Figure size 432x288 with 1 Axes>"
      ]
     },
     "metadata": {
      "needs_background": "light"
     },
     "output_type": "display_data"
    }
   ],
   "source": [
    "sns.kdeplot(total_data[total_data['grade'] == 1][new_labels_two[0]])\n",
    "sns.kdeplot(total_data[total_data['grade'] == 2][new_labels_two[0]])\n",
    "sns.kdeplot(total_data[total_data['grade'] == 3][new_labels_two[0]])\n",
    "plt.xlabel('Gene Expression')\n",
    "plt.ylabel('Count')\n",
    "plt.legend(['Grade 1', 'Grade 2', 'Grade 3'])\n",
    "plt.title(new_labels_two[0])\n",
    "plt.show()"
   ]
  },
  {
   "cell_type": "markdown",
   "metadata": {},
   "source": [
    "#### Grade 3"
   ]
  },
  {
   "cell_type": "code",
   "execution_count": 86,
   "metadata": {},
   "outputs": [
    {
     "name": "stderr",
     "output_type": "stream",
     "text": [
      "D:\\Users\\jylee\\Anaconda3\\lib\\site-packages\\scipy\\stats\\stats.py:1713: FutureWarning: Using a non-tuple sequence for multidimensional indexing is deprecated; use `arr[tuple(seq)]` instead of `arr[seq]`. In the future this will be interpreted as an array index, `arr[np.array(seq)]`, which will result either in an error or a different result.\n",
      "  return np.add.reduce(sorted[indexer] * weights, axis=axis) / sumval\n"
     ]
    },
    {
     "data": {
      "image/png": "[encoded data removed]",
      "text/plain": [
       "<Figure size 432x288 with 1 Axes>"
      ]
     },
     "metadata": {
      "needs_background": "light"
     },
     "output_type": "display_data"
    }
   ],
   "source": [
    "sns.kdeplot(total_data[total_data['grade'] == 1][new_labels_three[0]])\n",
    "sns.kdeplot(total_data[total_data['grade'] == 2][new_labels_three[0]])\n",
    "sns.kdeplot(total_data[total_data['grade'] == 3][new_labels_three[0]])\n",
    "plt.xlabel('Gene Expression')\n",
    "plt.ylabel('Count')\n",
    "plt.legend(['Grade 1', 'Grade 2', 'Grade 3'])\n",
    "plt.title(new_labels_three[0])\n",
    "plt.show()"
   ]
  },
  {
   "cell_type": "markdown",
   "metadata": {},
   "source": [
    "### Plot Datapoints"
   ]
  },
  {
   "cell_type": "markdown",
   "metadata": {},
   "source": [
    "Let me plot genes!"
   ]
  },
  {
   "cell_type": "markdown",
   "metadata": {},
   "source": [
    "First, let's see datapoints distribution with respect to new_labels_one (labels for grade 1)."
   ]
  },
  {
   "cell_type": "code",
   "execution_count": 87,
   "metadata": {},
   "outputs": [
    {
     "data": {
      "image/png": "[encoded data removed]",
      "text/plain": [
       "<Figure size 432x288 with 1 Axes>"
      ]
     },
     "metadata": {
      "needs_background": "light"
     },
     "output_type": "display_data"
    }
   ],
   "source": [
    "pca = PCA(n_components=2)\n",
    "X_pca = pca.fit_transform(total_data[new_labels_one])\n",
    "\n",
    "plt.scatter(X_pca[y == 1][:, 0], X_pca[y == 1][:, 1], c='green')\n",
    "plt.scatter(X_pca[y == 2][:, 0], X_pca[y == 2][:, 1], c='blue')\n",
    "plt.scatter(X_pca[y == 3][:, 0], X_pca[y == 3][:, 1], c='red')\n",
    "plt.legend(['Grade 1', 'Grade 2', 'Grade 3'])\n",
    "plt.xlabel('PC1')\n",
    "plt.ylabel('PC2')\n",
    "plt.title('Using Labels for Grade 1')\n",
    "plt.show()"
   ]
  },
  {
   "cell_type": "markdown",
   "metadata": {},
   "source": [
    "Second, let's see the datapoints distribution with respect to new_labels_two (labels for grade 2)."
   ]
  },
  {
   "cell_type": "code",
   "execution_count": 88,
   "metadata": {},
   "outputs": [
    {
     "data": {
      "image/png": "[encoded data removed]",
      "text/plain": [
       "<Figure size 432x288 with 1 Axes>"
      ]
     },
     "metadata": {
      "needs_background": "light"
     },
     "output_type": "display_data"
    }
   ],
   "source": [
    "pca = PCA(n_components=2)\n",
    "X_pca = pca.fit_transform(total_data[new_labels_two])\n",
    "\n",
    "plt.scatter(X_pca[y == 1][:, 0], X_pca[y == 1][:, 1], c='green')\n",
    "plt.scatter(X_pca[y == 2][:, 0], X_pca[y == 2][:, 1], c='blue')\n",
    "plt.scatter(X_pca[y == 3][:, 0], X_pca[y == 3][:, 1], c='red')\n",
    "plt.legend(['Grade 1', 'Grade 2', 'Grade 3'])\n",
    "plt.xlabel('PC1')\n",
    "plt.ylabel('PC2')\n",
    "plt.title('Using Labels for Grade 2')\n",
    "plt.show()"
   ]
  },
  {
   "cell_type": "markdown",
   "metadata": {},
   "source": [
    "Finally, let's see the datapoints with respect to new_labels_three (labels for grade 3)."
   ]
  },
  {
   "cell_type": "code",
   "execution_count": 89,
   "metadata": {},
   "outputs": [
    {
     "data": {
      "image/png": "[encoded data removed]",
      "text/plain": [
       "<Figure size 432x288 with 1 Axes>"
      ]
     },
     "metadata": {
      "needs_background": "light"
     },
     "output_type": "display_data"
    }
   ],
   "source": [
    "pca = PCA(n_components=2)\n",
    "X_pca = pca.fit_transform(total_data[new_labels_three])\n",
    "\n",
    "plt.scatter(X_pca[y == 1][:, 0], X_pca[y == 1][:, 1], c='green')\n",
    "plt.scatter(X_pca[y == 2][:, 0], X_pca[y == 2][:, 1], c='blue')\n",
    "plt.scatter(X_pca[y == 3][:, 0], X_pca[y == 3][:, 1], c='red')\n",
    "plt.legend(['Grade 1', 'Grade 2', 'Grade 3'])\n",
    "plt.xlabel('PC1')\n",
    "plt.ylabel('PC2')\n",
    "plt.title('Using Labels for Grade 3')\n",
    "plt.show()"
   ]
  },
  {
   "cell_type": "markdown",
   "metadata": {},
   "source": [
    "plot using all labels!"
   ]
  },
  {
   "cell_type": "code",
   "execution_count": 90,
   "metadata": {},
   "outputs": [
    {
     "data": {
      "image/png": "[encoded data removed]",
      "text/plain": [
       "<Figure size 432x288 with 1 Axes>"
      ]
     },
     "metadata": {
      "needs_background": "light"
     },
     "output_type": "display_data"
    }
   ],
   "source": [
    "pca = PCA(n_components=2)\n",
    "X_pca = pca.fit_transform(total_data[new_labels])\n",
    "\n",
    "plt.scatter(X_pca[y == 1][:, 0], X_pca[y == 1][:, 1], c='green')\n",
    "plt.scatter(X_pca[y == 2][:, 0], X_pca[y == 2][:, 1], c='blue')\n",
    "plt.scatter(X_pca[y == 3][:, 0], X_pca[y == 3][:, 1], c='red')\n",
    "plt.legend(['Grade 1', 'Grade 2', 'Grade 3'])\n",
    "plt.xlabel('PC1')\n",
    "plt.ylabel('PC2')\n",
    "plt.show()"
   ]
  },
  {
   "cell_type": "markdown",
   "metadata": {},
   "source": [
    "# Spliting Dataset"
   ]
  },
  {
   "cell_type": "markdown",
   "metadata": {},
   "source": [
    "First, I want to remove some grade 2 samples because the number of samples whose grade is 2 is quite huge."
   ]
  },
  {
   "cell_type": "code",
   "execution_count": 91,
   "metadata": {},
   "outputs": [],
   "source": [
    "X = total_data[new_labels]\n",
    "y = total_data['grade']"
   ]
  },
  {
   "cell_type": "code",
   "execution_count": 92,
   "metadata": {},
   "outputs": [
    {
     "name": "stdout",
     "output_type": "stream",
     "text": [
      "# of grade 1: 46\n",
      "# of grade 2: 146\n",
      "# of grade 3: 54\n",
      "# of all grade: 246\n",
      "Class weights: [5.3478260869565215, 1.6849315068493151, 4.555555555555555]\n"
     ]
    }
   ],
   "source": [
    "print('# of grade 1:', X[y == 1].shape[0])\n",
    "print('# of grade 2:', X[y == 2].shape[0])\n",
    "print('# of grade 3:', X[y == 3].shape[0])\n",
    "\n",
    "print('# of all grade:', X.shape[0])\n",
    "class_weight = [X.shape[0] / X[y == 1].shape[0], X.shape[0] / X[y == 2].shape[0], X.shape[0] / X[y == 3].shape[0]]\n",
    "print('Class weights:', class_weight)"
   ]
  },
  {
   "cell_type": "markdown",
   "metadata": {},
   "source": [
    "Okay. I will drop samples down to 60."
   ]
  },
  {
   "cell_type": "code",
   "execution_count": 93,
   "metadata": {},
   "outputs": [
    {
     "name": "stdout",
     "output_type": "stream",
     "text": [
      "X shape: (160, 218)\n",
      "y shape: (160,)\n",
      "# of grade 1: 46\n",
      "# of grade 2: 60\n",
      "# of grade 3: 54\n"
     ]
    }
   ],
   "source": [
    "r = np.random.choice(np.arange(146), size=60, replace=False)\n",
    "\n",
    "new_X = pd.concat([X.loc[y == 1], X.loc[y == 2].iloc[r],\n",
    "                      X.loc[y == 3]], axis=0)\n",
    "new_y = pd.concat([y[y == 1], y[y == 2][r], y[y == 3]])\n",
    "\n",
    "print('X shape:', new_X.shape)\n",
    "print('y shape:', new_y.shape)\n",
    "\n",
    "print('# of grade 1:', new_X.loc[new_y == 1].shape[0])\n",
    "print('# of grade 2:', new_X.loc[new_y == 2].shape[0])\n",
    "print('# of grade 3:', new_X.loc[new_y == 3].shape[0])"
   ]
  },
  {
   "cell_type": "markdown",
   "metadata": {},
   "source": [
    "Let's plot the new dataset 'new_X'."
   ]
  },
  {
   "cell_type": "code",
   "execution_count": 94,
   "metadata": {},
   "outputs": [
    {
     "data": {
      "image/png": "[encoded data removed]",
      "text/plain": [
       "<Figure size 432x288 with 1 Axes>"
      ]
     },
     "metadata": {
      "needs_background": "light"
     },
     "output_type": "display_data"
    }
   ],
   "source": [
    "pca = PCA(n_components=2)\n",
    "X_pca = pca.fit_transform(new_X[new_labels])\n",
    "\n",
    "plt.scatter(X_pca[new_y == 1][:, 0], X_pca[new_y == 1][:, 1], c='green')\n",
    "plt.scatter(X_pca[new_y == 2][:, 0], X_pca[new_y == 2][:, 1], c='blue')\n",
    "plt.scatter(X_pca[new_y == 3][:, 0], X_pca[new_y == 3][:, 1], c='red')\n",
    "plt.legend(['Grade 1', 'Grade 2', 'Grade 3'])\n",
    "plt.xlabel('PC1')\n",
    "plt.ylabel('PC2')\n",
    "plt.title('After Balancing Grade')\n",
    "plt.show()"
   ]
  },
  {
   "cell_type": "markdown",
   "metadata": {},
   "source": [
    "Let me split my data into training set and test set. I used test size to be 30 both not to overfit to training data and to maximize size of training dataset."
   ]
  },
  {
   "cell_type": "code",
   "execution_count": 95,
   "metadata": {},
   "outputs": [],
   "source": [
    "from sklearn.model_selection import train_test_split\n",
    "from sklearn.preprocessing import Normalizer"
   ]
  },
  {
   "cell_type": "code",
   "execution_count": 96,
   "metadata": {},
   "outputs": [
    {
     "name": "stdout",
     "output_type": "stream",
     "text": [
      "(160, 218) (160,)\n",
      "(120, 218) (120,)\n",
      "(40, 218) (40,)\n"
     ]
    }
   ],
   "source": [
    "X_train, X_test, y_train, y_test = train_test_split(new_X[new_labels].values, new_y.values, test_size=40, random_state=31)\n",
    "\n",
    "print(new_X.shape, new_y.shape)\n",
    "print(X_train.shape, y_train.shape)\n",
    "print(X_test.shape, y_test.shape)\n",
    "\n",
    "# X_train, X_test, y_train, y_test = train_test_split(new_X[new_labels], new_y, test_size=30, random_state=11)\n",
    "\n",
    "# print(X[new_labels].shape, y.shape)\n",
    "# print(X_train.shape, y_train.shape)\n",
    "# print(X_test.shape, y_test.shape)"
   ]
  },
  {
   "cell_type": "markdown",
   "metadata": {},
   "source": [
    "# Build Classifier"
   ]
  },
  {
   "cell_type": "markdown",
   "metadata": {},
   "source": [
    "## Embedding"
   ]
  },
  {
   "cell_type": "markdown",
   "metadata": {},
   "source": [
    "I inspired about word embedding method in natural language processing area and autoencoder."
   ]
  },
  {
   "cell_type": "markdown",
   "metadata": {},
   "source": [
    "### Word Embedding"
   ]
  },
  {
   "cell_type": "markdown",
   "metadata": {},
   "source": [
    "Word embedding is some tasks that construct words which has similar characteristics into neighbored word vector.\n",
    "Initially, word had been processed as one-hot encoded vector. But, using this one-hot encoding method is so inefficient because algorithms have no idea about how some words are simmilar. So, we need to transform feature space to some other thing. Word embedding technique is suit to this task."
   ]
  },
  {
   "cell_type": "markdown",
   "metadata": {},
   "source": [
    "Constructing word embedding is just supervised learning as follow."
   ]
  },
  {
   "cell_type": "markdown",
   "metadata": {},
   "source": [
    "![test](embedding2.JPG)"
   ]
  },
  {
   "cell_type": "markdown",
   "metadata": {},
   "source": [
    "The objective of this network is not to predict better but training transformation part.\n",
    "After training, We can use transformation to transform feature space of one hot vector word into embedding vector."
   ]
  },
  {
   "cell_type": "markdown",
   "metadata": {},
   "source": [
    "But, I can't this method in this project. So, I simplified this idea as bellow."
   ]
  },
  {
   "cell_type": "markdown",
   "metadata": {},
   "source": [
    "![text](embedding.PNG)"
   ]
  },
  {
   "cell_type": "markdown",
   "metadata": {},
   "source": [
    "I will train linear regression model to predict f1 using all features. And I will train another linear regression model to predict f2 using all features, and so on."
   ]
  },
  {
   "cell_type": "markdown",
   "metadata": {},
   "source": [
    "I want to use only weights of this network. I want to do embedding feature vector into some space."
   ]
  },
  {
   "cell_type": "markdown",
   "metadata": {},
   "source": [
    "Also, I will apply kernel PCA in embedding process."
   ]
  },
  {
   "cell_type": "code",
   "execution_count": 97,
   "metadata": {},
   "outputs": [],
   "source": [
    "class Embedding:\n",
    "    def __init__(self, grade):\n",
    "        self.grade = grade\n",
    "    \n",
    "    def fit(self, X):\n",
    "        self.num_genes = np.shape(X)[1]\n",
    "        self.num_people = np.shape(X)[0]\n",
    "        self.pca = None\n",
    "        self.reg = None\n",
    "        \n",
    "        self.pca = KernelPCA(n_components=30, kernel='poly', gamma=1e-5, degree=2)\n",
    "        self.pca.fit(X)\n",
    "\n",
    "        new_X = self.pca.transform(X)\n",
    "        \n",
    "        self.reg = LinearRegression()\n",
    "        self.reg.fit(new_X, X)\n",
    "        \n",
    "    def get(self):\n",
    "        return self.reg.coef_\n",
    "    \n",
    "    def transform(self, X):\n",
    "        new_X = self.pca.transform(X)\n",
    "        return self.reg.predict(new_X)"
   ]
  },
  {
   "cell_type": "code",
   "execution_count": 98,
   "metadata": {},
   "outputs": [
    {
     "name": "stdout",
     "output_type": "stream",
     "text": [
      "(218, 30)\n",
      "(218, 30)\n",
      "(218, 30)\n"
     ]
    }
   ],
   "source": [
    "embedding_weights = []\n",
    "\n",
    "for g in range(1, 4):\n",
    "    embedding = Embedding(grade=g)\n",
    "    embedding.fit(X_train[y_train == g])\n",
    "    embedding_weights.append(embedding)\n",
    "    \n",
    "    print(embedding_weights[g - 1].get().shape)"
   ]
  },
  {
   "cell_type": "markdown",
   "metadata": {},
   "source": [
    "If matrix multiplication is done to features, then the embedding features is produced."
   ]
  },
  {
   "cell_type": "markdown",
   "metadata": {},
   "source": [
    "Let's try making classifier."
   ]
  },
  {
   "cell_type": "code",
   "execution_count": 99,
   "metadata": {},
   "outputs": [],
   "source": [
    "class EmbeddingClassifier(BaseEstimator, ClassifierMixin):\n",
    "    def __init__(self, C=1.0, kernel='linear', gamma='auto', degree=3, embedding_weights=None):\n",
    "        self.C = C\n",
    "        self.clf = []\n",
    "        self.kernel = kernel\n",
    "        self.gamma = gamma\n",
    "        self.embedding_weights = embedding_weights\n",
    "        self.degree = degree\n",
    "    \n",
    "    def fit(self, X, y):\n",
    "        for g in range(3):\n",
    "            embedding_weight = self.embedding_weights[g]\n",
    "            \n",
    "            new_X = embedding_weight.transform(X)\n",
    "            new_y = one_hot(y, g + 1)\n",
    "            \n",
    "            svm = SVC(C=self.C, kernel=self.kernel, gamma=self.gamma, probability=True, degree=self.degree)\n",
    "            svm.fit(new_X, new_y)\n",
    "            self.clf.append(svm)\n",
    "    \n",
    "    def predict(self, X):\n",
    "        pred_mat = np.zeros((np.shape(X)[0], 3))\n",
    "        for g in range(3):\n",
    "            embedding_weight = self.embedding_weights[g]\n",
    "            \n",
    "            new_X = embedding_weight.transform(X)\n",
    "            \n",
    "            svm = self.clf[g]\n",
    "            pred_mat[:, g] = svm.predict_proba(new_X)[:, 1]\n",
    "            \n",
    "        pred = np.argmax(pred_mat, axis=1)\n",
    "        \n",
    "        return pred + 1\n",
    "            \n",
    "    def score(self, X, y):\n",
    "        pred = self.predict(X)\n",
    "        score = np.mean(pred == y)\n",
    "        \n",
    "        return score\n",
    "    \n",
    "    def one_hot(self, labels, i):\n",
    "        new_labels = np.zeros(labels.shape)\n",
    "        new_labels[labels == i] = 1\n",
    "\n",
    "        return new_labels"
   ]
  },
  {
   "cell_type": "code",
   "execution_count": 100,
   "metadata": {},
   "outputs": [
    {
     "name": "stdout",
     "output_type": "stream",
     "text": [
      "Train accuracy: 0.7583333333333333\n",
      "CV accuracy: [0.54545455 0.8        0.6        0.66666667]\n"
     ]
    }
   ],
   "source": [
    "clf = EmbeddingClassifier(C=0.05, embedding_weights=embedding_weights)\n",
    "clf.fit(X_train, y_train)\n",
    "\n",
    "print('Train accuracy:', clf.score(X_train, y_train))\n",
    "print('CV accuracy:', cross_val_score(clf, X_test, y_test, cv=4))"
   ]
  },
  {
   "cell_type": "markdown",
   "metadata": {},
   "source": [
    "#### Grid Search & Cross Validation"
   ]
  },
  {
   "cell_type": "markdown",
   "metadata": {},
   "source": [
    "I will do cross validation and grid search to find optimized set of parameters."
   ]
  },
  {
   "cell_type": "code",
   "execution_count": 101,
   "metadata": {},
   "outputs": [
    {
     "data": {
      "text/plain": [
       "GridSearchCV(cv=4, error_score='raise-deprecating',\n",
       "       estimator=EmbeddingClassifier(C=1.0, degree=3,\n",
       "          embedding_weights=[<__main__.Embedding object at 0x000001A267EC2BE0>, <__main__.Embedding object at 0x000001A267EC2860>, <__main__.Embedding object at 0x000001A268C82EB8>],\n",
       "          gamma='auto', kernel='linear'),\n",
       "       fit_params=None, iid=False, n_jobs=3,\n",
       "       param_grid=[{'C': [0.01, 0.03, 0.05, 0.08, 0.1, 0.3, 1], 'kernel': ['linear']}, {'C': [0.0001, 0.0005, 0.001, 0.005, 0.01, 0.05, 0.1], 'kernel': ['poly'], 'degree': [2, 3, 4, 5]}],\n",
       "       pre_dispatch='2*n_jobs', refit=True, return_train_score='warn',\n",
       "       scoring=None, verbose=0)"
      ]
     },
     "execution_count": 101,
     "metadata": {},
     "output_type": "execute_result"
    }
   ],
   "source": [
    "param_grid = [\n",
    "    {\n",
    "        'C': [0.01, 0.03, 0.05, 0.08, 0.1, 0.3, 1],\n",
    "        'kernel': ['linear']\n",
    "    },\n",
    "    {\n",
    "        'C': [0.0001, 0.0005, 0.001, 0.005, 0.01, 0.05, 0.1],\n",
    "        'kernel': ['poly'],\n",
    "        'degree': [2, 3, 4, 5]\n",
    "    }\n",
    "]\n",
    "\n",
    "gridClf1 = GridSearchCV(EmbeddingClassifier(embedding_weights=embedding_weights), param_grid, n_jobs=3, iid=False, cv=4)\n",
    "gridClf1.fit(X_train, y_train)"
   ]
  },
  {
   "cell_type": "code",
   "execution_count": 102,
   "metadata": {},
   "outputs": [
    {
     "name": "stdout",
     "output_type": "stream",
     "text": [
      "Best cv score: 0.6513110632183907\n",
      "Train accuracy: 0.725\n",
      "CV accuracy: [0.625      0.63333333 0.55172414 0.72413793]\n"
     ]
    }
   ],
   "source": [
    "print('Best cv score:', gridClf1.best_score_)\n",
    "clf1 = EmbeddingClassifier(**gridClf1.best_params_, embedding_weights=embedding_weights)\n",
    "clf1.fit(X_train, y_train)\n",
    "\n",
    "print('Train accuracy:', clf1.score(X_train, y_train))\n",
    "print('CV accuracy:', cross_val_score(clf1, X_train, y_train, cv=4))"
   ]
  },
  {
   "cell_type": "markdown",
   "metadata": {},
   "source": [
    "## K-Means Clustering Random Feature selection"
   ]
  },
  {
   "cell_type": "markdown",
   "metadata": {},
   "source": [
    "I will use voting method to enhance performance. To do that, I will sample subset of features, and build classifier which use only subset of features."
   ]
  },
  {
   "cell_type": "markdown",
   "metadata": {},
   "source": [
    "![text](Cluster.jpg)"
   ]
  },
  {
   "cell_type": "markdown",
   "metadata": {},
   "source": [
    "Using one cluster, make one classifier. I will split cluster several time and construct many classifiers."
   ]
  },
  {
   "cell_type": "code",
   "execution_count": 103,
   "metadata": {},
   "outputs": [],
   "source": [
    "from sklearn.cluster import KMeans"
   ]
  },
  {
   "cell_type": "code",
   "execution_count": 104,
   "metadata": {},
   "outputs": [],
   "source": [
    "class RandomClusterClassifier(BaseEstimator, ClassifierMixin):\n",
    "    def __init__(self, n_clusters=15, C=1.0, kernel='poly', degree=2, gamma='auto'):\n",
    "        self.n_clusters = n_clusters\n",
    "        self.clusters = None\n",
    "        self.clf = []\n",
    "        self.C = C\n",
    "        self.kernel = kernel\n",
    "        self.degree = degree\n",
    "        self.gamma = gamma\n",
    "    \n",
    "    def fit(self, X, y):\n",
    "        self.clusters = np.zeros((np.shape(X)[1], self.n_clusters))\n",
    "        # data = np.zeros((np.shape(X)[0], np.shape(X)[1] + 1))\n",
    "        # data[:, : -1] = X\n",
    "        # data[:, -1] = y\n",
    "        for c in range(self.n_clusters):\n",
    "            # argument n_clusters of KMeans is 5 not self.n_clusters\n",
    "            kmc = KMeans(n_clusters=5, n_init=1, max_iter=100, random_state=11)\n",
    "            self.clusters[:, c] = kmc.fit_predict(X.T)\n",
    "        \n",
    "        for i in range(self.clusters.shape[1]):\n",
    "            self.clf.append([])\n",
    "            clusters = self.clusters[:, i]\n",
    "            for c in range(5):\n",
    "                features = X[:, clusters == c]\n",
    "                if 0 in features.shape:\n",
    "                    self.clf[i].append(None)\n",
    "                    continue\n",
    "                    \n",
    "                svc = SVC(C=self.C, kernel=self.kernel, gamma=self.gamma, degree=self.degree)\n",
    "                svc.fit(features, y)\n",
    "                self.clf[i].append(svc)\n",
    "    \n",
    "    def predict(self, X):\n",
    "        vote = np.zeros((np.shape(X)[0], 3))\n",
    "        \n",
    "        for i in range(self.clusters.shape[1]):\n",
    "            clusters = self.clusters[:, i]\n",
    "            for c in range(5):\n",
    "                features = X[:, clusters == c]\n",
    "                if 0 in features.shape:\n",
    "                    continue\n",
    "                    \n",
    "                svc = self.clf[i][c]\n",
    "                temp_pred = np.int32(svc.predict(features))\n",
    "                \n",
    "                for j in range(np.shape(X)[0]):\n",
    "                    vote[j, temp_pred[j] - 1] += 1\n",
    "        \n",
    "        pred = np.argmax(vote, axis=1)\n",
    "        return pred + 1\n",
    "    \n",
    "    def score(self, X, y):\n",
    "        pred = self.predict(X)\n",
    "        score = np.mean(pred == y)\n",
    "        return score"
   ]
  },
  {
   "cell_type": "markdown",
   "metadata": {},
   "source": [
    "#### Grid Search & Cross Validation"
   ]
  },
  {
   "cell_type": "code",
   "execution_count": 105,
   "metadata": {},
   "outputs": [
    {
     "data": {
      "text/plain": [
       "GridSearchCV(cv=4, error_score='raise-deprecating',\n",
       "       estimator=RandomClusterClassifier(C=1.0, degree=2, gamma='auto', kernel='poly',\n",
       "            n_clusters=15),\n",
       "       fit_params=None, iid=False, n_jobs=3,\n",
       "       param_grid=[{'kernel': ['poly'], 'C': [0.001, 0.01, 0.1, 1, 10], 'degree': [2, 3, 4, 5, 6, 7], 'gamma': ['auto']}, {'kernel': ['rbf'], 'C': [0.001, 0.01, 0.1, 1, 10], 'gamma': ['auto', 0.01, 0.1, 1, 10]}],\n",
       "       pre_dispatch='2*n_jobs', refit=True, return_train_score='warn',\n",
       "       scoring=None, verbose=0)"
      ]
     },
     "execution_count": 105,
     "metadata": {},
     "output_type": "execute_result"
    }
   ],
   "source": [
    "param_grid = [\n",
    "    {\n",
    "        'kernel': ['poly'],\n",
    "        'C': [0.001, 0.01, 0.1, 1, 10],\n",
    "        'degree': [2, 3, 4, 5, 6, 7],\n",
    "        'gamma': ['auto']\n",
    "    },\n",
    "    {\n",
    "        'kernel': ['rbf'],\n",
    "        'C': [0.001, 0.01, 0.1, 1, 10],\n",
    "        'gamma': ['auto', 0.01, 0.1, 1, 10]\n",
    "    }\n",
    "]\n",
    "\n",
    "gridclf2 = GridSearchCV(RandomClusterClassifier(), param_grid, n_jobs=3, cv=4, iid=False)\n",
    "gridclf2.fit(X_train, y_train)"
   ]
  },
  {
   "cell_type": "code",
   "execution_count": 106,
   "metadata": {},
   "outputs": [],
   "source": [
    "clf2 = RandomClusterClassifier(**gridclf2.best_params_)\n",
    "clf2.fit(X_train, y_train)"
   ]
  },
  {
   "cell_type": "code",
   "execution_count": 107,
   "metadata": {},
   "outputs": [
    {
     "name": "stdout",
     "output_type": "stream",
     "text": [
      "Training acc: 0.9583333333333334\n",
      "CV acc: [0.71875    0.73333333 0.65517241 0.79310345]\n"
     ]
    }
   ],
   "source": [
    "print('Training acc:', clf2.score(X_train, y_train))\n",
    "print('CV acc:', cross_val_score(clf2, X_train, y_train, cv=4))"
   ]
  },
  {
   "cell_type": "markdown",
   "metadata": {},
   "source": [
    "## Random Feature Selection"
   ]
  },
  {
   "cell_type": "markdown",
   "metadata": {},
   "source": [
    "I will use same method as above. But, the difference is that random selection is done by sampling features at random.\n",
    "I will not use K-means as feature clustering. I will just select some features at random and group them. Using this, I will build classifiers."
   ]
  },
  {
   "cell_type": "code",
   "execution_count": 108,
   "metadata": {},
   "outputs": [],
   "source": [
    "class RandomClassifier(BaseEstimator, ClassifierMixin):\n",
    "    def __init__(self, n_clusters=15, C=1.0, kernel='poly', degree=2, gamma='auto'):\n",
    "        self.n_clusters = n_clusters\n",
    "        self.clusters = None\n",
    "        self.clf = []\n",
    "        self.C = C\n",
    "        self.kernel = kernel\n",
    "        self.degree = degree\n",
    "        self.gamma = gamma\n",
    "    \n",
    "    def fit(self, X, y):\n",
    "        self.clusters = np.zeros((np.shape(X)[1], self.n_clusters))\n",
    "        # data = np.zeros((np.shape(X)[0], np.shape(X)[1] + 1))\n",
    "        # data[:, : -1] = X\n",
    "        # data[:, -1] = y\n",
    "        for c in range(self.n_clusters):\n",
    "            # argument n_clusters of KMeans is 5 not self.n_clusters\n",
    "            # kmc = KMeans(n_clusters=5, n_init=1, max_iter=100, random_state=11)\n",
    "            # self.clusters[:, c] = kmc.fit_predict(X.T)\n",
    "            self.clusters[:, c] = np.random.choice(self.n_clusters, size=np.shape(X)[1])\n",
    "        \n",
    "        for i in range(self.clusters.shape[1]):\n",
    "            self.clf.append([])\n",
    "            clusters = self.clusters[:, i]\n",
    "            for c in range(5):\n",
    "                features = X[:, clusters == c]\n",
    "                if 0 in features.shape:\n",
    "                    self.clf[i].append(None)\n",
    "                    continue\n",
    "                    \n",
    "                svc = SVC(C=self.C, kernel=self.kernel, gamma=self.gamma, degree=self.degree)\n",
    "                svc.fit(features, y)\n",
    "                self.clf[i].append(svc)\n",
    "    \n",
    "    def predict(self, X):\n",
    "        vote = np.zeros((np.shape(X)[0], 3))\n",
    "        \n",
    "        for i in range(self.clusters.shape[1]):\n",
    "            clusters = self.clusters[:, i]\n",
    "            for c in range(5):\n",
    "                features = X[:, clusters == c]\n",
    "                if 0 in features.shape:\n",
    "                    continue\n",
    "                    \n",
    "                svc = self.clf[i][c]\n",
    "                temp_pred = np.int32(svc.predict(features))\n",
    "                \n",
    "                for j in range(np.shape(X)[0]):\n",
    "                    vote[j, temp_pred[j] - 1] += 1\n",
    "        \n",
    "        pred = np.argmax(vote, axis=1)\n",
    "        return pred + 1\n",
    "    \n",
    "    def score(self, X, y):\n",
    "        pred = self.predict(X)\n",
    "        score = np.mean(pred == y)\n",
    "        return score"
   ]
  },
  {
   "cell_type": "code",
   "execution_count": 109,
   "metadata": {},
   "outputs": [
    {
     "data": {
      "text/plain": [
       "GridSearchCV(cv=4, error_score='raise-deprecating',\n",
       "       estimator=RandomClassifier(C=1.0, degree=2, gamma='auto', kernel='poly', n_clusters=15),\n",
       "       fit_params=None, iid=False, n_jobs=3,\n",
       "       param_grid=[{'kernel': ['poly'], 'C': [0.001, 0.01, 0.1, 1, 10], 'degree': [2, 3, 4, 5], 'gamma': ['auto']}, {'kernel': ['rbf'], 'gamma': ['auto', 0.01, 0.1, 1, 10]}],\n",
       "       pre_dispatch='2*n_jobs', refit=True, return_train_score='warn',\n",
       "       scoring=None, verbose=0)"
      ]
     },
     "execution_count": 109,
     "metadata": {},
     "output_type": "execute_result"
    }
   ],
   "source": [
    "param_grid = [\n",
    "    {\n",
    "        'kernel': ['poly'],\n",
    "        'C': [0.001, 0.01, 0.1, 1, 10],\n",
    "        'degree': [2, 3, 4, 5],\n",
    "        'gamma': ['auto']\n",
    "    },\n",
    "    {\n",
    "        'kernel': ['rbf'],\n",
    "        'gamma': ['auto', 0.01, 0.1, 1, 10]\n",
    "    }\n",
    "]\n",
    "\n",
    "gridclf3 = GridSearchCV(RandomClassifier(), param_grid, cv=4, n_jobs=3, iid=False)\n",
    "gridclf3.fit(X_train, y_train)"
   ]
  },
  {
   "cell_type": "code",
   "execution_count": 110,
   "metadata": {},
   "outputs": [],
   "source": [
    "# clf3 = RandomClassifier(C=0.005, kernel='poly', degree=5, gamma=1)\n",
    "# clf3.fit(X_train, y_train)"
   ]
  },
  {
   "cell_type": "code",
   "execution_count": 111,
   "metadata": {},
   "outputs": [],
   "source": [
    "clf3 = RandomClassifier(**gridclf3.best_params_)\n",
    "clf3.fit(X_train, y_train)"
   ]
  },
  {
   "cell_type": "code",
   "execution_count": 112,
   "metadata": {},
   "outputs": [
    {
     "name": "stdout",
     "output_type": "stream",
     "text": [
      "Training acc: 1.0\n",
      "CV acc: [0.65625    0.66666667 0.72413793 0.72413793]\n"
     ]
    }
   ],
   "source": [
    "print('Training acc:', clf3.score(X_train, y_train))\n",
    "print('CV acc:', cross_val_score(clf3, X_train, y_train, cv=4))"
   ]
  },
  {
   "cell_type": "markdown",
   "metadata": {},
   "source": [
    "## Bagging"
   ]
  },
  {
   "cell_type": "markdown",
   "metadata": {},
   "source": [
    "The next method is Bagging.\n",
    "Bagging is the method which samples dataset randomly with replacement.\n",
    "The size of sample is upto the size of total size of dataset.\n",
    "Of course, I can reduce the sample size.\n",
    "\n",
    "I will use decision tree as individual estimator. First, I want to test whether this classifier is a bit good."
   ]
  },
  {
   "cell_type": "code",
   "execution_count": 113,
   "metadata": {},
   "outputs": [
    {
     "data": {
      "text/plain": [
       "BaggingClassifier(base_estimator=DecisionTreeClassifier(class_weight=None, criterion='gini', max_depth=30,\n",
       "            max_features=None, max_leaf_nodes=None,\n",
       "            min_impurity_decrease=0.0, min_impurity_split=None,\n",
       "            min_samples_leaf=1, min_samples_split=2,\n",
       "            min_weight_fraction_leaf=0.0, presort=False, random_state=None,\n",
       "            splitter='best'),\n",
       "         bootstrap=True, bootstrap_features=True, max_features=1.0,\n",
       "         max_samples=1.0, n_estimators=100, n_jobs=3, oob_score=False,\n",
       "         random_state=11, verbose=0, warm_start=False)"
      ]
     },
     "execution_count": 113,
     "metadata": {},
     "output_type": "execute_result"
    }
   ],
   "source": [
    "bag = BaggingClassifier(DecisionTreeClassifier(max_depth=30), n_estimators=100, bootstrap_features=True, n_jobs=3, random_state=11)\n",
    "bag.fit(X_train, y_train)"
   ]
  },
  {
   "cell_type": "code",
   "execution_count": 114,
   "metadata": {},
   "outputs": [
    {
     "name": "stdout",
     "output_type": "stream",
     "text": [
      "Training acc: 1.0\n",
      "CV acc: [0.6875     0.56666667 0.5862069  0.72413793]\n"
     ]
    }
   ],
   "source": [
    "print('Training acc:', bag.score(X_train, y_train))\n",
    "print('CV acc:', cross_val_score(bag, X_train, y_train, cv=4))"
   ]
  },
  {
   "cell_type": "markdown",
   "metadata": {},
   "source": [
    "Okay. Let me do grid search with cross validation."
   ]
  },
  {
   "cell_type": "markdown",
   "metadata": {},
   "source": [
    "#### Grid Search & Cross Validation"
   ]
  },
  {
   "cell_type": "code",
   "execution_count": 118,
   "metadata": {},
   "outputs": [
    {
     "data": {
      "text/plain": [
       "GridSearchCV(cv=4, error_score='raise-deprecating',\n",
       "       estimator=BaggingClassifier(base_estimator=None, bootstrap=True,\n",
       "         bootstrap_features=False, max_features=1.0, max_samples=1.0,\n",
       "         n_estimators=10, n_jobs=None, oob_score=False, random_state=None,\n",
       "         verbose=0, warm_start=False),\n",
       "       fit_params=None, iid=False, n_jobs=3,\n",
       "       param_grid={'n_estimators': [50, 100, 150], 'bootstrap_features': [True, False], 'max_samples': [0.25, 0.5, 0.75, 1.0], 'max_features': [0.25, 0.5, 0.75, 1.0], 'base_estimator': [DecisionTreeClassifier(class_weight=None, criterion='gini', max_depth=5,\n",
       "            max_features=None, max_leaf_nodes=No...,\n",
       "  max_iter=-1, probability=False, random_state=None, shrinking=True,\n",
       "  tol=0.001, verbose=False)]},\n",
       "       pre_dispatch='2*n_jobs', refit=True, return_train_score='warn',\n",
       "       scoring=None, verbose=0)"
      ]
     },
     "execution_count": 118,
     "metadata": {},
     "output_type": "execute_result"
    }
   ],
   "source": [
    "param_grid = {\n",
    "    'n_estimators': [50, 100, 150],\n",
    "    'bootstrap_features': [True, False],\n",
    "    'max_samples': [0.25, 0.5, 0.75, 1.0],\n",
    "    'max_features': [0.25, 0.5, 0.75, 1.0],\n",
    "    'base_estimator': [\n",
    "        DecisionTreeClassifier(max_depth=5),\n",
    "        DecisionTreeClassifier(max_depth=15),\n",
    "        DecisionTreeClassifier(max_depth=30),\n",
    "        DecisionTreeClassifier(max_depth=50),\n",
    "        SVC(kernel='poly', gamma='auto', degree=2),\n",
    "        SVC(kernel='poly', gamma='auto', degree=3),\n",
    "        SVC(kernel='poly', gamma='auto', degree=4),\n",
    "        SVC(kernel='poly', gamma='auto', degree=5),\n",
    "        SVC(kernel='rbf', gamma='auto')\n",
    "    ]\n",
    "}\n",
    "\n",
    "gridclf4 = GridSearchCV(BaggingClassifier(), param_grid, cv=4, n_jobs=3, iid=False)\n",
    "gridclf4.fit(X_train, y_train)"
   ]
  },
  {
   "cell_type": "code",
   "execution_count": 119,
   "metadata": {},
   "outputs": [
    {
     "data": {
      "text/plain": [
       "BaggingClassifier(base_estimator=DecisionTreeClassifier(class_weight=None, criterion='gini', max_depth=30,\n",
       "            max_features=None, max_leaf_nodes=None,\n",
       "            min_impurity_decrease=0.0, min_impurity_split=None,\n",
       "            min_samples_leaf=1, min_samples_split=2,\n",
       "            min_weight_fraction_leaf=0.0, presort=False, random_state=None,\n",
       "            splitter='best'),\n",
       "         bootstrap=True, bootstrap_features=False, max_features=0.25,\n",
       "         max_samples=0.25, n_estimators=50, n_jobs=None, oob_score=False,\n",
       "         random_state=None, verbose=0, warm_start=False)"
      ]
     },
     "execution_count": 119,
     "metadata": {},
     "output_type": "execute_result"
    }
   ],
   "source": [
    "clf4 = BaggingClassifier(**gridclf4.best_params_)\n",
    "clf4.fit(X_train, y_train)"
   ]
  },
  {
   "cell_type": "code",
   "execution_count": 120,
   "metadata": {},
   "outputs": [
    {
     "name": "stdout",
     "output_type": "stream",
     "text": [
      "Training acc: 0.875\n",
      "CV acc: [0.625      0.63333333 0.5862069  0.79310345]\n"
     ]
    }
   ],
   "source": [
    "print('Training acc:', clf4.score(X_train, y_train))\n",
    "print('CV acc:', cross_val_score(clf4, X_train, y_train, cv=4))"
   ]
  },
  {
   "cell_type": "markdown",
   "metadata": {},
   "source": [
    "## Random Forest"
   ]
  },
  {
   "cell_type": "markdown",
   "metadata": {},
   "source": [
    "Also, We can use RandomForest.\n",
    "The random forest is the method which consists of many decision tree."
   ]
  },
  {
   "cell_type": "code",
   "execution_count": 121,
   "metadata": {},
   "outputs": [],
   "source": [
    "from sklearn.ensemble import RandomForestClassifier"
   ]
  },
  {
   "cell_type": "code",
   "execution_count": 122,
   "metadata": {},
   "outputs": [
    {
     "data": {
      "text/plain": [
       "GridSearchCV(cv=5, error_score='raise-deprecating',\n",
       "       estimator=RandomForestClassifier(bootstrap=True, class_weight=None, criterion='gini',\n",
       "            max_depth=None, max_features='auto', max_leaf_nodes=None,\n",
       "            min_impurity_decrease=0.0, min_impurity_split=None,\n",
       "            min_samples_leaf=1, min_samples_split=2,\n",
       "            min_weight_fraction_leaf=0.0, n_estimators='warn', n_jobs=None,\n",
       "            oob_score=False, random_state=None, verbose=0,\n",
       "            warm_start=False),\n",
       "       fit_params=None, iid=False, n_jobs=3,\n",
       "       param_grid={'n_estimators': [50, 100, 150, 200], 'max_depth': [3, 5, 10, 30, 50], 'min_samples_split': [0.3, 0.5, 0.7], 'min_samples_leaf': [1, 2, 3, 4], 'max_leaf_nodes': [None, 2, 3, 5]},\n",
       "       pre_dispatch='2*n_jobs', refit=True, return_train_score='warn',\n",
       "       scoring=None, verbose=0)"
      ]
     },
     "execution_count": 122,
     "metadata": {},
     "output_type": "execute_result"
    }
   ],
   "source": [
    "param_grid = {\n",
    "    'n_estimators': [50, 100, 150, 200],\n",
    "    'max_depth': [3, 5, 10, 30, 50],\n",
    "    'min_samples_split': [0.3, 0.5, 0.7],\n",
    "    'min_samples_leaf': [1, 2, 3, 4],\n",
    "    'max_leaf_nodes': [None, 2, 3, 5]\n",
    "}\n",
    "\n",
    "gridclf5 = GridSearchCV(RandomForestClassifier(), param_grid, cv=5, n_jobs=3, iid=False)\n",
    "gridclf5.fit(X_train, y_train)"
   ]
  },
  {
   "cell_type": "code",
   "execution_count": 123,
   "metadata": {},
   "outputs": [
    {
     "data": {
      "text/plain": [
       "RandomForestClassifier(bootstrap=True, class_weight=None, criterion='gini',\n",
       "            max_depth=3, max_features='auto', max_leaf_nodes=3,\n",
       "            min_impurity_decrease=0.0, min_impurity_split=None,\n",
       "            min_samples_leaf=4, min_samples_split=0.3,\n",
       "            min_weight_fraction_leaf=0.0, n_estimators=200, n_jobs=None,\n",
       "            oob_score=False, random_state=None, verbose=0,\n",
       "            warm_start=False)"
      ]
     },
     "execution_count": 123,
     "metadata": {},
     "output_type": "execute_result"
    }
   ],
   "source": [
    "clf5 = RandomForestClassifier(**gridclf5.best_params_)\n",
    "clf5.fit(X_train, y_train)"
   ]
  },
  {
   "cell_type": "code",
   "execution_count": 124,
   "metadata": {},
   "outputs": [
    {
     "name": "stdout",
     "output_type": "stream",
     "text": [
      "Training acc: 0.8166666666666667\n",
      "CV acc: [0.65625    0.66666667 0.5862069  0.75862069]\n"
     ]
    }
   ],
   "source": [
    "print('Training acc:', clf5.score(X_train, y_train))\n",
    "print('CV acc:', cross_val_score(clf5, X_train, y_train, cv=4))"
   ]
  },
  {
   "cell_type": "markdown",
   "metadata": {},
   "source": [
    "## Test Accuracy"
   ]
  },
  {
   "cell_type": "markdown",
   "metadata": {},
   "source": [
    "Finally, Let me test my models. I want to see confusion matrix to see false positive and false negative."
   ]
  },
  {
   "cell_type": "code",
   "execution_count": 125,
   "metadata": {},
   "outputs": [],
   "source": [
    "from sklearn.metrics import confusion_matrix"
   ]
  },
  {
   "cell_type": "markdown",
   "metadata": {},
   "source": [
    "### Embedding Classifier"
   ]
  },
  {
   "cell_type": "code",
   "execution_count": 126,
   "metadata": {},
   "outputs": [
    {
     "name": "stdout",
     "output_type": "stream",
     "text": [
      "Test Acc: 0.725\n"
     ]
    }
   ],
   "source": [
    "print('Test Acc:', clf1.score(X_test, y_test))"
   ]
  },
  {
   "cell_type": "code",
   "execution_count": 127,
   "metadata": {},
   "outputs": [
    {
     "data": {
      "image/png": "[encoded data removed]",
      "text/plain": [
       "<Figure size 432x288 with 2 Axes>"
      ]
     },
     "metadata": {
      "needs_background": "light"
     },
     "output_type": "display_data"
    }
   ],
   "source": [
    "sns.heatmap(confusion_matrix(y_test, clf1.predict(X_test)), cmap='Blues', annot=True,\n",
    "            xticklabels=[1, 2, 3],\n",
    "            yticklabels=[1, 2, 3])\n",
    "plt.title('Confusion Matrix')\n",
    "plt.xlabel('Predictions')\n",
    "plt.ylabel('True Labels')\n",
    "plt.show()"
   ]
  },
  {
   "cell_type": "markdown",
   "metadata": {},
   "source": [
    "### Random Cluster Classifier"
   ]
  },
  {
   "cell_type": "code",
   "execution_count": 128,
   "metadata": {},
   "outputs": [
    {
     "name": "stdout",
     "output_type": "stream",
     "text": [
      "Test Acc: 0.8\n"
     ]
    }
   ],
   "source": [
    "print('Test Acc:', clf2.score(X_test, y_test))"
   ]
  },
  {
   "cell_type": "code",
   "execution_count": 129,
   "metadata": {},
   "outputs": [
    {
     "data": {
      "image/png": "[encoded data removed]",
      "text/plain": [
       "<Figure size 432x288 with 2 Axes>"
      ]
     },
     "metadata": {
      "needs_background": "light"
     },
     "output_type": "display_data"
    }
   ],
   "source": [
    "sns.heatmap(confusion_matrix(y_test, clf2.predict(X_test)), cmap='Blues', annot=True,\n",
    "            xticklabels=[1, 2, 3],\n",
    "            yticklabels=[1, 2, 3])\n",
    "plt.title('Confusion Matrix')\n",
    "plt.xlabel('Predictions')\n",
    "plt.ylabel('True Labels')\n",
    "plt.show()"
   ]
  },
  {
   "cell_type": "markdown",
   "metadata": {},
   "source": [
    "### Random Classifier"
   ]
  },
  {
   "cell_type": "code",
   "execution_count": 130,
   "metadata": {},
   "outputs": [
    {
     "name": "stdout",
     "output_type": "stream",
     "text": [
      "Test Acc: 0.775\n"
     ]
    }
   ],
   "source": [
    "print('Test Acc:', clf3.score(X_test, y_test))"
   ]
  },
  {
   "cell_type": "code",
   "execution_count": 131,
   "metadata": {},
   "outputs": [
    {
     "data": {
      "image/png": "[encoded data removed]",
      "text/plain": [
       "<Figure size 432x288 with 2 Axes>"
      ]
     },
     "metadata": {
      "needs_background": "light"
     },
     "output_type": "display_data"
    }
   ],
   "source": [
    "sns.heatmap(confusion_matrix(y_test, clf3.predict(X_test)), cmap='Blues', annot=True,\n",
    "            xticklabels=[1, 2, 3],\n",
    "            yticklabels=[1, 2, 3])\n",
    "plt.title('Confusion Matrix')\n",
    "plt.xlabel('Predictions')\n",
    "plt.ylabel('True Labels')\n",
    "plt.show()"
   ]
  },
  {
   "cell_type": "markdown",
   "metadata": {},
   "source": [
    "### Bagging Classifier"
   ]
  },
  {
   "cell_type": "code",
   "execution_count": 132,
   "metadata": {},
   "outputs": [
    {
     "name": "stdout",
     "output_type": "stream",
     "text": [
      "Test Acc: 0.75\n"
     ]
    }
   ],
   "source": [
    "print('Test Acc:', clf4.score(X_test, y_test))"
   ]
  },
  {
   "cell_type": "code",
   "execution_count": 133,
   "metadata": {},
   "outputs": [
    {
     "data": {
      "image/png": "[encoded data removed]",
      "text/plain": [
       "<Figure size 432x288 with 2 Axes>"
      ]
     },
     "metadata": {
      "needs_background": "light"
     },
     "output_type": "display_data"
    }
   ],
   "source": [
    "sns.heatmap(confusion_matrix(y_test, clf4.predict(X_test)), cmap='Blues', annot=True,\n",
    "            xticklabels=[1, 2, 3],\n",
    "            yticklabels=[1, 2, 3])\n",
    "plt.title('Confusion Matrix')\n",
    "plt.xlabel('Predictions')\n",
    "plt.ylabel('True Labels')\n",
    "plt.show()"
   ]
  },
  {
   "cell_type": "markdown",
   "metadata": {},
   "source": [
    "### Random Forest"
   ]
  },
  {
   "cell_type": "code",
   "execution_count": 134,
   "metadata": {},
   "outputs": [
    {
     "name": "stdout",
     "output_type": "stream",
     "text": [
      "Test Acc: 0.725\n"
     ]
    }
   ],
   "source": [
    "print('Test Acc:', clf5.score(X_test, y_test))"
   ]
  },
  {
   "cell_type": "code",
   "execution_count": 135,
   "metadata": {},
   "outputs": [
    {
     "data": {
      "image/png": "[encoded data removed]",
      "text/plain": [
       "<Figure size 432x288 with 2 Axes>"
      ]
     },
     "metadata": {
      "needs_background": "light"
     },
     "output_type": "display_data"
    }
   ],
   "source": [
    "sns.heatmap(confusion_matrix(y_test, clf5.predict(X_test)), cmap='Blues', annot=True,\n",
    "            xticklabels=[1, 2, 3],\n",
    "            yticklabels=[1, 2, 3])\n",
    "plt.title('Confusion Matrix')\n",
    "plt.xlabel('Predictions')\n",
    "plt.ylabel('True Labels')\n",
    "plt.show()"
   ]
  },
  {
   "cell_type": "markdown",
   "metadata": {},
   "source": [
    "# My Discussion"
   ]
  },
  {
   "cell_type": "markdown",
   "metadata": {},
   "source": [
    "The algorithms looks hard to classify grade 2.\n",
    "There are many cases where true label is 2 but, algoritm predicted it as 1 or 3.\n",
    "Also, there are many cases where true label is not 2 but, algorithm predicted it as 2.\n",
    "This may be because grade 2 is between grade 1 and 3.\n",
    "As seeing scatter plot which show distribution with respect to each grade, datapoints whose grade 1 and 2 tend to be mixed.\n",
    "And datapoints whose grade 2 and 3 tend to be mixed.\n",
    "So, between grade 1 and 3, there are few false positive and false negative."
   ]
  },
  {
   "cell_type": "code",
   "execution_count": 136,
   "metadata": {},
   "outputs": [
    {
     "data": {
      "image/png": "[encoded data removed]",
      "text/plain": [
       "<Figure size 432x288 with 1 Axes>"
      ]
     },
     "metadata": {
      "needs_background": "light"
     },
     "output_type": "display_data"
    }
   ],
   "source": [
    "pca = PCA(n_components=2)\n",
    "X_pca = pca.fit_transform(new_X[new_labels])\n",
    "\n",
    "plt.scatter(X_pca[new_y == 1][:, 0], X_pca[new_y == 1][:, 1], c='green')\n",
    "plt.scatter(X_pca[new_y == 2][:, 0], X_pca[new_y == 2][:, 1], c='blue')\n",
    "plt.scatter(X_pca[new_y == 3][:, 0], X_pca[new_y == 3][:, 1], c='red')\n",
    "plt.legend(['Grade 1', 'Grade 2', 'Grade 3'])\n",
    "plt.xlabel('PC1')\n",
    "plt.ylabel('PC2')\n",
    "plt.title('After Balancing Grade')\n",
    "plt.show()"
   ]
  },
  {
   "cell_type": "markdown",
   "metadata": {},
   "source": [
    "I think my result is not enough.\n",
    "There will be so many factors which will have impact on cancer.\n",
    "Also, my work is not enough because of my shallow knowledge.\n",
    "I think I need more study about AI. This job motivates my passion!\n",
    "\n",
    "In PBL1, PBL2 project, the dataset was image of digit so, the preprocessing looks easy.\n",
    "But, in PBL3, I had some troubles to preprocess data. But, as doing the project, I learned about sequence data,\n",
    "about genetic data, also about how to preprocess data which is not image.\n",
    "I think, genetic problem is very critical problem. Especially, dicision to grade caner is very sensitive.\n",
    "So, I think my result is not enough. I want to find another method regardless of class.\n",
    "After this semester finished, this work deserve to be revisited.\n",
    "\n",
    "This was very interesting project. I think this is good experience among my career.\n",
    "I don't know there will be another chance to explore genetic dataset. This was great experience.\n",
    "After taking this course, I think that math, statistics and linear algebra is so important.\n",
    "\n",
    "I have some experience of deep learning.\n",
    "But in this project, professor banned multi-layered architectures. I think that this was very good decision because I can have\n",
    "better understanding to machine learning theory, I can learn more basic things of machine learning.\n",
    "This project let me remind my machine learning knowledge and warn me not to stay my knowledge.\n",
    "\n",
    "Thanks for motivating me. I will do my best."
   ]
  }
 ],
 "metadata": {
  "kernelspec": {
   "display_name": "Python 3",
   "language": "python",
   "name": "python3"
  },
  "language_info": {
   "codemirror_mode": {
    "name": "ipython",
    "version": 3
   },
   "file_extension": ".py",
   "mimetype": "text/x-python",
   "name": "python",
   "nbconvert_exporter": "python",
   "pygments_lexer": "ipython3",
   "version": "3.6.6"
  }
 },
 "nbformat": 4,
 "nbformat_minor": 2
}
