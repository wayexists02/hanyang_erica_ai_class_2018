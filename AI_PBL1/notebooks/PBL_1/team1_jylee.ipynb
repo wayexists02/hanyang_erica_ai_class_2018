{
 "cells": [
  {
   "cell_type": "code",
   "execution_count": 1,
   "metadata": {},
   "outputs": [],
   "source": [
    "import numpy as np\n",
    "import pandas as pd\n",
    "import seaborn as sns\n",
    "import matplotlib.pyplot as plt\n",
    "import pathlib\n",
    "import copy\n",
    "from sklearn.externals import joblib\n",
    "from sklearn.model_selection import GridSearchCV\n",
    "from sklearn.metrics import f1_score\n",
    "from skimage.feature import hog"
   ]
  },
  {
   "cell_type": "code",
   "execution_count": 2,
   "metadata": {},
   "outputs": [],
   "source": [
    "import os\n",
    "import struct\n",
    "\n",
    "\"\"\"\n",
    "Loosely inspired by http://abel.ee.ucla.edu/cvxopt/_downloads/mnist.py\n",
    "which is GPL licensed.\n",
    "\"\"\"\n",
    "\n",
    "def read(dataset = \"training\", path = \".\"):\n",
    "    \"\"\"\n",
    "    Python function for importing the MNIST data set.  It returns an iterator\n",
    "    of 2-tuples with the first element being the label and the second element\n",
    "    being a numpy.uint8 2D array of pixel data for the given image.\n",
    "    \"\"\"\n",
    "\n",
    "    if dataset is \"training\":\n",
    "        fname_img = os.path.join(path, 'train-images.idx3-ubyte')\n",
    "        fname_lbl = os.path.join(path, 'train-labels.idx1-ubyte')\n",
    "    elif dataset is \"testing\":\n",
    "        fname_img = os.path.join(path, 't10k-images.idx3-ubyte')\n",
    "        fname_lbl = os.path.join(path, 't10k-labels.idx1-ubyte')\n",
    "    else:\n",
    "        raise Exception(\"dataset must be 'testing' or 'training'\")\n",
    "\n",
    "    # Load everything in some numpy arrays\n",
    "    with open(fname_lbl, 'rb') as flbl:\n",
    "        magic, num = struct.unpack(\">II\", flbl.read(8))\n",
    "        lbl = np.fromfile(flbl, dtype=np.int8)\n",
    "\n",
    "    with open(fname_img, 'rb') as fimg:\n",
    "        magic, num, rows, cols = struct.unpack(\">IIII\", fimg.read(16))\n",
    "        img = np.fromfile(fimg, dtype=np.uint8).reshape(len(lbl), rows, cols)\n",
    "\n",
    "    get_img = lambda idx: (lbl[idx], img[idx])\n",
    "\n",
    "    # Create an iterator which returns each image in turn\n",
    "    for i in range(len(lbl)):\n",
    "        yield get_img(i)"
   ]
  },
  {
   "cell_type": "code",
   "execution_count": 3,
   "metadata": {},
   "outputs": [],
   "source": [
    "def train_model(X, Y, model, default_param, param_grid, cv, save, filename):\n",
    "    \"\"\"\n",
    "    Train model using given parameters.\n",
    "    \n",
    "    Arguments:\n",
    "    ------------------------\n",
    "    - X: training data images\n",
    "    - Y: training data labels\n",
    "    - model: estimator class (NOT object)\n",
    "    - default_param: default parameters you want to apply to model\n",
    "    - param_grid: used by GridSearchCV\n",
    "    - cv: k in K-Fold. cross-validation parameter\n",
    "    - save: whether you save trained model or not\n",
    "    - filename: path of file to save your model\n",
    "    \n",
    "    Returns:\n",
    "    ------------------------\n",
    "    - estimator: trained model.\n",
    "    \"\"\"\n",
    "    \n",
    "    clf = model(**default_param)\n",
    "    estimator = GridSearchCV(clf, param_grid, cv=cv, n_jobs=-1)\n",
    "    \n",
    "    estimator.fit(X, Y)\n",
    "    \n",
    "    if save:\n",
    "        joblib.dump(estimator, filename)\n",
    "        \n",
    "    return estimator\n",
    "\n",
    "def get_model(model, filename, param_grid=dict(), cv=6, X=None, Y=None, default_param=dict(), force_training=False, save=True):\n",
    "    \"\"\"\n",
    "    get model from existing file which has pre-trained model\n",
    "    or create new model.\n",
    "    \n",
    "    Arguments:\n",
    "    --------------------------\n",
    "    - model: class of estimator\n",
    "    - filename: name of file which contains pre-trained model.\n",
    "    - default_param: default parameters you want to apply to model\n",
    "    - param_grid: parameters you want to pass to GridSearchCV as parameters of 'param_grid'\n",
    "    - cv: cross-validation parameter\n",
    "    - X: training data images\n",
    "    - Y: training data labels\n",
    "    - forece_training: if you want this function to ONLY train not load from file, set True.\n",
    "    - save: if you want to save model after training, set this True.\n",
    "    \n",
    "    Returns:\n",
    "    --------------------------\n",
    "    - estimator: model trained.\n",
    "    \"\"\"\n",
    "    \n",
    "    path = pathlib.Path(filename)\n",
    "    estimator = None\n",
    "    \n",
    "    if force_training == True:\n",
    "        estimator = train_model(X, Y, model, default_param, param_grid, cv, save, filename)\n",
    "    else:\n",
    "        if path.exists(): # if file exists, just load that.\n",
    "            estimator = joblib.load(filename)\n",
    "        else:\n",
    "            estimator = train_model(X, Y, model, default_param, param_grid, cv, save, filename)\n",
    "            \n",
    "    return estimator\n",
    "\n",
    "def get_model_without_gridsearch(model, filename, default_param=dict(), X=None, Y=None, save=True):\n",
    "    \"\"\"\n",
    "    Another version of get model without GridSearchCV\n",
    "    \n",
    "    Arguments:\n",
    "    -----------------------------\n",
    "    model: class name of estimator\n",
    "    filename: name of file to store our model into.\n",
    "    default_param: default parameter you want to pass into model.\n",
    "    X: features of training dataset\n",
    "    Y: labels of training dataset\n",
    "    save: if you want to save model after training, set it to True. default: True\n",
    "    \n",
    "    Returns:\n",
    "    -----------------------------\n",
    "    estimator: model which is trained already.\n",
    "    \"\"\"\n",
    "    \n",
    "    if pathlib.Path(filename).exists():\n",
    "        estimator = joblib.load(filename)\n",
    "    else:\n",
    "        estimator = model(**default_param)\n",
    "        estimator.fit(X, Y)\n",
    "        if save:\n",
    "            joblib.dump(estimator, filename)\n",
    "        \n",
    "    return estimator"
   ]
  },
  {
   "cell_type": "code",
   "execution_count": 4,
   "metadata": {},
   "outputs": [],
   "source": [
    "def dataset_sampling(images, labels, n_samples=10000):\n",
    "    \"\"\"\n",
    "    Randomly and EQUALLY sampling dataset.\n",
    "    In this function, all digits have same weights.\n",
    "    For example, if you passed n_samples as 10000,\n",
    "    number 0 is to be 1000\n",
    "    number 1 is to be 1000\n",
    "    ...\n",
    "    number 9 is to be 1000\n",
    "    \n",
    "    Arguments:\n",
    "    ------------------------\n",
    "    images: image dataset to be sampled of size n_samples\n",
    "    labels: label dataset to be sampled.\n",
    "    n_samples: sample size.\n",
    "    \n",
    "    Returns:\n",
    "    -------------------------\n",
    "    result_images: image sampled into n_samples\n",
    "    result_labels: image sampled into n_samples\n",
    "    \"\"\"\n",
    "    \n",
    "    # placeholder for sampled dataset.\n",
    "    result_images = np.zeros((n_samples, 28, 28))\n",
    "    result_labels = np.zeros((n_samples,))\n",
    "    \n",
    "    # sampling\n",
    "    for i in range(10):\n",
    "        # to sample all digits equally.\n",
    "        temp_images = images[labels == i]\n",
    "        temp_labels = labels[labels == i]\n",
    "        \n",
    "        random_index = np.random.randint(0, temp_images.shape[0], size=1000)\n",
    "        \n",
    "        result_images[i * 1000 : (i + 1) * 1000] = temp_images[random_index]\n",
    "        result_labels[i * 1000 : (i + 1) * 1000] = temp_labels[random_index]\n",
    "        \n",
    "    return result_images, result_labels"
   ]
  },
  {
   "cell_type": "markdown",
   "metadata": {},
   "source": [
    "# Read Dataset From Files."
   ]
  },
  {
   "cell_type": "code",
   "execution_count": 5,
   "metadata": {},
   "outputs": [
    {
     "name": "stdout",
     "output_type": "stream",
     "text": [
      "(60000, 28, 28)\n",
      "(60000,)\n",
      "(10000, 28, 28)\n",
      "(10000,)\n"
     ]
    }
   ],
   "source": [
    "# read dataset fron file.\n",
    "\n",
    "tr = list(read(\"training\", \"data/\"))\n",
    "ts = list(read(\"testing\", 'data/'))\n",
    "\n",
    "images_train = np.array(list(zip(*tr))[1])\n",
    "labels_train = np.array(list(zip(*tr))[0])\n",
    "\n",
    "images_test = np.array(list(zip(*ts))[1])\n",
    "labels_test = np.array(list(zip(*ts))[0])\n",
    "\n",
    "print(images_train.shape)\n",
    "print(labels_train.shape)\n",
    "print(images_test.shape)\n",
    "print(labels_test.shape)"
   ]
  },
  {
   "cell_type": "markdown",
   "metadata": {},
   "source": [
    "# Method 1: Using Gradients"
   ]
  },
  {
   "cell_type": "code",
   "execution_count": 13,
   "metadata": {},
   "outputs": [],
   "source": [
    "def zero_padding(images, n=1):\n",
    "    \"\"\"\n",
    "    zero-padding to image.\n",
    "    add additional edge which has value of 0\n",
    "    \n",
    "    Arguments:\n",
    "    ---------------------\n",
    "    - images: training dataset images. maybe (60000, 28, 28)\n",
    "    - n: how many padding do you want? in other word, how many edge do you want to insert?\n",
    "    \n",
    "    Returns:\n",
    "    ---------------------\n",
    "    - images_padded: padded images. (60000, 30, 30) or other shape.\n",
    "    \"\"\"\n",
    "    \n",
    "    # number of training examples. 60000. if you use test data, 10000.\n",
    "    m = images.shape[0]\n",
    "    \n",
    "    # define larger size of window than size of images. maybe (60000, 30, 30), (60000, 32, 32)\n",
    "    images_padded = np.zeros((m, images.shape[1] + 2 * n, images.shape[2] + 2 * n))\n",
    "    \n",
    "    # insert image in the middle of this window.\n",
    "    images_padded[:, n : images_padded.shape[1] - n, n : images_padded.shape[2] - n] = images\n",
    "    \n",
    "    return images_padded"
   ]
  },
  {
   "cell_type": "code",
   "execution_count": 14,
   "metadata": {},
   "outputs": [],
   "source": [
    "def x_gradient_slice(images_slice):\n",
    "    \"\"\"\n",
    "    find gradient(in korean, 기울기 또는 미분값) for part of images.\n",
    "    \n",
    "    Arguments:\n",
    "    ----------------------\n",
    "    - images_slice: small window extracted from images. (60000, 7, 7)\n",
    "    \n",
    "    Returns:\n",
    "    ----------------------\n",
    "    - grad: x-axis-oriented gradient (in korean, x 축 방향 기울기)\n",
    "    \"\"\"\n",
    "    \n",
    "    x_gradient_filter = np.array([\n",
    "        [-1,  0,  1],\n",
    "        [-1,  0,  1],\n",
    "        [-1,  0,  1],\n",
    "    ])\n",
    "    \n",
    "    # reshape for broadcasting.\n",
    "    x_gradient_filter = x_gradient_filter.reshape(1, 3, 3)\n",
    "    \n",
    "    # element-wise compute. compute gradient\n",
    "    temp = np.multiply(images_slice, x_gradient_filter)\n",
    "    grad = np.sum(temp, axis=(1, 2))\n",
    "    \n",
    "    return grad"
   ]
  },
  {
   "cell_type": "code",
   "execution_count": 15,
   "metadata": {},
   "outputs": [],
   "source": [
    "def x_gradient(images):\n",
    "    \"\"\"\n",
    "    find gradient(in korean, 기울기 또는 미분값) for whole images.\n",
    "    \n",
    "    Arguments:\n",
    "    ----------------------\n",
    "    - images: images. (60000, 28, 28)\n",
    "    \n",
    "    Returns:\n",
    "    ----------------------\n",
    "    - grad: x-axis-oriented gradient (in korean, x 축 방향 기울기)\n",
    "    \"\"\"\n",
    "    \n",
    "    # some useful variables.\n",
    "    m = images.shape[0]\n",
    "    width = images.shape[1]\n",
    "    height = images.shape[2]\n",
    "    \n",
    "    # define placeholder to store gradients.\n",
    "    x_grads = np.zeros((m, width - 2, height - 2))\n",
    "    \n",
    "    # slice image into small size window, then compute gradient.\n",
    "    for w in range(1, width - 1):\n",
    "        for h in range(1, height - 1):\n",
    "            images_slice = images[:, w - 1 : w + 2, h - 1 : h + 2]\n",
    "            x_grads[:, w - 1, h - 1] = x_gradient_slice(images_slice)\n",
    "            \n",
    "    return x_grads"
   ]
  },
  {
   "cell_type": "code",
   "execution_count": 16,
   "metadata": {},
   "outputs": [],
   "source": [
    "def y_gradient_slice(images_slice):\n",
    "    \"\"\"\n",
    "    find gradient(in korean, 기울기 또는 미분값) for part of images.\n",
    "    \n",
    "    Arguments:\n",
    "    ----------------------\n",
    "    - images_slice: small window extracted from images. (60000, 7, 7)\n",
    "    \n",
    "    Returns:\n",
    "    ----------------------\n",
    "    - grad: y-axis-oriented gradient (in korean, y 축 방향 기울기)\n",
    "    \"\"\"\n",
    "    \n",
    "    y_gradient_filter = np.array([\n",
    "        [-1, -1, -1],\n",
    "        [ 0,  0,  0],\n",
    "        [ 1,  1,  1],\n",
    "    ])\n",
    "    \n",
    "    # reshape for broadcasting.\n",
    "    y_gradient_filter = y_gradient_filter.reshape(1, 3, 3)\n",
    "    \n",
    "    # element-wise compute. compute gradient\n",
    "    temp = np.multiply(images_slice, y_gradient_filter)\n",
    "    grad = np.sum(temp, axis=(1, 2))\n",
    "    \n",
    "    return grad"
   ]
  },
  {
   "cell_type": "code",
   "execution_count": 17,
   "metadata": {},
   "outputs": [],
   "source": [
    "def y_gradient(images):\n",
    "    \"\"\"\n",
    "    find gradient(in korean, 기울기 또는 미분값) for whole images.\n",
    "    \n",
    "    Arguments:\n",
    "    ----------------------\n",
    "    - images: images. (60000, 28, 28)\n",
    "    \n",
    "    Returns:\n",
    "    ----------------------\n",
    "    - grad: y-axis-oriented gradient (in korean, y 축 방향 기울기)\n",
    "    \"\"\"\n",
    "    \n",
    "    # some useful variables.\n",
    "    m = images.shape[0]\n",
    "    width = images.shape[1]\n",
    "    height = images.shape[2]\n",
    "    \n",
    "    # define placeholder to store gradients.\n",
    "    y_grads = np.zeros((m, width - 2, height - 2))\n",
    "    \n",
    "    # slice image into small size window, then compute gradient.\n",
    "    for w in range(1, width - 1):\n",
    "        for h in range(1, height - 1):\n",
    "            images_slice = images[:, w - 1 : w + 2, h - 1 : h + 2]\n",
    "            y_grads[:, w - 1, h - 1] = y_gradient_slice(images_slice)\n",
    "            \n",
    "    return y_grads"
   ]
  },
  {
   "cell_type": "code",
   "execution_count": 18,
   "metadata": {},
   "outputs": [],
   "source": [
    "def get_average_grads(x_grads, y_grads, grid=7):\n",
    "    \"\"\"\n",
    "    After we get gradients, let's compute average of these gradient. I'will post pictures.\n",
    "    compute partial gradients.\n",
    "    \n",
    "    Arguments:\n",
    "    ---------------------\n",
    "    - x_grads: pre-computed gradients for x-axis (60000, 28, 28)\n",
    "    - y_grads: pre-computed gradients for y-axis (60000, 28, 28)\n",
    "    - grid: grid for dividing images. we will compute average of gradients for each grid. the averages become features.\n",
    "    \n",
    "    Returns:\n",
    "    ---------------------\n",
    "    - x_avg_grads: average of gradients x-axis (60000, 7, 7)\n",
    "    - y_avg_grads: average of gradients y-axis (60000, 7, 7)\n",
    "    \"\"\"\n",
    "    \n",
    "    assert(x_grads.shape == y_grads.shape)\n",
    "    \n",
    "    # some useful variables.\n",
    "    m = x_grads.shape[0]\n",
    "    width = x_grads.shape[1]\n",
    "    height = x_grads.shape[2]\n",
    "    \n",
    "    # I define these variables to slicing images conveniently.\n",
    "    w_step = width // grid  # w_step = 4\n",
    "    h_step = height // grid # h_step = 4\n",
    "    \n",
    "    # placeholder for storing average of gradients\n",
    "    x_avg_grads = np.zeros((m, width // w_step, height // h_step))\n",
    "    y_avg_grads = np.zeros((m, width // w_step, height // h_step))\n",
    "    \n",
    "    for w in range(0, width, w_step):\n",
    "        for h in range(0, height, h_step):\n",
    "            # slicing gradients into small part.\n",
    "            x_grads_slice = x_grads[:, w : w + w_step, h : h + h_step]\n",
    "            y_grads_slice = y_grads[:, w : w + w_step, h : h + h_step]\n",
    "            \n",
    "            assert(x_grads_slice.shape == y_grads_slice.shape == (m, width // grid, height // grid))\n",
    "            \n",
    "            # compute mean of gradients of part of image\n",
    "            x_avg_grads[:, w // w_step, h // h_step] = np.mean(x_grads_slice, axis=(1, 2))\n",
    "            y_avg_grads[:, w // w_step, h // h_step] = np.mean(y_grads_slice, axis=(1, 2))\n",
    "            \n",
    "    return x_avg_grads, y_avg_grads"
   ]
  },
  {
   "cell_type": "code",
   "execution_count": 19,
   "metadata": {},
   "outputs": [],
   "source": [
    "def average_gradients_grid(images, grid=7, padding=1, normalize=True):\n",
    "    \"\"\"\n",
    "    Preprocessing method 1 which I tried.\n",
    "    \n",
    "    Arguments:\n",
    "    -------------------------\n",
    "    - images: training or test images (60000, 28, 28)\n",
    "    - grid: grid for dividing images. we will compute average of gradients for each grid. the averages become features.\n",
    "    - padding: how much padding image.\n",
    "    \n",
    "    Returns:\n",
    "    -------------------------\n",
    "    - features: pre-processed features (pixel of images). (60000, 98)\n",
    "    \"\"\"\n",
    "    \n",
    "    images = np.copy(images)\n",
    "    \n",
    "    m = images.shape[0]\n",
    "    \n",
    "    # normalize\n",
    "    if normalize:\n",
    "        images_norm = images / 255\n",
    "    else:\n",
    "        images_norm = images\n",
    "    \n",
    "    # thresholding\n",
    "    images_norm[images_norm >= 0.1] = 1\n",
    "    images_norm[images_norm < 0.1] = 0\n",
    "    \n",
    "    # zero padding\n",
    "    images_padded = zero_padding(images_norm, padding)\n",
    "    \n",
    "    # number of features = grid^2 * 2\n",
    "    features = np.zeros((m, (grid ** 2) * 2))\n",
    "\n",
    "    # compute x-axis gradient, y-axis gradient\n",
    "    x_grads = x_gradient(images_padded)\n",
    "    y_grads = y_gradient(images_padded)\n",
    "    \n",
    "    # compute average of gradient (grid 7x7)\n",
    "    x_avg_grads, y_avg_grads = get_average_grads(x_grads, y_grads, grid)\n",
    "    \n",
    "    assert(x_avg_grads.shape == y_avg_grads.shape == (m, grid, grid))\n",
    "    \n",
    "    # flatten\n",
    "    x_features = x_avg_grads.reshape(m, -1)\n",
    "    y_features = y_avg_grads.reshape(m, -1)\n",
    "    \n",
    "    features[:, : grid ** 2] = x_features\n",
    "    features[:, grid ** 2 :] = y_features\n",
    "    \n",
    "    return features"
   ]
  },
  {
   "cell_type": "markdown",
   "metadata": {},
   "source": [
    "Okay, let's start! First, we compute gradient features."
   ]
  },
  {
   "cell_type": "code",
   "execution_count": 13,
   "metadata": {},
   "outputs": [],
   "source": [
    "preprocessed_1_X_train = average_gradients_grid(images_train)\n",
    "preprocessed_1_X_test = average_gradients_grid(images_test)"
   ]
  },
  {
   "cell_type": "code",
   "execution_count": 14,
   "metadata": {},
   "outputs": [
    {
     "name": "stdout",
     "output_type": "stream",
     "text": [
      "(60000, 98)\n",
      "(10000, 98)\n"
     ]
    }
   ],
   "source": [
    "print(preprocessed_1_X_train.shape)\n",
    "print(preprocessed_1_X_test.shape)"
   ]
  },
  {
   "cell_type": "markdown",
   "metadata": {},
   "source": [
    "### CV with un-preprocessed data"
   ]
  },
  {
   "cell_type": "code",
   "execution_count": 31,
   "metadata": {},
   "outputs": [],
   "source": [
    "X_train, Y_train = dataset_sampling(images_train, labels_train)"
   ]
  },
  {
   "cell_type": "code",
   "execution_count": 32,
   "metadata": {},
   "outputs": [
    {
     "name": "stdout",
     "output_type": "stream",
     "text": [
      "(10000, 28, 28)\n",
      "(10000,)\n"
     ]
    }
   ],
   "source": [
    "print(X_train.shape)\n",
    "print(Y_train.shape)"
   ]
  },
  {
   "cell_type": "code",
   "execution_count": 33,
   "metadata": {},
   "outputs": [],
   "source": [
    "X_train = X_train.reshape(10000, -1)\n",
    "X_test = images_test.reshape(10000, -1)"
   ]
  },
  {
   "cell_type": "code",
   "execution_count": 18,
   "metadata": {},
   "outputs": [
    {
     "data": {
      "image/png": "[encoded data removed]",
      "text/plain": [
       "<Figure size 432x288 with 1 Axes>"
      ]
     },
     "metadata": {},
     "output_type": "display_data"
    },
    {
     "name": "stdout",
     "output_type": "stream",
     "text": [
      "0.0\n"
     ]
    }
   ],
   "source": [
    "plt.imshow(X_train.reshape(10000, 28, 28)[3])\n",
    "plt.show()\n",
    "print(Y_train[3])"
   ]
  },
  {
   "cell_type": "code",
   "execution_count": 34,
   "metadata": {},
   "outputs": [],
   "source": [
    "from sklearn.svm import SVC"
   ]
  },
  {
   "cell_type": "code",
   "execution_count": 35,
   "metadata": {},
   "outputs": [
    {
     "name": "stderr",
     "output_type": "stream",
     "text": [
      "D:\\Users\\jylee\\Anaconda3\\lib\\site-packages\\sklearn\\base.py:251: UserWarning: Trying to unpickle estimator SVC from version 0.19.1 when using version 0.20.0. This might lead to breaking code or invalid results. Use at your own risk.\n",
      "  UserWarning)\n",
      "D:\\Users\\jylee\\Anaconda3\\lib\\site-packages\\sklearn\\base.py:251: UserWarning: Trying to unpickle estimator SVC from version 0.19.1 when using version 0.20.0. This might lead to breaking code or invalid results. Use at your own risk.\n",
      "  UserWarning)\n",
      "D:\\Users\\jylee\\Anaconda3\\lib\\site-packages\\sklearn\\base.py:251: UserWarning: Trying to unpickle estimator GridSearchCV from version 0.19.1 when using version 0.20.0. This might lead to breaking code or invalid results. Use at your own risk.\n",
      "  UserWarning)\n"
     ]
    }
   ],
   "source": [
    "param_grid = [\n",
    "    {\n",
    "        'C': [0.01, 0.1, 1, 10, 100],\n",
    "        'kernel': ['rbf'],\n",
    "        'gamma': [0.001, 0.01, 0.1]\n",
    "    },\n",
    "    {\n",
    "        'C': [0.01, 0.1, 1, 10, 100],\n",
    "        'kernel': ['poly'],\n",
    "        'gamma': [0.001, 0.01, 0.1],\n",
    "        'degree': [2, 3]\n",
    "    }\n",
    "]\n",
    "\n",
    "clf_svc = get_model(SVC, 'data/svm.model_data', param_grid=param_grid, cv=5, X=X_train, Y=Y_train)"
   ]
  },
  {
   "cell_type": "code",
   "execution_count": 36,
   "metadata": {},
   "outputs": [],
   "source": [
    "svc=clf_svc.best_estimator_"
   ]
  },
  {
   "cell_type": "code",
   "execution_count": 37,
   "metadata": {},
   "outputs": [
    {
     "name": "stdout",
     "output_type": "stream",
     "text": [
      "Test Accuracy: 0.9619\n"
     ]
    }
   ],
   "source": [
    "print('Test Accuracy:', svc.score(X_test, labels_test))"
   ]
  },
  {
   "cell_type": "markdown",
   "metadata": {},
   "source": [
    "## Perceptrons 1"
   ]
  },
  {
   "cell_type": "code",
   "execution_count": 16,
   "metadata": {},
   "outputs": [],
   "source": [
    "from sklearn.linear_model import Perceptron"
   ]
  },
  {
   "cell_type": "code",
   "execution_count": 17,
   "metadata": {},
   "outputs": [
    {
     "name": "stderr",
     "output_type": "stream",
     "text": [
      "D:\\Users\\jylee\\Anaconda3\\lib\\site-packages\\sklearn\\linear_model\\stochastic_gradient.py:144: FutureWarning: max_iter and tol parameters have been added in Perceptron in 0.19. If both are left unset, they default to max_iter=5 and tol=None. If tol is not None, max_iter defaults to max_iter=1000. From 0.21, default max_iter will be 1000, and default tol will be 1e-3.\n",
      "  FutureWarning)\n"
     ]
    }
   ],
   "source": [
    "# parameters for grid search.\n",
    "param_grid = [\n",
    "    {\n",
    "        'penalty': ['l2', 'l1'],\n",
    "        'alpha': [1e-7, 1e-5, 1e-3, 1e-1],\n",
    "        'class_weight': [None, 'balanced']\n",
    "    },\n",
    "    {\n",
    "        'penalty': [None],\n",
    "        'class_weight': [None, 'balanced']\n",
    "    }\n",
    "]\n",
    "\n",
    "# load or train models.\n",
    "clf_percp_1_1 = get_model(Perceptron, 'data/perceptron_1.model_data', param_grid, cv=6, X=preprocessed_1_X_train, Y=labels_train)"
   ]
  },
  {
   "cell_type": "code",
   "execution_count": 20,
   "metadata": {},
   "outputs": [
    {
     "name": "stdout",
     "output_type": "stream",
     "text": [
      "{'alpha': 1e-05, 'class_weight': None, 'penalty': 'l1'}\n"
     ]
    }
   ],
   "source": [
    "# get best parameters.\n",
    "param_percp_1_1 = clf_percp_1_1.best_params_\n",
    "print(param_percp_1_1)"
   ]
  },
  {
   "cell_type": "code",
   "execution_count": 21,
   "metadata": {},
   "outputs": [
    {
     "name": "stdout",
     "output_type": "stream",
     "text": [
      "Accuracy on training set:\n",
      "0.8462666666666666\n",
      "Accuracy on test set:\n",
      "0.8459\n"
     ]
    }
   ],
   "source": [
    "# get best perceptron model which was tested on grid search. This contain best parameters.\n",
    "percp_1_1 = clf_percp_1_1.best_estimator_\n",
    "\n",
    "# get best accuracy on training set\n",
    "print('Accuracy on training set:')\n",
    "print(clf_percp_1_1.best_score_)\n",
    "\n",
    "# predict accuracy on test set using best perceptron.\n",
    "print('Accuracy on test set:')\n",
    "print(percp_1_1.score(preprocessed_1_X_test, labels_test))"
   ]
  },
  {
   "cell_type": "markdown",
   "metadata": {},
   "source": [
    "## Logistic Regression 1"
   ]
  },
  {
   "cell_type": "code",
   "execution_count": 40,
   "metadata": {},
   "outputs": [],
   "source": [
    "from sklearn.linear_model import LogisticRegression"
   ]
  },
  {
   "cell_type": "code",
   "execution_count": 41,
   "metadata": {},
   "outputs": [],
   "source": [
    "# parameters passed to grid search.\n",
    "param_grid = [\n",
    "    {\n",
    "        'penalty': ['l1', 'l2'],\n",
    "        'C': [1e-5, 1e-4, 1e-3, 1e-2, 1e-1, 1000], # 1000 means no regularization\n",
    "        'class_weight': [None, 'balanced'],\n",
    "    }\n",
    "]\n",
    "\n",
    "# load or train model.\n",
    "clf_logs_1_1 = get_model(LogisticRegression, 'data/logistic_1.model_data', param_grid, 6, X=preprocessed_1_X_train, Y=labels_train, default_param=dict(solver='lbfgs'))"
   ]
  },
  {
   "cell_type": "code",
   "execution_count": 43,
   "metadata": {},
   "outputs": [
    {
     "name": "stdout",
     "output_type": "stream",
     "text": [
      "{'C': 1000, 'class_weight': 'balanced', 'penalty': 'l1'}\n"
     ]
    }
   ],
   "source": [
    "# get and print best hyper parameters\n",
    "param_logs_1_1 = clf_logs_1_1.best_params_\n",
    "print(param_logs_1_1)"
   ]
  },
  {
   "cell_type": "code",
   "execution_count": 44,
   "metadata": {},
   "outputs": [],
   "source": [
    "# get best logistic regression we found on grid search. This contain best parameters.\n",
    "logs_1_1 = clf_logs_1_1.best_estimator_"
   ]
  },
  {
   "cell_type": "code",
   "execution_count": 45,
   "metadata": {},
   "outputs": [
    {
     "name": "stdout",
     "output_type": "stream",
     "text": [
      "Accuracy on training set:\n",
      "0.89755\n",
      "Accuracy on test set:\n",
      "0.9074\n"
     ]
    }
   ],
   "source": [
    "# get best accuracy on training set\n",
    "print('Accuracy on training set:')\n",
    "print(clf_logs_1_1.best_score_)\n",
    "\n",
    "# compute accuracy on test set using best logistic regression\n",
    "print('Accuracy on test set:')\n",
    "print(logs_1_1.score(preprocessed_1_X_test, labels_test))"
   ]
  },
  {
   "cell_type": "markdown",
   "metadata": {},
   "source": [
    "## Support Vector Machine 1"
   ]
  },
  {
   "cell_type": "code",
   "execution_count": 46,
   "metadata": {},
   "outputs": [],
   "source": [
    "from sklearn.svm import SVC"
   ]
  },
  {
   "cell_type": "code",
   "execution_count": 47,
   "metadata": {},
   "outputs": [
    {
     "name": "stdout",
     "output_type": "stream",
     "text": [
      "(10000, 28, 28)\n",
      "(10000,)\n"
     ]
    }
   ],
   "source": [
    "X_sample_train, Y_sample_train = dataset_sampling(images_train, labels_train)\n",
    "\n",
    "print(X_sample_train.shape)\n",
    "print(Y_sample_train.shape)"
   ]
  },
  {
   "cell_type": "code",
   "execution_count": 48,
   "metadata": {},
   "outputs": [
    {
     "name": "stdout",
     "output_type": "stream",
     "text": [
      "(10000, 98)\n",
      "(10000, 98)\n"
     ]
    }
   ],
   "source": [
    "X_svc_grads_train = average_gradients_grid(X_sample_train)\n",
    "X_svc_grads_test = average_gradients_grid(images_test)\n",
    "\n",
    "print(X_svc_grads_train.shape)\n",
    "print(X_svc_grads_test.shape)"
   ]
  },
  {
   "cell_type": "markdown",
   "metadata": {},
   "source": [
    "### SVM 1.1"
   ]
  },
  {
   "cell_type": "code",
   "execution_count": 49,
   "metadata": {},
   "outputs": [],
   "source": [
    "param_grid = [\n",
    "    {\n",
    "        'C': [0.01, 0.1, 1, 10, 100],\n",
    "        'kernel': ['sigmoid', 'rbf'],\n",
    "        'gamma': ['auto', 'scale', 0.001, 0.01, 0.1]\n",
    "    },\n",
    "    {\n",
    "        'C': [0.01, 0.1, 1, 10, 100],\n",
    "        'kernel': ['poly'],\n",
    "        'gamma': ['auto', 'scale', 0.001, 0.01, 0.1],\n",
    "        'degree': [3, 4, 5]\n",
    "    }\n",
    "]\n",
    "\n",
    "clf_svc_1_1 = get_model(SVC, 'data/svm_1.model_data', param_grid=param_grid, cv=5, X=X_svc_grads_train, Y=Y_sample_train)"
   ]
  },
  {
   "cell_type": "code",
   "execution_count": 52,
   "metadata": {},
   "outputs": [
    {
     "name": "stdout",
     "output_type": "stream",
     "text": [
      "{'C': 100, 'gamma': 0.1, 'kernel': 'rbf'}\n"
     ]
    }
   ],
   "source": [
    "params_svm_1_1 = clf_svc_1_1.best_params_\n",
    "print(params_svm_1_1)"
   ]
  },
  {
   "cell_type": "code",
   "execution_count": 53,
   "metadata": {},
   "outputs": [],
   "source": [
    "# get best logistic regression we found on grid search. This contain best parameters.\n",
    "svm_1_1 = clf_svc_1_1.best_estimator_"
   ]
  },
  {
   "cell_type": "code",
   "execution_count": 54,
   "metadata": {},
   "outputs": [
    {
     "name": "stdout",
     "output_type": "stream",
     "text": [
      "Accuracy on training set:\n",
      "0.9692\n",
      "Accuracy on test set:\n",
      "0.9603\n"
     ]
    }
   ],
   "source": [
    "# get best accuracy on training set\n",
    "print('Accuracy on training set:')\n",
    "print(svm_1_1.score(X_svc_grads_train, Y_sample_train))\n",
    "\n",
    "# compute accuracy on test set using best logistic regression\n",
    "print('Accuracy on test set:')\n",
    "print(svm_1_1.score(X_svc_grads_test, labels_test))"
   ]
  },
  {
   "cell_type": "code",
   "execution_count": null,
   "metadata": {},
   "outputs": [],
   "source": []
  },
  {
   "cell_type": "markdown",
   "metadata": {},
   "source": [
    "### SVM 1.2"
   ]
  },
  {
   "cell_type": "code",
   "execution_count": 57,
   "metadata": {},
   "outputs": [],
   "source": [
    "param_grid = [\n",
    "    {\n",
    "        'C': [100, 300, 1000, 3000, 10000],\n",
    "        'kernel': ['rbf'],\n",
    "        'gamma': [0.1, 0.3, 1.0, 3.0, 10]\n",
    "    }\n",
    "]\n",
    "\n",
    "clf_svm_1_2 = get_model(SVC, 'data/svm_1_2.model_data', param_grid=param_grid, cv=5, X=X_svc_grads_train, Y=Y_sample_train)"
   ]
  },
  {
   "cell_type": "code",
   "execution_count": 59,
   "metadata": {},
   "outputs": [
    {
     "name": "stdout",
     "output_type": "stream",
     "text": [
      "{'C': 100, 'gamma': 0.1, 'kernel': 'rbf'}\n"
     ]
    }
   ],
   "source": [
    "param_svm_1_2 = clf_svm_1_2.best_params_\n",
    "print(param_svm_1_2)"
   ]
  },
  {
   "cell_type": "code",
   "execution_count": 60,
   "metadata": {},
   "outputs": [],
   "source": [
    "# get best logistic regression we found on grid search. This contain best parameters.\n",
    "svm_1_2 = clf_svm_1_2.best_estimator_"
   ]
  },
  {
   "cell_type": "code",
   "execution_count": 61,
   "metadata": {},
   "outputs": [
    {
     "name": "stdout",
     "output_type": "stream",
     "text": [
      "Accuracy on training set:\n",
      "0.9595\n",
      "Accuracy on test set:\n",
      "0.9603\n"
     ]
    }
   ],
   "source": [
    "# get best accuracy on training set\n",
    "print('Accuracy on training set:')\n",
    "print(clf_svm_1_2.best_score_)\n",
    "\n",
    "# compute accuracy on test set using best logistic regression\n",
    "print('Accuracy on test set:')\n",
    "print(svm_1_2.score(X_svc_grads_test, labels_test))"
   ]
  },
  {
   "cell_type": "markdown",
   "metadata": {},
   "source": [
    "### Getting More Dataset"
   ]
  },
  {
   "cell_type": "code",
   "execution_count": 62,
   "metadata": {},
   "outputs": [
    {
     "name": "stdout",
     "output_type": "stream",
     "text": [
      "(60000, 98)\n",
      "(10000, 98)\n"
     ]
    }
   ],
   "source": [
    "X_grid_train = average_gradients_grid(images_train)\n",
    "X_grid_test = average_gradients_grid(images_test)\n",
    "\n",
    "print(X_grid_train.shape)\n",
    "print(X_grid_test.shape)"
   ]
  },
  {
   "cell_type": "markdown",
   "metadata": {},
   "source": [
    "### SVM 1.3"
   ]
  },
  {
   "cell_type": "code",
   "execution_count": 63,
   "metadata": {},
   "outputs": [],
   "source": [
    "# if pathlib.Path('data/svm_1_3.model_data').exists():\n",
    "#     svc_1_3 = joblib.load('data/svm_1_3.model_data')\n",
    "# else:\n",
    "#     svc_1_3 = SVC(**params)\n",
    "#     svc_1_3.fit(X_grid_train, labels_train)\n",
    "#     joblib.dump(svc_1_3, 'data/svm_1_3.model_data')\n",
    "\n",
    "param_svm_1_3 = copy.deepcopy(param_svm_1_2)\n",
    "\n",
    "svm_1_3 = get_model_without_gridsearch(SVC, 'data/svm_1_3.model_data', default_param=param_svm_1_3, X=X_grid_train, Y=labels_train)"
   ]
  },
  {
   "cell_type": "code",
   "execution_count": 64,
   "metadata": {},
   "outputs": [
    {
     "name": "stdout",
     "output_type": "stream",
     "text": [
      "Accuracy on training set: 1.0\n",
      "Accuracy on test set: 0.9738\n"
     ]
    }
   ],
   "source": [
    "print('Accuracy on training set:', svm_1_3.score(X_grid_train, labels_train))\n",
    "print('Accuracy on test set:', svm_1_3.score(X_grid_test, labels_test))"
   ]
  },
  {
   "cell_type": "markdown",
   "metadata": {},
   "source": [
    "### SVM 1.4"
   ]
  },
  {
   "cell_type": "code",
   "execution_count": 65,
   "metadata": {},
   "outputs": [],
   "source": [
    "# if pathlib.Path('data/svm_1_4.model_data').exists():\n",
    "#     svc_1_4 = joblib.load('data/svm_1_4.model_data')\n",
    "# else:\n",
    "#     svc_1_4 = SVC(**params)\n",
    "#     svc_1_4.C = 10\n",
    "#     svc_1_4.fit(X_grid_train, labels_train)\n",
    "#     joblib.dump(svc_1_4, 'data/svm_1_4.model_data')\n",
    "\n",
    "param_svm_1_4 = copy.deepcopy(param_svm_1_3)\n",
    "param_svm_1_4['C'] = 10\n",
    "\n",
    "svm_1_4 = get_model_without_gridsearch(SVC, 'data/svm_1_4.model_data', default_param=param_svm_1_4, X=X_grid_train, Y=labels_train)"
   ]
  },
  {
   "cell_type": "code",
   "execution_count": 66,
   "metadata": {},
   "outputs": [
    {
     "name": "stdout",
     "output_type": "stream",
     "text": [
      "Accuracy on training set: 0.9996\n",
      "Accuracy on test set: 0.9746\n"
     ]
    }
   ],
   "source": [
    "print('Accuracy on training set:', svm_1_4.score(X_grid_train, labels_train))\n",
    "print('Accuracy on test set:', svm_1_4.score(X_grid_test, labels_test))"
   ]
  },
  {
   "cell_type": "markdown",
   "metadata": {},
   "source": [
    "### SVM 1.5"
   ]
  },
  {
   "cell_type": "code",
   "execution_count": 67,
   "metadata": {},
   "outputs": [],
   "source": [
    "# if pathlib.Path('data/svm_1_5.model_data').exists():\n",
    "#     svc_1_5 = joblib.load('data/svm_1_5.model_data')\n",
    "# else:\n",
    "#     svc_1_5 = SVC(**params)\n",
    "#     svc_1_5.C = 0.1\n",
    "#     svc_1_5.fit(X_grid_train, labels_train)\n",
    "#     joblib.dump(svc_1_5, 'data/svm_1_5.model_data')\n",
    "\n",
    "param_svm_1_5 = copy.deepcopy(param_svm_1_4)\n",
    "param_svm_1_5['C'] = 0.3\n",
    "\n",
    "svm_1_5 = get_model_without_gridsearch(SVC, 'data/svm_1_5.model_data', default_param=param_svm_1_5, X=X_grid_train, Y=labels_train)"
   ]
  },
  {
   "cell_type": "code",
   "execution_count": 68,
   "metadata": {},
   "outputs": [
    {
     "name": "stdout",
     "output_type": "stream",
     "text": [
      "Accuracy on training set: 0.9784666666666667\n",
      "Accuracy on test set: 0.9687\n"
     ]
    }
   ],
   "source": [
    "print('Accuracy on training set:', svm_1_5.score(X_grid_train, labels_train))\n",
    "print('Accuracy on test set:', svm_1_5.score(X_grid_test, labels_test))"
   ]
  },
  {
   "cell_type": "markdown",
   "metadata": {},
   "source": [
    "### SVM 1.6"
   ]
  },
  {
   "cell_type": "code",
   "execution_count": 69,
   "metadata": {},
   "outputs": [],
   "source": [
    "param_grid = {\n",
    "    'C': [0.85, 0.87, 0.90, 0.93, 0.95],\n",
    "    'kernel': ['rbf'],\n",
    "    'gamma': [0.1]\n",
    "}\n",
    "\n",
    "clf_svm_1_6 = get_model(SVC, 'data/svm_1_6.model_data', param_grid=param_grid, cv=6, X=X_grid_train, Y=labels_train)"
   ]
  },
  {
   "cell_type": "code",
   "execution_count": 72,
   "metadata": {},
   "outputs": [
    {
     "name": "stdout",
     "output_type": "stream",
     "text": [
      "{'C': 0.95, 'gamma': 0.1, 'kernel': 'rbf'}\n"
     ]
    }
   ],
   "source": [
    "param_svm_1_6 = clf_svm_1_6.best_params_\n",
    "print(param_svm_1_6)"
   ]
  },
  {
   "cell_type": "code",
   "execution_count": 73,
   "metadata": {},
   "outputs": [],
   "source": [
    "svm_1_6 = clf_svm_1_6.best_estimator_"
   ]
  },
  {
   "cell_type": "code",
   "execution_count": 74,
   "metadata": {},
   "outputs": [
    {
     "name": "stdout",
     "output_type": "stream",
     "text": [
      "Accuracy on training dataset: 0.9737833333333333\n",
      "Accuracy on test dataset: 0.9742\n"
     ]
    }
   ],
   "source": [
    "print('Accuracy on training dataset: {}'.format(clf_svm_1_6.best_score_))\n",
    "print('Accuracy on test dataset: {}'.format(svm_1_6.score(X_grid_test, labels_test)))"
   ]
  },
  {
   "cell_type": "markdown",
   "metadata": {},
   "source": [
    "### SVM 1.7"
   ]
  },
  {
   "cell_type": "code",
   "execution_count": 75,
   "metadata": {},
   "outputs": [],
   "source": [
    "param_grid = {\n",
    "    'C': [3, 4, 5],\n",
    "    'kernel': ['rbf'],\n",
    "    'gamma': [0.1]\n",
    "}\n",
    "\n",
    "clf_svm_1_7 = get_model(SVC, 'data/svm_1_7.model_data', param_grid=param_grid, cv=6, X=X_grid_train, Y=labels_train)"
   ]
  },
  {
   "cell_type": "code",
   "execution_count": 78,
   "metadata": {},
   "outputs": [
    {
     "name": "stdout",
     "output_type": "stream",
     "text": [
      "{'C': 5, 'gamma': 0.1, 'kernel': 'rbf'}\n"
     ]
    }
   ],
   "source": [
    "param_svm_1_7 = clf_svm_1_7.best_params_\n",
    "print(param_svm_1_7)"
   ]
  },
  {
   "cell_type": "code",
   "execution_count": 79,
   "metadata": {},
   "outputs": [],
   "source": [
    "svm_1_7 = clf_svm_1_7.best_estimator_"
   ]
  },
  {
   "cell_type": "code",
   "execution_count": 80,
   "metadata": {},
   "outputs": [
    {
     "name": "stdout",
     "output_type": "stream",
     "text": [
      "Accuracy on training dataset: 0.9760833333333333\n",
      "Accuracy on test dataset: 0.9747\n"
     ]
    }
   ],
   "source": [
    "print('Accuracy on training dataset: {}'.format(clf_svm_1_7.best_score_))\n",
    "print('Accuracy on test dataset: {}'.format(svm_1_7.score(X_grid_test, labels_test)))"
   ]
  },
  {
   "cell_type": "markdown",
   "metadata": {},
   "source": [
    "### SVM 1.8"
   ]
  },
  {
   "cell_type": "code",
   "execution_count": 81,
   "metadata": {},
   "outputs": [],
   "source": [
    "param_svm_1_8 = copy.deepcopy(param_svm_1_7)\n",
    "param_svm_1_8['C'] = 7\n",
    "\n",
    "svm_1_8 = get_model_without_gridsearch(SVC, 'data/svm_1_8.model_data', default_param=param_svm_1_8, X=X_grid_train, Y=labels_train)"
   ]
  },
  {
   "cell_type": "code",
   "execution_count": 82,
   "metadata": {},
   "outputs": [
    {
     "name": "stdout",
     "output_type": "stream",
     "text": [
      "Accuracy on training set: 0.99935\n",
      "Accuracy on test set: 0.9741\n"
     ]
    }
   ],
   "source": [
    "print('Accuracy on training set: {}'.format(svm_1_8.score(X_grid_train, labels_train)))\n",
    "print('Accuracy on test set: {}'.format(svm_1_8.score(X_grid_test, labels_test)))"
   ]
  },
  {
   "cell_type": "code",
   "execution_count": 83,
   "metadata": {},
   "outputs": [],
   "source": [
    "param_svm_1_9 = copy.deepcopy(param_svm_1_8)\n",
    "param_svm_1_9['C'] = 6\n",
    "svm_1_9 = get_model_without_gridsearch(SVC, 'data/svm_1_9.model_data', default_param=param_svm_1_9, X=X_grid_train, Y=labels_train)"
   ]
  },
  {
   "cell_type": "code",
   "execution_count": 84,
   "metadata": {},
   "outputs": [
    {
     "name": "stdout",
     "output_type": "stream",
     "text": [
      "Accuracy on training set: 0.9991666666666666\n",
      "Accuracy on test set: 0.9744\n"
     ]
    }
   ],
   "source": [
    "print('Accuracy on training set: {}'.format(svm_1_9.score(X_grid_train, labels_train)))\n",
    "print('Accuracy on test set: {}'.format(svm_1_9.score(X_grid_test, labels_test)))"
   ]
  },
  {
   "cell_type": "code",
   "execution_count": 85,
   "metadata": {},
   "outputs": [],
   "source": [
    "param_svm_1_10 = copy.deepcopy(param_svm_1_9)\n",
    "param_svm_1_10['C'] = 5.25\n",
    "\n",
    "svm_1_10 = get_model_without_gridsearch(SVC, 'data/svm_1_10.model_data', default_param=param_svm_1_10, X=X_grid_train, Y=labels_train)"
   ]
  },
  {
   "cell_type": "code",
   "execution_count": 86,
   "metadata": {},
   "outputs": [
    {
     "name": "stdout",
     "output_type": "stream",
     "text": [
      "Accuracy on training set: 0.999\n",
      "Accuracy on test set: 0.9746\n"
     ]
    }
   ],
   "source": [
    "print('Accuracy on training set: {}'.format(svm_1_10.score(X_grid_train, labels_train)))\n",
    "print('Accuracy on test set: {}'.format(svm_1_10.score(X_grid_test, labels_test)))"
   ]
  },
  {
   "cell_type": "code",
   "execution_count": 87,
   "metadata": {},
   "outputs": [],
   "source": [
    "param_svm_1_11 = copy.deepcopy(param_svm_1_10)\n",
    "param_svm_1_11['C'] = 5.025\n",
    "svm_1_11 = get_model_without_gridsearch(SVC, 'data/svm_1_11.model_data', default_param=param_svm_1_11, X=X_grid_train, Y=labels_train)"
   ]
  },
  {
   "cell_type": "code",
   "execution_count": 88,
   "metadata": {},
   "outputs": [
    {
     "name": "stdout",
     "output_type": "stream",
     "text": [
      "Accuracy on training set: 0.9989166666666667\n",
      "Accuracy on test set: 0.9747\n"
     ]
    }
   ],
   "source": [
    "print('Accuracy on training set: {}'.format(svm_1_11.score(X_grid_train, labels_train)))\n",
    "print('Accuracy on test set: {}'.format(svm_1_11.score(X_grid_test, labels_test)))"
   ]
  },
  {
   "cell_type": "markdown",
   "metadata": {},
   "source": [
    "# Method 2: Just Features Reduction"
   ]
  },
  {
   "cell_type": "code",
   "execution_count": 6,
   "metadata": {},
   "outputs": [],
   "source": [
    "def feature_reduction(images):\n",
    "    \"\"\"\n",
    "    Reduce features.\n",
    "    \n",
    "    Operation: For example, look at one pixel in an image.\n",
    "               If this pixel is one? then, look at neighbors of this pixel. if there are many pixel that has value of 1, then mark this pixel's position as 1.\n",
    "               If this pixel is zero, then mark this pixel positio as 0\n",
    "    \n",
    "    Arguments:\n",
    "    ---------------------\n",
    "    - images: training or test image dataset (m, image_size, image_size)\n",
    "    \n",
    "    Returns:\n",
    "    ---------------------\n",
    "    - reduced: result images after reducing features.\n",
    "    \"\"\"\n",
    "    \n",
    "    # some useful variable.\n",
    "    m = images.shape[0]\n",
    "    width = images.shape[1]\n",
    "    height = images.shape[2]\n",
    "    \n",
    "    # you should mark in this variable.\n",
    "    reduced = np.zeros((m, width - 2, height - 2))\n",
    "    \n",
    "    for i in range(m):\n",
    "        for w in range(1, width - 1):\n",
    "            for h in range(1, height - 1):\n",
    "                if images[i, w, h] == 1:\n",
    "                    if np.sum(images[i, w - 1 : w + 2, h - 1 : h + 2]) > 3:\n",
    "                        reduced[i, w - 1, h - 1] = 1\n",
    "                        \n",
    "    return reduced"
   ]
  },
  {
   "cell_type": "code",
   "execution_count": 7,
   "metadata": {},
   "outputs": [],
   "source": [
    "def feature_supression(images):\n",
    "    \"\"\"\n",
    "    In fact, the operation is same as feature_reduction.\n",
    "    The difference is feature_reduction function don't care about pixel on out-most edge.\n",
    "    But, this function does care about pixel on out-most edge.\n",
    "    And, this function use the operation strictly. It make the hand-written-digit more thinner\n",
    "    \n",
    "    So, the roll of this function is make the digits image thin.\n",
    "    \n",
    "    If you conduct the operation on out-most edge, size of image should not be reduced.\n",
    "    \n",
    "    Arguments:\n",
    "    -------------------------\n",
    "    - images: training or test image dataset. (m, image_size, image_size)\n",
    "    \n",
    "    Returns:\n",
    "    -------------------------\n",
    "    - features: image after suppression\n",
    "    \"\"\"\n",
    "    m = images.shape[0]\n",
    "    width = images.shape[1]\n",
    "    height = images.shape[2]\n",
    "    \n",
    "    features = np.zeros((m, width, height))\n",
    "    \n",
    "    for i in range(m):\n",
    "        for w in range(1, width - 1):\n",
    "            if images[i, w, 0] == 1:\n",
    "                count = 0\n",
    "                if images[i, w - 1, 0] == 1:\n",
    "                    count += 1\n",
    "                if images[i, w + 1, 0] == 1:\n",
    "                    count += 1\n",
    "                if images[i, w, 1] == 1:\n",
    "                    count += 1\n",
    "                \n",
    "                if count >= 2:\n",
    "                    features[i, w, 0] = 1\n",
    "        \n",
    "        for h in range(1, height - 1):\n",
    "            if images[i, 0, h] == 1:\n",
    "                count = 0\n",
    "                if images[i, 0, h - 1] == 1:\n",
    "                    count += 1\n",
    "                if images[i, 0, h + 1] == 1:\n",
    "                    count += 1\n",
    "                if images[i, 0, h] == 1:\n",
    "                    count += 1\n",
    "                \n",
    "                if count >= 2:\n",
    "                    features[i, 0, h] = 1\n",
    "                    \n",
    "        for w in range(1, width - 1):\n",
    "            for h in range(1, height - 1):\n",
    "                if images[i, w, h] == 1:\n",
    "                    count = 0\n",
    "                    if images[i, w - 1, h] == 1:\n",
    "                        count += 1\n",
    "                    if images[i, w + 1, h] == 1:\n",
    "                        count += 1\n",
    "                    if images[i, w, h - 1] == 1:\n",
    "                        count += 1\n",
    "                    if images[i, w, h + 1] == 1:\n",
    "                        count += 1\n",
    "                        \n",
    "                    if count >= 3:\n",
    "                        features[i, w, h] = 1\n",
    "                        \n",
    "    return features"
   ]
  },
  {
   "cell_type": "code",
   "execution_count": 8,
   "metadata": {},
   "outputs": [],
   "source": [
    "def preprocessing_feature_reduction(images_train, images_test):\n",
    "    \"\"\"\n",
    "    Preprocessing method 2 I tryied\n",
    "    I mixed feature reduction and suppression.\n",
    "    \n",
    "    Arguments\n",
    "    ----------------------------\n",
    "    images_train: images in training dataset\n",
    "    images_test: images in test dataset\n",
    "    \n",
    "    Returns\n",
    "    ---------------------------\n",
    "    suppressed2_train: result of some feature reductions and suppressions on training dataset\n",
    "    suppressed2_test: result of some feature reductions and suppressions on test dataset\n",
    "    cache: middle results in the middle of redunction and suppression.\n",
    "    \"\"\"\n",
    "    \n",
    "    cache = dict()\n",
    "    \n",
    "    images_train[images_train >= 0.1] = 1\n",
    "    images_train[images_train < 0.1] = 0\n",
    "    \n",
    "    images_test[images_test >= 0.1] = 1\n",
    "    images_test[images_test < 0.1] = 0\n",
    "    \n",
    "    reduced1 = feature_reduction(images_train)\n",
    "\n",
    "    reduced2 = feature_reduction(reduced1)\n",
    "    suppressed1_train = feature_supression(reduced2)\n",
    "\n",
    "    reduced3 = feature_reduction(suppressed1_train)\n",
    "    suppressed2_train = feature_supression(reduced3)\n",
    "\n",
    "\n",
    "    reduced1_test = feature_reduction(images_test)\n",
    "\n",
    "    reduced2_test = feature_reduction(reduced1_test)\n",
    "    suppressed1_test = feature_supression(reduced2_test)\n",
    "\n",
    "    reduced3_test = feature_reduction(suppressed1_test)\n",
    "    suppressed2_test = feature_supression(reduced3_test)\n",
    "    \n",
    "    cache['reduced1'] = reduced1\n",
    "    cache['reduced2'] = reduced2\n",
    "    cache['reduced3'] = reduced3\n",
    "    cache['suppressed1_train'] = suppressed1_train\n",
    "    cache['suppressed2_train'] = suppressed2_train\n",
    "    cache['suppressed1_test'] = suppressed1_test\n",
    "    cache['suppressed2_test'] = suppressed2_test\n",
    "    \n",
    "    return suppressed2_train, suppressed2_test, cache"
   ]
  },
  {
   "cell_type": "code",
   "execution_count": 92,
   "metadata": {},
   "outputs": [],
   "source": [
    "norm_images_train = images_train / 255\n",
    "norm_images_test = images_test / 255"
   ]
  },
  {
   "cell_type": "code",
   "execution_count": 93,
   "metadata": {},
   "outputs": [],
   "source": [
    "suppressed_train, suppressed_test, cache = preprocessing_feature_reduction(norm_images_train, norm_images_test)"
   ]
  },
  {
   "cell_type": "code",
   "execution_count": 94,
   "metadata": {},
   "outputs": [
    {
     "name": "stdout",
     "output_type": "stream",
     "text": [
      "Original images: (60000, 28, 28)\n"
     ]
    },
    {
     "data": {
      "image/png": "[encoded data removed]",
      "text/plain": [
       "<Figure size 864x576 with 3 Axes>"
      ]
     },
     "metadata": {
      "needs_background": "light"
     },
     "output_type": "display_data"
    }
   ],
   "source": [
    "print('Original images: {}'.format(images_train.shape))\n",
    "\n",
    "plt.figure(figsize=(12, 8))\n",
    "plt.subplot(1, 3, 1)\n",
    "plt.imshow(1 - norm_images_train[0], cmap='gray')\n",
    "plt.subplot(1, 3, 2)\n",
    "plt.imshow(1 - norm_images_train[1], cmap='gray')\n",
    "plt.subplot(1, 3, 3)\n",
    "plt.imshow(1 - norm_images_train[2], cmap='gray')\n",
    "plt.show()"
   ]
  },
  {
   "cell_type": "code",
   "execution_count": 95,
   "metadata": {},
   "outputs": [
    {
     "name": "stdout",
     "output_type": "stream",
     "text": [
      "Image after feature reduction: (60000, 22, 22)\n",
      "Stage 1: (60000, 26, 26)\n"
     ]
    },
    {
     "data": {
      "image/png": "[encoded data removed]",
      "text/plain": [
       "<Figure size 1296x864 with 3 Axes>"
      ]
     },
     "metadata": {
      "needs_background": "light"
     },
     "output_type": "display_data"
    },
    {
     "name": "stdout",
     "output_type": "stream",
     "text": [
      "Stage 2: (60000, 24, 24)\n"
     ]
    },
    {
     "data": {
      "image/png": "[encoded data removed]",
      "text/plain": [
       "<Figure size 1296x864 with 3 Axes>"
      ]
     },
     "metadata": {
      "needs_background": "light"
     },
     "output_type": "display_data"
    },
    {
     "name": "stdout",
     "output_type": "stream",
     "text": [
      "Stage 3: (60000, 22, 22)\n"
     ]
    },
    {
     "data": {
      "image/png": "[encoded data removed]",
      "text/plain": [
       "<Figure size 1296x864 with 3 Axes>"
      ]
     },
     "metadata": {
      "needs_background": "light"
     },
     "output_type": "display_data"
    }
   ],
   "source": [
    "print('Image after feature reduction: {}'.format(suppressed_train.shape))\n",
    "\n",
    "\n",
    "print('Stage 1: {}'.format(cache['reduced1'].shape))\n",
    "plt.figure(figsize=(18, 12))\n",
    "plt.subplot(1, 3, 1)\n",
    "plt.imshow(1 - cache['reduced1'][0], cmap='gray')\n",
    "plt.subplot(1, 3, 2)\n",
    "plt.imshow(1 - cache['reduced1'][1], cmap='gray')\n",
    "plt.subplot(1, 3, 3)\n",
    "plt.imshow(1 - cache['reduced1'][2], cmap='gray')\n",
    "plt.show()\n",
    "\n",
    "print('Stage 2: {}'.format(cache['suppressed1_train'].shape))\n",
    "plt.figure(figsize=(18, 12))\n",
    "plt.subplot(1, 3, 1)\n",
    "plt.imshow(1 - cache['suppressed1_train'][0], cmap='gray')\n",
    "plt.subplot(1, 3, 2)\n",
    "plt.imshow(1 - cache['suppressed1_train'][1], cmap='gray')\n",
    "plt.subplot(1, 3, 3)\n",
    "plt.imshow(1 - cache['suppressed1_train'][2], cmap='gray')\n",
    "plt.show()\n",
    "\n",
    "print('Stage 3: {}'.format(suppressed_train.shape))\n",
    "plt.figure(figsize=(18, 12))\n",
    "plt.subplot(1, 3, 1)\n",
    "plt.imshow(1 - suppressed_train[0], cmap='gray')\n",
    "plt.subplot(1, 3, 2)\n",
    "plt.imshow(1 - suppressed_train[1], cmap='gray')\n",
    "plt.subplot(1, 3, 3)\n",
    "plt.imshow(1 - suppressed_train[2], cmap='gray')\n",
    "plt.show()"
   ]
  },
  {
   "cell_type": "markdown",
   "metadata": {},
   "source": [
    "## Perceptrons 2"
   ]
  },
  {
   "cell_type": "code",
   "execution_count": 96,
   "metadata": {},
   "outputs": [],
   "source": [
    "from sklearn.linear_model import Perceptron"
   ]
  },
  {
   "cell_type": "code",
   "execution_count": 97,
   "metadata": {},
   "outputs": [],
   "source": [
    "# flatten the features.\n",
    "flatten_train = suppressed_train.reshape(60000, -1)\n",
    "flatten_test = suppressed_test.reshape(10000, -1)"
   ]
  },
  {
   "cell_type": "code",
   "execution_count": 98,
   "metadata": {},
   "outputs": [
    {
     "name": "stderr",
     "output_type": "stream",
     "text": [
      "D:\\Users\\jylee\\Anaconda3\\lib\\site-packages\\sklearn\\base.py:251: UserWarning: Trying to unpickle estimator Perceptron from version 0.19.1 when using version 0.20.0. This might lead to breaking code or invalid results. Use at your own risk.\n",
      "  UserWarning)\n",
      "D:\\Users\\jylee\\Anaconda3\\lib\\site-packages\\sklearn\\base.py:251: UserWarning: Trying to unpickle estimator Perceptron from version 0.19.1 when using version 0.20.0. This might lead to breaking code or invalid results. Use at your own risk.\n",
      "  UserWarning)\n",
      "D:\\Users\\jylee\\Anaconda3\\lib\\site-packages\\sklearn\\base.py:251: UserWarning: Trying to unpickle estimator GridSearchCV from version 0.19.1 when using version 0.20.0. This might lead to breaking code or invalid results. Use at your own risk.\n",
      "  UserWarning)\n"
     ]
    }
   ],
   "source": [
    "# paramters for grid search.\n",
    "param_grid = [\n",
    "    {\n",
    "        'penalty': ['l2', 'l1'],\n",
    "        'alpha': [1e-7, 1e-5, 1e-3, 1e-1],\n",
    "        'class_weight': [None, 'balanced']\n",
    "    },\n",
    "    {\n",
    "        'penalty': [None],\n",
    "        'class_weight': [None, 'balanced']\n",
    "    }\n",
    "]\n",
    "\n",
    "clf_percp_2_1 = get_model(Perceptron, 'data/perceptron_2.model_data', param_grid, 6, X=flatten_train, Y=labels_train)"
   ]
  },
  {
   "cell_type": "code",
   "execution_count": 101,
   "metadata": {},
   "outputs": [
    {
     "name": "stdout",
     "output_type": "stream",
     "text": [
      "{'class_weight': None, 'penalty': None}\n"
     ]
    }
   ],
   "source": [
    "# get best parameters of best perceptron model.\n",
    "param_percp_2_1 = clf_percp_2_1.best_params_\n",
    "print(param_percp_2_1)"
   ]
  },
  {
   "cell_type": "code",
   "execution_count": 102,
   "metadata": {},
   "outputs": [],
   "source": [
    "# get best perceptron which has the highest accuracy during cross validation.\n",
    "percp_2_1 = clf_percp_2_1.best_estimator_"
   ]
  },
  {
   "cell_type": "code",
   "execution_count": 103,
   "metadata": {},
   "outputs": [
    {
     "name": "stdout",
     "output_type": "stream",
     "text": [
      "Accuracy on training set:\n",
      "0.8177\n",
      "Accuracy on test set:\n",
      "0.821\n"
     ]
    }
   ],
   "source": [
    "# get the highest accuracy on training set.\n",
    "print('Accuracy on training set:')\n",
    "print(clf_percp_2_1.best_score_)\n",
    "\n",
    "# compute accuracy on test dataset using best perceptron.\n",
    "print('Accuracy on test set:')\n",
    "print(percp_2_1.score(flatten_test, labels_test))"
   ]
  },
  {
   "cell_type": "markdown",
   "metadata": {},
   "source": [
    "## Logistic Regression 2"
   ]
  },
  {
   "cell_type": "code",
   "execution_count": 104,
   "metadata": {},
   "outputs": [],
   "source": [
    "from sklearn.linear_model import LogisticRegression"
   ]
  },
  {
   "cell_type": "code",
   "execution_count": 105,
   "metadata": {},
   "outputs": [
    {
     "name": "stderr",
     "output_type": "stream",
     "text": [
      "D:\\Users\\jylee\\Anaconda3\\lib\\site-packages\\sklearn\\base.py:251: UserWarning: Trying to unpickle estimator LogisticRegression from version 0.19.1 when using version 0.20.0. This might lead to breaking code or invalid results. Use at your own risk.\n",
      "  UserWarning)\n",
      "D:\\Users\\jylee\\Anaconda3\\lib\\site-packages\\sklearn\\base.py:251: UserWarning: Trying to unpickle estimator LogisticRegression from version 0.19.1 when using version 0.20.0. This might lead to breaking code or invalid results. Use at your own risk.\n",
      "  UserWarning)\n",
      "D:\\Users\\jylee\\Anaconda3\\lib\\site-packages\\sklearn\\base.py:251: UserWarning: Trying to unpickle estimator GridSearchCV from version 0.19.1 when using version 0.20.0. This might lead to breaking code or invalid results. Use at your own risk.\n",
      "  UserWarning)\n"
     ]
    }
   ],
   "source": [
    "# parameters for grid search.\n",
    "param_grid = [\n",
    "    {\n",
    "        'penalty': ['l1', 'l2'],\n",
    "        'C': [1e-5, 1e-4, 1e-3, 1e-2, 1e-1, 1000],\n",
    "        'class_weight': [None, 'balanced'],\n",
    "    }\n",
    "]\n",
    "\n",
    "clf_logs_2_1 = get_model(LogisticRegression, 'data/logistic_2.model_data', param_grid, 6, X=flatten_train, Y=labels_train, default_param=dict(solver='lbfgs'))"
   ]
  },
  {
   "cell_type": "code",
   "execution_count": 109,
   "metadata": {},
   "outputs": [
    {
     "name": "stdout",
     "output_type": "stream",
     "text": [
      "{'C': 0.1, 'class_weight': 'balanced', 'penalty': 'l2'}\n"
     ]
    }
   ],
   "source": [
    "# get best parameters of best logistic model.\n",
    "print(clf_logs_2_1.best_params_)"
   ]
  },
  {
   "cell_type": "code",
   "execution_count": 110,
   "metadata": {},
   "outputs": [],
   "source": [
    "# get best logistic regression which computed the highest accuracy on training dataset.\n",
    "logs_2_1 = clf_logs_2_1.best_estimator_"
   ]
  },
  {
   "cell_type": "code",
   "execution_count": 111,
   "metadata": {},
   "outputs": [
    {
     "name": "stdout",
     "output_type": "stream",
     "text": [
      "Accuracy on training set:\n",
      "0.8734\n",
      "Accuracy on test set:\n",
      "0.881\n"
     ]
    }
   ],
   "source": [
    "# get best accuracy on training set.\n",
    "print('Accuracy on training set:')\n",
    "print(clf_logs_2_1.best_score_)\n",
    "\n",
    "# compute an accuracy on test set using best logistic regression.\n",
    "print('Accuracy on test set:')\n",
    "print(logs_2_1.score(flatten_test, labels_test))"
   ]
  },
  {
   "cell_type": "markdown",
   "metadata": {},
   "source": [
    "## Support Vector Machine 2"
   ]
  },
  {
   "cell_type": "code",
   "execution_count": 112,
   "metadata": {},
   "outputs": [
    {
     "name": "stdout",
     "output_type": "stream",
     "text": [
      "(10000, 28, 28)\n",
      "(10000,)\n"
     ]
    }
   ],
   "source": [
    "X_sample_train, Y_sample_train = dataset_sampling(norm_images_train, labels_train)\n",
    "\n",
    "print(X_sample_train.shape)\n",
    "print(Y_sample_train.shape)"
   ]
  },
  {
   "cell_type": "code",
   "execution_count": 113,
   "metadata": {},
   "outputs": [
    {
     "name": "stdout",
     "output_type": "stream",
     "text": [
      "(10000, 22, 22)\n",
      "(10000, 22, 22)\n"
     ]
    }
   ],
   "source": [
    "X_svc_suppressed_train, X_svc_suppressed_test, cache = preprocessing_feature_reduction(X_sample_train, norm_images_test)\n",
    "\n",
    "print(X_svc_suppressed_train.shape)\n",
    "print(X_svc_suppressed_test.shape)"
   ]
  },
  {
   "cell_type": "code",
   "execution_count": 114,
   "metadata": {},
   "outputs": [],
   "source": [
    "from sklearn.svm import SVC"
   ]
  },
  {
   "cell_type": "code",
   "execution_count": 115,
   "metadata": {},
   "outputs": [],
   "source": [
    "param_grid = [\n",
    "    {\n",
    "        'C': [0.01, 0.1, 1, 10, 100],\n",
    "        'kernel': ['sigmoid', 'rbf'],\n",
    "        'gamma': ['auto', 'scale', 0.001, 0.01, 0.1]\n",
    "    },\n",
    "    {\n",
    "        'C': [0.01, 0.1, 1, 10, 100],\n",
    "        'kernel': ['poly'],\n",
    "        'gamma': ['auto', 'scale', 0.001, 0.01, 0.1],\n",
    "        'degree': [3, 4, 5]\n",
    "    }\n",
    "]\n",
    "\n",
    "clf_svm_2_1 = get_model(SVC, 'data/svm_2.model_data', param_grid=param_grid, cv=5, X=X_svc_suppressed_train.reshape(10000, -1), Y=Y_sample_train)"
   ]
  },
  {
   "cell_type": "code",
   "execution_count": 117,
   "metadata": {},
   "outputs": [
    {
     "name": "stdout",
     "output_type": "stream",
     "text": [
      "{'C': 10, 'gamma': 0.01, 'kernel': 'rbf'}\n"
     ]
    }
   ],
   "source": [
    "param_svm_2_1 = clf_svm_2_1.best_params_\n",
    "print(param_svm_2_1)"
   ]
  },
  {
   "cell_type": "code",
   "execution_count": 118,
   "metadata": {},
   "outputs": [],
   "source": [
    "# get best logistic regression which computed the highest accuracy on training dataset.\n",
    "svm_2_1 = clf_svm_2_1.best_estimator_"
   ]
  },
  {
   "cell_type": "code",
   "execution_count": 119,
   "metadata": {},
   "outputs": [
    {
     "name": "stdout",
     "output_type": "stream",
     "text": [
      "Accuracy on training set:\n",
      "0.9355\n",
      "Accuracy on test set:\n",
      "0.9337\n"
     ]
    }
   ],
   "source": [
    "# get best accuracy on training set.\n",
    "print('Accuracy on training set:')\n",
    "print(clf_svm_2_1.best_score_)\n",
    "\n",
    "# compute an accuracy on test set using best logistic regression.\n",
    "print('Accuracy on test set:')\n",
    "print(svm_2_1.score(X_svc_suppressed_test.reshape(10000, -1), labels_test))"
   ]
  },
  {
   "cell_type": "markdown",
   "metadata": {},
   "source": [
    "# Method 3: Fusing Method 1 and Method 2"
   ]
  },
  {
   "cell_type": "code",
   "execution_count": 120,
   "metadata": {},
   "outputs": [
    {
     "name": "stdout",
     "output_type": "stream",
     "text": [
      "(10000, 24, 24)\n",
      "(10000, 24, 24)\n"
     ]
    }
   ],
   "source": [
    "print(cache['suppressed1_train'].shape)\n",
    "print(cache['suppressed1_test'].shape)"
   ]
  },
  {
   "cell_type": "code",
   "execution_count": 121,
   "metadata": {},
   "outputs": [],
   "source": [
    "fused_train = average_gradients_grid(cache['suppressed1_train'], grid=7, padding=3, normalize=False)\n",
    "fused_test = average_gradients_grid(cache['suppressed1_test'], grid=7, padding=3, normalize=False)"
   ]
  },
  {
   "cell_type": "code",
   "execution_count": 122,
   "metadata": {},
   "outputs": [
    {
     "name": "stdout",
     "output_type": "stream",
     "text": [
      "(10000, 98)\n",
      "(10000, 98)\n"
     ]
    }
   ],
   "source": [
    "print(fused_train.shape)\n",
    "print(fused_test.shape)"
   ]
  },
  {
   "cell_type": "markdown",
   "metadata": {},
   "source": [
    "## Perceptrons 3"
   ]
  },
  {
   "cell_type": "code",
   "execution_count": 123,
   "metadata": {},
   "outputs": [],
   "source": [
    "from sklearn.linear_model import Perceptron"
   ]
  },
  {
   "cell_type": "code",
   "execution_count": 124,
   "metadata": {},
   "outputs": [
    {
     "name": "stderr",
     "output_type": "stream",
     "text": [
      "D:\\Users\\jylee\\Anaconda3\\lib\\site-packages\\sklearn\\base.py:251: UserWarning: Trying to unpickle estimator Perceptron from version 0.19.1 when using version 0.20.0. This might lead to breaking code or invalid results. Use at your own risk.\n",
      "  UserWarning)\n",
      "D:\\Users\\jylee\\Anaconda3\\lib\\site-packages\\sklearn\\base.py:251: UserWarning: Trying to unpickle estimator Perceptron from version 0.19.1 when using version 0.20.0. This might lead to breaking code or invalid results. Use at your own risk.\n",
      "  UserWarning)\n",
      "D:\\Users\\jylee\\Anaconda3\\lib\\site-packages\\sklearn\\base.py:251: UserWarning: Trying to unpickle estimator GridSearchCV from version 0.19.1 when using version 0.20.0. This might lead to breaking code or invalid results. Use at your own risk.\n",
      "  UserWarning)\n"
     ]
    }
   ],
   "source": [
    "# parameters for grid search.\n",
    "param_grid = [\n",
    "    {\n",
    "        'penalty': ['l2', 'l1'],\n",
    "        'alpha': [1e-7, 1e-5, 1e-3, 1e-1],\n",
    "        'class_weight': [None, 'balanced']\n",
    "    },\n",
    "    {\n",
    "        'penalty': [None],\n",
    "        'class_weight': [None, 'balanced']\n",
    "    }\n",
    "]\n",
    "\n",
    "clf_percp_3_1 = get_model(Perceptron, 'data/perceptron_3.model_data', param_grid, 6, X=fused_train, Y=labels_train)"
   ]
  },
  {
   "cell_type": "code",
   "execution_count": 126,
   "metadata": {},
   "outputs": [
    {
     "name": "stdout",
     "output_type": "stream",
     "text": [
      "{'alpha': 1e-07, 'class_weight': None, 'penalty': 'l2'}\n"
     ]
    }
   ],
   "source": [
    "# get best parameters.\n",
    "params = clf_percp_3_1.best_params_\n",
    "print(params)"
   ]
  },
  {
   "cell_type": "code",
   "execution_count": 129,
   "metadata": {},
   "outputs": [
    {
     "name": "stdout",
     "output_type": "stream",
     "text": [
      "Accuracy on training set:\n",
      "0.83155\n",
      "Accuracy on test set:\n",
      "0.828\n"
     ]
    }
   ],
   "source": [
    "# get best perceptron which produced best accuracy on training/valid set.\n",
    "estimator = clf_percp_3_1.best_estimator_\n",
    "\n",
    "# get best accuracy on training set\n",
    "print('Accuracy on training set:')\n",
    "print(clf_percp_3_1.best_score_)\n",
    "\n",
    "# compute accuracy on test set using best perceptron.\n",
    "print('Accuracy on test set:')\n",
    "print(estimator.score(fused_test, labels_test))"
   ]
  },
  {
   "cell_type": "markdown",
   "metadata": {},
   "source": [
    "## Logistic Regression 3"
   ]
  },
  {
   "cell_type": "code",
   "execution_count": 130,
   "metadata": {},
   "outputs": [],
   "source": [
    "from sklearn.linear_model import LogisticRegression"
   ]
  },
  {
   "cell_type": "code",
   "execution_count": 131,
   "metadata": {},
   "outputs": [
    {
     "name": "stderr",
     "output_type": "stream",
     "text": [
      "D:\\Users\\jylee\\Anaconda3\\lib\\site-packages\\sklearn\\base.py:251: UserWarning: Trying to unpickle estimator LogisticRegression from version 0.19.1 when using version 0.20.0. This might lead to breaking code or invalid results. Use at your own risk.\n",
      "  UserWarning)\n",
      "D:\\Users\\jylee\\Anaconda3\\lib\\site-packages\\sklearn\\base.py:251: UserWarning: Trying to unpickle estimator LogisticRegression from version 0.19.1 when using version 0.20.0. This might lead to breaking code or invalid results. Use at your own risk.\n",
      "  UserWarning)\n",
      "D:\\Users\\jylee\\Anaconda3\\lib\\site-packages\\sklearn\\base.py:251: UserWarning: Trying to unpickle estimator GridSearchCV from version 0.19.1 when using version 0.20.0. This might lead to breaking code or invalid results. Use at your own risk.\n",
      "  UserWarning)\n"
     ]
    }
   ],
   "source": [
    "# parameters for grid search.\n",
    "param_grid = [\n",
    "    {\n",
    "        'penalty': ['l1', 'l2'],\n",
    "        'C': [1e-5, 1e-4, 1e-3, 1e-2, 1e-1, 1000],\n",
    "        'class_weight': [None, 'balanced'],\n",
    "    }\n",
    "]\n",
    "\n",
    "clf_logs_3_1 = get_model(LogisticRegression, 'data/logistic_3.model_data', param_grid, 6, X=fused_train, Y=labels_train, default_param=dict(solver='lbfgs'))"
   ]
  },
  {
   "cell_type": "code",
   "execution_count": 136,
   "metadata": {},
   "outputs": [
    {
     "name": "stdout",
     "output_type": "stream",
     "text": [
      "{'C': 1000, 'class_weight': None, 'penalty': 'l2'}\n"
     ]
    }
   ],
   "source": [
    "print(clf_logs_3_1.best_params_)"
   ]
  },
  {
   "cell_type": "code",
   "execution_count": 137,
   "metadata": {},
   "outputs": [
    {
     "name": "stdout",
     "output_type": "stream",
     "text": [
      "Accuracy on training set:\n",
      "0.88615\n",
      "Accuracy on test set:\n",
      "0.8958\n"
     ]
    }
   ],
   "source": [
    "estimator = clf_logs_3_1.best_estimator_\n",
    "\n",
    "print('Accuracy on training set:')\n",
    "print(clf_logs_3_1.best_score_)\n",
    "\n",
    "print('Accuracy on test set:')\n",
    "print(estimator.score(fused_test, labels_test))"
   ]
  },
  {
   "cell_type": "markdown",
   "metadata": {},
   "source": [
    "# Method 4: Polynomial Features."
   ]
  },
  {
   "cell_type": "code",
   "execution_count": 9,
   "metadata": {},
   "outputs": [],
   "source": [
    "def apply_hog(images_train, images_test):\n",
    "    m_tr = images_train.shape[0]\n",
    "    m_ts = images_test.shape[0]\n",
    "    \n",
    "    # compute HoG (Historgram of Gradients)\n",
    "    hog_train = np.zeros((m_tr, 81))\n",
    "    hog_test = np.zeros((m_ts, 81))\n",
    "    \n",
    "    for i in range(m_tr):\n",
    "        hog_train[i] = hog(images_train[i], block_norm='L2-Hys')\n",
    "    for i in range(m_ts):\n",
    "        hog_test[i] = hog(images_test[i], block_norm='L2-Hys')\n",
    "        \n",
    "    return hog_train, hog_test"
   ]
  },
  {
   "cell_type": "code",
   "execution_count": 10,
   "metadata": {},
   "outputs": [],
   "source": [
    "def poly_model(grads, hogs, poly_degree):\n",
    "    \"\"\"\n",
    "    This function reads inputs (grads, hogs) and then append into one vector.\n",
    "    And, most importantly, make the features (grads + hogs vector) polynomial or exponential\n",
    "    This has an effect that makes algorithm be applied to non-linear-separatable dataset.\n",
    "    \n",
    "    Arguments\n",
    "    ---------------------------------\n",
    "    grads: features containing gradients of images\n",
    "    hogs: features containing histogram of gradients\n",
    "    \n",
    "    Returns\n",
    "    ---------------------------------\n",
    "    f_train: preprocessed features of training dataset this function generate\n",
    "    f_test: preprocessed features of test dataset this function generate\n",
    "    \"\"\"\n",
    "    \n",
    "    # get number of training set (60000), number of test set (10000)\n",
    "    m_train = grads[0].shape[0] # 60000\n",
    "    m_test = grads[1].shape[0]  # 10000\n",
    "    \n",
    "    # placeholder for new features.\n",
    "    f_train = np.zeros((m_train, (98 + 81) * poly_degree))\n",
    "    f_test = np.zeros((m_test, (98 + 81) * poly_degree)) \n",
    "    \n",
    "    grads_train, grads_test = grads[0], grads[1]\n",
    "    hogs_train, hogs_test = hogs[0], hogs[1]\n",
    "    \n",
    "    for i in range(poly_degree):\n",
    "        f_train[:, (98 + 81) * i : (98 + 81) * i + 98] = grads_train ** (i + 1)\n",
    "        f_train[:, (98 + 81) * i + 98 : (98 + 81) * (i + 1)] = hogs_train ** (i + 1)\n",
    "        f_test[:, (98 + 81) * i : (98 + 81) * i + 98] = grads_test ** (i + 1)\n",
    "        f_test[:, (98 + 81) * i + 98 : (98 + 81) * (i + 1)] = hogs_test ** (i + 1)\n",
    "        \n",
    "    return f_train, f_test"
   ]
  },
  {
   "cell_type": "code",
   "execution_count": 11,
   "metadata": {},
   "outputs": [],
   "source": [
    "def make_poly_features(images_train, images_test, poly_degree=3):\n",
    "    \"\"\"\n",
    "    Arguments\n",
    "    -------------------------\n",
    "    images_train: images in training datase shaped of (60000, 28, 28)\n",
    "    images_test: images in test dataset shaped of (10000, 28, 28)\n",
    "    poly_degree: how many do you product exponentialy?\n",
    "    \n",
    "    Returns\n",
    "    -------------------------\n",
    "    f_train: new features preprocessed\n",
    "    f_test: new features of test images.\n",
    "    \"\"\"\n",
    "    \n",
    "    m_train = images_train.shape[0]\n",
    "    m_test = images_test.shape[0]\n",
    "    \n",
    "    # compute average of gradients\n",
    "    avg_grads_train = average_gradients_grid(images_train)\n",
    "    avg_grads_test = average_gradients_grid(images_test)\n",
    "    \n",
    "    hog_train, hog_test = apply_hog(images_train, images_test)\n",
    "        \n",
    "    f_train, f_test = poly_model((avg_grads_train, avg_grads_test), (hog_train, hog_test), poly_degree)\n",
    "    \n",
    "    return f_train, f_test"
   ]
  },
  {
   "cell_type": "code",
   "execution_count": 141,
   "metadata": {},
   "outputs": [],
   "source": [
    "poly_train, poly_test = make_poly_features(images_train, images_test)"
   ]
  },
  {
   "cell_type": "code",
   "execution_count": 142,
   "metadata": {},
   "outputs": [
    {
     "name": "stdout",
     "output_type": "stream",
     "text": [
      "(60000, 537)\n",
      "(10000, 537)\n"
     ]
    }
   ],
   "source": [
    "print(poly_train.shape)\n",
    "print(poly_test.shape)"
   ]
  },
  {
   "cell_type": "markdown",
   "metadata": {},
   "source": [
    "## Perceptron 4"
   ]
  },
  {
   "cell_type": "code",
   "execution_count": 143,
   "metadata": {},
   "outputs": [],
   "source": [
    "from sklearn.linear_model import Perceptron"
   ]
  },
  {
   "cell_type": "code",
   "execution_count": 144,
   "metadata": {},
   "outputs": [],
   "source": [
    "param_grid = [\n",
    "    {\n",
    "        'penalty': ['l2', 'l1'],\n",
    "        'alpha': [1e-7, 1e-5, 1e-3, 1e-1],\n",
    "        'class_weight': [None, 'balanced']\n",
    "    },\n",
    "    {\n",
    "        'penalty': [None],\n",
    "        'class_weight': [None, 'balanced']\n",
    "    }\n",
    "]\n",
    "\n",
    "clf_percp_4_1 = get_model(Perceptron, 'data/perceptron_4.model_data', param_grid=param_grid, cv=6, X=poly_train, Y=labels_train)"
   ]
  },
  {
   "cell_type": "code",
   "execution_count": 145,
   "metadata": {},
   "outputs": [
    {
     "name": "stdout",
     "output_type": "stream",
     "text": [
      "{'alpha': 1e-05, 'class_weight': 'balanced', 'penalty': 'l1'}\n"
     ]
    }
   ],
   "source": [
    "params = clf_percp_4_1.best_params_\n",
    "print(params)"
   ]
  },
  {
   "cell_type": "code",
   "execution_count": 146,
   "metadata": {},
   "outputs": [
    {
     "name": "stdout",
     "output_type": "stream",
     "text": [
      "Accuracy on training set:\n",
      "0.9444666666666667\n",
      "Accuracy on test set:\n",
      "0.9567\n"
     ]
    }
   ],
   "source": [
    "estimator = clf_percp_4_1.best_estimator_\n",
    "\n",
    "print('Accuracy on training set:')\n",
    "print(clf_percp_4_1.best_score_)\n",
    "\n",
    "print('Accuracy on test set:')\n",
    "print(estimator.score(poly_test, labels_test))"
   ]
  },
  {
   "cell_type": "markdown",
   "metadata": {},
   "source": [
    "## Logistic Regression 4"
   ]
  },
  {
   "cell_type": "code",
   "execution_count": 147,
   "metadata": {},
   "outputs": [],
   "source": [
    "from sklearn.linear_model import LogisticRegression"
   ]
  },
  {
   "cell_type": "code",
   "execution_count": 148,
   "metadata": {},
   "outputs": [],
   "source": [
    "param_grid = [\n",
    "    {\n",
    "        'penalty': ['l1', 'l2'],\n",
    "        'C': [1e-5, 1e-4, 1e-3, 1e-2, 1e-1, 1000], # 1000 means no regularization\n",
    "        'class_weight': [None, 'balanced'],\n",
    "    }\n",
    "]\n",
    "\n",
    "clf_logs_4_1 = get_model(LogisticRegression, 'data/logistic_4.model_data', param_grid, 6, X=poly_train, Y=labels_train, default_param=dict(solver='lbfgs'))"
   ]
  },
  {
   "cell_type": "code",
   "execution_count": 149,
   "metadata": {},
   "outputs": [
    {
     "name": "stdout",
     "output_type": "stream",
     "text": [
      "{'C': 1000, 'class_weight': None, 'penalty': 'l2'}\n"
     ]
    }
   ],
   "source": [
    "params = clf_logs_4_1.best_params_\n",
    "print(params)"
   ]
  },
  {
   "cell_type": "code",
   "execution_count": 150,
   "metadata": {},
   "outputs": [
    {
     "name": "stdout",
     "output_type": "stream",
     "text": [
      "Accuracy on training set:\n",
      "0.9742833333333333\n",
      "Accuracy on test set:\n",
      "0.9761\n"
     ]
    }
   ],
   "source": [
    "estimator = clf_logs_4_1.best_estimator_\n",
    "\n",
    "print('Accuracy on training set:')\n",
    "print(clf_logs_4_1.best_score_)\n",
    "\n",
    "print('Accuracy on test set:')\n",
    "print(estimator.score(poly_test, labels_test))"
   ]
  },
  {
   "cell_type": "markdown",
   "metadata": {},
   "source": [
    "## Support Vector Machine 4"
   ]
  },
  {
   "cell_type": "markdown",
   "metadata": {},
   "source": [
    "I tried several svm for different parameters. Since SVM is so slow, I inserted only 10000 dataset for training."
   ]
  },
  {
   "cell_type": "markdown",
   "metadata": {},
   "source": [
    "### SVM 4.1"
   ]
  },
  {
   "cell_type": "code",
   "execution_count": 151,
   "metadata": {},
   "outputs": [],
   "source": [
    "from sklearn.svm import SVC"
   ]
  },
  {
   "cell_type": "code",
   "execution_count": 152,
   "metadata": {},
   "outputs": [
    {
     "name": "stdout",
     "output_type": "stream",
     "text": [
      "(10000, 28, 28)\n",
      "(10000,)\n"
     ]
    }
   ],
   "source": [
    "X_train_sample, Y_train_sample = dataset_sampling(images_train, labels_train)\n",
    "\n",
    "print(X_train_sample.shape)\n",
    "print(Y_train_sample.shape)"
   ]
  },
  {
   "cell_type": "code",
   "execution_count": 153,
   "metadata": {},
   "outputs": [
    {
     "name": "stdout",
     "output_type": "stream",
     "text": [
      "(10000, 537)\n",
      "(10000, 537)\n"
     ]
    }
   ],
   "source": [
    "X_poly_train, X_poly_test = make_poly_features(X_train_sample, images_test)\n",
    "\n",
    "print(X_poly_train.shape)\n",
    "print(X_poly_test.shape)"
   ]
  },
  {
   "cell_type": "code",
   "execution_count": 154,
   "metadata": {},
   "outputs": [],
   "source": [
    "param_grid = [\n",
    "    {\n",
    "        'C': [1, 10, 100, 1000],\n",
    "        'kernel': ['rbf'],\n",
    "        'gamma': ['auto', 'scale', 0.001, 0.01, 0.1]\n",
    "    },\n",
    "    {\n",
    "        'C': [1, 10, 100, 1000],\n",
    "        'kernel': ['poly'],\n",
    "        'gamma': ['auto', 'scale', 0.001, 0.01, 0.1],\n",
    "        'degree': [1, 2, 3]\n",
    "    }\n",
    "]\n",
    "\n",
    "clf_svm_4_1 = get_model(SVC, 'data/svm_4.model_data', param_grid=param_grid, cv=5, X=X_poly_train, Y=Y_train_sample)"
   ]
  },
  {
   "cell_type": "code",
   "execution_count": 155,
   "metadata": {},
   "outputs": [
    {
     "name": "stdout",
     "output_type": "stream",
     "text": [
      "{'C': 10, 'gamma': 'scale', 'kernel': 'rbf'}\n"
     ]
    }
   ],
   "source": [
    "params = clf_svm_4_1.best_params_\n",
    "print(params)"
   ]
  },
  {
   "cell_type": "code",
   "execution_count": 156,
   "metadata": {},
   "outputs": [
    {
     "name": "stdout",
     "output_type": "stream",
     "text": [
      "Accuracy on training set:\n",
      "0.9568\n",
      "Accuracy on test set:\n",
      "0.9568\n"
     ]
    }
   ],
   "source": [
    "estimator = clf_svm_4_1.best_estimator_\n",
    "\n",
    "print('Accuracy on training set:')\n",
    "print(clf_svm_4_1.best_score_)\n",
    "\n",
    "print('Accuracy on test set:')\n",
    "print(estimator.score(X_poly_test, labels_test))"
   ]
  },
  {
   "cell_type": "markdown",
   "metadata": {},
   "source": [
    "### SVM 4.2"
   ]
  },
  {
   "cell_type": "code",
   "execution_count": 157,
   "metadata": {},
   "outputs": [
    {
     "name": "stdout",
     "output_type": "stream",
     "text": [
      "(10000, 179)\n",
      "(10000, 179)\n"
     ]
    }
   ],
   "source": [
    "X_poly_train, X_poly_test = make_poly_features(X_train_sample, images_test, poly_degree=1)\n",
    "\n",
    "print(X_poly_train.shape)\n",
    "print(X_poly_test.shape)"
   ]
  },
  {
   "cell_type": "code",
   "execution_count": 158,
   "metadata": {},
   "outputs": [],
   "source": [
    "param_grid = [\n",
    "    {\n",
    "        'C': [1, 10, 100, 1000],\n",
    "        'kernel': ['rbf'],\n",
    "        'gamma': ['auto', 'scale', 0.001, 0.01, 0.1]\n",
    "    },\n",
    "    {\n",
    "        'C': [1, 10, 100, 1000],\n",
    "        'kernel': ['poly'],\n",
    "        'gamma': ['auto', 'scale', 0.001, 0.01, 0.1],\n",
    "        'degree': [3, 4, 5]\n",
    "    }\n",
    "]\n",
    "\n",
    "clf_svm_4_2 = get_model(SVC, 'data/svm_4_1.model_data', param_grid=param_grid, cv=5, X=X_poly_train, Y=Y_train_sample)"
   ]
  },
  {
   "cell_type": "code",
   "execution_count": 159,
   "metadata": {},
   "outputs": [
    {
     "name": "stdout",
     "output_type": "stream",
     "text": [
      "{'C': 100, 'gamma': 'scale', 'kernel': 'rbf'}\n"
     ]
    }
   ],
   "source": [
    "param = clf_svm_4_2.best_params_\n",
    "print(param)"
   ]
  },
  {
   "cell_type": "code",
   "execution_count": 160,
   "metadata": {},
   "outputs": [
    {
     "name": "stdout",
     "output_type": "stream",
     "text": [
      "Accuracy on training set:\n",
      "0.9673\n",
      "Accuracy on test set:\n",
      "0.9662\n"
     ]
    }
   ],
   "source": [
    "estimator = clf_svm_4_2.best_estimator_\n",
    "\n",
    "print('Accuracy on training set:')\n",
    "print(clf_svm_4_2.best_score_)\n",
    "\n",
    "print('Accuracy on test set:')\n",
    "print(estimator.score(X_poly_test, labels_test))"
   ]
  },
  {
   "cell_type": "markdown",
   "metadata": {},
   "source": [
    "### SVM 4.3"
   ]
  },
  {
   "cell_type": "code",
   "execution_count": 20,
   "metadata": {},
   "outputs": [],
   "source": [
    "X_train, X_test = make_poly_features(images_train, images_test, poly_degree=1)"
   ]
  },
  {
   "cell_type": "code",
   "execution_count": 21,
   "metadata": {},
   "outputs": [
    {
     "name": "stderr",
     "output_type": "stream",
     "text": [
      "C:\\Users\\JaeYoungLee\\Anaconda3\\lib\\site-packages\\sklearn\\base.py:315: UserWarning: Trying to unpickle estimator SVC from version 0.20.0 when using version 0.18.2. This might lead to breaking code or invalid results. Use at your own risk.\n",
      "  UserWarning)\n"
     ]
    }
   ],
   "source": [
    "if pathlib.Path('data/svm_4_2.model_data').exists():\n",
    "    svm4 = joblib.load('data/svm_4_2.model_data')\n",
    "else:\n",
    "    svm4 = SVC(**param)\n",
    "    svm4.fit(X_train, labels_train)\n",
    "    joblib.dump(svm5, 'data/svm_4_2.model_data')"
   ]
  },
  {
   "cell_type": "code",
   "execution_count": 163,
   "metadata": {},
   "outputs": [
    {
     "name": "stdout",
     "output_type": "stream",
     "text": [
      "0.9992166666666666\n",
      "0.9817\n"
     ]
    }
   ],
   "source": [
    "print(svm4.score(X_train, labels_train))\n",
    "print(svm4.score(X_test, labels_test))"
   ]
  },
  {
   "cell_type": "markdown",
   "metadata": {},
   "source": [
    "### SVM 4.4"
   ]
  },
  {
   "cell_type": "code",
   "execution_count": 164,
   "metadata": {},
   "outputs": [
    {
     "data": {
      "text/plain": [
       "SVC(C=10, cache_size=200, class_weight=None, coef0=0.0,\n",
       "  decision_function_shape='ovr', degree=3, gamma='scale', kernel='rbf',\n",
       "  max_iter=-1, probability=False, random_state=None, shrinking=True,\n",
       "  tol=0.001, verbose=False)"
      ]
     },
     "execution_count": 164,
     "metadata": {},
     "output_type": "execute_result"
    }
   ],
   "source": [
    "param_grid = [\n",
    "    {\n",
    "        'C': [1, 10, 100, 1000],\n",
    "        'kernel': ['rbf'],\n",
    "        'gamma': ['auto', 'scale', 0.001, 0.01, 0.1]\n",
    "    },\n",
    "    {\n",
    "        'C': [1, 10, 100, 1000],\n",
    "        'kernel': ['poly'],\n",
    "        'gamma': ['auto', 'scale', 0.001, 0.01, 0.1],\n",
    "        'degree': [3, 4, 5]\n",
    "    }\n",
    "]\n",
    "\n",
    "\n",
    "svm5 = get_model_without_gridsearch(SVC, 'data/svm_4_3.model_data')\n",
    "svm5"
   ]
  },
  {
   "cell_type": "code",
   "execution_count": 165,
   "metadata": {},
   "outputs": [
    {
     "name": "stdout",
     "output_type": "stream",
     "text": [
      "0.9924166666666666\n",
      "0.9823\n"
     ]
    }
   ],
   "source": [
    "print(svm5.score(X_train, labels_train))\n",
    "print(svm5.score(X_test, labels_test))"
   ]
  },
  {
   "cell_type": "code",
   "execution_count": 166,
   "metadata": {},
   "outputs": [],
   "source": [
    "param = dict(C=svm5.C, gamma=svm5.gamma, kernel=svm5.kernel)"
   ]
  },
  {
   "cell_type": "code",
   "execution_count": 167,
   "metadata": {},
   "outputs": [
    {
     "name": "stdout",
     "output_type": "stream",
     "text": [
      "0.9903666666666666\n",
      "0.9815\n"
     ]
    }
   ],
   "source": [
    "param['C'] = 7\n",
    "svm6 = get_model_without_gridsearch(SVC, 'data/svm_4_9.model_data', default_param=param, X=X_train, Y=labels_train)\n",
    "\n",
    "print(svm6.score(X_train, labels_train))\n",
    "print(svm6.score(X_test, labels_test))"
   ]
  },
  {
   "cell_type": "code",
   "execution_count": null,
   "metadata": {},
   "outputs": [],
   "source": []
  },
  {
   "cell_type": "markdown",
   "metadata": {},
   "source": [
    "### SVM 4.5"
   ]
  },
  {
   "cell_type": "code",
   "execution_count": 168,
   "metadata": {},
   "outputs": [],
   "source": [
    "param_grid = [\n",
    "    {\n",
    "        'C': [8.5, 10, 12.5],\n",
    "        'kernel': ['rbf'],\n",
    "        'gamma': ['scale']\n",
    "    }\n",
    "]\n",
    "\n",
    "clf_svm_4_5 = get_model(SVC, 'data/svm_4_5.model_data', param_grid=param_grid, cv=5, X=X_poly_train, Y=Y_train_sample)"
   ]
  },
  {
   "cell_type": "code",
   "execution_count": 170,
   "metadata": {},
   "outputs": [
    {
     "name": "stdout",
     "output_type": "stream",
     "text": [
      "{'C': 12.5, 'gamma': 'scale', 'kernel': 'rbf'}\n",
      "0.9659\n"
     ]
    }
   ],
   "source": [
    "param = clf_svm_4_5.best_params_\n",
    "print(param)\n",
    "\n",
    "print(clf_svm_4_5.best_score_)"
   ]
  },
  {
   "cell_type": "code",
   "execution_count": 174,
   "metadata": {},
   "outputs": [],
   "source": [
    "param['C'] = 30\n",
    "\n",
    "svm_4_6 = get_model_without_gridsearch(SVC, 'data/svm_4_6.model_data', default_param=param, X=poly_train, Y=labels_train)"
   ]
  },
  {
   "cell_type": "code",
   "execution_count": 172,
   "metadata": {},
   "outputs": [
    {
     "name": "stdout",
     "output_type": "stream",
     "text": [
      "Accuracy on training set: 0.9945333333333334\n",
      "Accuracy on test set: 0.9778\n"
     ]
    }
   ],
   "source": [
    "print('Accuracy on training set:', svm_4_6.score(poly_train, labels_train))\n",
    "print('Accuracy on test set:', svm_4_6.score(poly_test, labels_test))"
   ]
  },
  {
   "cell_type": "code",
   "execution_count": 175,
   "metadata": {},
   "outputs": [
    {
     "name": "stdout",
     "output_type": "stream",
     "text": [
      "Accuracy on training set: 0.9920666666666667\n",
      "Accuracy on test set: 0.9777\n"
     ]
    }
   ],
   "source": [
    "param['C'] = 10\n",
    "\n",
    "svm_4_6 = get_model_without_gridsearch(SVC, 'data/svm_4_7.model_data', default_param=param, X=poly_train, Y=labels_train)\n",
    "\n",
    "print('Accuracy on training set:', svm_4_6.score(poly_train, labels_train))\n",
    "print('Accuracy on test set:', svm_4_6.score(poly_test, labels_test))"
   ]
  },
  {
   "cell_type": "code",
   "execution_count": 176,
   "metadata": {},
   "outputs": [
    {
     "name": "stdout",
     "output_type": "stream",
     "text": [
      "Accuracy on training set: 0.9815833333333334\n",
      "Accuracy on test set: 0.9701\n"
     ]
    }
   ],
   "source": [
    "param['C'] = 3\n",
    "\n",
    "svm_4_7 = get_model_without_gridsearch(SVC, 'data/svm_4_8.model_data', default_param=param, X=poly_train, Y=labels_train)\n",
    "\n",
    "print('Accuracy on training set:', svm_4_7.score(poly_train, labels_train))\n",
    "print('Accuracy on test set:', svm_4_7.score(poly_test, labels_test))"
   ]
  },
  {
   "cell_type": "markdown",
   "metadata": {},
   "source": [
    "# Best Models"
   ]
  },
  {
   "cell_type": "markdown",
   "metadata": {},
   "source": [
    "## Perceptron: Perceptron 4"
   ]
  },
  {
   "cell_type": "code",
   "execution_count": 177,
   "metadata": {},
   "outputs": [],
   "source": [
    "from sklearn.linear_model import Perceptron"
   ]
  },
  {
   "cell_type": "code",
   "execution_count": 178,
   "metadata": {},
   "outputs": [],
   "source": [
    "poly_train, poly_test = make_poly_features(images_train, images_test)"
   ]
  },
  {
   "cell_type": "code",
   "execution_count": 179,
   "metadata": {},
   "outputs": [
    {
     "name": "stdout",
     "output_type": "stream",
     "text": [
      "0.95435\n",
      "0.9567\n"
     ]
    }
   ],
   "source": [
    "clf = get_model(Perceptron, 'data/perceptron_4.model_data')\n",
    "percp = clf.best_estimator_\n",
    "\n",
    "print(percp.score(poly_train, labels_train))\n",
    "print(percp.score(poly_test, labels_test))"
   ]
  },
  {
   "cell_type": "code",
   "execution_count": 180,
   "metadata": {},
   "outputs": [
    {
     "data": {
      "text/plain": [
       "{'alpha': 1e-05,\n",
       " 'class_weight': 'balanced',\n",
       " 'early_stopping': False,\n",
       " 'eta0': 1.0,\n",
       " 'fit_intercept': True,\n",
       " 'max_iter': None,\n",
       " 'n_iter': None,\n",
       " 'n_iter_no_change': 5,\n",
       " 'n_jobs': None,\n",
       " 'penalty': 'l1',\n",
       " 'random_state': 0,\n",
       " 'shuffle': True,\n",
       " 'tol': None,\n",
       " 'validation_fraction': 0.1,\n",
       " 'verbose': 0,\n",
       " 'warm_start': False}"
      ]
     },
     "execution_count": 180,
     "metadata": {},
     "output_type": "execute_result"
    }
   ],
   "source": [
    "percp.get_params()"
   ]
  },
  {
   "cell_type": "markdown",
   "metadata": {},
   "source": [
    "## Logistic Regression: Logistic Regression 4"
   ]
  },
  {
   "cell_type": "code",
   "execution_count": 181,
   "metadata": {},
   "outputs": [],
   "source": [
    "from sklearn.linear_model import LogisticRegression"
   ]
  },
  {
   "cell_type": "code",
   "execution_count": 182,
   "metadata": {},
   "outputs": [],
   "source": [
    "poly_train, poly_test = make_poly_features(images_train, images_test)"
   ]
  },
  {
   "cell_type": "code",
   "execution_count": 183,
   "metadata": {},
   "outputs": [
    {
     "name": "stdout",
     "output_type": "stream",
     "text": [
      "0.98665\n",
      "0.9761\n"
     ]
    }
   ],
   "source": [
    "clf = get_model(LogisticRegression, 'data/logistic_4.model_data')\n",
    "logs = clf.best_estimator_\n",
    "\n",
    "print(logs.score(poly_train, labels_train))\n",
    "print(logs.score(poly_test, labels_test))"
   ]
  },
  {
   "cell_type": "code",
   "execution_count": 184,
   "metadata": {},
   "outputs": [
    {
     "data": {
      "text/plain": [
       "{'C': 1000,\n",
       " 'class_weight': None,\n",
       " 'dual': False,\n",
       " 'fit_intercept': True,\n",
       " 'intercept_scaling': 1,\n",
       " 'max_iter': 100,\n",
       " 'multi_class': 'warn',\n",
       " 'n_jobs': None,\n",
       " 'penalty': 'l2',\n",
       " 'random_state': None,\n",
       " 'solver': 'warn',\n",
       " 'tol': 0.0001,\n",
       " 'verbose': 0,\n",
       " 'warm_start': False}"
      ]
     },
     "execution_count": 184,
     "metadata": {},
     "output_type": "execute_result"
    }
   ],
   "source": [
    "logs.get_params()"
   ]
  },
  {
   "cell_type": "markdown",
   "metadata": {},
   "source": [
    "## Support Vector Machine: SVM 4.4"
   ]
  },
  {
   "cell_type": "code",
   "execution_count": 185,
   "metadata": {},
   "outputs": [],
   "source": [
    "from sklearn.svm import SVC"
   ]
  },
  {
   "cell_type": "code",
   "execution_count": 186,
   "metadata": {},
   "outputs": [],
   "source": [
    "X_train, X_test = make_poly_features(images_train, images_test, poly_degree=1)"
   ]
  },
  {
   "cell_type": "code",
   "execution_count": 187,
   "metadata": {},
   "outputs": [
    {
     "name": "stdout",
     "output_type": "stream",
     "text": [
      "0.9924166666666666\n",
      "0.9823\n"
     ]
    }
   ],
   "source": [
    "svc = get_model_without_gridsearch(SVC, 'data/svm_4_3.model_data')\n",
    "\n",
    "print(svc.score(X_train, labels_train))\n",
    "print(svc.score(X_test, labels_test))"
   ]
  },
  {
   "cell_type": "code",
   "execution_count": 188,
   "metadata": {},
   "outputs": [
    {
     "data": {
      "text/plain": [
       "{'C': 10,\n",
       " 'cache_size': 200,\n",
       " 'class_weight': None,\n",
       " 'coef0': 0.0,\n",
       " 'decision_function_shape': 'ovr',\n",
       " 'degree': 3,\n",
       " 'gamma': 'scale',\n",
       " 'kernel': 'rbf',\n",
       " 'max_iter': -1,\n",
       " 'probability': False,\n",
       " 'random_state': None,\n",
       " 'shrinking': True,\n",
       " 'tol': 0.001,\n",
       " 'verbose': False}"
      ]
     },
     "execution_count": 188,
     "metadata": {},
     "output_type": "execute_result"
    }
   ],
   "source": [
    "svc.get_params()"
   ]
  },
  {
   "cell_type": "code",
   "execution_count": 189,
   "metadata": {},
   "outputs": [
    {
     "data": {
      "text/plain": [
       "'0.20.0'"
      ]
     },
     "execution_count": 189,
     "metadata": {},
     "output_type": "execute_result"
    }
   ],
   "source": [
    "import sklearn\n",
    "sklearn.__version__"
   ]
  },
  {
   "cell_type": "code",
   "execution_count": null,
   "metadata": {},
   "outputs": [],
   "source": []
  }
 ],
 "metadata": {
  "kernelspec": {
   "display_name": "Python 3",
   "language": "python",
   "name": "python3"
  },
  "language_info": {
   "codemirror_mode": {
    "name": "ipython",
    "version": 3
   },
   "file_extension": ".py",
   "mimetype": "text/x-python",
   "name": "python",
   "nbconvert_exporter": "python",
   "pygments_lexer": "ipython3",
   "version": "3.6.6"
  }
 },
 "nbformat": 4,
 "nbformat_minor": 2
}
